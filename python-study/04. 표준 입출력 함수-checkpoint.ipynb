{
 "cells": [
  {
   "cell_type": "markdown",
   "id": "12c942aa",
   "metadata": {},
   "source": [
    "# 출력함수 : print()"
   ]
  },
  {
   "cell_type": "markdown",
   "id": "255e8c72",
   "metadata": {},
   "source": [
    "## 여러 값 출력\n",
    "- print 함수 내에 콤마를 넣어서 한 번에 여러 변수나 값을 출력할 수 있다.\n",
    "- 콤마를 넣으면 각 값 사이에 공백 한 칸씩 띄어진 상태로 출력된다."
   ]
  },
  {
   "cell_type": "code",
   "execution_count": 1,
   "id": "970aaeee",
   "metadata": {
    "ExecuteTime": {
     "end_time": "2023-08-18T01:13:04.434924Z",
     "start_time": "2023-08-18T01:13:04.417952Z"
    }
   },
   "outputs": [
    {
     "name": "stdout",
     "output_type": "stream",
     "text": [
      "1 2 3\n",
      "3 4 -1\n",
      "3 10 4\n"
     ]
    }
   ],
   "source": [
    "print(1, 2, 3)\n",
    "\n",
    "a = 3\n",
    "b = 4\n",
    "c = -1\n",
    "\n",
    "print(a, b, c)\n",
    "\n",
    "print(a, 10, b)"
   ]
  },
  {
   "cell_type": "markdown",
   "id": "3dae0a45",
   "metadata": {},
   "source": [
    "- 각 값 사이에 공백이 아니라 특정 문자를 넣을 수 있다.\n",
    "- 구분자 sep 이용"
   ]
  },
  {
   "cell_type": "code",
   "execution_count": 2,
   "id": "024d9547",
   "metadata": {
    "ExecuteTime": {
     "end_time": "2023-08-18T01:14:31.208935Z",
     "start_time": "2023-08-18T01:14:31.189939Z"
    }
   },
   "outputs": [
    {
     "name": "stdout",
     "output_type": "stream",
     "text": [
      "1,2,3\n",
      "1ab2ab3\n",
      "123\n",
      "1, 2, 3\n",
      "1\n",
      "g2\n",
      "g3\n"
     ]
    }
   ],
   "source": [
    "print(1, 2, 3, sep=',')\n",
    "print(1, 2, 3, sep='ab')\n",
    "print(1, 2, 3, sep='')\n",
    "print(1, 2, 3, sep=', ')\n",
    "print(1, 2, 3, sep='\\ng')"
   ]
  },
  {
   "cell_type": "markdown",
   "id": "d3abfae9",
   "metadata": {},
   "source": [
    "## 줄바꿈 생략하기\n",
    "- end 옵션"
   ]
  },
  {
   "cell_type": "code",
   "execution_count": 5,
   "id": "b257f0cb",
   "metadata": {
    "ExecuteTime": {
     "end_time": "2023-08-18T01:16:16.923558Z",
     "start_time": "2023-08-18T01:16:16.913789Z"
    }
   },
   "outputs": [
    {
     "name": "stdout",
     "output_type": "stream",
     "text": [
      "1 2 3\n",
      "4 5 6\n",
      "1 2 3 4 5 6\n"
     ]
    }
   ],
   "source": [
    "print(1, 2, 3)\n",
    "print(4, 5, 6)\n",
    "print(1, 2, 3, end = ' ')\n",
    "print(4, 5, 6)"
   ]
  },
  {
   "cell_type": "code",
   "execution_count": 6,
   "id": "78e8534b",
   "metadata": {
    "ExecuteTime": {
     "end_time": "2023-08-18T01:16:33.590881Z",
     "start_time": "2023-08-18T01:16:33.581873Z"
    }
   },
   "outputs": [
    {
     "name": "stdout",
     "output_type": "stream",
     "text": [
      "1 2 3 and 4 5 6\n"
     ]
    }
   ],
   "source": [
    "print(1, 2, 3, end = ' and ')\n",
    "print(4, 5, 6)"
   ]
  },
  {
   "cell_type": "code",
   "execution_count": 7,
   "id": "999950b8",
   "metadata": {
    "ExecuteTime": {
     "end_time": "2023-08-18T01:16:48.246668Z",
     "start_time": "2023-08-18T01:16:48.238698Z"
    }
   },
   "outputs": [
    {
     "name": "stdout",
     "output_type": "stream",
     "text": [
      "1 2 3\n",
      "4 5 6\n"
     ]
    }
   ],
   "source": [
    "print(1, 2, 3, end = '\\n')\n",
    "print(4, 5, 6)"
   ]
  },
  {
   "cell_type": "markdown",
   "id": "d06b605b",
   "metadata": {},
   "source": [
    "## 서식을 활용한 인쇄 : 문자열 포매팅\n",
    "- **문자열 포매팅(Formatting)** 은 문자열 내의 특정한 값을 바꿔야 할 경우에 이용\n",
    "- 서식 지정자(format specifier)"
   ]
  },
  {
   "cell_type": "markdown",
   "id": "74bff944",
   "metadata": {},
   "source": [
    "![formatting](images/format.png)"
   ]
  },
  {
   "cell_type": "code",
   "execution_count": 8,
   "id": "4a359c24",
   "metadata": {
    "ExecuteTime": {
     "end_time": "2023-08-18T01:21:35.218495Z",
     "start_time": "2023-08-18T01:21:35.214467Z"
    }
   },
   "outputs": [
    {
     "name": "stdout",
     "output_type": "stream",
     "text": [
      "현재 시간은 12시 입니다.\n"
     ]
    }
   ],
   "source": [
    "print(\"현재 시간은 %d시 입니다.\" %12)"
   ]
  },
  {
   "cell_type": "code",
   "execution_count": 9,
   "id": "46309f96",
   "metadata": {
    "ExecuteTime": {
     "end_time": "2023-08-18T01:21:43.013445Z",
     "start_time": "2023-08-18T01:21:42.998479Z"
    }
   },
   "outputs": [
    {
     "name": "stdout",
     "output_type": "stream",
     "text": [
      "현재 시간은 12시 입니다.\n"
     ]
    }
   ],
   "source": [
    "a = 12\n",
    "print(\"현재 시간은 %d시 입니다.\" %a)"
   ]
  },
  {
   "cell_type": "code",
   "execution_count": 10,
   "id": "f0b031e6",
   "metadata": {
    "ExecuteTime": {
     "end_time": "2023-08-18T01:21:55.849619Z",
     "start_time": "2023-08-18T01:21:55.837620Z"
    }
   },
   "outputs": [
    {
     "name": "stdout",
     "output_type": "stream",
     "text": [
      "현재 시간은 12시 25분입니다.\n",
      "철수의 키는 180이고, 몸무게는 80입니다.\n"
     ]
    }
   ],
   "source": [
    "hour = 12\n",
    "minute = 25\n",
    "print(\"현재 시간은 %d시 %d분입니다.\" %(hour, minute))\n",
    "\n",
    "name = \"철수\"\n",
    "height = 180\n",
    "weight = 80\n",
    "print(\"%s의 키는 %d이고, 몸무게는 %d입니다.\" %(name, height, weight))"
   ]
  },
  {
   "cell_type": "code",
   "execution_count": 11,
   "id": "2b530a3b",
   "metadata": {
    "ExecuteTime": {
     "end_time": "2023-08-18T01:22:10.812115Z",
     "start_time": "2023-08-18T01:22:10.798115Z"
    }
   },
   "outputs": [
    {
     "name": "stdout",
     "output_type": "stream",
     "text": [
      "숫자 출력       100.\n",
      "숫자 출력     10000.\n",
      "숫자 출력10000     .\n",
      "문자열 출력    string.\n"
     ]
    }
   ],
   "source": [
    "print('숫자 출력%10d.' %100)\n",
    "# ans : 숫자 출력       100.\n",
    "\n",
    "print('숫자 출력%10d.' %10000)\n",
    "# ans : 숫자 출력     10000.\n",
    "\n",
    "print('숫자 출력%-10d.' %10000)\n",
    "# ans : 숫자 출력10000     .\n",
    "\n",
    "print('문자열 출력%10s.'%'string')\n",
    "# ans : 문자열 출력    string."
   ]
  },
  {
   "cell_type": "code",
   "execution_count": 12,
   "id": "cefd0f41",
   "metadata": {
    "ExecuteTime": {
     "end_time": "2023-08-18T01:22:24.038275Z",
     "start_time": "2023-08-18T01:22:24.024311Z"
    }
   },
   "outputs": [
    {
     "name": "stdout",
     "output_type": "stream",
     "text": [
      "1.20\n",
      "1.200\n",
      "      1.20\n",
      "     1.200\n"
     ]
    }
   ],
   "source": [
    "print('%.2f' %1.2)\n",
    "# ans : 1.20\n",
    "\n",
    "print('%.3f' %1.2)\n",
    "# ans : 1.200\n",
    "\n",
    "print('%10.2f' %1.2)\n",
    "# ans :       1.20   \n",
    "\n",
    "print('%10.3f' %1.2)\n",
    "# ans :      1.200"
   ]
  },
  {
   "cell_type": "markdown",
   "id": "cd3a916c",
   "metadata": {},
   "source": [
    "## foramt 메소드로 문자열 포매팅\n",
    "- 사용 방법은, 중괄호 { } 안에 인덱스를 지정하고 format 메소드로 값을 넣어준다.\n",
    "- format 메소드 안의 원소들이 인덱스에 맞게 문자열에 대입되며, 여러 값을 넣거나 같은 값을 여러 개 넣을 수 있다. \n",
    "- 만약 인덱스를 지정하지 않는다면 format 메소드에 입력한 순서대로 대입된다. "
   ]
  },
  {
   "cell_type": "code",
   "execution_count": 13,
   "id": "d73a5c08",
   "metadata": {
    "ExecuteTime": {
     "end_time": "2023-08-18T01:23:27.747436Z",
     "start_time": "2023-08-18T01:23:27.741437Z"
    }
   },
   "outputs": [
    {
     "name": "stdout",
     "output_type": "stream",
     "text": [
      "hello world\n",
      "hello world. Do python\n",
      "I am Rebro\n",
      "python python C++ C++\n",
      "I like apple\n",
      "I want to play soccer\n"
     ]
    }
   ],
   "source": [
    "print('hello {0}'.format('world'))\n",
    "# ans : hello world\n",
    "\n",
    "print('hello {0}. Do {1}'.format('world', 'python'))\n",
    "# ans : hello world. Do python\n",
    "\n",
    "print('{1} {0} {2}'.format('am', 'I', 'Rebro'))\n",
    "# ans : I am Rebro\n",
    "\n",
    "print('{0} {0} {1} {1}'.format('python', 'C++'))\n",
    "# ans : python python C++ C++\n",
    "\n",
    "print('I {} {}'.format('like', 'apple'))\n",
    "# ans : I like apple\n",
    "\n",
    "s = 'I want to play {0}'\n",
    "print(s.format('soccer'))\n",
    "# ans : I want to play soccer"
   ]
  },
  {
   "cell_type": "markdown",
   "id": "3809ef21",
   "metadata": {},
   "source": [
    "- 꼭 인덱스를 이용하지 않아도 포매팅이 가능하다. 인덱스를 다루기가 힘들다면 이름을 지정해도 된다.\n",
    "- 또, 파이썬 3.6부터는 문자열 포매팅에 변수를 그대로 사용할 수 있다. 이 경우에는 문자열 앞에 포매팅이라는 의미로 f를 붙여준다."
   ]
  },
  {
   "cell_type": "code",
   "execution_count": 14,
   "id": "474fdbd9",
   "metadata": {
    "ExecuteTime": {
     "end_time": "2023-08-18T01:23:59.655380Z",
     "start_time": "2023-08-18T01:23:59.639378Z"
    }
   },
   "outputs": [
    {
     "name": "stdout",
     "output_type": "stream",
     "text": [
      "John is programmer\n",
      "John is studying\n",
      "{ python }\n"
     ]
    }
   ],
   "source": [
    "print('{name} is {job}'.format(name = 'John', job = 'programmer'))\n",
    "# ans : John is programmer\n",
    "\n",
    "# since python 3.6 \n",
    "name = 'John'\n",
    "work = 'studying'\n",
    "print(f'{name} is {work}')\n",
    "# ans : John is studying\n",
    "\n",
    "print('{{ {0} }}'.format('python'))\n",
    "# ans : { python }"
   ]
  },
  {
   "cell_type": "markdown",
   "id": "a75a0513",
   "metadata": {},
   "source": [
    "- 서식 지정자와 마찬가지로 정렬도 가능하다. \n",
    "- 인덱스 다음에 :>숫자 (오른쪽 정렬)과 같은 방식으로 가능하다. \n",
    "- 또 실수를 나타낼 때 소수점 자리를 지정해주는 것도 가능하다."
   ]
  },
  {
   "cell_type": "code",
   "execution_count": 15,
   "id": "2c0fce54",
   "metadata": {
    "ExecuteTime": {
     "end_time": "2023-08-18T01:24:38.084159Z",
     "start_time": "2023-08-18T01:24:38.076127Z"
    }
   },
   "outputs": [
    {
     "name": "stdout",
     "output_type": "stream",
     "text": [
      "        hi\n",
      "hi        \n",
      "    hi    \n",
      "====hi====\n",
      "hi!!!!!!!!\n",
      "    4.2000\n",
      "      4.20\n",
      "     4.200\n"
     ]
    }
   ],
   "source": [
    "print('{0:>10}'.format('hi')) # > : 오른쪽 정렬\n",
    "# ans :         hi\n",
    "\n",
    "print('{0:<10}'.format('hi')) # < : 왼쪽 정렬\n",
    "# ans : hi        \n",
    "\n",
    "print('{0:^10}'.format('hi')) # ^ : 가운데 정렬\n",
    "# ans :     hi    \n",
    "\n",
    "print('{0:=^10}'.format('hi')) # 빈공간 '='로 채우기\n",
    "# ans : ====hi====\n",
    "\n",
    "print('{0:!<10}'.format('hi'))\n",
    "# ans : hi!!!!!!!!\n",
    "\n",
    "print('{0:10.4f}'.format(4.2))\n",
    "# ans :    4.2000\n",
    "\n",
    "print('{0:10.2f}'.format(4.2))\n",
    "# ans :      4.20\n",
    "\n",
    "a = 4.2\n",
    "print(f'{a:10.3f}')\n",
    "# ans :     4.200"
   ]
  },
  {
   "cell_type": "markdown",
   "id": "5ed571fd",
   "metadata": {},
   "source": [
    "# 입력함수 : input()\n",
    "- 파이썬의 기본적인 사용자 입력함수\n",
    "- input은 입력되는 모든 것을 문자열로 취급한다.\n",
    "- 변수에 값을 입력받을 때 a = input()의 형태로 구현한다."
   ]
  },
  {
   "cell_type": "code",
   "execution_count": 16,
   "id": "de183a66",
   "metadata": {
    "ExecuteTime": {
     "end_time": "2023-08-18T01:26:42.866671Z",
     "start_time": "2023-08-18T01:26:27.406415Z"
    }
   },
   "outputs": [
    {
     "name": "stdout",
     "output_type": "stream",
     "text": [
      "1234ab\n",
      "1234ab\n",
      "123\n",
      "123\n",
      "1 2 3\n",
      "1 2 3\n"
     ]
    }
   ],
   "source": [
    "a = input() \t# 1234ab 입력\n",
    "print(a) \t# ans : \"1234ab\"\n",
    "\n",
    "a = input() \t# 123 입력\n",
    "print(a) \t# ans : \"123\"\n",
    "\n",
    "a = input() \t# 1 2 3 입력\n",
    "print(a) \t# ans : \"1 2 3\""
   ]
  },
  {
   "cell_type": "markdown",
   "id": "65c5570b",
   "metadata": {},
   "source": [
    "- 입력시 메시지를 띄워줄 수 있다."
   ]
  },
  {
   "cell_type": "code",
   "execution_count": 17,
   "id": "e0051db9",
   "metadata": {
    "ExecuteTime": {
     "end_time": "2023-08-18T01:27:14.603775Z",
     "start_time": "2023-08-18T01:27:09.788033Z"
    }
   },
   "outputs": [
    {
     "name": "stdout",
     "output_type": "stream",
     "text": [
      "값을 입력하세요 : 1\n"
     ]
    }
   ],
   "source": [
    "a = input(\"값을 입력하세요 : \")"
   ]
  },
  {
   "cell_type": "markdown",
   "id": "e330f1f4",
   "metadata": {},
   "source": [
    "- 대량의 데이터를 반복적으로 입력받아야 할 때에는 sys.stdin.readline 함수를 사용하면 input함수보다 더 빠르게 수행 가능하다. 주로 알고리즘 문제를 해결할 때 많이 이용된다."
   ]
  },
  {
   "cell_type": "markdown",
   "id": "ad8fc65e",
   "metadata": {},
   "source": [
    "## 형변환 입력 처리\n",
    "- input함수를 정수로 바꿔주는 int, 실수로 바꿔주는 float 등의 함수로 감싸주면 된다."
   ]
  },
  {
   "cell_type": "code",
   "execution_count": null,
   "id": "84bbc2c9",
   "metadata": {},
   "outputs": [],
   "source": [
    "a = int(input())\n",
    "\n",
    "a = int(input(\"정수를 입력하시오 : \"))\n",
    "\n",
    "a = float(input())\n",
    "\n",
    "a = int(input(), 2) # 2진수 입력\n",
    "\n",
    "a = int(input(), 8) # 8진수 입력\n",
    " \n",
    "a = int(input(), 16) # 16진수 입력"
   ]
  },
  {
   "cell_type": "markdown",
   "id": "c9e92711",
   "metadata": {},
   "source": [
    "- 2진수나 8진수, 16진수도 입력이 가능하다. 예를 들어 int(input(), 2)로 입력을 받을 때, 1001을 입력하면 a에는 십진수인 9가 할당된다."
   ]
  },
  {
   "cell_type": "markdown",
   "id": "6e5e5fe7",
   "metadata": {},
   "source": [
    "## 여러 값 한 번에 입력받기(split, map)\n",
    "- split함수는 특정 문자를 기준으로 문자열을 잘라 리스트로 만들어 주는 함수\n",
    "- map함수는 map(변환함수, 반복가능한 객체) 형식으로, 변환함수에 원하는 자료형(int, float 등)을 넣어주면 된다.\n",
    "- map함수는 map 타입의 객체를 반환하기 때문에 이를 다시 list나 tuple등으로 변환시켜주어야 한다."
   ]
  },
  {
   "cell_type": "code",
   "execution_count": null,
   "id": "b9f46a44",
   "metadata": {},
   "outputs": [],
   "source": [
    "a = input()\n",
    "\n",
    "print(a) # \"1 2 3 4 5 6 7 8 9 10\"\n",
    "\n",
    "a = input().split()\n",
    "\n",
    "print(a) # ['1', '2', '3', '4', '5', '6', '7', '8', '9', '10']\n",
    "\n",
    "a = map(int, input().split())\n",
    "\n",
    "print(a) # <map object at 0x01D56750>\n",
    "\n",
    "a = list(map(int, input().split()))\n",
    "\n",
    "print(a) # [1, 2, 3, 4, 5, 6, 7, 8, 9, 10]\n",
    "\n",
    "a = tuple(map(int, input().split()))\n",
    "\n",
    "print(a) # (1, 2, 3, 4, 5, 6, 7, 8, 9, 10)"
   ]
  },
  {
   "cell_type": "markdown",
   "id": "04f027b8",
   "metadata": {},
   "source": [
    "- 하나의 리스트가 아니라, 여러 변수에 대한 값을 한 번에 입력받을 수도 있다. **동시에 여러 변수에 여러 개체를 할당하는 것을 '다중 할당(Multiple Assignment)'** 이라고 한다. "
   ]
  },
  {
   "cell_type": "code",
   "execution_count": null,
   "id": "2550e2de",
   "metadata": {},
   "outputs": [],
   "source": [
    "a, b, c = map(int, input().split()) # 1 2 3 입력\n",
    "\n",
    "print(a) # 1\n",
    "\n",
    "print(b) # 2\n",
    "\n",
    "print(c) # 3"
   ]
  },
  {
   "cell_type": "markdown",
   "id": "1d002f2a",
   "metadata": {},
   "source": [
    "## for문을 이용한 입력"
   ]
  },
  {
   "cell_type": "code",
   "execution_count": null,
   "id": "21dc8d18",
   "metadata": {},
   "outputs": [],
   "source": [
    "a = [input() for _ in range(5)]\n",
    "print(a)\n",
    "\n",
    "# 입력\n",
    "AAAAA\n",
    "BBBBB\n",
    "CCCCC\n",
    "DDDDD\n",
    "EEEEE\n",
    "\n",
    "# 출력\n",
    "['AAAAA', 'BBBBB', 'CCCCC', 'DDDDD', 'EEEEE']"
   ]
  },
  {
   "cell_type": "markdown",
   "id": "7d933f64",
   "metadata": {},
   "source": [
    "- range(5)는 0부터 4까지 정수를 의미하며, 위와 같이 작성하면 input을 5번 수행한다는 의미이다. \n",
    "\n",
    "- 여러 줄이 입력되면, 한 줄씩 문자열 원소로 리스트에 담기게 된다.  \n",
    "- 이렇게 입력받을 수 있다는 걸 알게 되면 문자열을 다루는 함수들로 많이 응용할 수 있다. \n",
    "- 각 줄마다도 문자를 하나씩 분리시켜서 최종적으로 2차원 배열을 만들 수 있다."
   ]
  },
  {
   "cell_type": "code",
   "execution_count": null,
   "id": "f3c382da",
   "metadata": {},
   "outputs": [],
   "source": [
    "a = [list(input()) for _ in range(5)]\n",
    "print(a)\n",
    "\n",
    "# 입력\n",
    "AAAAA\n",
    "BBBBB\n",
    "CCCCC\n",
    "DDDDD\n",
    "EEEEE\n",
    "\n",
    "# 출력\n",
    "[['A', 'A', 'A', 'A', 'A'], ['B', 'B', 'B', 'B', 'B'], ['C', 'C', 'C', 'C', 'C'], ['D', 'D', 'D', 'D', 'D'], ['E', 'E', 'E', 'E', 'E']]"
   ]
  },
  {
   "cell_type": "markdown",
   "id": "9c12b15b",
   "metadata": {},
   "source": [
    "- 2차원 배열의 입력"
   ]
  },
  {
   "cell_type": "code",
   "execution_count": null,
   "id": "770ec4c6",
   "metadata": {},
   "outputs": [],
   "source": [
    "a = [list(map(int, input().split())) for _ in range(5)]\n",
    "print(a)\n",
    "\n",
    "# 입력\n",
    "1 2 3 4 5\n",
    "3 2 9 10 8\n",
    "4 3 2 1 2\n",
    "3 3 3 3 3\n",
    "5 5 5 5 5\n",
    "\n",
    "# 출력\n",
    "[[1, 2, 3, 4, 5], [3, 2, 9, 10, 8], [4, 3, 2, 1, 2], [3, 3, 3, 3, 3], [5, 5, 5, 5, 5]]"
   ]
  },
  {
   "cell_type": "code",
   "execution_count": null,
   "id": "f5d4fb69",
   "metadata": {},
   "outputs": [],
   "source": []
  }
 ],
 "metadata": {
  "kernelspec": {
   "display_name": "Python 3 (ipykernel)",
   "language": "python",
   "name": "python3"
  },
  "language_info": {
   "codemirror_mode": {
    "name": "ipython",
    "version": 3
   },
   "file_extension": ".py",
   "mimetype": "text/x-python",
   "name": "python",
   "nbconvert_exporter": "python",
   "pygments_lexer": "ipython3",
   "version": "3.9.7"
  },
  "toc": {
   "base_numbering": 1,
   "nav_menu": {},
   "number_sections": true,
   "sideBar": true,
   "skip_h1_title": false,
   "title_cell": "Table of Contents",
   "title_sidebar": "Contents",
   "toc_cell": false,
   "toc_position": {
    "height": "590.4px",
    "left": "31px",
    "top": "-0.863px",
    "width": "307.2px"
   },
   "toc_section_display": true,
   "toc_window_display": true
  },
  "varInspector": {
   "cols": {
    "lenName": 16,
    "lenType": 16,
    "lenVar": 40
   },
   "kernels_config": {
    "python": {
     "delete_cmd_postfix": "",
     "delete_cmd_prefix": "del ",
     "library": "var_list.py",
     "varRefreshCmd": "print(var_dic_list())"
    },
    "r": {
     "delete_cmd_postfix": ") ",
     "delete_cmd_prefix": "rm(",
     "library": "var_list.r",
     "varRefreshCmd": "cat(var_dic_list()) "
    }
   },
   "types_to_exclude": [
    "module",
    "function",
    "builtin_function_or_method",
    "instance",
    "_Feature"
   ],
   "window_display": false
  }
 },
 "nbformat": 4,
 "nbformat_minor": 5
}
