{
 "cells": [
  {
   "cell_type": "markdown",
   "id": "8af5f2d5",
   "metadata": {},
   "source": [
    "# 마크다운(Markdown)\n",
    "- 일반 텍스트 문서의 양식을 편집하는 문법으로 HTML의 형태로 변환이 가능하다."
   ]
  },
  {
   "cell_type": "markdown",
   "id": "d13adaf9",
   "metadata": {},
   "source": [
    "## 마크다운 사용\n",
    "- 주피터 노트북에서 마크다운을 사용하려면 먼저, COde Cell에서 Markdown Cell로 변경해 주어야 한다.\n",
    "- 변경하는 방법\n",
    "  1. 단축키 활용 : esc + m\n",
    "  2. 메뉴 표시줄 활용 : Cell -> Cell Type -> Markdown\n",
    "  3. 도구 표시줄 활용"
   ]
  },
  {
   "cell_type": "markdown",
   "id": "61bfa925",
   "metadata": {},
   "source": [
    "![마크다운](images/mark_1.png)"
   ]
  },
  {
   "cell_type": "markdown",
   "id": "464f4bc1",
   "metadata": {},
   "source": [
    "## Headerheader\n",
    "- 마크다운의 가장 기본인 Header(제목)을 지정하는 방법\n",
    "- '#'을 활용하여 header(제목) 기능을 사용할 수 있고, '#'의 개수로 header의 크기를 조절(1 ~ 6 크기 지원)\n",
    "- 한 개가 가장 큰 글씨이고 개수가 늘수록 작은 글씨를 나타낸다.\n",
    "- HTML 문법 이용 가능 : $ <h1> ... </h1> $,  n = 1 ~ 6 "
   ]
  },
  {
   "cell_type": "markdown",
   "id": "0841b0b7",
   "metadata": {},
   "source": [
    "![제목](images/mark_2.png)"
   ]
  },
  {
   "cell_type": "markdown",
   "id": "d0e4bda0",
   "metadata": {},
   "source": [
    "![header](images/mark_3.png)"
   ]
  },
  {
   "cell_type": "markdown",
   "id": "32285050",
   "metadata": {},
   "source": [
    "## Quote(인용)\n",
    "- 많이 쓰는 기능은 아니지만, 인용문은 \">\"로 활용\n",
    "- 인용문 안에 들여쓰기로 두번째, 세번째 인용문을 쓸 수도 있고, 마크다운 문법도 그대로 사용할 수 있다."
   ]
  },
  {
   "cell_type": "markdown",
   "id": "5bc5dc9a",
   "metadata": {},
   "source": [
    "![인용문](images/mark_4.png)"
   ]
  },
  {
   "cell_type": "markdown",
   "id": "1b89b885",
   "metadata": {},
   "source": [
    "## List(목록, level)\n",
    "- 순서가 있는 목록과 순서가 없는 목록으로 나누며, 들여쓰기도 가능하다."
   ]
  },
  {
   "cell_type": "markdown",
   "id": "c6c53b8c",
   "metadata": {},
   "source": [
    "![목록](images/mark_5.png)"
   ]
  },
  {
   "cell_type": "markdown",
   "id": "b6881d22",
   "metadata": {},
   "source": [
    "![indent](images/mark_6.png)"
   ]
  },
  {
   "cell_type": "markdown",
   "id": "d57d5257",
   "metadata": {},
   "source": [
    "## 수평선\n",
    "- 내용이 바뀔 때 많이 활용하는 기능으로 Line을 추가하는 방법\n",
    "- 회색선으로 표시"
   ]
  },
  {
   "cell_type": "markdown",
   "id": "1267f28f",
   "metadata": {},
   "source": [
    "![수평선](images/mark_7.png)"
   ]
  },
  {
   "cell_type": "markdown",
   "id": "10a521bc",
   "metadata": {},
   "source": [
    "## 줄바꿈"
   ]
  },
  {
   "cell_type": "markdown",
   "id": "6a931ecb",
   "metadata": {},
   "source": [
    "![줄바꿈](images/mark_8.png)"
   ]
  },
  {
   "cell_type": "markdown",
   "id": "cc9a30a4",
   "metadata": {},
   "source": [
    "## Font\n",
    "- 글자색, 크기, 굵기, 기울기, 글꼴 바꾸는 방법"
   ]
  },
  {
   "cell_type": "markdown",
   "id": "37df5545",
   "metadata": {},
   "source": [
    "![글꼴](images/mark_9.png)"
   ]
  },
  {
   "cell_type": "markdown",
   "id": "7a499b01",
   "metadata": {},
   "source": [
    "- line-height는 줄높이를 의미"
   ]
  },
  {
   "cell_type": "markdown",
   "id": "3bb66e58",
   "metadata": {},
   "source": [
    "![글자스타일](images/mark_10.png)"
   ]
  },
  {
   "cell_type": "markdown",
   "id": "d08b2fd2",
   "metadata": {},
   "source": [
    "![스타일](images/mark_11.png)"
   ]
  },
  {
   "cell_type": "markdown",
   "id": "0defb45b",
   "metadata": {},
   "source": [
    "## Link"
   ]
  },
  {
   "cell_type": "markdown",
   "id": "f2106e63",
   "metadata": {},
   "source": [
    "![link](images/mark_12.png)"
   ]
  },
  {
   "cell_type": "markdown",
   "id": "0a0a7ec5",
   "metadata": {},
   "source": [
    "## Image"
   ]
  },
  {
   "cell_type": "markdown",
   "id": "9417f5f9",
   "metadata": {},
   "source": [
    "![image](images/mark_13.png)"
   ]
  },
  {
   "cell_type": "markdown",
   "id": "1850ed5c",
   "metadata": {},
   "source": [
    "## Table"
   ]
  },
  {
   "cell_type": "markdown",
   "id": "49f54412",
   "metadata": {},
   "source": [
    "![table](images/mark_14.png)"
   ]
  },
  {
   "cell_type": "markdown",
   "id": "4e9697db",
   "metadata": {},
   "source": [
    "## Code"
   ]
  },
  {
   "cell_type": "markdown",
   "id": "44d4fa46",
   "metadata": {},
   "source": [
    "![code](images/mark_15.png)"
   ]
  },
  {
   "cell_type": "markdown",
   "id": "d41979d3",
   "metadata": {},
   "source": [
    "## Tex\n",
    "- 수학식을 담을 때 사용하는 방법"
   ]
  },
  {
   "cell_type": "markdown",
   "id": "cd471de3",
   "metadata": {},
   "source": [
    "![수학식](images/mark_16.png)"
   ]
  },
  {
   "cell_type": "code",
   "execution_count": null,
   "id": "c952f51f",
   "metadata": {},
   "outputs": [],
   "source": []
  }
 ],
 "metadata": {
  "kernelspec": {
   "display_name": "Python 3 (ipykernel)",
   "language": "python",
   "name": "python3"
  },
  "language_info": {
   "codemirror_mode": {
    "name": "ipython",
    "version": 3
   },
   "file_extension": ".py",
   "mimetype": "text/x-python",
   "name": "python",
   "nbconvert_exporter": "python",
   "pygments_lexer": "ipython3",
   "version": "3.9.7"
  },
  "toc": {
   "base_numbering": 1,
   "nav_menu": {},
   "number_sections": true,
   "sideBar": true,
   "skip_h1_title": false,
   "title_cell": "Table of Contents",
   "title_sidebar": "Contents",
   "toc_cell": false,
   "toc_position": {
    "height": "calc(100% - 180px)",
    "left": "10px",
    "top": "150px",
    "width": "307.2px"
   },
   "toc_section_display": true,
   "toc_window_display": true
  },
  "varInspector": {
   "cols": {
    "lenName": 16,
    "lenType": 16,
    "lenVar": 40
   },
   "kernels_config": {
    "python": {
     "delete_cmd_postfix": "",
     "delete_cmd_prefix": "del ",
     "library": "var_list.py",
     "varRefreshCmd": "print(var_dic_list())"
    },
    "r": {
     "delete_cmd_postfix": ") ",
     "delete_cmd_prefix": "rm(",
     "library": "var_list.r",
     "varRefreshCmd": "cat(var_dic_list()) "
    }
   },
   "types_to_exclude": [
    "module",
    "function",
    "builtin_function_or_method",
    "instance",
    "_Feature"
   ],
   "window_display": false
  }
 },
 "nbformat": 4,
 "nbformat_minor": 5
}
