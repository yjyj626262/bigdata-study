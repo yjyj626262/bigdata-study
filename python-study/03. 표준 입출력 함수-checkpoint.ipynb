{
 "cells": [
  {
   "cell_type": "markdown",
   "id": "6f3e3713",
   "metadata": {},
   "source": [
    "#  표준 입력함수 : input()\n",
    "\n",
    "- 파이썬에서 기본적으로 데이터를 키보드로 입력할 때 사용하는 함수 : 콘솔(console)환경\n",
    "- input함수는 입력되는 모든 것을 문자열로 취급한다.\n",
    "- 형식 : 변수 = input()"
   ]
  },
  {
   "cell_type": "code",
   "execution_count": 1,
   "id": "f977b3b4",
   "metadata": {
    "ExecuteTime": {
     "end_time": "2023-08-22T02:43:17.458016Z",
     "start_time": "2023-08-22T02:43:07.296325Z"
    }
   },
   "outputs": [
    {
     "name": "stdout",
     "output_type": "stream",
     "text": [
      "hello\n",
      "hello\n"
     ]
    }
   ],
   "source": [
    "# '=' 연산자의 연산방향은 오른쪽에서 왼쪽이다. x = 9\n",
    "# '+' 연산자의 연산방향은 좌에서 우이다. 10 + 3\n",
    "a = input()\n",
    "print(a)"
   ]
  },
  {
   "cell_type": "code",
   "execution_count": 3,
   "id": "525f9fb3",
   "metadata": {
    "ExecuteTime": {
     "end_time": "2023-08-22T02:44:40.292435Z",
     "start_time": "2023-08-22T02:44:37.079670Z"
    }
   },
   "outputs": [
    {
     "name": "stdout",
     "output_type": "stream",
     "text": [
      "숫자입력 : 25252\n",
      "입력받은 숫자 : 25252\n"
     ]
    }
   ],
   "source": [
    "# input(message)\n",
    "b = input(\"숫자입력 : \")\n",
    "print(\"입력받은 숫자 :\", b)"
   ]
  },
  {
   "cell_type": "code",
   "execution_count": 5,
   "id": "8c3044be",
   "metadata": {
    "ExecuteTime": {
     "end_time": "2023-08-22T02:50:38.895558Z",
     "start_time": "2023-08-22T02:50:35.755449Z"
    }
   },
   "outputs": [
    {
     "name": "stdout",
     "output_type": "stream",
     "text": [
      "34\n",
      "원의 둘레 :  213.52\n",
      "원의 넓이 :  3629.84\n"
     ]
    }
   ],
   "source": [
    "# 반지름을 입력받아 원의 면적과 둘레를 계산하는 프로그램을 구현하시오.\n",
    "\n",
    "## 선언문 = 초기화(변수의 처음값을 담는 역할을 수행하는 문장)\n",
    "pi = 3.14\n",
    "## 입력문\n",
    "r = int(input())\n",
    "## 처리문\n",
    "\n",
    "## 출력문\n",
    "print(\"원의 둘레 : \", 2 * pi * r)\n",
    "print(\"원의 넓이 : \", pi * r * r)"
   ]
  },
  {
   "cell_type": "code",
   "execution_count": 8,
   "id": "24cf7d03",
   "metadata": {
    "ExecuteTime": {
     "end_time": "2023-08-22T02:55:58.346440Z",
     "start_time": "2023-08-22T02:55:55.717916Z"
    }
   },
   "outputs": [
    {
     "name": "stdout",
     "output_type": "stream",
     "text": [
      "첫번째 숫자 :23\n",
      "두번째 숫자 :24\n",
      "합 :  47\n",
      "곱 :  552\n"
     ]
    }
   ],
   "source": [
    "# 두 개의 숫자를 입력받아 합과 곱을 출력하는 프로그램을 구현하시오.\n",
    "\n",
    "## 입력문\n",
    "su1 = int(input('첫번째 숫자 :'))\n",
    "su2 = int(input('두번째 숫자 :'))\n",
    "\n",
    "## 처리문\n",
    "hap = su1+su2\n",
    "gob = su1*su2\n",
    "\n",
    "## 출력문\n",
    "print(\"합 : \", hap)\n",
    "print(\"곱 : \", gob)"
   ]
  },
  {
   "cell_type": "markdown",
   "id": "59f38c52",
   "metadata": {},
   "source": [
    "## 여러 값을 한번에 입력받는 함수\n",
    "- split() : 특정 문자를 기준으로 문자열을 잘라내는 함수\n",
    "- map() : map(변환함수, 반복가능한 객체)"
   ]
  },
  {
   "cell_type": "code",
   "execution_count": 9,
   "id": "6bf42871",
   "metadata": {
    "ExecuteTime": {
     "end_time": "2023-08-22T02:58:43.805339Z",
     "start_time": "2023-08-22T02:58:38.328553Z"
    }
   },
   "outputs": [
    {
     "name": "stdout",
     "output_type": "stream",
     "text": [
      "1 2 3 4 5 6 7 8 9 10\n",
      "1 2 3 4 5 6 7 8 9 10\n"
     ]
    }
   ],
   "source": [
    "num = input()\n",
    "print(num)"
   ]
  },
  {
   "cell_type": "code",
   "execution_count": 11,
   "id": "536ef9bf",
   "metadata": {
    "ExecuteTime": {
     "end_time": "2023-08-22T03:02:33.467985Z",
     "start_time": "2023-08-22T03:02:31.089053Z"
    }
   },
   "outputs": [
    {
     "name": "stdout",
     "output_type": "stream",
     "text": [
      "2\n",
      "['2']\n"
     ]
    }
   ],
   "source": [
    "# split() 함수의 기본은 공백을 기준으로 잘라낸다.\n",
    "num = input().split()\n",
    "print(num) # 리스트에 담아서 반환한다."
   ]
  },
  {
   "cell_type": "code",
   "execution_count": 12,
   "id": "b5b57490",
   "metadata": {
    "ExecuteTime": {
     "end_time": "2023-08-22T03:03:21.653715Z",
     "start_time": "2023-08-22T03:03:18.070585Z"
    }
   },
   "outputs": [
    {
     "name": "stdout",
     "output_type": "stream",
     "text": [
      "1 2 3 4 5\n",
      "<map object at 0x000001CCC5EB7850>\n"
     ]
    }
   ],
   "source": [
    "num = map(int, input().split()) # map 객체로 반환된다. (주소반환)\n",
    "print(num)"
   ]
  },
  {
   "cell_type": "code",
   "execution_count": 13,
   "id": "b35a2044",
   "metadata": {
    "ExecuteTime": {
     "end_time": "2023-08-22T03:04:24.524220Z",
     "start_time": "2023-08-22T03:04:21.318104Z"
    }
   },
   "outputs": [
    {
     "name": "stdout",
     "output_type": "stream",
     "text": [
      "1 2 3 4 5\n",
      "[1, 2, 3, 4, 5]\n"
     ]
    }
   ],
   "source": [
    "# list(리스트)는 1차원 배열을 의미하는 자료형으로 R에서 Vector형식을 갖는다.\n",
    "num = list(map(int, input().split()))\n",
    "print(num)"
   ]
  },
  {
   "cell_type": "markdown",
   "id": "805e2a9b",
   "metadata": {},
   "source": [
    "# 표준 출력함수 : print()\n",
    "\n",
    "- 기본형 : print(\"출력내용\")\n",
    "- print(a,b,c)"
   ]
  },
  {
   "cell_type": "markdown",
   "id": "715d9b3c",
   "metadata": {},
   "source": [
    "## 2.1 형식화된 문자열의 입출력"
   ]
  },
  {
   "cell_type": "code",
   "execution_count": 11,
   "id": "57d1bbe4",
   "metadata": {
    "ExecuteTime": {
     "end_time": "2023-08-22T03:47:22.971344Z",
     "start_time": "2023-08-22T03:47:21.401312Z"
    }
   },
   "outputs": [
    {
     "name": "stdout",
     "output_type": "stream",
     "text": [
      "2\n",
      "정수1 : 2\n",
      "결과 : 243\n",
      "덧셈 : 4, 곱셈 : 4\n"
     ]
    }
   ],
   "source": [
    "x = int(input())\n",
    "print(\"정수1 : {0}\".format(x))\n",
    "print(\"결과 : {}\".format(3**5))\n",
    "print(\"덧셈 : {0}, 곱셈 : {1}\".format(x+x, x*x))"
   ]
  },
  {
   "cell_type": "code",
   "execution_count": 3,
   "id": "f1839746",
   "metadata": {
    "ExecuteTime": {
     "end_time": "2023-08-22T03:43:04.266394Z",
     "start_time": "2023-08-22T03:43:04.256223Z"
    }
   },
   "outputs": [],
   "source": [
    "name = \"홍길동\"\n",
    "age = 23\n",
    "gender = \"M\""
   ]
  },
  {
   "cell_type": "code",
   "execution_count": 4,
   "id": "b31c9bfb",
   "metadata": {
    "ExecuteTime": {
     "end_time": "2023-08-22T03:43:20.654417Z",
     "start_time": "2023-08-22T03:43:20.645027Z"
    }
   },
   "outputs": [
    {
     "name": "stdout",
     "output_type": "stream",
     "text": [
      "홍길동님의 나이는 23세이고 성별은 남자입니다.\n"
     ]
    }
   ],
   "source": [
    "print(\"홍길동님의 나이는 23세이고 성별은 남자입니다.\")"
   ]
  },
  {
   "cell_type": "code",
   "execution_count": 5,
   "id": "6bf9bb6f",
   "metadata": {
    "ExecuteTime": {
     "end_time": "2023-08-22T03:44:11.589899Z",
     "start_time": "2023-08-22T03:44:11.568205Z"
    }
   },
   "outputs": [
    {
     "ename": "KeyError",
     "evalue": "'%s'",
     "output_type": "error",
     "traceback": [
      "\u001b[1;31m---------------------------------------------------------------------------\u001b[0m",
      "\u001b[1;31mKeyError\u001b[0m                                  Traceback (most recent call last)",
      "\u001b[1;32m<ipython-input-5-188a31c6745c>\u001b[0m in \u001b[0;36m<module>\u001b[1;34m\u001b[0m\n\u001b[1;32m----> 1\u001b[1;33m \u001b[0mprint\u001b[0m\u001b[1;33m(\u001b[0m\u001b[1;34m\"{%s}님의 나이는 {%d}세이고 성별은 {%c}입니다.\"\u001b[0m\u001b[1;33m.\u001b[0m\u001b[0mformat\u001b[0m\u001b[1;33m(\u001b[0m\u001b[0mname\u001b[0m\u001b[1;33m,\u001b[0m\u001b[0mage\u001b[0m\u001b[1;33m,\u001b[0m\u001b[0mgender\u001b[0m\u001b[1;33m)\u001b[0m\u001b[1;33m)\u001b[0m\u001b[1;33m\u001b[0m\u001b[1;33m\u001b[0m\u001b[0m\n\u001b[0m",
      "\u001b[1;31mKeyError\u001b[0m: '%s'"
     ]
    }
   ],
   "source": [
    "print(\"{%s}님의 나이는 {%d}세이고 성별은 {%c}입니다.\".format(name,age,gender))"
   ]
  },
  {
   "cell_type": "code",
   "execution_count": 6,
   "id": "c9208383",
   "metadata": {
    "ExecuteTime": {
     "end_time": "2023-08-22T03:45:03.984299Z",
     "start_time": "2023-08-22T03:45:03.968932Z"
    }
   },
   "outputs": [
    {
     "name": "stdout",
     "output_type": "stream",
     "text": [
      "홍길동님의 나이는 23세이고 성별은 M입니다.\n"
     ]
    }
   ],
   "source": [
    "print(\"%s님의 나이는 %d세이고 성별은 %c입니다.\" %(name, age, gender))"
   ]
  },
  {
   "cell_type": "code",
   "execution_count": 12,
   "id": "145d6563",
   "metadata": {
    "ExecuteTime": {
     "end_time": "2023-08-22T03:48:10.930501Z",
     "start_time": "2023-08-22T03:48:10.912143Z"
    }
   },
   "outputs": [
    {
     "name": "stdout",
     "output_type": "stream",
     "text": [
      "2\n"
     ]
    }
   ],
   "source": [
    "print(x\n",
    "     )"
   ]
  },
  {
   "cell_type": "code",
   "execution_count": 15,
   "id": "d98cbc4a",
   "metadata": {
    "ExecuteTime": {
     "end_time": "2023-08-22T03:48:47.827728Z",
     "start_time": "2023-08-22T03:48:47.815073Z"
    }
   },
   "outputs": [],
   "source": [
    "x=3/7"
   ]
  },
  {
   "cell_type": "code",
   "execution_count": 16,
   "id": "9f3d3f95",
   "metadata": {
    "ExecuteTime": {
     "end_time": "2023-08-22T03:48:52.034273Z",
     "start_time": "2023-08-22T03:48:52.026952Z"
    }
   },
   "outputs": [
    {
     "name": "stdout",
     "output_type": "stream",
     "text": [
      "결과 : 0.428571\n"
     ]
    }
   ],
   "source": [
    "print(\"결과 : %f\" %x)"
   ]
  },
  {
   "cell_type": "code",
   "execution_count": 17,
   "id": "45977b80",
   "metadata": {
    "ExecuteTime": {
     "end_time": "2023-08-22T03:49:18.721448Z",
     "start_time": "2023-08-22T03:49:18.705941Z"
    }
   },
   "outputs": [
    {
     "name": "stdout",
     "output_type": "stream",
     "text": [
      "결과 : 0.43\n"
     ]
    }
   ],
   "source": [
    "print(\"결과 : %.2f\"%x)"
   ]
  },
  {
   "cell_type": "code",
   "execution_count": 23,
   "id": "7ccf47a4",
   "metadata": {
    "ExecuteTime": {
     "end_time": "2023-08-22T03:50:37.575479Z",
     "start_time": "2023-08-22T03:50:37.558715Z"
    }
   },
   "outputs": [
    {
     "name": "stdout",
     "output_type": "stream",
     "text": [
      "a = 10, b = 20\n"
     ]
    },
    {
     "ename": "KeyError",
     "evalue": "'o'",
     "output_type": "error",
     "traceback": [
      "\u001b[1;31m---------------------------------------------------------------------------\u001b[0m",
      "\u001b[1;31mKeyError\u001b[0m                                  Traceback (most recent call last)",
      "\u001b[1;32m<ipython-input-23-b2c5d0fbd047>\u001b[0m in \u001b[0;36m<module>\u001b[1;34m\u001b[0m\n\u001b[0;32m      3\u001b[0m \u001b[1;33m\u001b[0m\u001b[0m\n\u001b[0;32m      4\u001b[0m \u001b[0mprint\u001b[0m\u001b[1;33m(\u001b[0m\u001b[1;34m\"a = {}, b = {}\"\u001b[0m\u001b[1;33m.\u001b[0m\u001b[0mformat\u001b[0m\u001b[1;33m(\u001b[0m\u001b[0ma\u001b[0m\u001b[1;33m,\u001b[0m\u001b[0mb\u001b[0m\u001b[1;33m)\u001b[0m\u001b[1;33m)\u001b[0m\u001b[1;33m\u001b[0m\u001b[1;33m\u001b[0m\u001b[0m\n\u001b[1;32m----> 5\u001b[1;33m \u001b[0mprint\u001b[0m\u001b[1;33m(\u001b[0m\u001b[1;34m\"a = {o}, b = {1}\"\u001b[0m\u001b[1;33m.\u001b[0m\u001b[0mformat\u001b[0m\u001b[1;33m(\u001b[0m\u001b[0ma\u001b[0m\u001b[1;33m,\u001b[0m\u001b[0mb\u001b[0m\u001b[1;33m)\u001b[0m\u001b[1;33m)\u001b[0m\u001b[1;33m\u001b[0m\u001b[1;33m\u001b[0m\u001b[0m\n\u001b[0m",
      "\u001b[1;31mKeyError\u001b[0m: 'o'"
     ]
    }
   ],
   "source": [
    "a = 10\n",
    "b = 20\n",
    "\n",
    "print(\"a = {}, b = {}\".format(a,b))\n",
    "print(\"a = {o}, b = {1}\".format(a,b))"
   ]
  },
  {
   "cell_type": "code",
   "execution_count": 24,
   "id": "862cfd32",
   "metadata": {
    "ExecuteTime": {
     "end_time": "2023-08-22T03:51:10.739604Z",
     "start_time": "2023-08-22T03:51:10.728419Z"
    }
   },
   "outputs": [
    {
     "name": "stdout",
     "output_type": "stream",
     "text": [
      "a = 10, b = 20\n"
     ]
    }
   ],
   "source": [
    "print(\"a = {1}, b = {0}\".format(b,a))"
   ]
  },
  {
   "cell_type": "code",
   "execution_count": 25,
   "id": "a66045fb",
   "metadata": {
    "ExecuteTime": {
     "end_time": "2023-08-22T05:11:05.072938Z",
     "start_time": "2023-08-22T05:11:05.069518Z"
    }
   },
   "outputs": [
    {
     "name": "stdout",
     "output_type": "stream",
     "text": [
      "t실수 1:3.074\n"
     ]
    }
   ],
   "source": [
    "# 형식화된 문자열.format()\n",
    "print(\"t실수 1:{0:.3f}\".format(8.3 / 2.7))"
   ]
  },
  {
   "cell_type": "code",
   "execution_count": 26,
   "id": "70fd3756",
   "metadata": {
    "ExecuteTime": {
     "end_time": "2023-08-22T05:12:18.286515Z",
     "start_time": "2023-08-22T05:12:18.273468Z"
    }
   },
   "outputs": [
    {
     "name": "stdout",
     "output_type": "stream",
     "text": [
      "실수값 : 12.0000\n"
     ]
    }
   ],
   "source": [
    "y = 2.5 * 4.8\n",
    "print(\"실수값 : {0:5.4f}\".format(y))"
   ]
  },
  {
   "cell_type": "code",
   "execution_count": 36,
   "id": "6087791e",
   "metadata": {
    "ExecuteTime": {
     "end_time": "2023-08-22T05:18:20.837485Z",
     "start_time": "2023-08-22T05:18:20.829612Z"
    }
   },
   "outputs": [
    {
     "name": "stdout",
     "output_type": "stream",
     "text": [
      "실수값 : 4.15\n",
      "실수값 : 4.15\n",
      "실수값 : 4.15\n",
      "실수값 : 4.2\n",
      "실수값 : 4.15\n",
      "실수값 : 4.1500\n",
      "실수값 :     4.1500\n"
     ]
    }
   ],
   "source": [
    "print(\"실수값 : {}\".format(8.3 / 2,7))\n",
    "print(\"실수값 : {0}\".format(8.3 / 2,7))\n",
    "print(\"실수값 : {0:3.2f}\".format(8.3 / 2,7))\n",
    "print(\"실수값 : {0:.1f}\".format(8.3 / 2,7))\n",
    "print(\"실수값 : {0:.2f}\".format(8.3 / 2,7))\n",
    "print(\"실수값 : {0:.4f}\".format(8.3 / 2,7))\n",
    "print(\"실수값 : {0:10.4f}\".format(8.3 / 2,7))"
   ]
  },
  {
   "cell_type": "markdown",
   "id": "be98ddff",
   "metadata": {},
   "source": [
    "## 서식기호를 이용한 출력"
   ]
  },
  {
   "cell_type": "code",
   "execution_count": 37,
   "id": "cb2030fc",
   "metadata": {
    "ExecuteTime": {
     "end_time": "2023-08-22T05:19:56.967986Z",
     "start_time": "2023-08-22T05:19:56.959015Z"
    }
   },
   "outputs": [],
   "source": [
    "# %c : 문자\n",
    "# %d : 정수\n",
    "# %f : "
   ]
  },
  {
   "cell_type": "code",
   "execution_count": 38,
   "id": "5be831c1",
   "metadata": {
    "ExecuteTime": {
     "end_time": "2023-08-22T05:20:39.574051Z",
     "start_time": "2023-08-22T05:20:39.559613Z"
    }
   },
   "outputs": [
    {
     "name": "stdout",
     "output_type": "stream",
     "text": [
      "현재 시간은 14시 17분입니다.\n"
     ]
    }
   ],
   "source": [
    "hour = 14\n",
    "minute = 17\n",
    "print(\"현재 시간은 %d시 %d분입니다.\" % (hour, minute))"
   ]
  },
  {
   "cell_type": "code",
   "execution_count": 39,
   "id": "8b959513",
   "metadata": {
    "ExecuteTime": {
     "end_time": "2023-08-22T05:21:37.943394Z",
     "start_time": "2023-08-22T05:21:37.931927Z"
    }
   },
   "outputs": [
    {
     "name": "stdout",
     "output_type": "stream",
     "text": [
      "길동님의 키는 180이고, 몸무게는 78.50입니다.\n"
     ]
    }
   ],
   "source": [
    "name = '길동'\n",
    "height = 180\n",
    "weight = 78.5\n",
    "print(\"%s님의 키는 %d이고, 몸무게는 %.2f입니다.\" % (name, height, weight))"
   ]
  },
  {
   "cell_type": "code",
   "execution_count": 2,
   "id": "2297f98d",
   "metadata": {
    "ExecuteTime": {
     "end_time": "2023-08-24T01:26:03.049574Z",
     "start_time": "2023-08-24T01:26:03.031926Z"
    }
   },
   "outputs": [
    {
     "name": "stdout",
     "output_type": "stream",
     "text": [
      "숫자출력        100\n",
      "숫자출력      10000\n",
      "숫자출력 10000     \n"
     ]
    }
   ],
   "source": [
    "# 서식지정자(%)와 서식기호 사이에 숫자는 자릿수를 의미한다.\n",
    "## 기본적으로 숫자는 오른쪽 정렬 : 정렬(양수와 음수로 구분)\n",
    "print(\"숫자출력 %10d\" % 100)\n",
    "print(\"숫자출력 %10d\" % 10000)\n",
    "print(\"숫자출력 %-10d\" % 10000)"
   ]
  },
  {
   "cell_type": "code",
   "execution_count": 49,
   "id": "0678e0b1",
   "metadata": {
    "ExecuteTime": {
     "end_time": "2023-08-22T05:26:01.540639Z",
     "start_time": "2023-08-22T05:26:01.526033Z"
    }
   },
   "outputs": [
    {
     "name": "stdout",
     "output_type": "stream",
     "text": [
      "john is programmer\n"
     ]
    }
   ],
   "source": [
    "print(\"{name} is {job}\".format(name='john', job='programmer'))"
   ]
  },
  {
   "cell_type": "code",
   "execution_count": 51,
   "id": "ab69824c",
   "metadata": {
    "ExecuteTime": {
     "end_time": "2023-08-22T05:27:39.279774Z",
     "start_time": "2023-08-22T05:27:39.273480Z"
    }
   },
   "outputs": [
    {
     "name": "stdout",
     "output_type": "stream",
     "text": [
      "John is studying\n"
     ]
    }
   ],
   "source": [
    "# 파이썬 3.6부터는 문자열 포매팅에 변수를 그대로 사용할 수 있다.\n",
    "# 문자열 앞에 문자열 포매팅이라는 의미로 f를 붙여준다.\n",
    "name = 'John'\n",
    "job = 'studying'\n",
    "print(f'{name} is {job}')"
   ]
  },
  {
   "cell_type": "code",
   "execution_count": 58,
   "id": "fe17349c",
   "metadata": {
    "ExecuteTime": {
     "end_time": "2023-08-22T05:32:56.875039Z",
     "start_time": "2023-08-22T05:32:56.862830Z"
    }
   },
   "outputs": [
    {
     "name": "stdout",
     "output_type": "stream",
     "text": [
      "hi\n",
      "hi        \n",
      "    hi    \n",
      "====hi====\n"
     ]
    }
   ],
   "source": [
    "# 문자정렬은 기본이 왼쪽정렬이다.\n",
    "# 인덱스 뒤에 : >(숫자)\n",
    "\n",
    "print('{0}'.format('hi'))\n",
    "print('{0:<10}'.format('hi')) # > :오른쪽 정렬\n",
    "print('{0:^10}'.format('hi')) # ^ : 가운데 정렬\n",
    "print('{0:=^10}'.format('hi')) # = : 빈공간을 '='로 채우기\n"
   ]
  },
  {
   "cell_type": "code",
   "execution_count": 60,
   "id": "438c866c",
   "metadata": {
    "ExecuteTime": {
     "end_time": "2023-08-22T05:33:44.973643Z",
     "start_time": "2023-08-22T05:33:44.962545Z"
    }
   },
   "outputs": [
    {
     "name": "stdout",
     "output_type": "stream",
     "text": [
      "     4.200\n"
     ]
    }
   ],
   "source": [
    "x = 4.2\n",
    "print(f\"{x:10.3f}\")"
   ]
  },
  {
   "cell_type": "code",
   "execution_count": 61,
   "id": "34437bbc",
   "metadata": {
    "ExecuteTime": {
     "end_time": "2023-08-22T05:38:07.565518Z",
     "start_time": "2023-08-22T05:38:07.550062Z"
    }
   },
   "outputs": [
    {
     "name": "stdout",
     "output_type": "stream",
     "text": [
      "x = 100, y = 200\n",
      "x = 200, y = 100\n"
     ]
    }
   ],
   "source": [
    "# swap : 자리바꿈\n",
    "x = 100\n",
    "y = 200\n",
    "print(\"x = %d, y = %d\" % (x,y))\n",
    "\n",
    "# 변수는 하나의 값을 담는 기억공간, 새로운 값이 들어오면 그 전값은 지워진다.\n",
    "temp = x\n",
    "x = y\n",
    "y = temp\n",
    "print(\"x = %d, y = %d\" % (x,y))"
   ]
  },
  {
   "cell_type": "code",
   "execution_count": 62,
   "id": "c9de5c12",
   "metadata": {
    "ExecuteTime": {
     "end_time": "2023-08-22T05:39:14.931980Z",
     "start_time": "2023-08-22T05:39:14.926996Z"
    }
   },
   "outputs": [
    {
     "name": "stdout",
     "output_type": "stream",
     "text": [
      "x = 100, y = 200\n",
      "x = 200, y = 100\n"
     ]
    }
   ],
   "source": [
    "# swap : 자리바꿈\n",
    "x = 100\n",
    "y = 200\n",
    "print(\"x = %d, y = %d\" % (x,y))\n",
    "\n",
    "x, y = y, x\n",
    "print(\"x = %d, y = %d\" % (x,y))"
   ]
  },
  {
   "cell_type": "code",
   "execution_count": 64,
   "id": "52058d13",
   "metadata": {
    "ExecuteTime": {
     "end_time": "2023-08-22T05:41:09.103499Z",
     "start_time": "2023-08-22T05:41:09.095392Z"
    }
   },
   "outputs": [
    {
     "data": {
      "text/plain": [
       "(1, 2, 3, 4, 5)"
      ]
     },
     "execution_count": 64,
     "metadata": {},
     "output_type": "execute_result"
    }
   ],
   "source": [
    "# 파이썬의 자료구조 : 리스트, 튜플, 집합(셋), 딕셔너리, 데이터프레임\n",
    "# 자료구조 :  하나이상의 데이터를 담아서 관리하는 공간\n",
    "\n",
    "## 패킹(packing)과 언패킹(unpacking)\n",
    "\n",
    "x= 1, 2, 3, 4, 5 # 패킹, x=(1, 2, 3, 4, 5) , tuple\n",
    "x"
   ]
  },
  {
   "cell_type": "code",
   "execution_count": 66,
   "id": "c91fbc41",
   "metadata": {
    "ExecuteTime": {
     "end_time": "2023-08-22T05:42:54.274471Z",
     "start_time": "2023-08-22T05:42:54.260579Z"
    }
   },
   "outputs": [
    {
     "name": "stdout",
     "output_type": "stream",
     "text": [
      "1 2 3 4 5\n"
     ]
    }
   ],
   "source": [
    "a, b, c, d, e = x # 언패킹\n",
    "print(a, b, c, d, e)"
   ]
  },
  {
   "cell_type": "code",
   "execution_count": 67,
   "id": "bfb2c78f",
   "metadata": {
    "ExecuteTime": {
     "end_time": "2023-08-22T05:43:11.060248Z",
     "start_time": "2023-08-22T05:43:11.047000Z"
    }
   },
   "outputs": [
    {
     "ename": "ValueError",
     "evalue": "too many values to unpack (expected 3)",
     "output_type": "error",
     "traceback": [
      "\u001b[1;31m---------------------------------------------------------------------------\u001b[0m",
      "\u001b[1;31mValueError\u001b[0m                                Traceback (most recent call last)",
      "\u001b[1;32m<ipython-input-67-9e51fb044833>\u001b[0m in \u001b[0;36m<module>\u001b[1;34m\u001b[0m\n\u001b[1;32m----> 1\u001b[1;33m \u001b[0mx1\u001b[0m\u001b[1;33m,\u001b[0m \u001b[0mx2\u001b[0m\u001b[1;33m,\u001b[0m \u001b[0mx3\u001b[0m \u001b[1;33m=\u001b[0m\u001b[0mx\u001b[0m\u001b[1;33m\u001b[0m\u001b[1;33m\u001b[0m\u001b[0m\n\u001b[0m\u001b[0;32m      2\u001b[0m \u001b[0mprint\u001b[0m\u001b[1;33m(\u001b[0m\u001b[0mx1\u001b[0m\u001b[1;33m,\u001b[0m \u001b[0mx2\u001b[0m\u001b[1;33m,\u001b[0m \u001b[0mx3\u001b[0m\u001b[1;33m)\u001b[0m\u001b[1;33m\u001b[0m\u001b[1;33m\u001b[0m\u001b[0m\n",
      "\u001b[1;31mValueError\u001b[0m: too many values to unpack (expected 3)"
     ]
    }
   ],
   "source": [
    "x1, x2, x3 =x\n",
    "print(x1, x2, x3)"
   ]
  },
  {
   "cell_type": "code",
   "execution_count": 73,
   "id": "529e2cb2",
   "metadata": {
    "ExecuteTime": {
     "end_time": "2023-08-22T05:54:45.736829Z",
     "start_time": "2023-08-22T05:54:44.772957Z"
    }
   },
   "outputs": [
    {
     "name": "stdout",
     "output_type": "stream",
     "text": [
      "숫자 = 2 3\n",
      "2 + 3 = 5\n"
     ]
    }
   ],
   "source": [
    "# 두 개의 정수를 입력받아 사칙연산의 결과를 출력하는 프로그램을 구현하시오.\n",
    "\n",
    "## 입력형식\n",
    "## 숫자 = 10 20\n",
    "\n",
    "## 출력형식\n",
    "## 10 + 20 = 30\n",
    "## 10 - 20 = -10\n",
    "## 10 * 20 = \n",
    "\n",
    "### 입력문\n",
    "su1, su2 = input('숫자 = ').split()\n",
    "\n",
    "### 처리문\n",
    "su1 = int(su1)\n",
    "su2 = int(su2)\n",
    "\n",
    "### 출력문\n",
    "print(f\"{su1} + {su2} = {su1 + su2}\")"
   ]
  },
  {
   "cell_type": "code",
   "execution_count": 77,
   "id": "e417e75a",
   "metadata": {
    "ExecuteTime": {
     "end_time": "2023-08-22T05:55:55.457322Z",
     "start_time": "2023-08-22T05:55:54.506619Z"
    }
   },
   "outputs": [
    {
     "name": "stdout",
     "output_type": "stream",
     "text": [
      "숫자 = 2,3\n",
      "2 + 3 = 5\n"
     ]
    }
   ],
   "source": [
    "## 입력문\n",
    "su1, su2 = map(int, input('숫자 = ').split(','))\n",
    "### 출력문\n",
    "print(f\"{su1} + {su2} = {su1 + su2}\")"
   ]
  },
  {
   "cell_type": "markdown",
   "id": "384e502d",
   "metadata": {},
   "source": [
    "### 성적처리 프로그램 1단계\n",
    "국어, 영어, 수학점수를 입력받아 총점과 평균을 출력하는 프로그램을 구현하시오.\n",
    "단, 평균은  소숫점이하 둘째자리까지 표현할 것"
   ]
  },
  {
   "cell_type": "code",
   "execution_count": 83,
   "id": "658b2ff0",
   "metadata": {
    "ExecuteTime": {
     "end_time": "2023-08-22T06:03:31.065575Z",
     "start_time": "2023-08-22T06:03:26.318719Z"
    }
   },
   "outputs": [
    {
     "name": "stdout",
     "output_type": "stream",
     "text": [
      "국어 =39\n",
      "영어 =69\n",
      "수학 =47\n",
      "총점 : 155점, 평균 : 51.67점\n",
      "총점 : 155점, 평균 : 51.67점\n"
     ]
    }
   ],
   "source": [
    "# 입력형식\n",
    "## 국어 =\n",
    "## 영어 = \n",
    "## 수학 = \n",
    "\n",
    "ko = int(input(\"국어 =\"))\n",
    "eng = int(input('영어 ='))\n",
    "math = int(input('수학 ='))\n",
    "\n",
    "summ = ko + eng + math\n",
    "mean = (ko + eng + math) / 3\n",
    "# 출력형식\n",
    "## 총점 : xx점, 평균 : xx.xx점\n",
    "print(f'총점 : {summ}점, 평균 : %.2f점' % mean)\n",
    "## 총점 : xx점, 평균 : xx.xx점\n",
    "print('총점 : %d점, 평균 : %.2f점' % (summ,mean))"
   ]
  },
  {
   "cell_type": "code",
   "execution_count": 86,
   "id": "2eb367c1",
   "metadata": {
    "ExecuteTime": {
     "end_time": "2023-08-22T06:17:28.678081Z",
     "start_time": "2023-08-22T06:17:25.682466Z"
    }
   },
   "outputs": [
    {
     "name": "stdout",
     "output_type": "stream",
     "text": [
      "10 20 3\n",
      "총점 : 155점, 평균 : 51.67점\n"
     ]
    }
   ],
   "source": [
    "kor, eng, mat = map(int, input().split())"
   ]
  },
  {
   "cell_type": "code",
   "execution_count": null,
   "id": "c5a96c50",
   "metadata": {},
   "outputs": [],
   "source": []
  }
 ],
 "metadata": {
  "kernelspec": {
   "display_name": "Python 3",
   "language": "python",
   "name": "python3"
  },
  "language_info": {
   "codemirror_mode": {
    "name": "ipython",
    "version": 3
   },
   "file_extension": ".py",
   "mimetype": "text/x-python",
   "name": "python",
   "nbconvert_exporter": "python",
   "pygments_lexer": "ipython3",
   "version": "3.8.8"
  },
  "toc": {
   "base_numbering": 1,
   "nav_menu": {},
   "number_sections": true,
   "sideBar": true,
   "skip_h1_title": false,
   "title_cell": "Table of Contents",
   "title_sidebar": "Contents",
   "toc_cell": false,
   "toc_position": {},
   "toc_section_display": true,
   "toc_window_display": false
  },
  "varInspector": {
   "cols": {
    "lenName": 16,
    "lenType": 16,
    "lenVar": 40
   },
   "kernels_config": {
    "python": {
     "delete_cmd_postfix": "",
     "delete_cmd_prefix": "del ",
     "library": "var_list.py",
     "varRefreshCmd": "print(var_dic_list())"
    },
    "r": {
     "delete_cmd_postfix": ") ",
     "delete_cmd_prefix": "rm(",
     "library": "var_list.r",
     "varRefreshCmd": "cat(var_dic_list()) "
    }
   },
   "types_to_exclude": [
    "module",
    "function",
    "builtin_function_or_method",
    "instance",
    "_Feature"
   ],
   "window_display": false
  }
 },
 "nbformat": 4,
 "nbformat_minor": 5
}
