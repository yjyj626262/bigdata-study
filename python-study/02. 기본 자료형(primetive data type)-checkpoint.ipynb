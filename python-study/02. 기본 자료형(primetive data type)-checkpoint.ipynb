{
 "cells": [
  {
   "cell_type": "markdown",
   "id": "0c4cbbeb",
   "metadata": {},
   "source": [
    "# 숫자 자료형\n",
    "- 파이썬에서 기본적으로 제공하는 숫자 자료형은 정수, 실수, 복소수, 8과 16진수 등이 있다."
   ]
  },
  {
   "cell_type": "markdown",
   "id": "f141da52",
   "metadata": {},
   "source": [
    "## 정수형(integer type)"
   ]
  },
  {
   "cell_type": "code",
   "execution_count": null,
   "id": "b3a7b055",
   "metadata": {},
   "outputs": [],
   "source": []
  },
  {
   "cell_type": "markdown",
   "id": "cfd9a3cc",
   "metadata": {},
   "source": [
    "## 실수형(floating type)\n",
    "- 소숫점이 포함된 숫자\n",
    "- 컴퓨터에서 사용하는 지수 표현 방식대로도 표현할 수 있다."
   ]
  },
  {
   "cell_type": "code",
   "execution_count": 2,
   "id": "5fe0a16f",
   "metadata": {
    "ExecuteTime": {
     "end_time": "2023-08-18T02:38:07.690406Z",
     "start_time": "2023-08-18T02:38:07.685435Z"
    }
   },
   "outputs": [],
   "source": [
    "# 일반적인 실수 표현식\n",
    "a = 2.4\n",
    "a = -1.5\n",
    "\n",
    "# 지수 표현 방식\n",
    "a = 1.2E10\n",
    "a = 4.5e-10"
   ]
  },
  {
   "cell_type": "code",
   "execution_count": null,
   "id": "bb04e21f",
   "metadata": {},
   "outputs": [],
   "source": []
  },
  {
   "cell_type": "markdown",
   "id": "2a8931af",
   "metadata": {},
   "source": [
    "- 정수와 실수는 컴퓨터 메모리에 저장되는 방식이 다르다. 이를 데이터의 자료형(type)이 다르다고 한다. \n",
    "- 파이썬에서 정수는 int라는 정수 자료형으로 처리한다. \n",
    "- 실수는 float라는 부동소수점(floating point number) 자료형으로 처리된다. \n",
    "- 파이썬에서 데이터의 자료형을 알려면 type 명령을 사용한다."
   ]
  },
  {
   "cell_type": "code",
   "execution_count": 6,
   "id": "710abe4b",
   "metadata": {
    "ExecuteTime": {
     "end_time": "2023-08-18T02:43:55.570662Z",
     "start_time": "2023-08-18T02:43:55.552465Z"
    }
   },
   "outputs": [
    {
     "data": {
      "text/plain": [
       "int"
      ]
     },
     "execution_count": 6,
     "metadata": {},
     "output_type": "execute_result"
    }
   ],
   "source": [
    "type(10)"
   ]
  },
  {
   "cell_type": "code",
   "execution_count": 7,
   "id": "32bc0f58",
   "metadata": {
    "ExecuteTime": {
     "end_time": "2023-08-18T02:44:03.753065Z",
     "start_time": "2023-08-18T02:44:03.743096Z"
    }
   },
   "outputs": [
    {
     "data": {
      "text/plain": [
       "float"
      ]
     },
     "execution_count": 7,
     "metadata": {},
     "output_type": "execute_result"
    }
   ],
   "source": [
    "type(10.0)"
   ]
  },
  {
   "cell_type": "code",
   "execution_count": 8,
   "id": "3f8a7405",
   "metadata": {
    "ExecuteTime": {
     "end_time": "2023-08-18T02:44:30.665141Z",
     "start_time": "2023-08-18T02:44:30.655720Z"
    }
   },
   "outputs": [
    {
     "data": {
      "text/plain": [
       "12300.0"
      ]
     },
     "execution_count": 8,
     "metadata": {},
     "output_type": "execute_result"
    }
   ],
   "source": [
    "123e2  # 123e2 = 123.0 x 100 = 12300.0"
   ]
  },
  {
   "cell_type": "code",
   "execution_count": 9,
   "id": "2bf05c1c",
   "metadata": {
    "ExecuteTime": {
     "end_time": "2023-08-18T02:44:39.785238Z",
     "start_time": "2023-08-18T02:44:39.761424Z"
    }
   },
   "outputs": [
    {
     "data": {
      "text/plain": [
       "1.23"
      ]
     },
     "execution_count": 9,
     "metadata": {},
     "output_type": "execute_result"
    }
   ],
   "source": [
    "123e-2  # 123e-2 = 123.0 x 0.01 = 1.23"
   ]
  },
  {
   "cell_type": "code",
   "execution_count": 10,
   "id": "447ffe5b",
   "metadata": {
    "ExecuteTime": {
     "end_time": "2023-08-18T02:44:49.311624Z",
     "start_time": "2023-08-18T02:44:49.300599Z"
    }
   },
   "outputs": [
    {
     "data": {
      "text/plain": [
       "0.123456"
      ]
     },
     "execution_count": 10,
     "metadata": {},
     "output_type": "execute_result"
    }
   ],
   "source": [
    "123.456e-3  # 123.456e-3 = 123.456 x 0.001 = 0.123456"
   ]
  },
  {
   "cell_type": "markdown",
   "id": "d300ea8e",
   "metadata": {},
   "source": [
    "## 복소수형(complex type)\n",
    "- 일반적으로 수학에서 복소수를 다룰 때에 $ a + bi $ 의 형태로 이용(a, b 실수)\n",
    "- 파이썬에서는 i 대신 j를 이용"
   ]
  },
  {
   "cell_type": "code",
   "execution_count": 4,
   "id": "dc9d0db2",
   "metadata": {
    "ExecuteTime": {
     "end_time": "2023-08-18T02:39:51.189628Z",
     "start_time": "2023-08-18T02:39:51.182628Z"
    }
   },
   "outputs": [],
   "source": [
    "a = 1 + 2j\n",
    "a = 3 - 4j"
   ]
  },
  {
   "cell_type": "markdown",
   "id": "df559f3c",
   "metadata": {},
   "source": [
    "- 파이썬의 복소수 자료형에는 몇몇 유용한 내장 함수가 있다. \n",
    "- 복소수로 할당한 변수의 이름 뒤에 .을 붙인 다음 함수 이름을 써주면 된다. "
   ]
  },
  {
   "cell_type": "code",
   "execution_count": null,
   "id": "44b2615f",
   "metadata": {},
   "outputs": [],
   "source": [
    "a = 1 + 2j\n",
    "\n",
    "print(a.real) # 1\n",
    "\n",
    "print(a.imag) # 2\n",
    "\n",
    "a.conjugate() # a + bj -> a - bj\n",
    "\n",
    "print(a) # 1 - 2j"
   ]
  },
  {
   "cell_type": "markdown",
   "id": "3a480b53",
   "metadata": {},
   "source": [
    "- real 함수와 imag 함수는 각각 실수 부분과 허수 부분을 구해주는 함수이다. \n",
    "- conjugate는 켤레 복소수로 바꿔주는 함수이다. "
   ]
  },
  {
   "cell_type": "markdown",
   "id": "92139dd7",
   "metadata": {},
   "source": [
    "## 8진수, 16진수\n",
    "- 8진수는 숫자 앞에 0o (숫자 0 + 알파벳 o 또는 O)을 붙이면 되고, 16진수는 0x (숫자 0 + 알파벳 x 또는 X)를 붙여주면 된다. "
   ]
  },
  {
   "cell_type": "code",
   "execution_count": 5,
   "id": "1fc92d00",
   "metadata": {
    "ExecuteTime": {
     "end_time": "2023-08-18T02:41:43.191449Z",
     "start_time": "2023-08-18T02:41:43.185481Z"
    }
   },
   "outputs": [],
   "source": [
    "a = 0o12\n",
    "b = 0x34"
   ]
  },
  {
   "cell_type": "markdown",
   "id": "03412e6c",
   "metadata": {},
   "source": [
    "- 파이썬의 bin 명령을 쓰면 정수인 십진수를 이진수로 변환할 수 있다. 이진수는 숫자 앞에 0b라는 접두사가 붙는다."
   ]
  },
  {
   "cell_type": "code",
   "execution_count": 11,
   "id": "b02bd7e0",
   "metadata": {
    "ExecuteTime": {
     "end_time": "2023-08-18T02:45:24.712598Z",
     "start_time": "2023-08-18T02:45:24.705672Z"
    }
   },
   "outputs": [
    {
     "data": {
      "text/plain": [
       "'0b11'"
      ]
     },
     "execution_count": 11,
     "metadata": {},
     "output_type": "execute_result"
    }
   ],
   "source": [
    "bin(3)"
   ]
  },
  {
   "cell_type": "code",
   "execution_count": 12,
   "id": "227d1403",
   "metadata": {
    "ExecuteTime": {
     "end_time": "2023-08-18T02:45:44.627498Z",
     "start_time": "2023-08-18T02:45:44.616424Z"
    }
   },
   "outputs": [
    {
     "data": {
      "text/plain": [
       "'0b1111'"
      ]
     },
     "execution_count": 12,
     "metadata": {},
     "output_type": "execute_result"
    }
   ],
   "source": [
    "bin(15)"
   ]
  },
  {
   "cell_type": "markdown",
   "id": "ef919862",
   "metadata": {},
   "source": [
    "![진수변환](images/bin.png)"
   ]
  },
  {
   "cell_type": "markdown",
   "id": "ebb187be",
   "metadata": {},
   "source": [
    "## 부동소수점 오차\n",
    "- 1보다 작은 수의 경우에는 십진법으로 간단히 표현되는 수도 이진법에서는 무한개의 유효숫자를 가질 수 있다. \n",
    "- 예를 들어 0.1이라는 숫자는 십진수로는 간단히 표현되지만 이진수로 나타내면 다음과 같이 0011(2)이 무한히 반복되는 실수가 된다.\n",
    "\n",
    "$$ 0.1=0.00011001100110011001100110011001100110011001100110011001100110011⋯(2) $$  \n",
    "\n",
    "- 그런데 파이썬 콘솔이나 주피터 노트북에서 0.1을 입력하면 다음과 같이 그냥 0.1로 나타난다."
   ]
  },
  {
   "cell_type": "code",
   "execution_count": 13,
   "id": "7d77c4e3",
   "metadata": {
    "ExecuteTime": {
     "end_time": "2023-08-18T02:50:02.257173Z",
     "start_time": "2023-08-18T02:50:02.244215Z"
    }
   },
   "outputs": [
    {
     "data": {
      "text/plain": [
       "0.1"
      ]
     },
     "execution_count": 13,
     "metadata": {},
     "output_type": "execute_result"
    }
   ],
   "source": [
    "0.1"
   ]
  },
  {
   "cell_type": "markdown",
   "id": "a81ae79f",
   "metadata": {},
   "source": [
    "- 그 이유는 파이썬 콘솔이나 주피터 노트북과 같은 REPL 인터페이스에서 값이 출력될 때는 편의상 일정 소수점 이하를 생략하고 보여주기 때문이다. \n",
    "- 만약 소수점 이하 55자리까지 보고 싶으면 %precision 매직(magic) 명령어를 사용한다."
   ]
  },
  {
   "cell_type": "code",
   "execution_count": 14,
   "id": "461b2206",
   "metadata": {
    "ExecuteTime": {
     "end_time": "2023-08-18T02:50:38.469274Z",
     "start_time": "2023-08-18T02:50:38.464274Z"
    }
   },
   "outputs": [
    {
     "data": {
      "text/plain": [
       "'%.55f'"
      ]
     },
     "execution_count": 14,
     "metadata": {},
     "output_type": "execute_result"
    }
   ],
   "source": [
    "# 소숫점 55자리까지 표현\n",
    "%precision 55   "
   ]
  },
  {
   "cell_type": "code",
   "execution_count": 15,
   "id": "a800e0f7",
   "metadata": {
    "ExecuteTime": {
     "end_time": "2023-08-18T02:50:49.389504Z",
     "start_time": "2023-08-18T02:50:49.375506Z"
    }
   },
   "outputs": [
    {
     "data": {
      "text/plain": [
       "0.1000000000000000055511151231257827021181583404541015625"
      ]
     },
     "execution_count": 15,
     "metadata": {},
     "output_type": "execute_result"
    }
   ],
   "source": [
    "0.1"
   ]
  },
  {
   "cell_type": "code",
   "execution_count": 16,
   "id": "87a7dca7",
   "metadata": {
    "ExecuteTime": {
     "end_time": "2023-08-18T02:51:15.352104Z",
     "start_time": "2023-08-18T02:51:15.346134Z"
    }
   },
   "outputs": [
    {
     "data": {
      "text/plain": [
       "'%r'"
      ]
     },
     "execution_count": 16,
     "metadata": {},
     "output_type": "execute_result"
    }
   ],
   "source": [
    "# 다시 원래대로 돌아가려면 다음과 같이 입력한다.\n",
    "%precision %r "
   ]
  },
  {
   "cell_type": "code",
   "execution_count": 17,
   "id": "eb24bcca",
   "metadata": {
    "ExecuteTime": {
     "end_time": "2023-08-18T02:51:21.723804Z",
     "start_time": "2023-08-18T02:51:21.708801Z"
    }
   },
   "outputs": [
    {
     "data": {
      "text/plain": [
       "0.1"
      ]
     },
     "execution_count": 17,
     "metadata": {},
     "output_type": "execute_result"
    }
   ],
   "source": [
    "0.1"
   ]
  },
  {
   "cell_type": "markdown",
   "id": "5db2efe7",
   "metadata": {},
   "source": [
    "- 이처럼 컴퓨터에서 실수를 계산할 때는 항상 미세한 오차를 가질 수 있으므로 실수의 계산을 할 때는 주의해야 한다. \n",
    "- 예를 들어 0.1+0.2=0.3 이지만 파이썬에서 비교하면 다음처럼 양변이 다르다는 결과를 보인다."
   ]
  },
  {
   "cell_type": "code",
   "execution_count": 18,
   "id": "daa47b81",
   "metadata": {
    "ExecuteTime": {
     "end_time": "2023-08-18T02:51:56.515419Z",
     "start_time": "2023-08-18T02:51:56.506451Z"
    }
   },
   "outputs": [
    {
     "data": {
      "text/plain": [
       "False"
      ]
     },
     "execution_count": 18,
     "metadata": {},
     "output_type": "execute_result"
    }
   ],
   "source": [
    "0.1 + 0.2 == 0.3"
   ]
  },
  {
   "cell_type": "code",
   "execution_count": 19,
   "id": "6f699f77",
   "metadata": {
    "ExecuteTime": {
     "end_time": "2023-08-18T02:52:04.863631Z",
     "start_time": "2023-08-18T02:52:04.850660Z"
    }
   },
   "outputs": [
    {
     "data": {
      "text/plain": [
       "0.30000000000000004"
      ]
     },
     "execution_count": 19,
     "metadata": {},
     "output_type": "execute_result"
    }
   ],
   "source": [
    "0.1 + 0.2"
   ]
  },
  {
   "cell_type": "code",
   "execution_count": 20,
   "id": "4566d63c",
   "metadata": {
    "ExecuteTime": {
     "end_time": "2023-08-18T02:52:16.134836Z",
     "start_time": "2023-08-18T02:52:16.123767Z"
    }
   },
   "outputs": [
    {
     "data": {
      "text/plain": [
       "'%.55f'"
      ]
     },
     "execution_count": 20,
     "metadata": {},
     "output_type": "execute_result"
    }
   ],
   "source": [
    "%precision 55"
   ]
  },
  {
   "cell_type": "code",
   "execution_count": 21,
   "id": "41adb617",
   "metadata": {
    "ExecuteTime": {
     "end_time": "2023-08-18T02:52:21.846971Z",
     "start_time": "2023-08-18T02:52:21.835000Z"
    }
   },
   "outputs": [
    {
     "data": {
      "text/plain": [
       "0.2999999999999999888977697537484345957636833190917968750"
      ]
     },
     "execution_count": 21,
     "metadata": {},
     "output_type": "execute_result"
    }
   ],
   "source": [
    "0.3"
   ]
  },
  {
   "cell_type": "code",
   "execution_count": 22,
   "id": "5d60ac86",
   "metadata": {
    "ExecuteTime": {
     "end_time": "2023-08-18T02:52:32.297041Z",
     "start_time": "2023-08-18T02:52:32.288060Z"
    }
   },
   "outputs": [
    {
     "data": {
      "text/plain": [
       "'%r'"
      ]
     },
     "execution_count": 22,
     "metadata": {},
     "output_type": "execute_result"
    }
   ],
   "source": [
    "%precision %r"
   ]
  },
  {
   "cell_type": "markdown",
   "id": "8de9d2e8",
   "metadata": {},
   "source": [
    "- 따라서 실수를 비교할 때는 다음과 같이 round 명령을 사용하여 유효숫자를 지정한 반올림을 한 후에 비교해야 한다. \n",
    "- round 명령은 두 번째 인수로 반올림할 소수점 이하의 유효숫자의 개수를 받는다. \n",
    "- 다음 명령은 소수점 5자리까지 비교한다."
   ]
  },
  {
   "cell_type": "code",
   "execution_count": 23,
   "id": "4e6b5644",
   "metadata": {
    "ExecuteTime": {
     "end_time": "2023-08-18T02:53:07.994111Z",
     "start_time": "2023-08-18T02:53:07.979133Z"
    }
   },
   "outputs": [
    {
     "data": {
      "text/plain": [
       "True"
      ]
     },
     "execution_count": 23,
     "metadata": {},
     "output_type": "execute_result"
    }
   ],
   "source": [
    "round(0.1 + 0.2, 5) == round(0.3, 5)"
   ]
  },
  {
   "cell_type": "markdown",
   "id": "b08733d0",
   "metadata": {},
   "source": [
    "또는"
   ]
  },
  {
   "cell_type": "code",
   "execution_count": 24,
   "id": "f685e04d",
   "metadata": {
    "ExecuteTime": {
     "end_time": "2023-08-18T02:53:16.047167Z",
     "start_time": "2023-08-18T02:53:16.031560Z"
    }
   },
   "outputs": [
    {
     "data": {
      "text/plain": [
       "True"
      ]
     },
     "execution_count": 24,
     "metadata": {},
     "output_type": "execute_result"
    }
   ],
   "source": [
    "round((0.1 + 0.2) - 0.3, 5) == 0.0"
   ]
  },
  {
   "cell_type": "markdown",
   "id": "47fb1934",
   "metadata": {},
   "source": [
    "## 자료형 변환\n",
    "- 실수를 정수로 변환하거나 정수를 실수로 변환하려면 int 명령과 float 명령을 사용한다."
   ]
  },
  {
   "cell_type": "code",
   "execution_count": 25,
   "id": "a848008f",
   "metadata": {
    "ExecuteTime": {
     "end_time": "2023-08-18T02:54:09.793133Z",
     "start_time": "2023-08-18T02:54:09.777516Z"
    }
   },
   "outputs": [
    {
     "data": {
      "text/plain": [
       "1"
      ]
     },
     "execution_count": 25,
     "metadata": {},
     "output_type": "execute_result"
    }
   ],
   "source": [
    "int(1.0)  # 실수를 정수로 변환"
   ]
  },
  {
   "cell_type": "code",
   "execution_count": 26,
   "id": "d757c366",
   "metadata": {
    "ExecuteTime": {
     "end_time": "2023-08-18T02:54:17.185040Z",
     "start_time": "2023-08-18T02:54:17.166078Z"
    }
   },
   "outputs": [
    {
     "data": {
      "text/plain": [
       "1.0"
      ]
     },
     "execution_count": 26,
     "metadata": {},
     "output_type": "execute_result"
    }
   ],
   "source": [
    "float(1)  # 정수를 실수로 변환"
   ]
  },
  {
   "cell_type": "code",
   "execution_count": 27,
   "id": "c7390f2c",
   "metadata": {
    "ExecuteTime": {
     "end_time": "2023-08-18T02:54:31.961902Z",
     "start_time": "2023-08-18T02:54:31.944925Z"
    }
   },
   "outputs": [
    {
     "data": {
      "text/plain": [
       "3"
      ]
     },
     "execution_count": 27,
     "metadata": {},
     "output_type": "execute_result"
    }
   ],
   "source": [
    "# 만약 정수형으로 변환하려는 숫자가 정확히 정수로 표현될 수 없으면 소숫점 이하의 숫자를 버린다.\n",
    "int(3.14)"
   ]
  },
  {
   "cell_type": "code",
   "execution_count": 28,
   "id": "2683ca0c",
   "metadata": {
    "ExecuteTime": {
     "end_time": "2023-08-18T02:54:39.328832Z",
     "start_time": "2023-08-18T02:54:39.323814Z"
    }
   },
   "outputs": [
    {
     "data": {
      "text/plain": [
       "3"
      ]
     },
     "execution_count": 28,
     "metadata": {},
     "output_type": "execute_result"
    }
   ],
   "source": [
    "int(3.9)"
   ]
  },
  {
   "cell_type": "code",
   "execution_count": 29,
   "id": "378bff4b",
   "metadata": {
    "ExecuteTime": {
     "end_time": "2023-08-18T02:54:44.816978Z",
     "start_time": "2023-08-18T02:54:44.807979Z"
    }
   },
   "outputs": [
    {
     "data": {
      "text/plain": [
       "-3"
      ]
     },
     "execution_count": 29,
     "metadata": {},
     "output_type": "execute_result"
    }
   ],
   "source": [
    "int(-3.9)"
   ]
  },
  {
   "cell_type": "markdown",
   "id": "a55ef109",
   "metadata": {},
   "source": [
    "## NaN과 Inf\n",
    "- IEEE 754 표준에 따른 부동소수점 자료형은 특별한 두 가지 값을 표현할 수 있다. \n",
    "- 하나가 NaN(Not a Number)이고 또 하나는 Inf(Infinity)이다. \n",
    "- NaN는 “숫자가 아닌 것”, Inf는 “무한대”를 뜻한다. \n",
    "- 파이썬에서는 다음과 같은 명령으로 표현한다."
   ]
  },
  {
   "cell_type": "code",
   "execution_count": 30,
   "id": "bbe712aa",
   "metadata": {
    "ExecuteTime": {
     "end_time": "2023-08-18T02:55:36.264223Z",
     "start_time": "2023-08-18T02:55:36.251216Z"
    }
   },
   "outputs": [
    {
     "data": {
      "text/plain": [
       "nan"
      ]
     },
     "execution_count": 30,
     "metadata": {},
     "output_type": "execute_result"
    }
   ],
   "source": [
    "float(\"NaN\")"
   ]
  },
  {
   "cell_type": "code",
   "execution_count": 31,
   "id": "4758c496",
   "metadata": {
    "ExecuteTime": {
     "end_time": "2023-08-18T02:55:41.885178Z",
     "start_time": "2023-08-18T02:55:41.875140Z"
    }
   },
   "outputs": [
    {
     "data": {
      "text/plain": [
       "inf"
      ]
     },
     "execution_count": 31,
     "metadata": {},
     "output_type": "execute_result"
    }
   ],
   "source": [
    "float(\"Inf\")"
   ]
  },
  {
   "cell_type": "code",
   "execution_count": 32,
   "id": "a4451ad3",
   "metadata": {
    "ExecuteTime": {
     "end_time": "2023-08-18T02:55:47.653890Z",
     "start_time": "2023-08-18T02:55:47.650885Z"
    }
   },
   "outputs": [
    {
     "data": {
      "text/plain": [
       "-inf"
      ]
     },
     "execution_count": 32,
     "metadata": {},
     "output_type": "execute_result"
    }
   ],
   "source": [
    "float(\"-Inf\")"
   ]
  },
  {
   "cell_type": "code",
   "execution_count": null,
   "id": "fa1ba65c",
   "metadata": {},
   "outputs": [],
   "source": []
  },
  {
   "cell_type": "markdown",
   "id": "5d5998d7",
   "metadata": {},
   "source": [
    "# 문자열(string) 자료형"
   ]
  },
  {
   "cell_type": "markdown",
   "id": "2782b914",
   "metadata": {},
   "source": [
    "## 문자열 만들기\n",
    "- 문자열은 '' (작은따옴표), \"\" (큰따옴표), '''''' (작은따옴표 3개), \"\"\"\"\"\" (큰따옴표 3개) 이들을 이용하여 하나의 문자열로 묶을 수 있다. \n",
    "- 이렇게 다양한 방법을 제공하는 이유는, 문자열 내에 따옴표가 포함될 수도 있기 때문이다. \n",
    "- ''' ''' 또는 \"\"\" \"\"\"은 여러 줄로 된 문자열을 사용할 때 이용한다. "
   ]
  },
  {
   "cell_type": "code",
   "execution_count": 33,
   "id": "68813652",
   "metadata": {
    "ExecuteTime": {
     "end_time": "2023-08-18T02:58:49.261651Z",
     "start_time": "2023-08-18T02:58:49.256650Z"
    }
   },
   "outputs": [
    {
     "name": "stdout",
     "output_type": "stream",
     "text": [
      "hello world\n",
      "hello\n",
      "I'm John\n",
      "He said \"It's good\"\n",
      "\"Do python\"\n",
      "Life is short\n",
      "do\n",
      "python\n"
     ]
    }
   ],
   "source": [
    "a = \"hello world\"\n",
    "print(a) # hello world\n",
    "\n",
    "a = 'hello'\n",
    "print(a) # hello\n",
    "\n",
    "a = \"I'm John\" \n",
    "print(a) # I'm John\n",
    "\n",
    "a = '''He said \"It's good\"'''\n",
    "print(a) # He said \"It's good\"\n",
    "\n",
    "a = '\"Do python\"'\n",
    "print(a) # \"Do python\"\n",
    "\n",
    "a = '''Life is short\n",
    "do\n",
    "python'''\n",
    "\n",
    "print(a)\n",
    "#Life is short\n",
    "#do\n",
    "#python"
   ]
  },
  {
   "cell_type": "markdown",
   "id": "d45668f8",
   "metadata": {},
   "source": [
    "여러 줄인 문자열을 이용하는 또 다른 방법은, 문자열 안에 줄 바꿈 문자인 '\\n'을 넣어주면 된다."
   ]
  },
  {
   "cell_type": "code",
   "execution_count": 36,
   "id": "8c4459f0",
   "metadata": {
    "ExecuteTime": {
     "end_time": "2023-08-18T02:59:56.120191Z",
     "start_time": "2023-08-18T02:59:56.112233Z"
    }
   },
   "outputs": [
    {
     "name": "stdout",
     "output_type": "stream",
     "text": [
      "Life is short\n",
      "do\n",
      "python\n",
      "\n",
      "Life is short\n",
      "do\n",
      "python\n"
     ]
    }
   ],
   "source": [
    "a = '''Life is short\n",
    "do\n",
    "python'''\n",
    "print(a)\n",
    "print()\n",
    "a = \"Life is short\\ndo\\npython\"\n",
    "print(a)"
   ]
  },
  {
   "cell_type": "markdown",
   "id": "477d6827",
   "metadata": {},
   "source": [
    "**이스케이프 코드(escape code)**\n",
    "- 이스케이프 코드는 프로그래밍할 때 사용할 수 있도록 미리 정의해 둔 '문자 조합'이다. "
   ]
  },
  {
   "cell_type": "markdown",
   "id": "e1536fe8",
   "metadata": {},
   "source": [
    "![제어문자](images/escape.png)"
   ]
  },
  {
   "cell_type": "markdown",
   "id": "3121963c",
   "metadata": {},
   "source": [
    "## 문자열 연산\n",
    "- 파이썬에서는 문자열을 정수처럼 더하거나 곱할 수 있다. \n",
    "- 문자열을 더한다는 의미는 두 문자열을 이어 붙인다는 의미이고, 문자열을 곱한다는 의미는 문자열 * 숫자로 나타내어 해당 숫자만큼 문자열을 이어 붙인다는 의미이다."
   ]
  },
  {
   "cell_type": "code",
   "execution_count": 37,
   "id": "292b4888",
   "metadata": {
    "ExecuteTime": {
     "end_time": "2023-08-18T03:03:00.130247Z",
     "start_time": "2023-08-18T03:03:00.112026Z"
    }
   },
   "outputs": [
    {
     "name": "stdout",
     "output_type": "stream",
     "text": [
      "pythonpython\n",
      "pythonhello\n",
      "hellopython\n",
      "pythonpythonpython\n",
      "hellopythonpythonpythonhello\n",
      "==========\n"
     ]
    }
   ],
   "source": [
    "a = \"python\"\n",
    "b = \"hello\"\n",
    "\n",
    "print(a*2) # ans : pythonpython\n",
    "\n",
    "print(a+b) # ans : pythonhello\n",
    "\n",
    "print(b+a) # ans : hellopython\n",
    "\n",
    "a = a*3\n",
    "print(a)   # ans : pythonpythonpython\n",
    "\n",
    "a = a+b\n",
    "print(b+a) # ans : hellopythonhello\n",
    "\n",
    "print('='*10) # ans : =========="
   ]
  },
  {
   "cell_type": "markdown",
   "id": "a32a80dc",
   "metadata": {},
   "source": [
    "## 문자열 인덱싱\n",
    "- 인덱싱(indexing)은 어떤 것을 '가르킨다'는 의미이다.\n",
    "- 문자열을 이루는 각각의 문자마다 위치를 나타내는 인덱스(index)가 존재한다. \n",
    "- 다른 언어들과 마찬가지로 파이썬도 시작 인덱스를 0으로 갖는다. "
   ]
  },
  {
   "cell_type": "code",
   "execution_count": 38,
   "id": "99e685e1",
   "metadata": {
    "ExecuteTime": {
     "end_time": "2023-08-18T03:09:42.100420Z",
     "start_time": "2023-08-18T03:09:42.090430Z"
    }
   },
   "outputs": [
    {
     "name": "stdout",
     "output_type": "stream",
     "text": [
      "D\n",
      " \n",
      "o\n",
      "n\n",
      "o\n"
     ]
    }
   ],
   "source": [
    "S = 'Do python'\n",
    "print(S[0]) # 'D'\n",
    "\n",
    "print(S[2]) # ' '\n",
    "\n",
    "print(S[7]) # 'o'\n",
    "\n",
    "print(S[-1]) # 'n'\n",
    "\n",
    "print(S[-2]) # 'o'"
   ]
  },
  {
   "cell_type": "markdown",
   "id": "42066ba0",
   "metadata": {},
   "source": [
    "- 인덱스에 음수를 쓰게 되면, 문자열을 뒤에서부터 읽게 된다. "
   ]
  },
  {
   "cell_type": "markdown",
   "id": "a3539623",
   "metadata": {},
   "source": [
    "## 문자열 슬라이싱\n",
    "- 슬라이싱(slicing)은 어떤 것을 '잘라낸다'라는 의미이다.\n",
    "- 형식 : 변수명[시작위치:마지막위치+1]"
   ]
  },
  {
   "cell_type": "code",
   "execution_count": 39,
   "id": "1115f4b7",
   "metadata": {
    "ExecuteTime": {
     "end_time": "2023-08-18T03:11:29.622143Z",
     "start_time": "2023-08-18T03:11:29.610141Z"
    }
   },
   "outputs": [],
   "source": [
    "s = \"helloworld\"\n",
    "s1 = s[:5]\n",
    "s2 = s[5:]\n",
    "#문자열 반으로 나누기 s1 = hello / s2 = world\n",
    "\n",
    "#문자열의 특정 문자 바꾸기\n",
    "a = s[:4] + 'a' + s[5:] # \"hellaworld\""
   ]
  },
  {
   "cell_type": "code",
   "execution_count": null,
   "id": "6705d37a",
   "metadata": {},
   "outputs": [],
   "source": []
  }
 ],
 "metadata": {
  "kernelspec": {
   "display_name": "Python 3 (ipykernel)",
   "language": "python",
   "name": "python3"
  },
  "language_info": {
   "codemirror_mode": {
    "name": "ipython",
    "version": 3
   },
   "file_extension": ".py",
   "mimetype": "text/x-python",
   "name": "python",
   "nbconvert_exporter": "python",
   "pygments_lexer": "ipython3",
   "version": "3.9.7"
  },
  "toc": {
   "base_numbering": 1,
   "nav_menu": {},
   "number_sections": true,
   "sideBar": true,
   "skip_h1_title": false,
   "title_cell": "Table of Contents",
   "title_sidebar": "Contents",
   "toc_cell": false,
   "toc_position": {
    "height": "calc(100% - 180px)",
    "left": "10px",
    "top": "150px",
    "width": "307.2px"
   },
   "toc_section_display": true,
   "toc_window_display": true
  },
  "varInspector": {
   "cols": {
    "lenName": 16,
    "lenType": 16,
    "lenVar": 40
   },
   "kernels_config": {
    "python": {
     "delete_cmd_postfix": "",
     "delete_cmd_prefix": "del ",
     "library": "var_list.py",
     "varRefreshCmd": "print(var_dic_list())"
    },
    "r": {
     "delete_cmd_postfix": ") ",
     "delete_cmd_prefix": "rm(",
     "library": "var_list.r",
     "varRefreshCmd": "cat(var_dic_list()) "
    }
   },
   "types_to_exclude": [
    "module",
    "function",
    "builtin_function_or_method",
    "instance",
    "_Feature"
   ],
   "window_display": false
  }
 },
 "nbformat": 4,
 "nbformat_minor": 5
}
