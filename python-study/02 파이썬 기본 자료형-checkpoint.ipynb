{
 "cells": [
  {
   "cell_type": "markdown",
   "id": "4fe242e3",
   "metadata": {},
   "source": [
    "# 기본 자료형\n",
    "\n",
    "\n",
    "## 정수형(integer, int)"
   ]
  },
  {
   "cell_type": "code",
   "execution_count": 70,
   "id": "89206eaa",
   "metadata": {
    "ExecuteTime": {
     "end_time": "2023-08-22T02:06:05.268011Z",
     "start_time": "2023-08-22T02:06:05.252186Z"
    }
   },
   "outputs": [
    {
     "name": "stdout",
     "output_type": "stream",
     "text": [
      "<class 'int'>\n",
      "<class 'float'>\n",
      "<class 'str'>\n"
     ]
    }
   ],
   "source": [
    "# 변수(Variable) : 변하는 수, 기억공간, 동적 자료형 == 동적 타이핑\n",
    "a = 13\n",
    "print(type(a))\n",
    "a = 3.14\n",
    "print(type(a))\n",
    "a = \"python\"\n",
    "print(type(a))"
   ]
  },
  {
   "cell_type": "markdown",
   "id": "d38ce94e",
   "metadata": {},
   "source": [
    "## 실수형(float, double)\n",
    "\n",
    "- 소숫점을 포함한 숫자 자료형\n",
    "- 지수 표현 방식대로 표현할 수 있다."
   ]
  },
  {
   "cell_type": "code",
   "execution_count": 25,
   "id": "4766d2dc",
   "metadata": {
    "ExecuteTime": {
     "end_time": "2023-08-22T01:38:47.619008Z",
     "start_time": "2023-08-22T01:38:47.610938Z"
    }
   },
   "outputs": [
    {
     "name": "stdout",
     "output_type": "stream",
     "text": [
      "2.5 -1.5\n"
     ]
    }
   ],
   "source": [
    "a = 2.5\n",
    "b = -1.5\n",
    "print(a,b) # comma(,) : 열거연산자"
   ]
  },
  {
   "cell_type": "code",
   "execution_count": 26,
   "id": "1f88e877",
   "metadata": {
    "ExecuteTime": {
     "end_time": "2023-08-22T01:38:48.157150Z",
     "start_time": "2023-08-22T01:38:48.149735Z"
    }
   },
   "outputs": [
    {
     "name": "stdout",
     "output_type": "stream",
     "text": [
      "12000000000.0 4.5e-10\n"
     ]
    }
   ],
   "source": [
    "a = 1.2E10\n",
    "b = 4.5e-10\n",
    "print(a,b)"
   ]
  },
  {
   "cell_type": "code",
   "execution_count": 27,
   "id": "d9bacb74",
   "metadata": {
    "ExecuteTime": {
     "end_time": "2023-08-22T01:38:48.770310Z",
     "start_time": "2023-08-22T01:38:48.757876Z"
    }
   },
   "outputs": [
    {
     "data": {
      "text/plain": [
       "0.1"
      ]
     },
     "execution_count": 27,
     "metadata": {},
     "output_type": "execute_result"
    }
   ],
   "source": [
    "# 실수표현시 정수부의 값이 0일 경우 생략한다.\n",
    "0.1"
   ]
  },
  {
   "cell_type": "code",
   "execution_count": 28,
   "id": "387ffb98",
   "metadata": {
    "ExecuteTime": {
     "end_time": "2023-08-22T01:38:49.060012Z",
     "start_time": "2023-08-22T01:38:49.043642Z"
    }
   },
   "outputs": [
    {
     "data": {
      "text/plain": [
       "0.1"
      ]
     },
     "execution_count": 28,
     "metadata": {},
     "output_type": "execute_result"
    }
   ],
   "source": [
    ".1"
   ]
  },
  {
   "cell_type": "code",
   "execution_count": 29,
   "id": "8637c548",
   "metadata": {
    "ExecuteTime": {
     "end_time": "2023-08-22T01:38:49.259310Z",
     "start_time": "2023-08-22T01:38:49.243555Z"
    }
   },
   "outputs": [
    {
     "data": {
      "text/plain": [
       "int"
      ]
     },
     "execution_count": 29,
     "metadata": {},
     "output_type": "execute_result"
    }
   ],
   "source": [
    "# 자료형을 확인하는 함수 type()\n",
    "type(10)"
   ]
  },
  {
   "cell_type": "code",
   "execution_count": 30,
   "id": "57662890",
   "metadata": {
    "ExecuteTime": {
     "end_time": "2023-08-22T01:38:49.459749Z",
     "start_time": "2023-08-22T01:38:49.444024Z"
    }
   },
   "outputs": [
    {
     "data": {
      "text/plain": [
       "float"
      ]
     },
     "execution_count": 30,
     "metadata": {},
     "output_type": "execute_result"
    }
   ],
   "source": [
    "type(10.0)"
   ]
  },
  {
   "cell_type": "code",
   "execution_count": 31,
   "id": "9dc07659",
   "metadata": {
    "ExecuteTime": {
     "end_time": "2023-08-22T01:38:49.926569Z",
     "start_time": "2023-08-22T01:38:49.910146Z"
    }
   },
   "outputs": [
    {
     "data": {
      "text/plain": [
       "float"
      ]
     },
     "execution_count": 31,
     "metadata": {},
     "output_type": "execute_result"
    }
   ],
   "source": [
    "type(10.12345678910112)"
   ]
  },
  {
   "cell_type": "code",
   "execution_count": 42,
   "id": "3b0b44c3",
   "metadata": {
    "ExecuteTime": {
     "end_time": "2023-08-22T01:44:12.142330Z",
     "start_time": "2023-08-22T01:44:12.132311Z"
    }
   },
   "outputs": [
    {
     "data": {
      "text/plain": [
       "'%r'"
      ]
     },
     "execution_count": 42,
     "metadata": {},
     "output_type": "execute_result"
    }
   ],
   "source": [
    "%precision %r"
   ]
  },
  {
   "cell_type": "code",
   "execution_count": null,
   "id": "81657d5a",
   "metadata": {},
   "outputs": [],
   "source": []
  },
  {
   "cell_type": "markdown",
   "id": "9056ab00",
   "metadata": {},
   "source": [
    "## 복소수형\n",
    "- $a + bi $ 로 표현한다."
   ]
  },
  {
   "cell_type": "markdown",
   "id": "5bbc74a1",
   "metadata": {},
   "source": [
    "### 부동소숫점(floating format point) 오차\n",
    "- 1보다 작은 수의 경우 십진법으로 표현하면 간단하지만 이진법으로는 무한개의 유효 숫자\n"
   ]
  },
  {
   "cell_type": "code",
   "execution_count": 39,
   "id": "266563d8",
   "metadata": {
    "ExecuteTime": {
     "end_time": "2023-08-22T01:42:24.932197Z",
     "start_time": "2023-08-22T01:42:24.923753Z"
    }
   },
   "outputs": [
    {
     "data": {
      "text/plain": [
       "0.1000000000000000055511151231257827021181583404541015625"
      ]
     },
     "execution_count": 39,
     "metadata": {},
     "output_type": "execute_result"
    }
   ],
   "source": [
    "0.1"
   ]
  },
  {
   "cell_type": "code",
   "execution_count": 36,
   "id": "68965974",
   "metadata": {
    "ExecuteTime": {
     "end_time": "2023-08-22T01:40:58.920601Z",
     "start_time": "2023-08-22T01:40:58.915180Z"
    }
   },
   "outputs": [
    {
     "data": {
      "text/plain": [
       "'%.55f'"
      ]
     },
     "execution_count": 36,
     "metadata": {},
     "output_type": "execute_result"
    }
   ],
   "source": [
    "# 매직명령어(magic command)\n",
    "## 소숫점 자릿수를 55자리까지 표현\n",
    "%precision55"
   ]
  },
  {
   "cell_type": "code",
   "execution_count": 43,
   "id": "bfcdd901",
   "metadata": {
    "ExecuteTime": {
     "end_time": "2023-08-22T01:44:38.396044Z",
     "start_time": "2023-08-22T01:44:38.389069Z"
    }
   },
   "outputs": [
    {
     "data": {
      "text/plain": [
       "False"
      ]
     },
     "execution_count": 43,
     "metadata": {},
     "output_type": "execute_result"
    }
   ],
   "source": [
    "0.1 + 0.2 == 0.3"
   ]
  },
  {
   "cell_type": "code",
   "execution_count": 41,
   "id": "c33bff69",
   "metadata": {
    "ExecuteTime": {
     "end_time": "2023-08-22T01:43:26.323697Z",
     "start_time": "2023-08-22T01:43:26.318132Z"
    }
   },
   "outputs": [
    {
     "data": {
      "text/plain": [
       "True"
      ]
     },
     "execution_count": 41,
     "metadata": {},
     "output_type": "execute_result"
    }
   ],
   "source": [
    "round(0.1 + 0.2, 5) == round(0.3, 5)"
   ]
  },
  {
   "cell_type": "code",
   "execution_count": null,
   "id": "862005f8",
   "metadata": {},
   "outputs": [],
   "source": [
    "a = 1 + 2j\n",
    "#b = 1 + 2i"
   ]
  },
  {
   "cell_type": "code",
   "execution_count": 15,
   "id": "a28e6b0b",
   "metadata": {
    "ExecuteTime": {
     "end_time": "2023-08-22T01:21:33.658612Z",
     "start_time": "2023-08-22T01:21:33.646139Z"
    }
   },
   "outputs": [
    {
     "name": "stdout",
     "output_type": "stream",
     "text": [
      "1.0\n",
      "2.0\n",
      "<built-in method conjugate of complex object at 0x0000020DA64090F0>\n"
     ]
    }
   ],
   "source": [
    "# 실수부와 허수부를 출력하는 함수\n",
    "print(a.real)\n",
    "print(a.imag)\n",
    "print(a.conjugate)"
   ]
  },
  {
   "cell_type": "code",
   "execution_count": 19,
   "id": "c83597ba",
   "metadata": {
    "ExecuteTime": {
     "end_time": "2023-08-22T01:22:59.421844Z",
     "start_time": "2023-08-22T01:22:59.412493Z"
    }
   },
   "outputs": [
    {
     "name": "stdout",
     "output_type": "stream",
     "text": [
      "(1+2j)\n"
     ]
    }
   ],
   "source": [
    "a.conjugate()\n",
    "print(a)"
   ]
  },
  {
   "cell_type": "markdown",
   "id": "d95affe7",
   "metadata": {},
   "source": [
    "## 8진수, 16진수\n",
    "- 일반적으로 사람은 10진수(0~9)\n",
    "- 컴퓨터는 2진수(0,1)\n",
    "- 8진수(0~7) : 숫자앞에 0o(숫자0 + 알파벳o or 0)\n",
    "- 16진수(0~9, a, b, c, d, e, f) : 0x"
   ]
  },
  {
   "cell_type": "code",
   "execution_count": 21,
   "id": "3dbb98ee",
   "metadata": {
    "ExecuteTime": {
     "end_time": "2023-08-22T01:28:16.461518Z",
     "start_time": "2023-08-22T01:28:16.448830Z"
    }
   },
   "outputs": [
    {
     "name": "stdout",
     "output_type": "stream",
     "text": [
      "10 52\n"
     ]
    }
   ],
   "source": [
    "x = 0o12\n",
    "y = 0x34\n",
    "print(x,y)"
   ]
  },
  {
   "cell_type": "markdown",
   "id": "daf65089",
   "metadata": {},
   "source": [
    "## 자료형 변환\n",
    "\n",
    "- casting(강제형변환, 명시적형변환)   축구공 -> 야구공 상자\n",
    "- promotion(자동형변환, 묵시적형변환)  야구공 -> 축구공 상자"
   ]
  },
  {
   "cell_type": "code",
   "execution_count": 44,
   "id": "a413b4a9",
   "metadata": {
    "ExecuteTime": {
     "end_time": "2023-08-22T01:48:12.471742Z",
     "start_time": "2023-08-22T01:48:12.463810Z"
    }
   },
   "outputs": [
    {
     "data": {
      "text/plain": [
       "1"
      ]
     },
     "execution_count": 44,
     "metadata": {},
     "output_type": "execute_result"
    }
   ],
   "source": [
    "int(1.0) # 실수를 정수로 변환"
   ]
  },
  {
   "cell_type": "code",
   "execution_count": 45,
   "id": "18aa3b2d",
   "metadata": {
    "ExecuteTime": {
     "end_time": "2023-08-22T01:48:44.767808Z",
     "start_time": "2023-08-22T01:48:44.754455Z"
    }
   },
   "outputs": [
    {
     "data": {
      "text/plain": [
       "1.0"
      ]
     },
     "execution_count": 45,
     "metadata": {},
     "output_type": "execute_result"
    }
   ],
   "source": [
    "float(1)"
   ]
  },
  {
   "cell_type": "code",
   "execution_count": 46,
   "id": "2ef198fe",
   "metadata": {
    "ExecuteTime": {
     "end_time": "2023-08-22T01:48:52.147548Z",
     "start_time": "2023-08-22T01:48:52.140572Z"
    }
   },
   "outputs": [
    {
     "data": {
      "text/plain": [
       "3"
      ]
     },
     "execution_count": 46,
     "metadata": {},
     "output_type": "execute_result"
    }
   ],
   "source": [
    "int(3.14)"
   ]
  },
  {
   "cell_type": "code",
   "execution_count": 48,
   "id": "9712f860",
   "metadata": {
    "ExecuteTime": {
     "end_time": "2023-08-22T01:49:31.169483Z",
     "start_time": "2023-08-22T01:49:31.159855Z"
    }
   },
   "outputs": [
    {
     "data": {
      "text/plain": [
       "3"
      ]
     },
     "execution_count": 48,
     "metadata": {},
     "output_type": "execute_result"
    }
   ],
   "source": [
    "int(3.98)"
   ]
  },
  {
   "cell_type": "code",
   "execution_count": 49,
   "id": "e486b707",
   "metadata": {
    "ExecuteTime": {
     "end_time": "2023-08-22T01:50:34.485518Z",
     "start_time": "2023-08-22T01:50:34.472555Z"
    }
   },
   "outputs": [],
   "source": [
    "# NaN과 Inf\n",
    "## NaN : Not a Number, 숫자가 아닌 것\n",
    "## Inf : Infinity, 무한대'"
   ]
  },
  {
   "cell_type": "code",
   "execution_count": 51,
   "id": "689c54be",
   "metadata": {
    "ExecuteTime": {
     "end_time": "2023-08-22T01:50:54.248939Z",
     "start_time": "2023-08-22T01:50:54.245858Z"
    }
   },
   "outputs": [
    {
     "data": {
      "text/plain": [
       "nan"
      ]
     },
     "execution_count": 51,
     "metadata": {},
     "output_type": "execute_result"
    }
   ],
   "source": [
    "float(\"NaN\")"
   ]
  },
  {
   "cell_type": "code",
   "execution_count": 52,
   "id": "1d17a302",
   "metadata": {
    "ExecuteTime": {
     "end_time": "2023-08-22T01:51:05.631338Z",
     "start_time": "2023-08-22T01:51:05.474022Z"
    }
   },
   "outputs": [
    {
     "ename": "ValueError",
     "evalue": "could not convert string to float: 'korea'",
     "output_type": "error",
     "traceback": [
      "\u001b[1;31m---------------------------------------------------------------------------\u001b[0m",
      "\u001b[1;31mValueError\u001b[0m                                Traceback (most recent call last)",
      "\u001b[1;32m<ipython-input-52-1cfd9c9efc21>\u001b[0m in \u001b[0;36m<module>\u001b[1;34m\u001b[0m\n\u001b[1;32m----> 1\u001b[1;33m \u001b[0mfloat\u001b[0m\u001b[1;33m(\u001b[0m\u001b[1;34m\"korea\"\u001b[0m\u001b[1;33m)\u001b[0m\u001b[1;33m\u001b[0m\u001b[1;33m\u001b[0m\u001b[0m\n\u001b[0m",
      "\u001b[1;31mValueError\u001b[0m: could not convert string to float: 'korea'"
     ]
    }
   ],
   "source": [
    "float(\"korea\")"
   ]
  },
  {
   "cell_type": "code",
   "execution_count": 53,
   "id": "58c76a7e",
   "metadata": {
    "ExecuteTime": {
     "end_time": "2023-08-22T01:51:56.894566Z",
     "start_time": "2023-08-22T01:51:56.874535Z"
    }
   },
   "outputs": [
    {
     "data": {
      "text/plain": [
       "inf"
      ]
     },
     "execution_count": 53,
     "metadata": {},
     "output_type": "execute_result"
    }
   ],
   "source": [
    "float(\"Inf\")"
   ]
  },
  {
   "cell_type": "code",
   "execution_count": 54,
   "id": "8ce1ef92",
   "metadata": {
    "ExecuteTime": {
     "end_time": "2023-08-22T01:52:11.683340Z",
     "start_time": "2023-08-22T01:52:11.671141Z"
    }
   },
   "outputs": [
    {
     "data": {
      "text/plain": [
       "-inf"
      ]
     },
     "execution_count": 54,
     "metadata": {},
     "output_type": "execute_result"
    }
   ],
   "source": [
    "float('-Inf')"
   ]
  },
  {
   "cell_type": "markdown",
   "id": "cd439a83",
   "metadata": {},
   "source": [
    "## 산술연산"
   ]
  },
  {
   "cell_type": "code",
   "execution_count": 55,
   "id": "05957360",
   "metadata": {
    "ExecuteTime": {
     "end_time": "2023-08-22T01:53:06.259471Z",
     "start_time": "2023-08-22T01:53:06.252799Z"
    }
   },
   "outputs": [
    {
     "data": {
      "text/plain": [
       "2"
      ]
     },
     "execution_count": 55,
     "metadata": {},
     "output_type": "execute_result"
    }
   ],
   "source": [
    "1 + 1"
   ]
  },
  {
   "cell_type": "markdown",
   "id": "d225a5c6",
   "metadata": {},
   "source": [
    "### 연산자(Operator)\n",
    "\n",
    "- '+', '-', '*', '/', '//', '%', '*'"
   ]
  },
  {
   "cell_type": "code",
   "execution_count": 56,
   "id": "a6db62f8",
   "metadata": {
    "ExecuteTime": {
     "end_time": "2023-08-22T01:54:42.274251Z",
     "start_time": "2023-08-22T01:54:42.259021Z"
    }
   },
   "outputs": [
    {
     "data": {
      "text/plain": [
       "55"
      ]
     },
     "execution_count": 56,
     "metadata": {},
     "output_type": "execute_result"
    }
   ],
   "source": [
    "25+30"
   ]
  },
  {
   "cell_type": "code",
   "execution_count": 57,
   "id": "cbf40152",
   "metadata": {
    "ExecuteTime": {
     "end_time": "2023-08-22T01:54:45.621814Z",
     "start_time": "2023-08-22T01:54:45.607655Z"
    }
   },
   "outputs": [
    {
     "data": {
      "text/plain": [
       "18"
      ]
     },
     "execution_count": 57,
     "metadata": {},
     "output_type": "execute_result"
    }
   ],
   "source": [
    "30-12"
   ]
  },
  {
   "cell_type": "code",
   "execution_count": 58,
   "id": "aaf7308d",
   "metadata": {
    "ExecuteTime": {
     "end_time": "2023-08-22T01:54:55.324019Z",
     "start_time": "2023-08-22T01:54:55.305786Z"
    }
   },
   "outputs": [
    {
     "data": {
      "text/plain": [
       "150"
      ]
     },
     "execution_count": 58,
     "metadata": {},
     "output_type": "execute_result"
    }
   ],
   "source": [
    "50*3"
   ]
  },
  {
   "cell_type": "code",
   "execution_count": 61,
   "id": "1663debc",
   "metadata": {
    "ExecuteTime": {
     "end_time": "2023-08-22T01:55:34.680891Z",
     "start_time": "2023-08-22T01:55:34.666894Z"
    }
   },
   "outputs": [
    {
     "data": {
      "text/plain": [
       "6.2"
      ]
     },
     "execution_count": 61,
     "metadata": {},
     "output_type": "execute_result"
    }
   ],
   "source": [
    "31/5 # 실수 몫 출력"
   ]
  },
  {
   "cell_type": "code",
   "execution_count": 60,
   "id": "755d3292",
   "metadata": {
    "ExecuteTime": {
     "end_time": "2023-08-22T01:55:22.957699Z",
     "start_time": "2023-08-22T01:55:22.951818Z"
    }
   },
   "outputs": [
    {
     "data": {
      "text/plain": [
       "6"
      ]
     },
     "execution_count": 60,
     "metadata": {},
     "output_type": "execute_result"
    }
   ],
   "source": [
    "30//5"
   ]
  },
  {
   "cell_type": "code",
   "execution_count": 62,
   "id": "b2ecd02d",
   "metadata": {
    "ExecuteTime": {
     "end_time": "2023-08-22T01:55:58.045620Z",
     "start_time": "2023-08-22T01:55:58.039523Z"
    }
   },
   "outputs": [
    {
     "name": "stdout",
     "output_type": "stream",
     "text": [
      "81\n"
     ]
    }
   ],
   "source": [
    "print(3*3*3*3)"
   ]
  },
  {
   "cell_type": "code",
   "execution_count": 63,
   "id": "7a11a651",
   "metadata": {
    "ExecuteTime": {
     "end_time": "2023-08-22T01:56:04.101976Z",
     "start_time": "2023-08-22T01:56:04.094769Z"
    }
   },
   "outputs": [
    {
     "data": {
      "text/plain": [
       "45630493019529458663775342460696105322154565208445812157160063359456332392499692197933402051896313796083494813532664680937837577588565258188667"
      ]
     },
     "execution_count": 63,
     "metadata": {},
     "output_type": "execute_result"
    }
   ],
   "source": [
    "3**299"
   ]
  },
  {
   "cell_type": "code",
   "execution_count": 64,
   "id": "48557058",
   "metadata": {
    "ExecuteTime": {
     "end_time": "2023-08-22T01:56:13.353255Z",
     "start_time": "2023-08-22T01:56:13.322518Z"
    }
   },
   "outputs": [
    {
     "data": {
      "text/plain": [
       "13965"
      ]
     },
     "execution_count": 64,
     "metadata": {},
     "output_type": "execute_result"
    }
   ],
   "source": [
    "35*399"
   ]
  },
  {
   "cell_type": "code",
   "execution_count": 65,
   "id": "514b417f",
   "metadata": {
    "ExecuteTime": {
     "end_time": "2023-08-22T01:56:27.626177Z",
     "start_time": "2023-08-22T01:56:27.620151Z"
    }
   },
   "outputs": [
    {
     "data": {
      "text/plain": [
       "2482709505775115529910763430909619663680132362060248851776123046875"
      ]
     },
     "execution_count": 65,
     "metadata": {},
     "output_type": "execute_result"
    }
   ],
   "source": [
    "35**43"
   ]
  },
  {
   "cell_type": "code",
   "execution_count": 66,
   "id": "7734fe19",
   "metadata": {
    "ExecuteTime": {
     "end_time": "2023-08-22T01:56:39.764028Z",
     "start_time": "2023-08-22T01:56:39.753065Z"
    }
   },
   "outputs": [
    {
     "data": {
      "text/plain": [
       "428344304207742567811090643126077494536164804566998734470924945575879419905483378901869391554855886358093660171120381509453365967159216692434770355277513753509546102514592483475511623464483677723450967607697906175213018934600496637755092280648030833319733113573147602992323418358726072840007637636289911567204336505584781070066960486982693099817064542519012864317844013954291173528674965658761744302424660972981339641833766493132468758031214917091315729668134061851137701082600182744455398010650282355092413646898316763032092126581685581884177860483676389018225030526206507440760256408258137912608742455137444327380809479255407978826042381115257740020751953125"
      ]
     },
     "execution_count": 66,
     "metadata": {},
     "output_type": "execute_result"
    }
   ],
   "source": [
    "45**399"
   ]
  },
  {
   "cell_type": "code",
   "execution_count": 68,
   "id": "f70a5547",
   "metadata": {
    "ExecuteTime": {
     "end_time": "2023-08-22T01:57:05.557725Z",
     "start_time": "2023-08-22T01:57:05.542451Z"
    }
   },
   "outputs": [
    {
     "data": {
      "text/plain": [
       "0.2"
      ]
     },
     "execution_count": 68,
     "metadata": {},
     "output_type": "execute_result"
    }
   ],
   "source": [
    "0.2%0.28"
   ]
  },
  {
   "cell_type": "code",
   "execution_count": 69,
   "id": "f4ff9217",
   "metadata": {
    "ExecuteTime": {
     "end_time": "2023-08-22T01:57:17.031468Z",
     "start_time": "2023-08-22T01:57:17.026080Z"
    }
   },
   "outputs": [
    {
     "data": {
      "text/plain": [
       "0"
      ]
     },
     "execution_count": 69,
     "metadata": {},
     "output_type": "execute_result"
    }
   ],
   "source": [
    "2%1  # 나머지"
   ]
  },
  {
   "cell_type": "markdown",
   "id": "07ef3f42",
   "metadata": {},
   "source": [
    "## 논리연산과 관계연산(비교)\n",
    "\n",
    "- 관계연산자 : >, >=, <, <=, !=, ==\n",
    "- 논리연산자 : &(AND), !(OR), !(NOT)\n",
    "- 연산자의 결과는 반드시 참(T, True) 또는 거짓(F, False)으로 판정"
   ]
  },
  {
   "cell_type": "markdown",
   "id": "949a3b34",
   "metadata": {},
   "source": [
    "# 변수(Variable)\n",
    "\n",
    "1. 변수명의 작성규칙\n",
    "   - 알파벳, 숫자, 밑줄(_)로 선언할 수 있다.\n",
    "   - 첫글자는 영문자 대,소문자, 밑줄(_)로 시작한다.\n",
    "   - 변수명은 의미 있는 단어로 표현하는 것이 좋다.\n",
    "   - 변수명은 대소문자가 구분된다.\n",
    "   - 길이 제한이 없다.\n",
    "   - 공백을 포함할 수 없다.\n",
    "   - 예약어는 사용할 수 없다.\n",
    "<br>\n",
    "2. 동적 타이핑(Dynamic Typing)<br>\n",
    "  - 변수의 메모리 공간을 ㄹ확보하는 행위가 실행시점에서 발생하는 것<br>\n",
    "  - 일반적으로 C나 java처럼 변수를 사용하기 전에 선언해야 하는 것은 정적 타이핑(static typing)"
   ]
  },
  {
   "cell_type": "code",
   "execution_count": 71,
   "id": "54dd475a",
   "metadata": {
    "ExecuteTime": {
     "end_time": "2023-08-22T02:20:53.136522Z",
     "start_time": "2023-08-22T02:20:53.124632Z"
    }
   },
   "outputs": [],
   "source": [
    "# 형식 : 변수 = 상수(리터널, 값), 변수, 함수 식\n",
    "pi = 3.14159265"
   ]
  },
  {
   "cell_type": "code",
   "execution_count": 72,
   "id": "0460004f",
   "metadata": {
    "ExecuteTime": {
     "end_time": "2023-08-22T02:21:03.999924Z",
     "start_time": "2023-08-22T02:21:03.989445Z"
    }
   },
   "outputs": [
    {
     "data": {
      "text/plain": [
       "3.14159265"
      ]
     },
     "execution_count": 72,
     "metadata": {},
     "output_type": "execute_result"
    }
   ],
   "source": [
    "pi"
   ]
  },
  {
   "cell_type": "code",
   "execution_count": 73,
   "id": "a42ebb90",
   "metadata": {
    "ExecuteTime": {
     "end_time": "2023-08-22T02:22:29.735381Z",
     "start_time": "2023-08-22T02:22:29.723341Z"
    }
   },
   "outputs": [
    {
     "data": {
      "text/plain": [
       "10"
      ]
     },
     "execution_count": 73,
     "metadata": {},
     "output_type": "execute_result"
    }
   ],
   "source": [
    "a = 10\n",
    "a"
   ]
  },
  {
   "cell_type": "code",
   "execution_count": 1,
   "id": "71608915",
   "metadata": {
    "ExecuteTime": {
     "end_time": "2023-08-22T02:30:47.715002Z",
     "start_time": "2023-08-22T02:30:47.706342Z"
    }
   },
   "outputs": [],
   "source": [
    "# 원주율을 이용하여 반지름이 10인 원의 넓이와 둘레를 계산하여 출력하는 프로그램\n",
    "\n",
    "## 선언문 영역, 초기화 영역 : 변수를 선언하고 변수에 처음값을 담는 영역\n",
    "pi = 3.14159265\n",
    "r = 10\n",
    "\n",
    "\n",
    "## 입력문 영역 : 변수에 값을 입력받는 영역\n",
    "\n",
    "## 처리문 영역, 명령어나 제어문을 통해 프로그램을 처리하는 영역\n",
    "\n",
    "## 출력문 영역"
   ]
  },
  {
   "cell_type": "markdown",
   "id": "01e559a8",
   "metadata": {},
   "source": [
    "## 배정대입연산자 or 복합 대입연산자\n",
    "- 기본연산자와 대입연산자(=)을 함께 사용하는 것\n",
    "- 대입연산자(=) 좌우에 동일한 변수가 주어질 때 축약형으로 구현\n",
    "연산자 종류 : +=, -=, *=, /=, %="
   ]
  },
  {
   "cell_type": "code",
   "execution_count": 2,
   "id": "9c795baf",
   "metadata": {
    "ExecuteTime": {
     "end_time": "2023-08-22T02:32:46.611519Z",
     "start_time": "2023-08-22T02:32:46.604517Z"
    }
   },
   "outputs": [
    {
     "name": "stdout",
     "output_type": "stream",
     "text": [
      "x=  10\n",
      "x =  20\n"
     ]
    }
   ],
   "source": [
    "x = 10\n",
    "print(\"x= \", x)\n",
    "\n",
    "x += 10 # x = x + 10의 의미\n",
    "print(\"x = \", x)"
   ]
  },
  {
   "cell_type": "code",
   "execution_count": 3,
   "id": "1a918b31",
   "metadata": {
    "ExecuteTime": {
     "end_time": "2023-08-22T02:34:12.037284Z",
     "start_time": "2023-08-22T02:34:12.021288Z"
    }
   },
   "outputs": [
    {
     "name": "stdout",
     "output_type": "stream",
     "text": [
      "string :  안녕하세요!!\n"
     ]
    }
   ],
   "source": [
    "# 문자열에서 '+' 연산자는 연결연산자, 문자열과 문자열을 연결할 때 사용한다.\n",
    "string = \"안녕하세요\"\n",
    "string += \"!\"\n",
    "string += \"!\"\n",
    "print(\"string : \", string)"
   ]
  },
  {
   "cell_type": "code",
   "execution_count": 5,
   "id": "b0ed527a",
   "metadata": {
    "ExecuteTime": {
     "end_time": "2023-08-22T02:37:20.736923Z",
     "start_time": "2023-08-22T02:37:20.720117Z"
    }
   },
   "outputs": [
    {
     "name": "stdout",
     "output_type": "stream",
     "text": [
      "안녕하세요\n",
      "안녕하세요안녕하세요안녕하세요\n"
     ]
    }
   ],
   "source": [
    "# answkdufdptj '*'연산자 반복연산자, 해당문자열을 주어진 반복횟수만큼 반복처리한다.\n",
    "string = \"안녕하세요\"\n",
    "print(string)\n",
    "print(string * 3)"
   ]
  },
  {
   "cell_type": "code",
   "execution_count": 2,
   "id": "ce2394ea",
   "metadata": {
    "ExecuteTime": {
     "end_time": "2023-08-22T03:06:46.041218Z",
     "start_time": "2023-08-22T03:06:46.036808Z"
    }
   },
   "outputs": [
    {
     "name": "stdout",
     "output_type": "stream",
     "text": [
      "HiHiHi\n"
     ]
    }
   ],
   "source": [
    "string = \"Hi\"\n",
    "string *= 3 # sstring = string*3의 의미를 가진다.\n",
    "print(string)"
   ]
  },
  {
   "cell_type": "markdown",
   "id": "29e9efef",
   "metadata": {},
   "source": [
    "# 문자열 자료형"
   ]
  },
  {
   "cell_type": "markdown",
   "id": "ddfc92fc",
   "metadata": {},
   "source": [
    "## 문자열 생성\n",
    "\n",
    "- 문자열은 ''(작은따옴표), \"\"(큰따옴표)\n",
    "- 여러줄로 된 문자열은 \"\"\"\"\" \"\"\"(큰따옴표 3개), ''' '''(작은따옴표 3개)"
   ]
  },
  {
   "cell_type": "code",
   "execution_count": 3,
   "id": "13a9c819",
   "metadata": {
    "ExecuteTime": {
     "end_time": "2023-08-22T03:08:29.343474Z",
     "start_time": "2023-08-22T03:08:29.338459Z"
    }
   },
   "outputs": [
    {
     "name": "stdout",
     "output_type": "stream",
     "text": [
      "hello world\n",
      "<class 'str'>\n"
     ]
    }
   ],
   "source": [
    "a = \"hello world\"\n",
    "print(a)\n",
    "print(type(a))"
   ]
  },
  {
   "cell_type": "code",
   "execution_count": 4,
   "id": "2e6f4332",
   "metadata": {
    "ExecuteTime": {
     "end_time": "2023-08-22T03:10:04.887079Z",
     "start_time": "2023-08-22T03:10:04.870575Z"
    }
   },
   "outputs": [
    {
     "name": "stdout",
     "output_type": "stream",
     "text": [
      "hello\n"
     ]
    }
   ],
   "source": [
    "b = 'hello'\n",
    "print(b)"
   ]
  },
  {
   "cell_type": "code",
   "execution_count": 6,
   "id": "70405ebe",
   "metadata": {
    "ExecuteTime": {
     "end_time": "2023-08-22T03:10:29.925905Z",
     "start_time": "2023-08-22T03:10:29.911225Z"
    }
   },
   "outputs": [
    {
     "name": "stdout",
     "output_type": "stream",
     "text": [
      "오늘은 화요일 겁나게 졸리다.!!\n"
     ]
    }
   ],
   "source": [
    "c = \"\"\"오늘은 화요일 겁나게 졸리다.!!\"\"\"\n",
    "print(c)"
   ]
  },
  {
   "cell_type": "code",
   "execution_count": 7,
   "id": "d0906359",
   "metadata": {
    "ExecuteTime": {
     "end_time": "2023-08-22T03:11:07.323771Z",
     "start_time": "2023-08-22T03:11:07.316932Z"
    }
   },
   "outputs": [
    {
     "name": "stdout",
     "output_type": "stream",
     "text": [
      "Life is short,\n",
      "You need Python.\n",
      "Good Luck\n",
      "\n"
     ]
    }
   ],
   "source": [
    "d = '''Life is short,\n",
    "You need Python.\n",
    "Good Luck\n",
    "'''\n",
    "print(d)"
   ]
  },
  {
   "cell_type": "code",
   "execution_count": 11,
   "id": "24b56c25",
   "metadata": {
    "ExecuteTime": {
     "end_time": "2023-08-22T03:12:42.837490Z",
     "start_time": "2023-08-22T03:12:42.830110Z"
    }
   },
   "outputs": [
    {
     "name": "stdout",
     "output_type": "stream",
     "text": [
      "Life is too short,\n",
      " You need Python.\n",
      " Good Luck^^\n"
     ]
    }
   ],
   "source": [
    "e = \"Life is too short,\\n You need Python.\\n Good Luck^^\"\n",
    "print(e)"
   ]
  },
  {
   "cell_type": "markdown",
   "id": "4bdd597e",
   "metadata": {},
   "source": [
    "## 문자열 연산 : +, *"
   ]
  },
  {
   "cell_type": "code",
   "execution_count": 1,
   "id": "448253c3",
   "metadata": {
    "ExecuteTime": {
     "end_time": "2023-08-22T03:16:38.895497Z",
     "start_time": "2023-08-22T03:16:38.884484Z"
    }
   },
   "outputs": [
    {
     "name": "stdout",
     "output_type": "stream",
     "text": [
      "pythonpython\n",
      "pythonhello\n",
      "==============================\n"
     ]
    }
   ],
   "source": [
    "a = 'python'\n",
    "b = 'hello'\n",
    "\n",
    "print(a * 2)\n",
    "print(a + b)\n",
    "\n",
    "print(\"=\" *30)"
   ]
  },
  {
   "cell_type": "markdown",
   "id": "6c94e4ef",
   "metadata": {},
   "source": [
    "## 문자열 인덱싱(Indexing)\n",
    "\n",
    "- 인덱싱(Indexing)은 특정위치를 가르킨다는 의미를 가진다.\n",
    "- 문자열은 일반적으로 메모리에 저장될 때 list 즉, 1차원 배열의 형태로 저장된다.\n",
    "- 각 문자는 해당 위치(인덱스 또는 색인)를 통해서 읽어올 수 있다.\n",
    "- 인덱스의 시작은 0부터 시작된다."
   ]
  },
  {
   "cell_type": "code",
   "execution_count": 2,
   "id": "1b2f951d",
   "metadata": {
    "ExecuteTime": {
     "end_time": "2023-08-22T03:18:47.446928Z",
     "start_time": "2023-08-22T03:18:47.431848Z"
    }
   },
   "outputs": [
    {
     "name": "stdout",
     "output_type": "stream",
     "text": [
      "Life is too short, You Need Python.\n"
     ]
    }
   ],
   "source": [
    "string = \"Life is too short, You Need Python.\"\n",
    "print(string)"
   ]
  },
  {
   "cell_type": "code",
   "execution_count": 3,
   "id": "17759c5c",
   "metadata": {
    "ExecuteTime": {
     "end_time": "2023-08-22T03:18:59.120464Z",
     "start_time": "2023-08-22T03:18:59.098298Z"
    }
   },
   "outputs": [
    {
     "data": {
      "text/plain": [
       "'L'"
      ]
     },
     "execution_count": 3,
     "metadata": {},
     "output_type": "execute_result"
    }
   ],
   "source": [
    "string[0]"
   ]
  },
  {
   "cell_type": "code",
   "execution_count": 4,
   "id": "ea49436a",
   "metadata": {
    "ExecuteTime": {
     "end_time": "2023-08-22T03:20:24.965189Z",
     "start_time": "2023-08-22T03:20:24.955974Z"
    }
   },
   "outputs": [
    {
     "data": {
      "text/plain": [
       "'Life'"
      ]
     },
     "execution_count": 4,
     "metadata": {},
     "output_type": "execute_result"
    }
   ],
   "source": [
    "# [인덱스]\n",
    "# [start:stop], start:stop-1까지\n",
    "string[0:4]"
   ]
  },
  {
   "cell_type": "code",
   "execution_count": 5,
   "id": "810147c4",
   "metadata": {
    "ExecuteTime": {
     "end_time": "2023-08-22T03:22:44.986549Z",
     "start_time": "2023-08-22T03:22:44.967759Z"
    }
   },
   "outputs": [
    {
     "data": {
      "text/plain": [
       "'Life'"
      ]
     },
     "execution_count": 5,
     "metadata": {},
     "output_type": "execute_result"
    }
   ],
   "source": [
    "string[:4] # 앞인덱스가 생략되면 처음부터"
   ]
  },
  {
   "cell_type": "code",
   "execution_count": 8,
   "id": "f861f929",
   "metadata": {
    "ExecuteTime": {
     "end_time": "2023-08-22T03:24:19.056821Z",
     "start_time": "2023-08-22T03:24:19.045256Z"
    }
   },
   "outputs": [
    {
     "data": {
      "text/plain": [
       "'Python'"
      ]
     },
     "execution_count": 8,
     "metadata": {},
     "output_type": "execute_result"
    }
   ],
   "source": [
    "string[-7:-1]"
   ]
  },
  {
   "cell_type": "code",
   "execution_count": 9,
   "id": "11d0f002",
   "metadata": {
    "ExecuteTime": {
     "end_time": "2023-08-22T03:24:51.246784Z",
     "start_time": "2023-08-22T03:24:51.238599Z"
    }
   },
   "outputs": [
    {
     "data": {
      "text/plain": [
       "'.'"
      ]
     },
     "execution_count": 9,
     "metadata": {},
     "output_type": "execute_result"
    }
   ],
   "source": [
    "string[-1]"
   ]
  },
  {
   "cell_type": "markdown",
   "id": "397e748f",
   "metadata": {},
   "source": [
    "## 문자열 포매팅(Formating)\n",
    "- 문자열 내의 특정 위치값을 바꾸거나 서식을 이용하여 표시할 때 사용한다.\n",
    "- 서식(format) 기호\n",
    "  1. %s : 문자열(string)\n",
    "  2. %c : 문자 1개(character)\n",
    "  3. %d : 10진정수(decimal)\n",
    "  4. %f : 실수(float)\n",
    "  5. %o : 8진수\n",
    "  6. %x : 16진수\n",
    "  7. %% : %\n",
    "  "
   ]
  },
  {
   "cell_type": "markdown",
   "id": "5931f625",
   "metadata": {},
   "source": [
    "## 문자열 관련 함수"
   ]
  },
  {
   "cell_type": "code",
   "execution_count": 10,
   "id": "0c9c20f3",
   "metadata": {
    "ExecuteTime": {
     "end_time": "2023-08-22T03:29:57.201629Z",
     "start_time": "2023-08-22T03:29:57.183022Z"
    }
   },
   "outputs": [
    {
     "data": {
      "text/plain": [
       "'aaa bbb ccc'"
      ]
     },
     "execution_count": 10,
     "metadata": {},
     "output_type": "execute_result"
    }
   ],
   "source": [
    "string = \"aaa bbb ccc\"\n",
    "string"
   ]
  },
  {
   "cell_type": "code",
   "execution_count": 11,
   "id": "425767bf",
   "metadata": {
    "ExecuteTime": {
     "end_time": "2023-08-22T03:30:06.756029Z",
     "start_time": "2023-08-22T03:30:06.747921Z"
    }
   },
   "outputs": [
    {
     "data": {
      "text/plain": [
       "['aaa', 'bbb', 'ccc']"
      ]
     },
     "execution_count": 11,
     "metadata": {},
     "output_type": "execute_result"
    }
   ],
   "source": [
    "string.split()"
   ]
  },
  {
   "cell_type": "code",
   "execution_count": 13,
   "id": "0ee50ffe",
   "metadata": {
    "ExecuteTime": {
     "end_time": "2023-08-22T03:30:28.349336Z",
     "start_time": "2023-08-22T03:30:28.336279Z"
    }
   },
   "outputs": [
    {
     "data": {
      "text/plain": [
       "['123456', 'abcdfg']"
      ]
     },
     "execution_count": 13,
     "metadata": {},
     "output_type": "execute_result"
    }
   ],
   "source": [
    "jumin = \"123456-abcdfg\"\n",
    "jumin.split('-')"
   ]
  },
  {
   "cell_type": "code",
   "execution_count": 14,
   "id": "c0277f78",
   "metadata": {
    "ExecuteTime": {
     "end_time": "2023-08-22T03:30:38.025360Z",
     "start_time": "2023-08-22T03:30:38.017069Z"
    }
   },
   "outputs": [
    {
     "data": {
      "text/plain": [
       "'abcdefg'"
      ]
     },
     "execution_count": 14,
     "metadata": {},
     "output_type": "execute_result"
    }
   ],
   "source": [
    "s = 'abcdefg'\n",
    "s"
   ]
  },
  {
   "cell_type": "code",
   "execution_count": null,
   "id": "fad1c401",
   "metadata": {},
   "outputs": [],
   "source": []
  }
 ],
 "metadata": {
  "kernelspec": {
   "display_name": "Python 3",
   "language": "python",
   "name": "python3"
  },
  "language_info": {
   "codemirror_mode": {
    "name": "ipython",
    "version": 3
   },
   "file_extension": ".py",
   "mimetype": "text/x-python",
   "name": "python",
   "nbconvert_exporter": "python",
   "pygments_lexer": "ipython3",
   "version": "3.8.8"
  },
  "toc": {
   "base_numbering": 1,
   "nav_menu": {},
   "number_sections": true,
   "sideBar": true,
   "skip_h1_title": false,
   "title_cell": "Table of Contents",
   "title_sidebar": "Contents",
   "toc_cell": false,
   "toc_position": {},
   "toc_section_display": true,
   "toc_window_display": true
  },
  "varInspector": {
   "cols": {
    "lenName": 16,
    "lenType": 16,
    "lenVar": 40
   },
   "kernels_config": {
    "python": {
     "delete_cmd_postfix": "",
     "delete_cmd_prefix": "del ",
     "library": "var_list.py",
     "varRefreshCmd": "print(var_dic_list())"
    },
    "r": {
     "delete_cmd_postfix": ") ",
     "delete_cmd_prefix": "rm(",
     "library": "var_list.r",
     "varRefreshCmd": "cat(var_dic_list()) "
    }
   },
   "types_to_exclude": [
    "module",
    "function",
    "builtin_function_or_method",
    "instance",
    "_Feature"
   ],
   "window_display": false
  }
 },
 "nbformat": 4,
 "nbformat_minor": 5
}
