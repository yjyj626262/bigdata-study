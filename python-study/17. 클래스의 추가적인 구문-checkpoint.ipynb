{
 "cells": [
  {
   "cell_type": "markdown",
   "id": "7517250d",
   "metadata": {},
   "source": [
    "# isinstance(), 클래스 변수, 클래스 함수"
   ]
  },
  {
   "cell_type": "markdown",
   "id": "4b65e00f",
   "metadata": {},
   "source": [
    "## 상속(Inheritance) : 부모클래스로부터 자녀클래스로 자원을 물려주는 것\n",
    "\n",
    "- 재활용을 극대화하는 목적으로 구현된다."
   ]
  },
  {
   "cell_type": "code",
   "execution_count": 1,
   "id": "dc4e6c50",
   "metadata": {
    "ExecuteTime": {
     "end_time": "2023-08-30T00:12:10.103159Z",
     "start_time": "2023-08-30T00:12:10.093052Z"
    }
   },
   "outputs": [],
   "source": [
    "# isinstance() : 해당 객체가 어떤 클래스로부터 만들어졌는지 확인하는 메서드\n",
    "\n",
    "class Student:\n",
    "    def __init__(self):\n",
    "        pass\n",
    "    "
   ]
  },
  {
   "cell_type": "code",
   "execution_count": 2,
   "id": "63ef58f5",
   "metadata": {
    "ExecuteTime": {
     "end_time": "2023-08-30T00:12:17.542372Z",
     "start_time": "2023-08-30T00:12:17.531886Z"
    }
   },
   "outputs": [],
   "source": [
    "student = Student()"
   ]
  },
  {
   "cell_type": "code",
   "execution_count": 3,
   "id": "58ea3eb2",
   "metadata": {
    "ExecuteTime": {
     "end_time": "2023-08-30T00:12:39.557447Z",
     "start_time": "2023-08-30T00:12:39.542994Z"
    }
   },
   "outputs": [
    {
     "name": "stdout",
     "output_type": "stream",
     "text": [
      "isinstance(student, Student) :  True\n"
     ]
    }
   ],
   "source": [
    "print('isinstance(student, Student) : ', isinstance(student, Student))"
   ]
  },
  {
   "cell_type": "code",
   "execution_count": 4,
   "id": "fc63eabd",
   "metadata": {
    "ExecuteTime": {
     "end_time": "2023-08-30T00:13:33.342629Z",
     "start_time": "2023-08-30T00:13:33.325104Z"
    }
   },
   "outputs": [],
   "source": [
    "class Student :\n",
    "    def study(self):\n",
    "        print('공부를 합니다.')\n",
    "class Teacher:\n",
    "    def teach(self):\n",
    "        print('학생을 가르칩니다.')"
   ]
  },
  {
   "cell_type": "code",
   "execution_count": 5,
   "id": "442e7c9f",
   "metadata": {
    "ExecuteTime": {
     "end_time": "2023-08-30T00:16:25.488151Z",
     "start_time": "2023-08-30T00:16:25.479432Z"
    }
   },
   "outputs": [],
   "source": [
    "# 컨테이너 : 여러개의 데이터를 담는 자료구조, 리스트, 튜플, 사전, 집합...\n",
    "classroom = [Student(), Student(), Teacher(), Teacher(), Student(), Teacher()]"
   ]
  },
  {
   "cell_type": "code",
   "execution_count": 7,
   "id": "ada9baca",
   "metadata": {
    "ExecuteTime": {
     "end_time": "2023-08-30T00:18:28.909706Z",
     "start_time": "2023-08-30T00:18:28.898523Z"
    }
   },
   "outputs": [
    {
     "name": "stdout",
     "output_type": "stream",
     "text": [
      "공부를 합니다.\n",
      "공부를 합니다.\n",
      "학생을 가르칩니다.\n",
      "학생을 가르칩니다.\n",
      "공부를 합니다.\n",
      "학생을 가르칩니다.\n"
     ]
    }
   ],
   "source": [
    "# for 개별변수 in 집합변수 :\n",
    "for obj in classroom :\n",
    "    if isinstance(obj, Student):\n",
    "        obj.study()\n",
    "    elif isinstance(obj, Teacher):\n",
    "        obj.teach()"
   ]
  },
  {
   "cell_type": "markdown",
   "id": "8db7c54b",
   "metadata": {
    "ExecuteTime": {
     "end_time": "2023-08-30T00:19:41.852217Z",
     "start_time": "2023-08-30T00:19:41.843177Z"
    }
   },
   "source": [
    "## toString() : 문자열을 반환할 목적으로 구현하는 메서드 - 자바\n",
    "- _str()__\n",
    "- __init__() : 생성자 메서드\n",
    "- __del__ : 소멸자 메서드\n",
    "- 특수한 상황에 자동으로 호출되도록 만들어진 메서드"
   ]
  },
  {
   "cell_type": "code",
   "execution_count": 4,
   "id": "0bc672a0",
   "metadata": {
    "ExecuteTime": {
     "end_time": "2023-08-30T00:34:28.250336Z",
     "start_time": "2023-08-30T00:34:28.239037Z"
    }
   },
   "outputs": [],
   "source": [
    "class Student:\n",
    "    # 멤버 필드\n",
    "    \n",
    "    # 생성자 메서드\n",
    "    def __init__(self, name, kor, eng, math):\n",
    "        self.name = name\n",
    "        self.kor = kor\n",
    "        self.eng = eng\n",
    "        self.math = math\n",
    "    \n",
    "    # 멤버 메서드 : getter(get), setter(set)\n",
    "    ## 총점을 계산하여 반환하는 메서드\n",
    "    def get_sum(self) :\n",
    "        return self.kor + self.eng + self.math\n",
    "    \n",
    "    ## 평균을 계산하여 반환하는 메서드\n",
    "    def get_average(self) :\n",
    "        return self.get_sum() /3\n",
    "    \n",
    "    ## 출력할 메서드\n",
    "    def __str__(self):\n",
    "        return \"{}\\t{}\\t{}\".format(self.name, self.get_sum(),self.get_average())\n",
    "    \n",
    "    # 특수한 목적을 가지고 있는 메서드 : 매직 메서드\n",
    "    def __eq__(self, value):\n",
    "        return self.get_sum() == value.get_sum()\n",
    "    def __ne__(self, value):\n",
    "        return self.get_sum() != value.get_sum()\n",
    "    def __gt__(self, value):\n",
    "        return self.get_sum() > value.get_sum()\n",
    "    def __ge__(self, value):\n",
    "        return self.get_sum() >= value.get_sum()\n",
    "    def __lt__(self, value):\n",
    "        return self.get_sum() < value.get_sum()\n",
    "    def __le__(self, value):\n",
    "        return self.get_sum() <= value.get_sum()\n",
    "    "
   ]
  },
  {
   "cell_type": "code",
   "execution_count": 6,
   "id": "f2619ca4",
   "metadata": {
    "ExecuteTime": {
     "end_time": "2023-08-30T00:38:22.502024Z",
     "start_time": "2023-08-30T00:38:22.479783Z"
    }
   },
   "outputs": [
    {
     "name": "stdout",
     "output_type": "stream",
     "text": [
      "이름\t총점\t평균\n",
      "aaa\t250\t83.33333333333333\n",
      "bbb\t276\t92.0\n",
      "ccc\t257\t85.66666666666667\n",
      "ddd\t256\t85.33333333333333\n",
      "eee\t248\t82.66666666666667\n"
     ]
    }
   ],
   "source": [
    "students = [\n",
    "    Student('aaa', 88, 97, 65),\n",
    "    Student('bbb', 92, 94, 90),\n",
    "    Student('ccc', 85, 88, 84),\n",
    "    Student('ddd', 79, 89, 88),\n",
    "    Student('eee', 80, 76, 92)\n",
    "]\n",
    "\n",
    "print('이름', '총점', '평균', sep = '\\t')\n",
    "for student in students:\n",
    "    print(str(student)) # student.__str__() 호출된다."
   ]
  },
  {
   "cell_type": "markdown",
   "id": "3fc59399",
   "metadata": {},
   "source": [
    "## 특수한 메서드\n",
    "- __eq__(=equal) : 같다\n",
    "- __ne__(not equl) : 다르다\n",
    "- __gt__(greater than) : 크다\n",
    "- __ge__(greater than equl) : 크거나 같다\n",
    "- __lt__(less than) : 작다\n",
    "- __le__(less than equl) : 작거나 같다"
   ]
  },
  {
   "cell_type": "code",
   "execution_count": 7,
   "id": "c0b17076",
   "metadata": {
    "ExecuteTime": {
     "end_time": "2023-08-30T00:42:49.137743Z",
     "start_time": "2023-08-30T00:42:49.125877Z"
    }
   },
   "outputs": [],
   "source": [
    "class Student:\n",
    "    # 멤버 필드\n",
    "    \n",
    "    # 생성자 메서드\n",
    "    def __init__(self, name, kor, eng, math):\n",
    "        self.name = name\n",
    "        self.kor = kor\n",
    "        self.eng = eng\n",
    "        self.math = math\n",
    "    \n",
    "    # 멤버 메서드 : getter(get), setter(set)\n",
    "    ## 총점을 계산하여 반환하는 메서드\n",
    "    def get_sum(self) :\n",
    "        return self.kor + self.eng + self.math\n",
    "    \n",
    "    ## 평균을 계산하여 반환하는 메서드\n",
    "    def get_average(self) :\n",
    "        return self.get_sum() /3\n",
    "    \n",
    "    ## 출력할 메서드\n",
    "    def __str__(self):\n",
    "        return \"{}\\t{}\\t{}\".format(self.name, self.get_sum(),self.get_average())\n",
    "    \n",
    "    # 특수한 목적을 가지고 있는 메서드 : 매직 메서드\n",
    "    def __eq__(self, value):\n",
    "        return self.get_sum() == value.get_sum()\n",
    "    def __ne__(self, value):\n",
    "        return self.get_sum() != value.get_sum()\n",
    "    def __gt__(self, value):\n",
    "        return self.get_sum() > value.get_sum()\n",
    "    def __ge__(self, value):\n",
    "        return self.get_sum() >= value.get_sum()\n",
    "    def __lt__(self, value):\n",
    "        return self.get_sum() < value.get_sum()\n",
    "    def __le__(self, value):\n",
    "        return self.get_sum() <= value.get_sum()"
   ]
  },
  {
   "cell_type": "code",
   "execution_count": 9,
   "id": "262bedb2",
   "metadata": {
    "ExecuteTime": {
     "end_time": "2023-08-30T00:44:43.318567Z",
     "start_time": "2023-08-30T00:44:43.303320Z"
    }
   },
   "outputs": [
    {
     "data": {
      "text/plain": [
       "True"
      ]
     },
     "execution_count": 9,
     "metadata": {},
     "output_type": "execute_result"
    }
   ],
   "source": [
    "stu_a = Student('aaa', 88, 97, 65)\n",
    "stu_b = Student('bbb', 92, 94, 90)\n",
    "\n",
    "stu_a < stu_b"
   ]
  },
  {
   "cell_type": "markdown",
   "id": "8ba227f5",
   "metadata": {},
   "source": [
    "## 클래스 변수와 클래스 메서드"
   ]
  },
  {
   "cell_type": "markdown",
   "id": "a64e4a5d",
   "metadata": {
    "ExecuteTime": {
     "end_time": "2023-08-30T00:46:25.790285Z",
     "start_time": "2023-08-30T00:46:25.770067Z"
    }
   },
   "source": [
    "<code>\n",
    "class 클래스이름 :\n",
    "    클래스변수 = 값\n",
    "    \n",
    "클래스이름.클래스변수\n",
    "</code>"
   ]
  },
  {
   "cell_type": "code",
   "execution_count": 15,
   "id": "58603d58",
   "metadata": {
    "ExecuteTime": {
     "end_time": "2023-08-30T00:57:59.510019Z",
     "start_time": "2023-08-30T00:57:59.496499Z"
    }
   },
   "outputs": [],
   "source": [
    "class Student:\n",
    "    # 멤버 필드 : 클래스 변수\n",
    "    count = 0 # 학생 수를 카운팅할 목적으로 사용\n",
    "    \n",
    "    \n",
    "    # 생성자 메서드\n",
    "    def __init__(self, name, kor, eng, math):\n",
    "        self.name = name\n",
    "        self.kor = kor\n",
    "        self.eng = eng\n",
    "        self.math = math\n",
    "    \n",
    "        # 클래스 변수 설정\n",
    "        Student.count += 1\n",
    "        print(\"{}번째 학생이 생성되었습니다.\".format(Student.count))\n",
    "    \n",
    "    # 멤버 메서드 : getter(get), setter(set)\n",
    "    ## 총점을 계산하여 반환하는 메서드\n",
    "    def get_sum(self) :\n",
    "        return self.kor + self.eng + self.math\n",
    "    \n",
    "    ## 평균을 계산하여 반환하는 메서드\n",
    "    def get_average(self) :\n",
    "        return self.get_sum() /3\n",
    "    \n",
    "    ## 출력할 메서드\n",
    "    def __str__(self):\n",
    "        return \"{}\\t{}\\t{}\".format(self.name, self.get_sum(),self.get_average())\n",
    "    "
   ]
  },
  {
   "cell_type": "code",
   "execution_count": 16,
   "id": "7eb54bfa",
   "metadata": {
    "ExecuteTime": {
     "end_time": "2023-08-30T00:57:59.879033Z",
     "start_time": "2023-08-30T00:57:59.863864Z"
    }
   },
   "outputs": [
    {
     "name": "stdout",
     "output_type": "stream",
     "text": [
      "1번째 학생이 생성되었습니다.\n",
      "2번째 학생이 생성되었습니다.\n",
      "3번째 학생이 생성되었습니다.\n",
      "4번째 학생이 생성되었습니다.\n",
      "5번째 학생이 생성되었습니다.\n",
      "현재 생성된 총 학생수는 5명입니다.\n"
     ]
    }
   ],
   "source": [
    "students = [\n",
    "    Student('aaa', 88, 97, 65),\n",
    "    Student('bbb', 92, 94, 90),\n",
    "    Student('ccc', 85, 88, 84),\n",
    "    Student('ddd', 79, 89, 88),\n",
    "    Student('eee', 80, 76, 92)\n",
    "]\n",
    "\n",
    "print('현재 생성된 총 학생수는 {}명입니다.'.format(Student.count))"
   ]
  },
  {
   "cell_type": "code",
   "execution_count": 14,
   "id": "98fb6365",
   "metadata": {
    "ExecuteTime": {
     "end_time": "2023-08-30T00:57:17.534117Z",
     "start_time": "2023-08-30T00:57:17.530640Z"
    }
   },
   "outputs": [],
   "source": [
    "# 클래스 함수 : 클래스가 가진 함수\n",
    "# 데코레이터(decorator) : @classmethod\n",
    "# def 함수명(self):\n",
    "# def 함수명(cls):"
   ]
  },
  {
   "cell_type": "code",
   "execution_count": 18,
   "id": "7d168f44",
   "metadata": {
    "ExecuteTime": {
     "end_time": "2023-08-30T01:07:09.632564Z",
     "start_time": "2023-08-30T01:07:09.619997Z"
    }
   },
   "outputs": [
    {
     "name": "stdout",
     "output_type": "stream",
     "text": [
      "------ 학생목록 출력 ------\n",
      "이름\t총점\t평균\n",
      "------ ----------- -------\n"
     ]
    }
   ],
   "source": [
    "class Student:\n",
    "    # 멤버 필드 : 클래스 변수\n",
    "    count = 0 # 학생 수를 카운팅할 목적으로 사용\n",
    "    students = []\n",
    "    \n",
    "    # 클래스 함수\n",
    "    @classmethod\n",
    "    def print(cls):\n",
    "        print('------ 학생목록 출력 ------')\n",
    "        print('이름', '총점', '평균', sep = '\\t')\n",
    "        for student in cls.students:\n",
    "            print(str(student)) \n",
    "        print('------ ----------- -------')\n",
    "    \n",
    "    # 생성자 메서드\n",
    "    def __init__(self, name, kor, eng, math):\n",
    "        self.name = name\n",
    "        self.kor = kor\n",
    "        self.eng = eng\n",
    "        self.math = math\n",
    "    \n",
    "    # 멤버 메서드 : getter(get), setter(set)\n",
    "    ## 총점을 계산하여 반환하는 메서드\n",
    "    def get_sum(self) :\n",
    "        return self.kor + self.eng + self.math\n",
    "    \n",
    "    ## 평균을 계산하여 반환하는 메서드\n",
    "    def get_average(self) :\n",
    "        return self.get_sum() /3\n",
    "    \n",
    "    ## 출력할 메서드\n",
    "    def __str__(self):\n",
    "        return \"{}\\t{}\\t{}\".format(self.name, self.get_sum(),self.get_average())\n",
    " \n",
    "Student('aaa', 88, 97, 65)\n",
    "Student('bbb', 92, 94, 90)\n",
    "Student('ccc', 85, 88, 84)\n",
    "Student('ddd', 79, 89, 88)\n",
    "Student('eee', 80, 76, 92)\n",
    "\n",
    "Student.print()"
   ]
  },
  {
   "cell_type": "code",
   "execution_count": null,
   "id": "0dffc0ad",
   "metadata": {},
   "outputs": [],
   "source": []
  }
 ],
 "metadata": {
  "kernelspec": {
   "display_name": "Python 3",
   "language": "python",
   "name": "python3"
  },
  "language_info": {
   "codemirror_mode": {
    "name": "ipython",
    "version": 3
   },
   "file_extension": ".py",
   "mimetype": "text/x-python",
   "name": "python",
   "nbconvert_exporter": "python",
   "pygments_lexer": "ipython3",
   "version": "3.8.8"
  },
  "toc": {
   "base_numbering": 1,
   "nav_menu": {},
   "number_sections": true,
   "sideBar": true,
   "skip_h1_title": false,
   "title_cell": "Table of Contents",
   "title_sidebar": "Contents",
   "toc_cell": false,
   "toc_position": {},
   "toc_section_display": true,
   "toc_window_display": false
  },
  "varInspector": {
   "cols": {
    "lenName": 16,
    "lenType": 16,
    "lenVar": 40
   },
   "kernels_config": {
    "python": {
     "delete_cmd_postfix": "",
     "delete_cmd_prefix": "del ",
     "library": "var_list.py",
     "varRefreshCmd": "print(var_dic_list())"
    },
    "r": {
     "delete_cmd_postfix": ") ",
     "delete_cmd_prefix": "rm(",
     "library": "var_list.r",
     "varRefreshCmd": "cat(var_dic_list()) "
    }
   },
   "types_to_exclude": [
    "module",
    "function",
    "builtin_function_or_method",
    "instance",
    "_Feature"
   ],
   "window_display": false
  }
 },
 "nbformat": 4,
 "nbformat_minor": 5
}
