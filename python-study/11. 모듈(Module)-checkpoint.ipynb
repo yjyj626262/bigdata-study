{
 "cells": [
  {
   "cell_type": "markdown",
   "id": "6f3c00f3",
   "metadata": {},
   "source": [
    "# 모듈의 정의\n",
    "\n",
    "1. 함수(Function) : 파일 내에서 자주 반복적으로 수행하는 기능이나 명령어를 묶어놓은 단위\n",
    "\n",
    "2. 모듈(Module) : 함수나 변수 또는 클래스들을 모아놓은 파이썬 파일(확장자가 py인 파일)\n",
    "  - 비슷하거나 관련된 일을 하는 함수나 상수값들을 모아서 하나의 파일에 저장하고 필요에 의해 재사용가능\n",
    "\n",
    "3.. 패키지(package) : 여러 개의 모듈을 모아놓은 디렉토리 개념\n",
    "  - 모듈 : 파일, 패키지 : 폴더"
   ]
  },
  {
   "cell_type": "markdown",
   "id": "72149d1e",
   "metadata": {
    "ExecuteTime": {
     "end_time": "2023-08-28T03:06:39.698869Z",
     "start_time": "2023-08-28T03:06:39.691688Z"
    }
   },
   "source": [
    "# 모듈을 사용하는 목적\n",
    "\n",
    "1. 코드의 재사용 : 유지보수가 쉽다\n",
    "2. 프로그램을 모듈 단위로 구현하면 작업의 효율을 높ㄷ일 수 있다.\n",
    "3. 별도의 이름공간(namespace)에 제공함으로써 동일한 이름의 여러 함수나 변수들이 각 모듈마다 독립적"
   ]
  },
  {
   "cell_type": "markdown",
   "id": "1de8284f",
   "metadata": {
    "ExecuteTime": {
     "end_time": "2023-08-28T03:06:52.352527Z",
     "start_time": "2023-08-28T03:06:52.327907Z"
    }
   },
   "source": [
    "# 모듈의 종류\n",
    "\n",
    "1. 표준모듈 : 파이썬 언어의 패키지 안에 기본적으로 제공하는 모듈  \n",
    "   ex) math, string....\n",
    "2. 사용자 정의 모듈 : 사용자에 의해 임의대로 개발된(정의된) 모듈\n",
    "\n",
    "3. 써드 파티 모듈 : 다른 업체나개인이 만들어서 제공하는 모듈  \n",
    "   ex) numpy, pandas(데이터분석), matplotlib(시각화), seaborn(시각화), scikit-learn(머신러닝), keras(딥러닝), tensorflow(딥러닝), openCV(그래픽)"
   ]
  },
  {
   "cell_type": "markdown",
   "id": "efbc7c0d",
   "metadata": {},
   "source": [
    "# 모듈의 선언\n",
    "\n",
    "1. 모듈 전체를 참조\n",
    "  import 모듈명<br>\n",
    "  import 모듈명 as 모듈의 별칭<br>\n",
    "   \n",
    "2. 모듈 내에서 필요한 부분만 참조\n",
    "  from 모듈명 import 변수 or 함수<br>\n",
    "  from 모듈명 import *<br>\n",
    "  from 모듈명 import 이름 as 별칭 <br>\n",
    "  \n",
    "3. 모듈 내부의 함수를 참조할 경우\n",
    "  모듈명.함수명()"
   ]
  },
  {
   "cell_type": "code",
   "execution_count": 3,
   "id": "8c8705d3",
   "metadata": {
    "ExecuteTime": {
     "end_time": "2023-08-28T03:07:12.169947Z",
     "start_time": "2023-08-28T03:07:12.163939Z"
    }
   },
   "outputs": [
    {
     "name": "stdout",
     "output_type": "stream",
     "text": [
      "['__doc__', '__loader__', '__name__', '__package__', '__spec__', 'acos', 'acosh', 'asin', 'asinh', 'atan', 'atan2', 'atanh', 'ceil', 'comb', 'copysign', 'cos', 'cosh', 'degrees', 'dist', 'e', 'erf', 'erfc', 'exp', 'expm1', 'fabs', 'factorial', 'floor', 'fmod', 'frexp', 'fsum', 'gamma', 'gcd', 'hypot', 'inf', 'isclose', 'isfinite', 'isinf', 'isnan', 'isqrt', 'ldexp', 'lgamma', 'log', 'log10', 'log1p', 'log2', 'modf', 'nan', 'perm', 'pi', 'pow', 'prod', 'radians', 'remainder', 'sin', 'sinh', 'sqrt', 'tan', 'tanh', 'tau', 'trunc']\n"
     ]
    }
   ],
   "source": [
    "import math\n",
    "\n",
    "# 모듈 내부에 포함된 변수나 함수 목록 출력\n",
    "print(dir(math))"
   ]
  },
  {
   "cell_type": "code",
   "execution_count": 4,
   "id": "f1cbe76b",
   "metadata": {
    "ExecuteTime": {
     "end_time": "2023-08-28T03:07:17.363993Z",
     "start_time": "2023-08-28T03:07:17.359486Z"
    }
   },
   "outputs": [
    {
     "name": "stdout",
     "output_type": "stream",
     "text": [
      "3.141592653589793\n"
     ]
    }
   ],
   "source": [
    "print(math.pi)"
   ]
  },
  {
   "cell_type": "code",
   "execution_count": 5,
   "id": "b790a42e",
   "metadata": {
    "ExecuteTime": {
     "end_time": "2023-08-28T03:07:23.422825Z",
     "start_time": "2023-08-28T03:07:23.405512Z"
    }
   },
   "outputs": [
    {
     "name": "stdout",
     "output_type": "stream",
     "text": [
      "32.0\n"
     ]
    }
   ],
   "source": [
    "print(math.pow(2, 5))"
   ]
  },
  {
   "cell_type": "code",
   "execution_count": 6,
   "id": "135aa19e",
   "metadata": {
    "ExecuteTime": {
     "end_time": "2023-08-28T03:07:28.200135Z",
     "start_time": "2023-08-28T03:07:28.193709Z"
    }
   },
   "outputs": [
    {
     "name": "stdout",
     "output_type": "stream",
     "text": [
      "hello\n"
     ]
    }
   ],
   "source": [
    "import greeting_en as en\n",
    "import greeting_ko as ko\n",
    "\n",
    "print(en.welcome())"
   ]
  },
  {
   "cell_type": "code",
   "execution_count": 10,
   "id": "1a43972b",
   "metadata": {
    "ExecuteTime": {
     "end_time": "2023-08-28T03:33:33.198397Z",
     "start_time": "2023-08-28T03:33:33.191255Z"
    }
   },
   "outputs": [
    {
     "name": "stdout",
     "output_type": "stream",
     "text": [
      "7\n",
      "7\n",
      "자료형이 일치하지 않습니다.\n",
      "None\n"
     ]
    }
   ],
   "source": [
    "from mod1 import *\n",
    "\n",
    "print(sum(3, 4))\n",
    "print(safe_sum(3,4))\n",
    "print(safe_sum('a', 4))"
   ]
  },
  {
   "cell_type": "code",
   "execution_count": 11,
   "id": "65124ab1",
   "metadata": {
    "ExecuteTime": {
     "end_time": "2023-08-28T03:40:45.585625Z",
     "start_time": "2023-08-28T03:40:45.576554Z"
    }
   },
   "outputs": [
    {
     "ename": "SyntaxError",
     "evalue": "invalid syntax (<ipython-input-11-fb4d476af28e>, line 1)",
     "output_type": "error",
     "traceback": [
      "\u001b[1;36m  File \u001b[1;32m\"<ipython-input-11-fb4d476af28e>\"\u001b[1;36m, line \u001b[1;32m1\u001b[0m\n\u001b[1;33m    from mod1 import\u001b[0m\n\u001b[1;37m                     ^\u001b[0m\n\u001b[1;31mSyntaxError\u001b[0m\u001b[1;31m:\u001b[0m invalid syntax\n"
     ]
    }
   ],
   "source": [
    "from mod1 import "
   ]
  },
  {
   "cell_type": "code",
   "execution_count": 15,
   "id": "af92ac8c",
   "metadata": {
    "ExecuteTime": {
     "end_time": "2023-08-28T03:41:20.455271Z",
     "start_time": "2023-08-28T03:41:20.443524Z"
    }
   },
   "outputs": [],
   "source": [
    "import y"
   ]
  },
  {
   "cell_type": "code",
   "execution_count": 18,
   "id": "36760a29",
   "metadata": {
    "ExecuteTime": {
     "end_time": "2023-08-28T03:45:22.061124Z",
     "start_time": "2023-08-28T03:45:22.050095Z"
    }
   },
   "outputs": [
    {
     "name": "stdout",
     "output_type": "stream",
     "text": [
      "Math 모듈이 로딩되었습니다.\n",
      "3.141592\n"
     ]
    }
   ],
   "source": [
    "import mode2\n",
    "\n",
    "print(mode2.PI)"
   ]
  },
  {
   "cell_type": "code",
   "execution_count": 1,
   "id": "6434a2ed",
   "metadata": {
    "ExecuteTime": {
     "end_time": "2023-08-28T05:02:59.396626Z",
     "start_time": "2023-08-28T05:02:59.385230Z"
    }
   },
   "outputs": [
    {
     "name": "stdout",
     "output_type": "stream",
     "text": [
      "5\n",
      "2\n"
     ]
    }
   ],
   "source": [
    "import mod1"
   ]
  },
  {
   "cell_type": "markdown",
   "id": "a790012f",
   "metadata": {},
   "source": [
    "## random 모듈"
   ]
  },
  {
   "cell_type": "code",
   "execution_count": 2,
   "id": "8d81b57c",
   "metadata": {
    "ExecuteTime": {
     "end_time": "2023-08-28T05:17:15.724874Z",
     "start_time": "2023-08-28T05:17:15.711267Z"
    }
   },
   "outputs": [
    {
     "name": "stdout",
     "output_type": "stream",
     "text": [
      "난수 :  0.6004485407279586\n"
     ]
    }
   ],
   "source": [
    "import random\n",
    "\n",
    "# random() : 0.0 ~ 1.0 사이의 실수를 리턴\n",
    "print('난수 : ', random.random())"
   ]
  },
  {
   "cell_type": "code",
   "execution_count": 4,
   "id": "c3ba620e",
   "metadata": {
    "ExecuteTime": {
     "end_time": "2023-08-28T05:18:52.878712Z",
     "start_time": "2023-08-28T05:18:52.870264Z"
    }
   },
   "outputs": [
    {
     "name": "stdout",
     "output_type": "stream",
     "text": [
      "uniform(10, 20 : ) 14.77224329988396\n"
     ]
    }
   ],
   "source": [
    "# uniform(min, max) : min ~ max 사이의 범위에서 실수를 리턴\n",
    "print('uniform(10, 20 : )', random.uniform(10, 20))"
   ]
  },
  {
   "cell_type": "code",
   "execution_count": 29,
   "id": "ca84778f",
   "metadata": {
    "ExecuteTime": {
     "end_time": "2023-08-28T05:22:00.380693Z",
     "start_time": "2023-08-28T05:22:00.359818Z"
    }
   },
   "outputs": [
    {
     "name": "stdout",
     "output_type": "stream",
     "text": [
      "randrange(10) :  9\n",
      "randrange(10, 20) :  14\n"
     ]
    }
   ],
   "source": [
    "# randrange(max) : 0부터 max사이의 난수 정수 리턴\n",
    "# radrange(min, max) : min ~ max 사이의 정수 리턴\n",
    "print('randrange(10) : ', random.randrange(10))\n",
    "print('randrange(10, 20) : ', random.randrange(10,20))"
   ]
  },
  {
   "cell_type": "code",
   "execution_count": 30,
   "id": "89c0f8ee",
   "metadata": {
    "ExecuteTime": {
     "end_time": "2023-08-28T05:23:33.197875Z",
     "start_time": "2023-08-28T05:23:33.186959Z"
    }
   },
   "outputs": [
    {
     "name": "stdout",
     "output_type": "stream",
     "text": [
      "choice([1,2,3,4,5]) :  2\n"
     ]
    }
   ],
   "source": [
    "# choice(list) : 리스트 내부에 있는 요소중 랜덤하게 선택\n",
    "print('choice([1,2,3,4,5]) : ', random.choice([1,2,3,4,5]))"
   ]
  },
  {
   "cell_type": "code",
   "execution_count": 31,
   "id": "03df6ca6",
   "metadata": {
    "ExecuteTime": {
     "end_time": "2023-08-28T05:25:00.150071Z",
     "start_time": "2023-08-28T05:25:00.136643Z"
    }
   },
   "outputs": [
    {
     "name": "stdout",
     "output_type": "stream",
     "text": [
      "sample([1,2,3,4,5], k=2) :  [4, 3]\n"
     ]
    }
   ],
   "source": [
    "# sample(list, k =갯수)\n",
    "print('sample([1,2,3,4,5], k=2) : ', random.sample([1,2,3,4,5], k=2))"
   ]
  },
  {
   "cell_type": "markdown",
   "id": "d90095cf",
   "metadata": {},
   "source": [
    "### sys(=system) 모돌"
   ]
  },
  {
   "cell_type": "code",
   "execution_count": 32,
   "id": "ed752d18",
   "metadata": {
    "ExecuteTime": {
     "end_time": "2023-08-28T05:28:55.661766Z",
     "start_time": "2023-08-28T05:28:55.650978Z"
    }
   },
   "outputs": [
    {
     "name": "stdout",
     "output_type": "stream",
     "text": [
      "['C:\\\\k_digital\\\\python Basic\\\\workspace', 'C:\\\\Anaconda3\\\\python38.zip', 'C:\\\\Anaconda3\\\\DLLs', 'C:\\\\Anaconda3\\\\lib', 'C:\\\\Anaconda3', '', 'C:\\\\Anaconda3\\\\lib\\\\site-packages', 'C:\\\\Anaconda3\\\\lib\\\\site-packages\\\\locket-0.2.1-py3.8.egg', 'C:\\\\Anaconda3\\\\lib\\\\site-packages\\\\win32', 'C:\\\\Anaconda3\\\\lib\\\\site-packages\\\\win32\\\\lib', 'C:\\\\Anaconda3\\\\lib\\\\site-packages\\\\Pythonwin', 'C:\\\\Anaconda3\\\\lib\\\\site-packages\\\\IPython\\\\extensions', 'C:\\\\Users\\\\NT551_11TH\\\\.ipython']\n"
     ]
    }
   ],
   "source": [
    "import sys\n",
    "\n",
    "print(sys.path)"
   ]
  },
  {
   "cell_type": "code",
   "execution_count": 34,
   "id": "5db3328d",
   "metadata": {
    "ExecuteTime": {
     "end_time": "2023-08-28T05:31:03.732384Z",
     "start_time": "2023-08-28T05:31:03.717300Z"
    }
   },
   "outputs": [
    {
     "ename": "AttributeError",
     "evalue": "module 'sys' has no attribute 'vesion'",
     "output_type": "error",
     "traceback": [
      "\u001b[1;31m---------------------------------------------------------------------------\u001b[0m",
      "\u001b[1;31mAttributeError\u001b[0m                            Traceback (most recent call last)",
      "\u001b[1;32m<ipython-input-34-32da7104ddf4>\u001b[0m in \u001b[0;36m<module>\u001b[1;34m\u001b[0m\n\u001b[1;32m----> 1\u001b[1;33m \u001b[0mprint\u001b[0m\u001b[1;33m(\u001b[0m\u001b[0msys\u001b[0m\u001b[1;33m.\u001b[0m\u001b[0mvesion\u001b[0m\u001b[1;33m)\u001b[0m\u001b[1;33m\u001b[0m\u001b[1;33m\u001b[0m\u001b[0m\n\u001b[0m",
      "\u001b[1;31mAttributeError\u001b[0m: module 'sys' has no attribute 'vesion'"
     ]
    }
   ],
   "source": [
    "print(sys.vesion)"
   ]
  },
  {
   "cell_type": "code",
   "execution_count": null,
   "id": "4f93820d",
   "metadata": {},
   "outputs": [],
   "source": [
    "os.remanme('original.txt', 'new.txt')"
   ]
  },
  {
   "cell_type": "code",
   "execution_count": null,
   "id": "674f4468",
   "metadata": {},
   "outputs": [],
   "source": [
    "# 파일 제거\n",
    "os.remove('new.txt')"
   ]
  },
  {
   "cell_type": "code",
   "execution_count": 35,
   "id": "5219e146",
   "metadata": {
    "ExecuteTime": {
     "end_time": "2023-08-28T05:42:56.246900Z",
     "start_time": "2023-08-28T05:42:56.239058Z"
    }
   },
   "outputs": [
    {
     "ename": "NameError",
     "evalue": "name 'os' is not defined",
     "output_type": "error",
     "traceback": [
      "\u001b[1;31m---------------------------------------------------------------------------\u001b[0m",
      "\u001b[1;31mNameError\u001b[0m                                 Traceback (most recent call last)",
      "\u001b[1;32m<ipython-input-35-fcbfebddfa65>\u001b[0m in \u001b[0;36m<module>\u001b[1;34m\u001b[0m\n\u001b[0;32m      1\u001b[0m \u001b[1;31m# 시스템 명령어 실행\u001b[0m\u001b[1;33m\u001b[0m\u001b[1;33m\u001b[0m\u001b[1;33m\u001b[0m\u001b[0m\n\u001b[1;32m----> 2\u001b[1;33m \u001b[0mos\u001b[0m\u001b[1;33m.\u001b[0m\u001b[0msystem\u001b[0m\u001b[1;33m(\u001b[0m\u001b[1;34m'dir'\u001b[0m\u001b[1;33m)\u001b[0m\u001b[1;33m\u001b[0m\u001b[1;33m\u001b[0m\u001b[0m\n\u001b[0m",
      "\u001b[1;31mNameError\u001b[0m: name 'os' is not defined"
     ]
    }
   ],
   "source": [
    "# 시스템 명령어 실행\n",
    "os.system('dir')"
   ]
  },
  {
   "cell_type": "markdown",
   "id": "4d67b759",
   "metadata": {
    "ExecuteTime": {
     "end_time": "2023-08-28T05:43:03.697441Z",
     "start_time": "2023-08-28T05:43:03.680395Z"
    }
   },
   "source": [
    "## datetime 모듈"
   ]
  },
  {
   "cell_type": "code",
   "execution_count": 37,
   "id": "b7f7483f",
   "metadata": {
    "ExecuteTime": {
     "end_time": "2023-08-28T05:43:22.820601Z",
     "start_time": "2023-08-28T05:43:22.804008Z"
    }
   },
   "outputs": [],
   "source": [
    "import datetime"
   ]
  },
  {
   "cell_type": "code",
   "execution_count": 38,
   "id": "0f9a3245",
   "metadata": {
    "ExecuteTime": {
     "end_time": "2023-08-28T05:43:56.002663Z",
     "start_time": "2023-08-28T05:43:55.995571Z"
    }
   },
   "outputs": [
    {
     "name": "stdout",
     "output_type": "stream",
     "text": [
      "2023 년\n"
     ]
    }
   ],
   "source": [
    "# 현재 시간을 추출\n",
    "now = datetime.datetime.now()\n",
    "print(now.year, '년')"
   ]
  },
  {
   "cell_type": "code",
   "execution_count": 39,
   "id": "8eedf1a3",
   "metadata": {
    "ExecuteTime": {
     "end_time": "2023-08-28T05:45:02.246453Z",
     "start_time": "2023-08-28T05:45:02.238436Z"
    }
   },
   "outputs": [
    {
     "name": "stdout",
     "output_type": "stream",
     "text": [
      "8 월\n",
      "28 일\n",
      "14 시\n",
      "43 분\n",
      "55 초\n"
     ]
    }
   ],
   "source": [
    "print(now.month, '월')\n",
    "print(now.day, '일')\n",
    "print(now.hour, '시')\n",
    "print(now.minute, '분')\n",
    "print(now.second, '초')"
   ]
  },
  {
   "cell_type": "code",
   "execution_count": 40,
   "id": "50549385",
   "metadata": {
    "ExecuteTime": {
     "end_time": "2023-08-28T05:47:59.498601Z",
     "start_time": "2023-08-28T05:47:59.489361Z"
    }
   },
   "outputs": [],
   "source": [
    "# 서식을 이용하여 날짜와 시간을 표시\n",
    "## strftime('서식')\n",
    "out = now.strftime('%Y.%m.%d %H:%M:%S')"
   ]
  },
  {
   "cell_type": "code",
   "execution_count": 41,
   "id": "a4c07859",
   "metadata": {
    "ExecuteTime": {
     "end_time": "2023-08-28T05:48:03.359621Z",
     "start_time": "2023-08-28T05:48:03.351061Z"
    }
   },
   "outputs": [
    {
     "name": "stdout",
     "output_type": "stream",
     "text": [
      "2023.08.28 14:43:55\n"
     ]
    }
   ],
   "source": [
    "print(out)"
   ]
  },
  {
   "cell_type": "code",
   "execution_count": 42,
   "id": "718f41d4",
   "metadata": {
    "ExecuteTime": {
     "end_time": "2023-08-28T05:50:31.736913Z",
     "start_time": "2023-08-28T05:50:31.718209Z"
    }
   },
   "outputs": [],
   "source": [
    "string = '{}년 {}월 {}일 {}시 {}분 {}초'.format(now.year,\\\n",
    "                                         now.month,\\\n",
    "                                         now.day,\\\n",
    "                                         now.hour,\\\n",
    "                                         now.minute,\\\n",
    "                                         now.second)"
   ]
  },
  {
   "cell_type": "code",
   "execution_count": 43,
   "id": "b6a81ed6",
   "metadata": {
    "ExecuteTime": {
     "end_time": "2023-08-28T05:50:37.173256Z",
     "start_time": "2023-08-28T05:50:37.170113Z"
    }
   },
   "outputs": [
    {
     "name": "stdout",
     "output_type": "stream",
     "text": [
      "2023년 8월 28일 14시 43분 55초\n"
     ]
    }
   ],
   "source": [
    "print(string)"
   ]
  },
  {
   "cell_type": "code",
   "execution_count": 1,
   "id": "556504fa",
   "metadata": {
    "ExecuteTime": {
     "end_time": "2023-08-28T06:12:10.850848Z",
     "start_time": "2023-08-28T06:12:10.689386Z"
    }
   },
   "outputs": [
    {
     "ename": "ImportError",
     "evalue": "cannot import name 'delta' from 'datetime' (C:\\Anaconda3\\lib\\datetime.py)",
     "output_type": "error",
     "traceback": [
      "\u001b[1;31m---------------------------------------------------------------------------\u001b[0m",
      "\u001b[1;31mImportError\u001b[0m                               Traceback (most recent call last)",
      "\u001b[1;32m<ipython-input-1-62c4c541b4d6>\u001b[0m in \u001b[0;36m<module>\u001b[1;34m\u001b[0m\n\u001b[1;32m----> 1\u001b[1;33m \u001b[1;32mfrom\u001b[0m \u001b[0mdatetime\u001b[0m \u001b[1;32mimport\u001b[0m \u001b[0mdate\u001b[0m\u001b[1;33m,\u001b[0m \u001b[0mtime\u001b[0m\u001b[1;33m,\u001b[0m \u001b[0mdatetime\u001b[0m\u001b[1;33m,\u001b[0m \u001b[0mtime\u001b[0m\u001b[1;33m,\u001b[0m\u001b[0mdelta\u001b[0m\u001b[1;33m\u001b[0m\u001b[1;33m\u001b[0m\u001b[0m\n\u001b[0m\u001b[0;32m      2\u001b[0m \u001b[1;33m\u001b[0m\u001b[0m\n\u001b[0;32m      3\u001b[0m \u001b[1;31m# today() : 오늘 날짜를 구하는 함수\u001b[0m\u001b[1;33m\u001b[0m\u001b[1;33m\u001b[0m\u001b[1;33m\u001b[0m\u001b[0m\n\u001b[0;32m      4\u001b[0m \u001b[0mtoday\u001b[0m \u001b[1;33m=\u001b[0m \u001b[0mdate\u001b[0m\u001b[1;33m.\u001b[0m\u001b[0mtoday\u001b[0m\u001b[1;33m(\u001b[0m\u001b[1;33m)\u001b[0m\u001b[1;33m\u001b[0m\u001b[1;33m\u001b[0m\u001b[0m\n",
      "\u001b[1;31mImportError\u001b[0m: cannot import name 'delta' from 'datetime' (C:\\Anaconda3\\lib\\datetime.py)"
     ]
    }
   ],
   "source": [
    "from datetime import date, time, datetime, time,delta\n",
    "\n",
    "# today() : 오늘 날짜를 구하는 함수\n",
    "today = date.today()\n"
   ]
  },
  {
   "cell_type": "code",
   "execution_count": 2,
   "id": "4c44c0d6",
   "metadata": {
    "ExecuteTime": {
     "end_time": "2023-08-28T06:12:24.429647Z",
     "start_time": "2023-08-28T06:12:24.412945Z"
    }
   },
   "outputs": [],
   "source": [
    "## time 모듈"
   ]
  },
  {
   "cell_type": "code",
   "execution_count": 2,
   "id": "3105e3ed",
   "metadata": {
    "ExecuteTime": {
     "end_time": "2023-08-28T06:17:25.225140Z",
     "start_time": "2023-08-28T06:17:25.210314Z"
    }
   },
   "outputs": [],
   "source": [
    "import time"
   ]
  },
  {
   "cell_type": "code",
   "execution_count": 3,
   "id": "80743b93",
   "metadata": {
    "ExecuteTime": {
     "end_time": "2023-08-28T06:17:30.581568Z",
     "start_time": "2023-08-28T06:17:25.557452Z"
    }
   },
   "outputs": [
    {
     "name": "stdout",
     "output_type": "stream",
     "text": [
      "지금부터 5초가 정지합니다.\n",
      "작업을 종료합니다.\n"
     ]
    }
   ],
   "source": [
    "print('지금부터 5초가 정지합니다.')\n",
    "time.sleep(5)\n",
    "print('작업을 종료합니다.')"
   ]
  },
  {
   "cell_type": "code",
   "execution_count": 5,
   "id": "5cedab61",
   "metadata": {
    "ExecuteTime": {
     "end_time": "2023-08-28T06:20:42.522825Z",
     "start_time": "2023-08-28T06:20:42.511719Z"
    }
   },
   "outputs": [
    {
     "name": "stdout",
     "output_type": "stream",
     "text": [
      "2023-08-27 15:20:42.514714\n",
      "2023-08-21 15:20:42.514714\n",
      "2023-08-18 15:20:42.514714\n"
     ]
    }
   ],
   "source": [
    "from datetime import date, time, datetime, timedelta\n",
    "\n",
    "# 오늘 날짜\n",
    "today = datetime.today()\n",
    "days = timedelta(days =-1)\n",
    "\n",
    "# 어제날짜 추출\n",
    "days = timedelta(days =-1)\n",
    "print(today + days)\n",
    "\n",
    "# 1주일 전\n",
    "days = timedelta(days =- 7)\n",
    "print(today + days)\n",
    "\n",
    "# 30일 후\n",
    "days = timedelta(days =- 10)\n",
    "print(today + days)"
   ]
  }
 ],
 "metadata": {
  "kernelspec": {
   "display_name": "Python 3",
   "language": "python",
   "name": "python3"
  },
  "language_info": {
   "codemirror_mode": {
    "name": "ipython",
    "version": 3
   },
   "file_extension": ".py",
   "mimetype": "text/x-python",
   "name": "python",
   "nbconvert_exporter": "python",
   "pygments_lexer": "ipython3",
   "version": "3.8.8"
  },
  "toc": {
   "base_numbering": 1,
   "nav_menu": {},
   "number_sections": true,
   "sideBar": false,
   "skip_h1_title": false,
   "title_cell": "Table of Contents",
   "title_sidebar": "Contents",
   "toc_cell": false,
   "toc_position": {
    "height": "590.4px",
    "left": "1311.8px",
    "top": "103.525px",
    "width": "202.6px"
   },
   "toc_section_display": true,
   "toc_window_display": true
  },
  "varInspector": {
   "cols": {
    "lenName": 16,
    "lenType": 16,
    "lenVar": 40
   },
   "kernels_config": {
    "python": {
     "delete_cmd_postfix": "",
     "delete_cmd_prefix": "del ",
     "library": "var_list.py",
     "varRefreshCmd": "print(var_dic_list())"
    },
    "r": {
     "delete_cmd_postfix": ") ",
     "delete_cmd_prefix": "rm(",
     "library": "var_list.r",
     "varRefreshCmd": "cat(var_dic_list()) "
    }
   },
   "types_to_exclude": [
    "module",
    "function",
    "builtin_function_or_method",
    "instance",
    "_Feature"
   ],
   "window_display": false
  }
 },
 "nbformat": 4,
 "nbformat_minor": 5
}
