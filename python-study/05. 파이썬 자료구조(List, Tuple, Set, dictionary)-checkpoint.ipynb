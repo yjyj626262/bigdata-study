{
 "cells": [
  {
   "cell_type": "markdown",
   "id": "f0648bdb",
   "metadata": {},
   "source": [
    "# 리스트(List)\n",
    "- 임의의 객체를 순차적으로 저장하고 집합적 자료형(시퀀스 자료형, sequence dataType)\n",
    "- 1차원 가변배열 : 크기가 정해져 있지 않은 배열\n",
    "- 각 값에 인덱스가 부여된다. (인덱스의 시작은 0부터다)\n",
    "- 값을 변경할 수 있다.\n",
    "- 생성 : []\n",
    "- 대표적인 함수 : range(), seq()\n",
    "     - range(1, 10) : 1부터 1씩 증가해서 10-1까지 순차적인 값을 생성\n",
    "     - range(10) : 0부터 시작해서 10-1까지 순차적으로 값을 생성"
   ]
  },
  {
   "cell_type": "markdown",
   "id": "134a811a",
   "metadata": {},
   "source": [
    "## 리스트 생성"
   ]
  },
  {
   "cell_type": "code",
   "execution_count": 1,
   "id": "79a106c0",
   "metadata": {
    "ExecuteTime": {
     "end_time": "2023-08-23T00:34:04.922061Z",
     "start_time": "2023-08-23T00:34:04.916442Z"
    }
   },
   "outputs": [
    {
     "name": "stdout",
     "output_type": "stream",
     "text": [
      "[]\n",
      "[]\n"
     ]
    }
   ],
   "source": [
    "# 빈리스트 생성\n",
    "a = []\n",
    "b = list()\n",
    "\n",
    "print(a)\n",
    "print(b)"
   ]
  },
  {
   "cell_type": "code",
   "execution_count": 6,
   "id": "46c93a80",
   "metadata": {
    "ExecuteTime": {
     "end_time": "2023-08-23T00:35:32.739416Z",
     "start_time": "2023-08-23T00:35:32.729242Z"
    }
   },
   "outputs": [
    {
     "name": "stdout",
     "output_type": "stream",
     "text": [
      "<class 'list'>\n",
      "<class 'list'>\n"
     ]
    }
   ],
   "source": [
    "# 자료형을 확인하는 함수\n",
    "print(type(a))\n",
    "print(type(b))"
   ]
  },
  {
   "cell_type": "code",
   "execution_count": 4,
   "id": "18cf77c2",
   "metadata": {
    "ExecuteTime": {
     "end_time": "2023-08-23T00:48:54.611740Z",
     "start_time": "2023-08-23T00:48:54.603674Z"
    }
   },
   "outputs": [
    {
     "name": "stdout",
     "output_type": "stream",
     "text": [
      "[1, 3, 5, 7, 9]\n",
      "<class 'list'>\n",
      "1\n",
      "3\n",
      "9\n",
      "9\n",
      "[10, 3, 5, 7, 9]\n",
      "[3, 5, 7]\n",
      "[10, 3, 5, 7, 9]\n"
     ]
    }
   ],
   "source": [
    "#리스트 생성\n",
    "l1 = [1, 3, 5, 7, 9]\n",
    "print(l1)\n",
    "print(type(l1))\n",
    "\n",
    "# Indexing(인덱싱) : 특정 위치의 값을 추출하는 기능, [index]\n",
    "## 리스트의 첫번째 요소\n",
    "print(l1[0])\n",
    "print(l1[1])\n",
    "print(l1[4])\n",
    "## 리버스 인덱스(reverse index) : 리스트의 마지막 인덱스를 시작값으로 처리하는 인덱스\n",
    "print(l1[-1])\n",
    "\n",
    "# 변경가능\n",
    "l1[0] = 10\n",
    "print(l1)\n",
    "\n",
    "# Slicing(슬라이싱) : 일부분의 값을 추출하는 기능, [시작위치:마지막위치], 실제추출(마지막위치 -1)\n",
    "print(l1[1:4])\n",
    "## 모든값을 생략하면 처음부터 추출\n",
    "print(l1[:])"
   ]
  },
  {
   "cell_type": "code",
   "execution_count": null,
   "id": "e5795d78",
   "metadata": {},
   "outputs": [],
   "source": []
  },
  {
   "cell_type": "code",
   "execution_count": null,
   "id": "49c47261",
   "metadata": {
    "ExecuteTime": {
     "end_time": "2023-08-22T07:43:27.210191Z",
     "start_time": "2023-08-22T07:43:27.195612Z"
    },
    "code_folding": []
   },
   "outputs": [],
   "source": [
    "# 숫자값을 담고 있는 리스트\n",
    "x = [1, 2, 3, 4, 5]\n",
    "y = ['python', 'c++', 'java']\n",
    "z = ['python', 1, -100]\n",
    "w = [1,2, [3, 4, 5]]\n",
    "k = [[1,2],[3,4,5]]"
   ]
  },
  {
   "cell_type": "code",
   "execution_count": null,
   "id": "56cc1e64",
   "metadata": {
    "ExecuteTime": {
     "end_time": "2023-08-22T07:43:29.297615Z",
     "start_time": "2023-08-22T07:43:29.289681Z"
    }
   },
   "outputs": [],
   "source": [
    "x"
   ]
  },
  {
   "cell_type": "code",
   "execution_count": null,
   "id": "f9c46ba9",
   "metadata": {
    "ExecuteTime": {
     "end_time": "2023-08-22T07:43:33.207251Z",
     "start_time": "2023-08-22T07:43:33.195002Z"
    }
   },
   "outputs": [],
   "source": [
    "y"
   ]
  },
  {
   "cell_type": "code",
   "execution_count": null,
   "id": "5dc54fd0",
   "metadata": {
    "ExecuteTime": {
     "end_time": "2023-08-22T07:43:35.073457Z",
     "start_time": "2023-08-22T07:43:35.058153Z"
    }
   },
   "outputs": [],
   "source": [
    "z"
   ]
  },
  {
   "cell_type": "code",
   "execution_count": null,
   "id": "16584543",
   "metadata": {
    "ExecuteTime": {
     "end_time": "2023-08-22T07:43:41.120628Z",
     "start_time": "2023-08-22T07:43:41.107720Z"
    }
   },
   "outputs": [],
   "source": [
    "w"
   ]
  },
  {
   "cell_type": "code",
   "execution_count": null,
   "id": "d12a17a7",
   "metadata": {},
   "outputs": [],
   "source": []
  },
  {
   "cell_type": "code",
   "execution_count": null,
   "id": "708a08fe",
   "metadata": {
    "ExecuteTime": {
     "end_time": "2023-08-22T07:44:09.009572Z",
     "start_time": "2023-08-22T07:44:08.995805Z"
    }
   },
   "outputs": [],
   "source": [
    "k"
   ]
  },
  {
   "cell_type": "code",
   "execution_count": null,
   "id": "725a1c69",
   "metadata": {
    "ExecuteTime": {
     "end_time": "2023-08-22T07:44:11.547063Z",
     "start_time": "2023-08-22T07:44:11.537958Z"
    }
   },
   "outputs": [],
   "source": [
    "k,k"
   ]
  },
  {
   "cell_type": "code",
   "execution_count": 3,
   "id": "167fc37f",
   "metadata": {
    "ExecuteTime": {
     "end_time": "2023-08-23T00:51:53.438095Z",
     "start_time": "2023-08-23T00:51:53.427004Z"
    }
   },
   "outputs": [
    {
     "ename": "NameError",
     "evalue": "name 'k' is not defined",
     "output_type": "error",
     "traceback": [
      "\u001b[1;31m---------------------------------------------------------------------------\u001b[0m",
      "\u001b[1;31mNameError\u001b[0m                                 Traceback (most recent call last)",
      "\u001b[1;32m<ipython-input-3-8e3a50187f66>\u001b[0m in \u001b[0;36m<module>\u001b[1;34m\u001b[0m\n\u001b[1;32m----> 1\u001b[1;33m \u001b[0mk\u001b[0m\u001b[1;33m+\u001b[0m\u001b[0mk\u001b[0m\u001b[1;33m\u001b[0m\u001b[1;33m\u001b[0m\u001b[0m\n\u001b[0m",
      "\u001b[1;31mNameError\u001b[0m: name 'k' is not defined"
     ]
    }
   ],
   "source": [
    "k+k"
   ]
  },
  {
   "cell_type": "code",
   "execution_count": 10,
   "id": "3382d301",
   "metadata": {
    "ExecuteTime": {
     "end_time": "2023-08-23T00:54:00.189178Z",
     "start_time": "2023-08-23T00:54:00.171460Z"
    }
   },
   "outputs": [
    {
     "name": "stdout",
     "output_type": "stream",
     "text": [
      "[1, 2, 3, ['a', 'b', 'c']]\n",
      "c\n"
     ]
    }
   ],
   "source": [
    "# 중첩 리스트 : 리스트 안에 리스트를 가지고 있는 리스트\n",
    "x = [1,2,3, ['a','b','c']]\n",
    "print(x)\n",
    "\n",
    "# 리스트[행][열]\n",
    "print(x[3][2])"
   ]
  },
  {
   "cell_type": "code",
   "execution_count": null,
   "id": "50cbddce",
   "metadata": {},
   "outputs": [],
   "source": []
  },
  {
   "cell_type": "markdown",
   "id": "5e1fc3fa",
   "metadata": {},
   "source": [
    "## 리스트 연산"
   ]
  },
  {
   "cell_type": "code",
   "execution_count": 11,
   "id": "3043b919",
   "metadata": {
    "ExecuteTime": {
     "end_time": "2023-08-23T01:09:45.542965Z",
     "start_time": "2023-08-23T01:09:45.532951Z"
    }
   },
   "outputs": [
    {
     "name": "stdout",
     "output_type": "stream",
     "text": [
      "[1, 2, 3, 4, 5]\n",
      "[3, 4, 5, 1, 2]\n",
      "[1, 2, 1, 2, 1, 2]\n",
      "[1, 2, 1, 2, 3, 4, 5, 3, 4, 5, 3, 4, 5]\n"
     ]
    }
   ],
   "source": [
    "# +와 *\n",
    "a = [1,2]\n",
    "b = [3,4,5]\n",
    "\n",
    "c = a + b # extend() [1,2,3,4,5]\n",
    "d = b + a #[3,4,5,1,2]\n",
    "\n",
    "e = a * 3 \n",
    "f = a * 2 + b * 3\n",
    "\n",
    "print(c)\n",
    "print(d)\n",
    "print(e)\n",
    "print(f)\n"
   ]
  },
  {
   "cell_type": "markdown",
   "id": "7f90a260",
   "metadata": {},
   "source": [
    "## 리스트의 인덱싱과 슬라이싱\n",
    "\n",
    "- 인덱싱(Indexing) : 특정 위치값 반환, 인덱스의 시작은 0부터, 음수일 경우 뒤에서부터\n",
    "- 슬라이싱(Slicing) : 일부분반환, 시작값:마지막값(마지막값-1)"
   ]
  },
  {
   "cell_type": "code",
   "execution_count": 12,
   "id": "59f67110",
   "metadata": {
    "ExecuteTime": {
     "end_time": "2023-08-23T01:11:19.248253Z",
     "start_time": "2023-08-23T01:11:19.236578Z"
    }
   },
   "outputs": [
    {
     "name": "stdout",
     "output_type": "stream",
     "text": [
      "[1, 2, [3, 4, 5], 'python']\n"
     ]
    }
   ],
   "source": [
    "#[index]\n",
    "a = [1, 2, [3, 4, 5], 'python']\n",
    "print(a)"
   ]
  },
  {
   "cell_type": "code",
   "execution_count": 13,
   "id": "56215a86",
   "metadata": {
    "ExecuteTime": {
     "end_time": "2023-08-23T01:11:26.536422Z",
     "start_time": "2023-08-23T01:11:26.526308Z"
    }
   },
   "outputs": [
    {
     "name": "stdout",
     "output_type": "stream",
     "text": [
      "1\n",
      "python\n",
      "[3, 4, 5]\n",
      "4\n",
      "t\n"
     ]
    }
   ],
   "source": [
    "print(a[0])\n",
    "print(a[-1]) # python\n",
    "print(a[2]) # [3,4,5]\n",
    "print(a[2][1]) # 4\n",
    "print(a[3][2]) # t\n",
    "\n"
   ]
  },
  {
   "cell_type": "code",
   "execution_count": null,
   "id": "4f20e102",
   "metadata": {
    "ExecuteTime": {
     "end_time": "2023-08-22T07:59:48.393448Z",
     "start_time": "2023-08-22T07:59:48.381133Z"
    }
   },
   "outputs": [],
   "source": [
    "# [start : stop], start시작해서 stop-1까지 처리된다.\n",
    "print(a[:2]) # start를 생략하면 처음부터 읽어온다., 0, 1\n",
    "print(a[2:])"
   ]
  },
  {
   "cell_type": "code",
   "execution_count": null,
   "id": "24680221",
   "metadata": {
    "ExecuteTime": {
     "end_time": "2023-08-22T07:59:48.393448Z",
     "start_time": "2023-08-22T07:59:48.381133Z"
    }
   },
   "outputs": [],
   "source": [
    "print(a[2][1:])"
   ]
  },
  {
   "cell_type": "markdown",
   "id": "0f49eb2b",
   "metadata": {},
   "source": [
    "## 리스트의 수정, 변경, 삭제"
   ]
  },
  {
   "cell_type": "code",
   "execution_count": 14,
   "id": "8e500e27",
   "metadata": {
    "ExecuteTime": {
     "end_time": "2023-08-23T01:13:42.313823Z",
     "start_time": "2023-08-23T01:13:42.307852Z"
    }
   },
   "outputs": [
    {
     "name": "stdout",
     "output_type": "stream",
     "text": [
      "[1, 'a', 'b', 'c', 3]\n"
     ]
    }
   ],
   "source": [
    "a = [1, 2, 3]\n",
    "a[1:2] = ['a','b','c']\n",
    "print(a)"
   ]
  },
  {
   "cell_type": "code",
   "execution_count": 15,
   "id": "1bba35cb",
   "metadata": {
    "ExecuteTime": {
     "end_time": "2023-08-23T01:14:11.228633Z",
     "start_time": "2023-08-23T01:14:11.217400Z"
    }
   },
   "outputs": [
    {
     "name": "stdout",
     "output_type": "stream",
     "text": [
      "a :  [10, 2, 3, 4, 5]\n",
      "b :  [10, 2, 3, 4, 5]\n"
     ]
    }
   ],
   "source": [
    "# 파이썬의 메모리 관리 방식\n",
    "# 리스트(List) 1차원 배열\n",
    "## 깊은복사와 얕은복사\n",
    "a = [1,2,3,4,5]\n",
    "b = a # a가 가릐는 것은 주소, b는 a의 주소를 참조(얕은복사)\n",
    "b[0] = 10  ## 둘다 바뀜\n",
    "\n",
    "print(\"a : \", a)\n",
    "print(\"b : \", b)"
   ]
  },
  {
   "cell_type": "code",
   "execution_count": null,
   "id": "c5824900",
   "metadata": {
    "ExecuteTime": {
     "end_time": "2023-08-22T08:12:57.913273Z",
     "start_time": "2023-08-22T08:12:57.896531Z"
    }
   },
   "outputs": [],
   "source": [
    "# id( ) : 주소를 반환하는 함수\n",
    "print(id(a))\n",
    "print(id(b))\n"
   ]
  },
  {
   "cell_type": "code",
   "execution_count": 16,
   "id": "75c229f0",
   "metadata": {
    "ExecuteTime": {
     "end_time": "2023-08-23T01:14:51.116048Z",
     "start_time": "2023-08-23T01:14:51.103597Z"
    }
   },
   "outputs": [
    {
     "name": "stdout",
     "output_type": "stream",
     "text": [
      "a :  [1, 2, 3, 4, 5]\n",
      "b :  [10, 2, 3, 4, 5]\n",
      "1949657640128\n",
      "1949657706752\n"
     ]
    }
   ],
   "source": [
    "a = [1,2,3,4,5]\n",
    "b = a[:] # 주소가 아니라 값을 복사 (깊은 복사)\n",
    "\n",
    "b[0]= 10\n",
    "print(\"a : \", a)\n",
    "print(\"b : \", b)\n",
    "\n",
    "print(id(a))\n",
    "print(id(b))"
   ]
  },
  {
   "cell_type": "code",
   "execution_count": null,
   "id": "c4bc9503",
   "metadata": {
    "ExecuteTime": {
     "end_time": "2023-08-22T08:15:37.774303Z",
     "start_time": "2023-08-22T08:15:37.756709Z"
    }
   },
   "outputs": [],
   "source": [
    "# 삭제\n",
    "a = [1, 2, 3]\n",
    "a[1] = []\n",
    "print(a)"
   ]
  },
  {
   "cell_type": "code",
   "execution_count": null,
   "id": "b35f1cfe",
   "metadata": {
    "ExecuteTime": {
     "end_time": "2023-08-22T08:16:21.598653Z",
     "start_time": "2023-08-22T08:16:21.589855Z"
    }
   },
   "outputs": [],
   "source": [
    "a[1:2] =[]\n",
    "print(a)"
   ]
  },
  {
   "cell_type": "code",
   "execution_count": 17,
   "id": "22cadb1b",
   "metadata": {
    "ExecuteTime": {
     "end_time": "2023-08-23T01:16:12.792603Z",
     "start_time": "2023-08-23T01:16:12.774535Z"
    }
   },
   "outputs": [
    {
     "name": "stdout",
     "output_type": "stream",
     "text": [
      "[1, 3]\n"
     ]
    }
   ],
   "source": [
    "a = [1,2,3]\n",
    "# del 명령어\n",
    "del a[1]\n",
    "print(a)"
   ]
  },
  {
   "cell_type": "code",
   "execution_count": null,
   "id": "c74c0098",
   "metadata": {
    "ExecuteTime": {
     "end_time": "2023-08-22T08:18:16.195567Z",
     "start_time": "2023-08-22T08:18:16.187955Z"
    }
   },
   "outputs": [],
   "source": [
    "a = [1,2,3,4,5]\n",
    "del a[1:3]\n",
    "print(a)"
   ]
  },
  {
   "cell_type": "markdown",
   "id": "2e5365d1",
   "metadata": {},
   "source": [
    "## 리스트 관련 함수"
   ]
  },
  {
   "cell_type": "code",
   "execution_count": 18,
   "id": "4094979b",
   "metadata": {
    "ExecuteTime": {
     "end_time": "2023-08-23T01:17:31.038842Z",
     "start_time": "2023-08-23T01:17:31.034188Z"
    }
   },
   "outputs": [
    {
     "name": "stdout",
     "output_type": "stream",
     "text": [
      "[1, 2, 3, 4, 5, 6]\n"
     ]
    }
   ],
   "source": [
    "# append() : 리스트의 맨 뒤에 추가\n",
    "a = [1,2,3,4,5]\n",
    "a.append(6)\n",
    "print(a)"
   ]
  },
  {
   "cell_type": "code",
   "execution_count": null,
   "id": "b70c7ebe",
   "metadata": {
    "ExecuteTime": {
     "end_time": "2023-08-22T08:20:11.661498Z",
     "start_time": "2023-08-22T08:20:11.651523Z"
    }
   },
   "outputs": [],
   "source": [
    "a = [1,2]\n",
    "b = [3, 4, 5]\n",
    "print(a + b)"
   ]
  },
  {
   "cell_type": "code",
   "execution_count": null,
   "id": "2f92f8d9",
   "metadata": {
    "ExecuteTime": {
     "end_time": "2023-08-22T08:20:49.913905Z",
     "start_time": "2023-08-22T08:20:49.906880Z"
    }
   },
   "outputs": [],
   "source": [
    "a.append([3, 4, 5]) # 중첩 리스트\n",
    "print(a)"
   ]
  },
  {
   "cell_type": "code",
   "execution_count": 19,
   "id": "1bc57615",
   "metadata": {
    "ExecuteTime": {
     "end_time": "2023-08-23T01:19:04.014952Z",
     "start_time": "2023-08-23T01:19:04.000429Z"
    }
   },
   "outputs": [
    {
     "name": "stdout",
     "output_type": "stream",
     "text": [
      "[1, 2, 3, 4, 5]\n"
     ]
    }
   ],
   "source": [
    "# extend : 리스트의 뒤에 여러개의 값을 추가하는 함수\n",
    "a = [1,2]\n",
    "a.extend([3,4,5])\n",
    "print(a)"
   ]
  },
  {
   "cell_type": "code",
   "execution_count": null,
   "id": "705e2c96",
   "metadata": {
    "ExecuteTime": {
     "end_time": "2023-08-22T08:24:03.221772Z",
     "start_time": "2023-08-22T08:24:03.206146Z"
    }
   },
   "outputs": [],
   "source": [
    "# sum : 합계\n",
    "a = [1,2,3,4,5]\n",
    "print(sum(a))"
   ]
  },
  {
   "cell_type": "code",
   "execution_count": null,
   "id": "bae2076c",
   "metadata": {
    "ExecuteTime": {
     "end_time": "2023-08-22T08:24:38.945310Z",
     "start_time": "2023-08-22T08:24:38.934320Z"
    }
   },
   "outputs": [],
   "source": [
    "# max/min : 최대값과 최소값을 반환\n",
    "print(max(a))\n",
    "print(min(a))"
   ]
  },
  {
   "cell_type": "code",
   "execution_count": null,
   "id": "1c08e3ae",
   "metadata": {
    "ExecuteTime": {
     "end_time": "2023-08-22T08:25:11.147588Z",
     "start_time": "2023-08-22T08:25:11.142093Z"
    }
   },
   "outputs": [],
   "source": [
    "# len() : 원소의 개수 반환, 튜플, 사전\n",
    "print(len(a))"
   ]
  },
  {
   "cell_type": "code",
   "execution_count": 25,
   "id": "81d9574a",
   "metadata": {
    "ExecuteTime": {
     "end_time": "2023-08-23T01:22:06.412483Z",
     "start_time": "2023-08-23T01:22:06.396535Z"
    }
   },
   "outputs": [
    {
     "name": "stdout",
     "output_type": "stream",
     "text": [
      "[1, 3, 2, 4, 5]\n",
      "None\n",
      "None\n"
     ]
    }
   ],
   "source": [
    "# sort() : 오름차순정렬\n",
    "# sort(reverse=True) : 내림차순\n",
    "a = [1, 3, 2, 4, 5]\n",
    "print(a)\n",
    "print(a.sort())\n",
    "print(a.sort(reverse=True))"
   ]
  },
  {
   "cell_type": "code",
   "execution_count": 30,
   "id": "f1174a5c",
   "metadata": {
    "ExecuteTime": {
     "end_time": "2023-08-23T01:23:37.473394Z",
     "start_time": "2023-08-23T01:23:37.469565Z"
    }
   },
   "outputs": [
    {
     "name": "stdout",
     "output_type": "stream",
     "text": [
      "[5, 4, 2, 3, 1]\n"
     ]
    }
   ],
   "source": [
    "a = [1,3,2,4,5]\n",
    "# reverse() : 리스트를 역순으로 뒤집는 함수\n",
    "a.reverse()\n",
    "print(a)"
   ]
  },
  {
   "cell_type": "code",
   "execution_count": 21,
   "id": "14ce222a",
   "metadata": {
    "ExecuteTime": {
     "end_time": "2023-08-23T01:20:27.650750Z",
     "start_time": "2023-08-23T01:20:27.643919Z"
    }
   },
   "outputs": [
    {
     "name": "stdout",
     "output_type": "stream",
     "text": [
      "[1, 2, 3, 4, 5]\n"
     ]
    }
   ],
   "source": [
    "a.sort()\n",
    "print(a)"
   ]
  },
  {
   "cell_type": "code",
   "execution_count": 22,
   "id": "25f6f06e",
   "metadata": {
    "ExecuteTime": {
     "end_time": "2023-08-23T01:20:29.971535Z",
     "start_time": "2023-08-23T01:20:29.967317Z"
    }
   },
   "outputs": [
    {
     "name": "stdout",
     "output_type": "stream",
     "text": [
      "[5, 4, 3, 2, 1]\n"
     ]
    }
   ],
   "source": [
    "a.sort(reverse=True)\n",
    "print(a)"
   ]
  },
  {
   "cell_type": "code",
   "execution_count": 23,
   "id": "9aad6935",
   "metadata": {
    "ExecuteTime": {
     "end_time": "2023-08-23T01:21:48.476195Z",
     "start_time": "2023-08-23T01:21:48.467753Z"
    }
   },
   "outputs": [
    {
     "name": "stdout",
     "output_type": "stream",
     "text": [
      "[1, 3, 4, 5]\n"
     ]
    }
   ],
   "source": [
    "# remove : 값을 삭제하는 함수\n",
    "a=[1,2,3,4,5]\n",
    "a.remove(2)\n",
    "print(a)"
   ]
  },
  {
   "cell_type": "code",
   "execution_count": 40,
   "id": "94dea60c",
   "metadata": {
    "ExecuteTime": {
     "end_time": "2023-08-23T01:28:20.178371Z",
     "start_time": "2023-08-23T01:28:20.168024Z"
    }
   },
   "outputs": [
    {
     "name": "stdout",
     "output_type": "stream",
     "text": [
      "[1, 2, 1, 2]\n"
     ]
    }
   ],
   "source": [
    "# 리스트 요소를 삭제하는 remove 함수는 첫번째 나오는 값을 삭제한다.\n",
    "a = [1,2,3,1,2,3]\n",
    "for i in range(a.count(3)) : \n",
    "     a.remove(3)\n",
    "\n",
    "print(a)"
   ]
  },
  {
   "cell_type": "code",
   "execution_count": null,
   "id": "503d22be",
   "metadata": {
    "ExecuteTime": {
     "end_time": "2023-08-22T08:29:04.160033Z",
     "start_time": "2023-08-22T08:29:04.144350Z"
    }
   },
   "outputs": [],
   "source": [
    "a"
   ]
  },
  {
   "cell_type": "code",
   "execution_count": null,
   "id": "c1974b86",
   "metadata": {
    "ExecuteTime": {
     "end_time": "2023-08-22T08:34:10.947624Z",
     "start_time": "2023-08-22T08:34:10.939532Z"
    }
   },
   "outputs": [],
   "source": [
    "# pop() : 마지막에 입력된 값을 추출\n",
    "a = [1,2,3,4,5]\n",
    "b = a.pop()\n",
    "print(a, b)"
   ]
  },
  {
   "cell_type": "code",
   "execution_count": null,
   "id": "c2c6b205",
   "metadata": {
    "ExecuteTime": {
     "end_time": "2023-08-22T08:31:10.498169Z",
     "start_time": "2023-08-22T08:31:10.492583Z"
    }
   },
   "outputs": [],
   "source": [
    "# pop(index)\n",
    "a.pop(0)"
   ]
  },
  {
   "cell_type": "code",
   "execution_count": null,
   "id": "7f7debe1",
   "metadata": {
    "ExecuteTime": {
     "end_time": "2023-08-22T08:31:21.595622Z",
     "start_time": "2023-08-22T08:31:21.578238Z"
    }
   },
   "outputs": [],
   "source": [
    "print(a)"
   ]
  },
  {
   "cell_type": "code",
   "execution_count": null,
   "id": "a8f9b2e8",
   "metadata": {
    "ExecuteTime": {
     "end_time": "2023-08-22T08:32:21.417374Z",
     "start_time": "2023-08-22T08:32:21.406146Z"
    }
   },
   "outputs": [],
   "source": [
    "# clear() : 리스트의 모든 요소 제거\n",
    "a = [1,2,3,4,5]\n",
    "print(a)\n",
    "a.clear()\n",
    "print(a)"
   ]
  },
  {
   "cell_type": "code",
   "execution_count": null,
   "id": "16eca8e8",
   "metadata": {
    "ExecuteTime": {
     "end_time": "2023-08-22T08:34:46.443010Z",
     "start_time": "2023-08-22T08:34:46.426975Z"
    }
   },
   "outputs": [],
   "source": [
    "a = [1,1,2,2,2,3,3,3,3,4,4,4,4,4,5]\n",
    "a.count(5)"
   ]
  },
  {
   "cell_type": "markdown",
   "id": "0dad31a0",
   "metadata": {},
   "source": [
    "# 튜플(Tuple)\n",
    "\n",
    "- 리스트와 유사한 자료구조 유일하게 다른 점은 변경이 불가능하다.\n",
    "- 읽기전용 자료를 보관할 때 사용\n",
    "- 각 값에 인덱스가 부여된다.\n",
    "- 생성 : (), tuple()\n",
    "- 리스트관련함수도 함께 사용가능"
   ]
  },
  {
   "cell_type": "markdown",
   "id": "1b19de13",
   "metadata": {},
   "source": [
    "## 튜플 생성"
   ]
  },
  {
   "cell_type": "code",
   "execution_count": 45,
   "id": "c07f40ef",
   "metadata": {
    "ExecuteTime": {
     "end_time": "2023-08-23T01:31:36.959987Z",
     "start_time": "2023-08-23T01:31:36.950163Z"
    }
   },
   "outputs": [
    {
     "name": "stdout",
     "output_type": "stream",
     "text": [
      "[1, 2, 3, 4, 5]\n",
      "[1, 2, 3, 4, 5] <class 'list'>\n",
      "[1, 2, 3, 4, 5] <class 'list'>\n"
     ]
    }
   ],
   "source": [
    "a = [1,2,3,4,5]\n",
    "b = (1,2,3,4,5)\n",
    "\n",
    "print(a, type(a))\n",
    "print(b, type(b))"
   ]
  },
  {
   "cell_type": "code",
   "execution_count": null,
   "id": "9ab8720a",
   "metadata": {
    "ExecuteTime": {
     "end_time": "2023-08-22T08:38:26.666063Z",
     "start_time": "2023-08-22T08:38:26.656884Z"
    }
   },
   "outputs": [],
   "source": [
    "a = 1,2,3,4,5\n",
    "print(a, type(a)) # 파이썬의 기본 자료구조는 튜플이다."
   ]
  },
  {
   "cell_type": "code",
   "execution_count": null,
   "id": "d928f942",
   "metadata": {
    "ExecuteTime": {
     "end_time": "2023-08-22T08:40:54.605791Z",
     "start_time": "2023-08-22T08:40:54.593957Z"
    }
   },
   "outputs": [],
   "source": [
    "a = (1,2,3,4,5)\n",
    "# [index]\n",
    "\n",
    "# slicing[start:stop]\n",
    "print(a[1])\n",
    "print(a[1:3])\n",
    "\n",
    "a[2]"
   ]
  },
  {
   "cell_type": "code",
   "execution_count": null,
   "id": "e32985c1",
   "metadata": {
    "ExecuteTime": {
     "end_time": "2023-08-22T08:41:17.950104Z",
     "start_time": "2023-08-22T08:41:17.931064Z"
    }
   },
   "outputs": [],
   "source": [
    "a[2] = 100 # 튜플은 변경이 불가능하다."
   ]
  },
  {
   "cell_type": "code",
   "execution_count": null,
   "id": "ae7c274d",
   "metadata": {
    "ExecuteTime": {
     "end_time": "2023-08-22T08:41:30.396811Z",
     "start_time": "2023-08-22T08:41:30.389240Z"
    }
   },
   "outputs": [],
   "source": [
    "del a[2]"
   ]
  },
  {
   "cell_type": "code",
   "execution_count": null,
   "id": "881de794",
   "metadata": {
    "ExecuteTime": {
     "end_time": "2023-08-22T08:42:26.674498Z",
     "start_time": "2023-08-22T08:42:26.666479Z"
    }
   },
   "outputs": [],
   "source": [
    "print(sum(a))\n",
    "print(min(a))\n",
    "print(max(a))\n"
   ]
  },
  {
   "cell_type": "code",
   "execution_count": null,
   "id": "0cd9e9d1",
   "metadata": {
    "ExecuteTime": {
     "end_time": "2023-08-22T08:43:48.288405Z",
     "start_time": "2023-08-22T08:43:48.279441Z"
    }
   },
   "outputs": [],
   "source": [
    "a = (1,2)\n",
    "b = (3,4,5)\n",
    "\n",
    "\n",
    "print(a+b)\n",
    "print(b*3)"
   ]
  },
  {
   "cell_type": "code",
   "execution_count": 46,
   "id": "7a5abae8",
   "metadata": {
    "ExecuteTime": {
     "end_time": "2023-08-23T01:33:58.480157Z",
     "start_time": "2023-08-23T01:33:58.470265Z"
    }
   },
   "outputs": [
    {
     "name": "stdout",
     "output_type": "stream",
     "text": [
      "[1, 2, 3, 4, 5] <class 'list'>\n",
      "(1, 2, 3, 4, 5) <class 'tuple'>\n"
     ]
    }
   ],
   "source": [
    "# 형변환\n",
    "a = [1, 2, 3, 4, 5]\n",
    "b = tuple(a)\n",
    "\n",
    "print(a, type(a))\n",
    "print(b, type(b))"
   ]
  },
  {
   "cell_type": "markdown",
   "id": "9a9cc21a",
   "metadata": {},
   "source": [
    "# 사전(Dictionary)\n",
    "\n",
    "- 파이썬에서 가장 많이 사용되는 자료구조\n",
    "- 데이터분석을 위한 라이브러리 pandas : 시리즈와 데이터프레임\n",
    "- 키와 값을 쌍으로 관리하는 자료구조\n",
    "- 키는 중복을 허용하지 않지만 값은 중복을 허용한다.\n",
    "- 순서가 중요하지 않다.\n",
    "- 키(key)를 통해 데이터를 읽어온다.\n",
    "- 생성 : {}, dict()\n",
    "- 주요함수\n",
    "  - 사전.keys() : key만 추출\n",
    "  - 사전.values() : values만 추출\n",
    "  - 사전.items() : item(key:value)단위로 추출\n",
    "  - keys(), values(), items()의 결과는 모두 리스트로 반환된다.\n"
   ]
  },
  {
   "cell_type": "code",
   "execution_count": 47,
   "id": "8564f5b3",
   "metadata": {
    "ExecuteTime": {
     "end_time": "2023-08-23T01:38:14.396926Z",
     "start_time": "2023-08-23T01:38:14.384711Z"
    }
   },
   "outputs": [
    {
     "name": "stdout",
     "output_type": "stream",
     "text": [
      "{} <class 'dict'>\n"
     ]
    }
   ],
   "source": [
    "a = {}\n",
    "print(a, type(a))"
   ]
  },
  {
   "cell_type": "code",
   "execution_count": 48,
   "id": "9ffe104a",
   "metadata": {
    "ExecuteTime": {
     "end_time": "2023-08-23T01:39:34.015428Z",
     "start_time": "2023-08-23T01:39:33.998749Z"
    }
   },
   "outputs": [
    {
     "name": "stdout",
     "output_type": "stream",
     "text": [
      "{} <class 'dict'>\n"
     ]
    }
   ],
   "source": [
    "b = dict()\n",
    "print(b, type(b))"
   ]
  },
  {
   "cell_type": "code",
   "execution_count": 70,
   "id": "38367fd6",
   "metadata": {
    "ExecuteTime": {
     "end_time": "2023-08-23T01:53:18.470780Z",
     "start_time": "2023-08-23T01:53:18.455227Z"
    }
   },
   "outputs": [
    {
     "name": "stdout",
     "output_type": "stream",
     "text": [
      "{'name': ['홍길동', '장보고'], 'phone': '010-9999-1234', 'birth': '2023-08-23'}\n"
     ]
    }
   ],
   "source": [
    "dic = {'name' : ['홍길동','장보고'], 'phone': '010-9999-1234', 'birth':'2023-08-23'}\n",
    "print(dic)"
   ]
  },
  {
   "cell_type": "code",
   "execution_count": 71,
   "id": "77e2b8c7",
   "metadata": {
    "ExecuteTime": {
     "end_time": "2023-08-23T01:53:22.688676Z",
     "start_time": "2023-08-23T01:53:22.677462Z"
    }
   },
   "outputs": [
    {
     "name": "stdout",
     "output_type": "stream",
     "text": [
      "['홍길동', '장보고']\n"
     ]
    }
   ],
   "source": [
    "print(dic['name'])"
   ]
  },
  {
   "cell_type": "code",
   "execution_count": 72,
   "id": "0276ac4f",
   "metadata": {
    "ExecuteTime": {
     "end_time": "2023-08-23T01:53:34.150513Z",
     "start_time": "2023-08-23T01:53:34.142542Z"
    }
   },
   "outputs": [
    {
     "name": "stdout",
     "output_type": "stream",
     "text": [
      "{'name': ['장보고', '장보고'], 'phone': '010-9999-1234', 'birth': '2023-08-23'}\n"
     ]
    }
   ],
   "source": [
    "dic['name'][0] = '장보고'\n",
    "print(dic)"
   ]
  },
  {
   "cell_type": "code",
   "execution_count": 52,
   "id": "2071a0c3",
   "metadata": {
    "ExecuteTime": {
     "end_time": "2023-08-23T01:43:32.626368Z",
     "start_time": "2023-08-23T01:43:32.609285Z"
    }
   },
   "outputs": [
    {
     "name": "stdout",
     "output_type": "stream",
     "text": [
      "{'name': '장보고', 'phone': '010-9999-1234'}\n"
     ]
    }
   ],
   "source": [
    "del dic['birth']\n",
    "print(dic)"
   ]
  },
  {
   "cell_type": "code",
   "execution_count": 53,
   "id": "11b94e4a",
   "metadata": {
    "ExecuteTime": {
     "end_time": "2023-08-23T01:44:20.731713Z",
     "start_time": "2023-08-23T01:44:20.723612Z"
    }
   },
   "outputs": [
    {
     "name": "stdout",
     "output_type": "stream",
     "text": [
      "{'name': '장보고', 'phone': '010-9999-1234', 'gender': 'M'}\n"
     ]
    }
   ],
   "source": [
    "dic['gender'] = 'M'\n",
    "print(dic)"
   ]
  },
  {
   "cell_type": "code",
   "execution_count": 58,
   "id": "2b51dbb5",
   "metadata": {
    "ExecuteTime": {
     "end_time": "2023-08-23T01:45:54.813252Z",
     "start_time": "2023-08-23T01:45:54.796557Z"
    }
   },
   "outputs": [
    {
     "data": {
      "text/plain": [
       "dict_keys(['name', 'phone', 'birth'])"
      ]
     },
     "execution_count": 58,
     "metadata": {},
     "output_type": "execute_result"
    }
   ],
   "source": [
    "# key만 추출\n",
    "dic.keys()"
   ]
  },
  {
   "cell_type": "code",
   "execution_count": 59,
   "id": "2cdf224c",
   "metadata": {
    "ExecuteTime": {
     "end_time": "2023-08-23T01:46:48.873467Z",
     "start_time": "2023-08-23T01:46:48.865492Z"
    }
   },
   "outputs": [
    {
     "name": "stdout",
     "output_type": "stream",
     "text": [
      "name\n",
      "phone\n",
      "birth\n"
     ]
    }
   ],
   "source": [
    "# for 개별변수 in 집합변수 : \n",
    "for key in dic.keys() :\n",
    "    print(key)"
   ]
  },
  {
   "cell_type": "code",
   "execution_count": 60,
   "id": "85626edf",
   "metadata": {
    "ExecuteTime": {
     "end_time": "2023-08-23T01:47:22.144103Z",
     "start_time": "2023-08-23T01:47:22.128238Z"
    }
   },
   "outputs": [
    {
     "data": {
      "text/plain": [
       "dict_values(['장보고', '010-9999-1234', '2023-08-23'])"
      ]
     },
     "execution_count": 60,
     "metadata": {},
     "output_type": "execute_result"
    }
   ],
   "source": [
    "dic.values()"
   ]
  },
  {
   "cell_type": "code",
   "execution_count": 61,
   "id": "a8b98204",
   "metadata": {
    "ExecuteTime": {
     "end_time": "2023-08-23T01:47:40.620569Z",
     "start_time": "2023-08-23T01:47:40.611660Z"
    }
   },
   "outputs": [
    {
     "data": {
      "text/plain": [
       "['장보고', '010-9999-1234', '2023-08-23']"
      ]
     },
     "execution_count": 61,
     "metadata": {},
     "output_type": "execute_result"
    }
   ],
   "source": [
    "list(dic.values())"
   ]
  },
  {
   "cell_type": "code",
   "execution_count": 63,
   "id": "8de6f030",
   "metadata": {
    "ExecuteTime": {
     "end_time": "2023-08-23T01:48:31.091397Z",
     "start_time": "2023-08-23T01:48:31.087604Z"
    }
   },
   "outputs": [
    {
     "data": {
      "text/plain": [
       "list"
      ]
     },
     "execution_count": 63,
     "metadata": {},
     "output_type": "execute_result"
    }
   ],
   "source": [
    "type(list(dic.items()))\n"
   ]
  },
  {
   "cell_type": "code",
   "execution_count": 64,
   "id": "a65542ba",
   "metadata": {
    "ExecuteTime": {
     "end_time": "2023-08-23T01:49:34.548110Z",
     "start_time": "2023-08-23T01:49:34.541151Z"
    }
   },
   "outputs": [
    {
     "name": "stdout",
     "output_type": "stream",
     "text": [
      "name : 장보고\n",
      "phone : 010-9999-1234\n",
      "birth : 2023-08-23\n"
     ]
    }
   ],
   "source": [
    "for key, value in dic.items():\n",
    "    print(f\"{key} : {value}\")"
   ]
  },
  {
   "cell_type": "code",
   "execution_count": 66,
   "id": "e4fc2e9e",
   "metadata": {
    "ExecuteTime": {
     "end_time": "2023-08-23T01:50:52.941709Z",
     "start_time": "2023-08-23T01:50:52.933322Z"
    }
   },
   "outputs": [
    {
     "name": "stdout",
     "output_type": "stream",
     "text": [
      "장보고\n",
      "장보고\n"
     ]
    }
   ],
   "source": [
    "# get() : key를 이용해서 value를 얻어오는 함수\n",
    "print(dic['name'])\n",
    "print(dic.get('name'))"
   ]
  },
  {
   "cell_type": "markdown",
   "id": "a5ac63cc",
   "metadata": {},
   "source": [
    "# 집합(Set)\n",
    "\n",
    "- 인덱스가 없고, 값만 저장되는 자료구조\n",
    "- 순서는 의미가 없다.\n",
    "- 생성 : set()\n",
    "- 콤마(,)를 기준으로 아이템 구분\n",
    "- 중복값을 허용하지 않는다."
   ]
  },
  {
   "cell_type": "code",
   "execution_count": 67,
   "id": "95b1bfb2",
   "metadata": {
    "ExecuteTime": {
     "end_time": "2023-08-23T01:52:14.182354Z",
     "start_time": "2023-08-23T01:52:14.168243Z"
    }
   },
   "outputs": [
    {
     "ename": "TypeError",
     "evalue": "set expected at most 1 argument, got 3",
     "output_type": "error",
     "traceback": [
      "\u001b[1;31m---------------------------------------------------------------------------\u001b[0m",
      "\u001b[1;31mTypeError\u001b[0m                                 Traceback (most recent call last)",
      "\u001b[1;32m<ipython-input-67-cb6c9ac1c68b>\u001b[0m in \u001b[0;36m<module>\u001b[1;34m\u001b[0m\n\u001b[1;32m----> 1\u001b[1;33m \u001b[0ms1\u001b[0m \u001b[1;33m=\u001b[0m \u001b[0mset\u001b[0m\u001b[1;33m(\u001b[0m\u001b[1;36m1\u001b[0m\u001b[1;33m,\u001b[0m \u001b[1;36m2\u001b[0m\u001b[1;33m,\u001b[0m \u001b[1;36m3\u001b[0m\u001b[1;33m)\u001b[0m\u001b[1;33m\u001b[0m\u001b[1;33m\u001b[0m\u001b[0m\n\u001b[0m\u001b[0;32m      2\u001b[0m \u001b[0mprint\u001b[0m\u001b[1;33m(\u001b[0m\u001b[0ms1\u001b[0m\u001b[1;33m)\u001b[0m\u001b[1;33m\u001b[0m\u001b[1;33m\u001b[0m\u001b[0m\n",
      "\u001b[1;31mTypeError\u001b[0m: set expected at most 1 argument, got 3"
     ]
    }
   ],
   "source": [
    "s1 = set(1, 2, 3)\n",
    "print(s1)"
   ]
  },
  {
   "cell_type": "code",
   "execution_count": 68,
   "id": "b3f5af7a",
   "metadata": {
    "ExecuteTime": {
     "end_time": "2023-08-23T01:52:48.697309Z",
     "start_time": "2023-08-23T01:52:48.682630Z"
    }
   },
   "outputs": [
    {
     "name": "stdout",
     "output_type": "stream",
     "text": [
      "{1, 2, 3}\n"
     ]
    }
   ],
   "source": [
    "s1 = set([1, 2, 3])\n",
    "print(s1)"
   ]
  },
  {
   "cell_type": "code",
   "execution_count": 69,
   "id": "65dc3c3c",
   "metadata": {
    "ExecuteTime": {
     "end_time": "2023-08-23T01:53:01.589089Z",
     "start_time": "2023-08-23T01:53:01.578475Z"
    }
   },
   "outputs": [
    {
     "name": "stdout",
     "output_type": "stream",
     "text": [
      "<class 'set'>\n"
     ]
    }
   ],
   "source": [
    "print(type(s1))"
   ]
  },
  {
   "cell_type": "code",
   "execution_count": 73,
   "id": "60d12298",
   "metadata": {
    "ExecuteTime": {
     "end_time": "2023-08-23T01:54:14.348738Z",
     "start_time": "2023-08-23T01:54:14.332889Z"
    }
   },
   "outputs": [
    {
     "name": "stdout",
     "output_type": "stream",
     "text": [
      "{'o', 'n', 't', 'y', 'P', 'h'}\n"
     ]
    }
   ],
   "source": [
    "s2 = set(\"Python\")\n",
    "print(s2)"
   ]
  },
  {
   "cell_type": "code",
   "execution_count": 74,
   "id": "3695b255",
   "metadata": {
    "ExecuteTime": {
     "end_time": "2023-08-23T01:54:29.023032Z",
     "start_time": "2023-08-23T01:54:29.007270Z"
    }
   },
   "outputs": [
    {
     "name": "stdout",
     "output_type": "stream",
     "text": [
      "['o', 'n', 't', 'y', 'P', 'h']\n"
     ]
    }
   ],
   "source": [
    "a = list(s2)\n",
    "print(a)"
   ]
  },
  {
   "cell_type": "code",
   "execution_count": 76,
   "id": "ae2d0463",
   "metadata": {
    "ExecuteTime": {
     "end_time": "2023-08-23T01:54:49.194029Z",
     "start_time": "2023-08-23T01:54:49.176715Z"
    }
   },
   "outputs": [
    {
     "name": "stdout",
     "output_type": "stream",
     "text": [
      "['P', 'h', 'n', 'o', 't', 'y']\n"
     ]
    }
   ],
   "source": [
    "a.sort()\n",
    "print(a)"
   ]
  },
  {
   "cell_type": "code",
   "execution_count": 77,
   "id": "c66c3f46",
   "metadata": {
    "ExecuteTime": {
     "end_time": "2023-08-23T01:56:10.254820Z",
     "start_time": "2023-08-23T01:56:10.242920Z"
    }
   },
   "outputs": [
    {
     "name": "stdout",
     "output_type": "stream",
     "text": [
      "[1, 2, 3, 3, 4, 5, 6, 6, 7] <class 'list'>\n",
      "{1, 2, 3, 4, 5, 6, 7} <class 'set'>\n"
     ]
    }
   ],
   "source": [
    "a = [1, 2, 3, 3, 4, 5, 6, 6, 7]\n",
    "print(a, type(a))\n",
    "\n",
    "# 집합은 중복을 허용하지 않는다.\n",
    "b = set(a)\n",
    "print(b, type(b))\n"
   ]
  },
  {
   "cell_type": "markdown",
   "id": "35e086bb",
   "metadata": {},
   "source": [
    "## 교집합, 합집합, 차집합"
   ]
  },
  {
   "cell_type": "code",
   "execution_count": 81,
   "id": "993ceea8",
   "metadata": {
    "ExecuteTime": {
     "end_time": "2023-08-23T01:59:48.253974Z",
     "start_time": "2023-08-23T01:59:48.235559Z"
    }
   },
   "outputs": [
    {
     "name": "stdout",
     "output_type": "stream",
     "text": [
      "{1, 2, 3, 4, 5, 6, 7, 8, 9}\n",
      "{1, 2, 3, 4, 5, 6, 7, 8, 9}\n"
     ]
    }
   ],
   "source": [
    "s1 = set([1,2,3,4,5,6])\n",
    "s2 = set([4,5,6,7,8,9])\n",
    "\n",
    "## 합집합 : '|' , union()\n",
    "print(s1 | s2)\n",
    "print(s1.union(s2))"
   ]
  },
  {
   "cell_type": "code",
   "execution_count": 82,
   "id": "ff4a1ee1",
   "metadata": {
    "ExecuteTime": {
     "end_time": "2023-08-23T02:00:20.051124Z",
     "start_time": "2023-08-23T02:00:20.035584Z"
    }
   },
   "outputs": [
    {
     "name": "stdout",
     "output_type": "stream",
     "text": [
      "{4, 5, 6}\n",
      "{4, 5, 6}\n"
     ]
    }
   ],
   "source": [
    "# 교집합 :  '&', intersection()\n",
    "## 합집합 : '|' , union()\n",
    "print(s1 & s2)\n",
    "print(s1.intersection(s2))"
   ]
  },
  {
   "cell_type": "code",
   "execution_count": 83,
   "id": "9e99920a",
   "metadata": {
    "ExecuteTime": {
     "end_time": "2023-08-23T02:01:17.267896Z",
     "start_time": "2023-08-23T02:01:17.263795Z"
    }
   },
   "outputs": [
    {
     "name": "stdout",
     "output_type": "stream",
     "text": [
      "{1, 2, 3}\n",
      "{8, 9, 7}\n",
      "{1, 2, 3}\n"
     ]
    }
   ],
   "source": [
    "# 차집합 : '-' , difference()\n",
    "print(s1 - s2)\n",
    "print(s2 - s1)\n",
    "\n",
    "print(s1.difference(s2))"
   ]
  },
  {
   "cell_type": "code",
   "execution_count": 84,
   "id": "e11326fe",
   "metadata": {
    "ExecuteTime": {
     "end_time": "2023-08-23T02:02:13.586415Z",
     "start_time": "2023-08-23T02:02:13.572231Z"
    }
   },
   "outputs": [
    {
     "name": "stdout",
     "output_type": "stream",
     "text": [
      "{1, 2, 3, 4}\n"
     ]
    }
   ],
   "source": [
    "# add() : 하나의 값을 추가하는 함수\n",
    "s1 = set([1,2,3])\n",
    "s1.add(4)\n",
    "print(s1)"
   ]
  },
  {
   "cell_type": "code",
   "execution_count": 85,
   "id": "6a0c88c0",
   "metadata": {
    "ExecuteTime": {
     "end_time": "2023-08-23T02:03:05.602352Z",
     "start_time": "2023-08-23T02:03:05.596206Z"
    }
   },
   "outputs": [
    {
     "name": "stdout",
     "output_type": "stream",
     "text": [
      "{1, 2, 3, 4, 5, 6}\n"
     ]
    }
   ],
   "source": [
    "# update() : 여러 개의 값을 추가하는 함수\n",
    "s1 = set([1,2,3])\n",
    "s1.update([4,5,6])\n",
    "print(s1)"
   ]
  },
  {
   "cell_type": "code",
   "execution_count": 86,
   "id": "b0ff9248",
   "metadata": {
    "ExecuteTime": {
     "end_time": "2023-08-23T02:03:44.811438Z",
     "start_time": "2023-08-23T02:03:44.793500Z"
    }
   },
   "outputs": [
    {
     "name": "stdout",
     "output_type": "stream",
     "text": [
      "{1, 3}\n"
     ]
    }
   ],
   "source": [
    "# remove() : 특정 값을 제거하는 함수\n",
    "s1 = set([1,2,3])\n",
    "s1.remove(2)\n",
    "print(s1)"
   ]
  },
  {
   "cell_type": "code",
   "execution_count": 87,
   "id": "61193eb0",
   "metadata": {
    "ExecuteTime": {
     "end_time": "2023-08-23T02:21:07.988978Z",
     "start_time": "2023-08-23T02:21:07.977943Z"
    }
   },
   "outputs": [
    {
     "name": "stdout",
     "output_type": "stream",
     "text": [
      "NamespaceMagics\t a\t b\t c\t d\t dic\t e\t f\t get_ipython\t \n",
      "getsizeof\t i\t json\t key\t np\t s1\t s2\t value\t var_dic_list\t \n",
      "x\t \n"
     ]
    }
   ],
   "source": [
    "# 매직명령어 : 주피터 노트북에서 사용하는 명령어\n",
    "## 변수 목록 확인\n",
    "%who"
   ]
  },
  {
   "cell_type": "code",
   "execution_count": null,
   "id": "e7c1fe31",
   "metadata": {},
   "outputs": [],
   "source": []
  }
 ],
 "metadata": {
  "kernelspec": {
   "display_name": "Python 3",
   "language": "python",
   "name": "python3"
  },
  "language_info": {
   "codemirror_mode": {
    "name": "ipython",
    "version": 3
   },
   "file_extension": ".py",
   "mimetype": "text/x-python",
   "name": "python",
   "nbconvert_exporter": "python",
   "pygments_lexer": "ipython3",
   "version": "3.8.8"
  },
  "toc": {
   "base_numbering": 1,
   "nav_menu": {},
   "number_sections": true,
   "sideBar": true,
   "skip_h1_title": false,
   "title_cell": "Table of Contents",
   "title_sidebar": "Contents",
   "toc_cell": false,
   "toc_position": {},
   "toc_section_display": true,
   "toc_window_display": false
  },
  "varInspector": {
   "cols": {
    "lenName": 16,
    "lenType": 16,
    "lenVar": 40
   },
   "kernels_config": {
    "python": {
     "delete_cmd_postfix": "",
     "delete_cmd_prefix": "del ",
     "library": "var_list.py",
     "varRefreshCmd": "print(var_dic_list())"
    },
    "r": {
     "delete_cmd_postfix": ") ",
     "delete_cmd_prefix": "rm(",
     "library": "var_list.r",
     "varRefreshCmd": "cat(var_dic_list()) "
    }
   },
   "types_to_exclude": [
    "module",
    "function",
    "builtin_function_or_method",
    "instance",
    "_Feature"
   ],
   "window_display": false
  }
 },
 "nbformat": 4,
 "nbformat_minor": 5
}
