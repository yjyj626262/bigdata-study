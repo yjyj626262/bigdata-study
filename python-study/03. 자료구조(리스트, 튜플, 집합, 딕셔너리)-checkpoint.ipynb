{
 "cells": [
  {
   "cell_type": "markdown",
   "id": "8f599482",
   "metadata": {},
   "source": [
    "# 리스트(List)\n",
    "\n",
    "- 임의의 객체를 순차적으로 저장하는 집합적 자료형(시퀀스 자료형, Sequence DataType)\n",
    "- 각 값에 대해 인덱스가 부여됨\n",
    "- 변경 가능\n",
    "- 대괄호 [] 사용\n",
    "- range() 함수를 통한 인덱스 리스트 생성 가능\n",
    "- range(k) : 0부터 k-1까지의 숫자 리스트를 반환"
   ]
  },
  {
   "cell_type": "code",
   "execution_count": 1,
   "id": "8126ceaf",
   "metadata": {
    "ExecuteTime": {
     "end_time": "2023-08-18T06:23:22.266020Z",
     "start_time": "2023-08-18T06:23:22.253236Z"
    }
   },
   "outputs": [
    {
     "name": "stdout",
     "output_type": "stream",
     "text": [
      "range(0, 10)\n"
     ]
    }
   ],
   "source": [
    "a = range(10)\n",
    "print(a)"
   ]
  },
  {
   "cell_type": "code",
   "execution_count": 2,
   "id": "fceef557",
   "metadata": {
    "ExecuteTime": {
     "end_time": "2023-08-18T06:23:42.299223Z",
     "start_time": "2023-08-18T06:23:42.287196Z"
    }
   },
   "outputs": [
    {
     "name": "stdout",
     "output_type": "stream",
     "text": [
      "0\n",
      "1\n",
      "2\n",
      "3\n",
      "4\n",
      "5\n",
      "6\n",
      "7\n",
      "8\n",
      "9\n"
     ]
    }
   ],
   "source": [
    "for i in a:\n",
    "    print(i)"
   ]
  },
  {
   "cell_type": "code",
   "execution_count": 3,
   "id": "c1a1d623",
   "metadata": {
    "ExecuteTime": {
     "end_time": "2023-08-18T06:24:06.688607Z",
     "start_time": "2023-08-18T06:24:06.681574Z"
    }
   },
   "outputs": [],
   "source": [
    "a = [] # 빈 리스트 또는 a = list()\n",
    "\n",
    "a = [1,2,3,4] # 숫자 원소\n",
    "\n",
    "a = ['python', 'c++', 'java'] # 문자열 원소\n",
    "\n",
    "a = ['python', 1, 5] # 문자열과 숫자가 섞여도 됨\n",
    "\n",
    "a = [1, 2, [1, 2]] # 리스트를 원소로 가질 수 있음\n",
    "\n",
    "a = [[100, 10], [4, 6]]"
   ]
  },
  {
   "cell_type": "markdown",
   "id": "f83c80d7",
   "metadata": {},
   "source": [
    "- 리스트에서도 덧셈 연산자 +와 곱셈 연산자 *를 사용할 수 있다. \n",
    "- 두 리스트를 더하는 것은 두 리스트를 합치는 기능\n",
    "- 리스트에 숫자를 곱하게 되면 리스트가 해당 숫자만큼 반복되어 새로운 리스트를 생성한다."
   ]
  },
  {
   "cell_type": "code",
   "execution_count": 4,
   "id": "3d465b2e",
   "metadata": {
    "ExecuteTime": {
     "end_time": "2023-08-18T06:25:32.897834Z",
     "start_time": "2023-08-18T06:25:32.883932Z"
    }
   },
   "outputs": [],
   "source": [
    "a = [1, 2]\n",
    "b = [3, 4, 5]\n",
    "\n",
    "c = a+b         # c = [1, 2, 3, 4, 5]\n",
    "d = b+a         # d = [3, 4, 5, 1, 2]\n",
    "\n",
    "e = a*3         # e = [1, 2, 1, 2, 1, 2]\n",
    "f = a*2 + b*3   # f = [1, 2, 1, 2, 3, 4, 5, 3, 4, 5, 3, 4, 5]"
   ]
  },
  {
   "cell_type": "code",
   "execution_count": null,
   "id": "f7f920d1",
   "metadata": {},
   "outputs": [],
   "source": []
  },
  {
   "cell_type": "markdown",
   "id": "a37690e1",
   "metadata": {},
   "source": [
    "# 튜플(Tuple)\n",
    "\n",
    "- 리스트와 유사하지만 튜플 내의 값을 변경할 수 없다.\n",
    "- 각 값에 대해 인덱스가 부여됨\n",
    "- 변경 불가능\n",
    "- 소괄호 () 사용"
   ]
  },
  {
   "cell_type": "code",
   "execution_count": null,
   "id": "00fddd1a",
   "metadata": {},
   "outputs": [],
   "source": []
  },
  {
   "cell_type": "markdown",
   "id": "a3752115",
   "metadata": {},
   "source": [
    "# 사전(Dictionary)\n",
    "\n",
    "- 정수형 인덱스가 아닌 키를 이용하여 값을 저장 및 조회하는 자료구조\n",
    "- 저장된 각 자료에 대한 순서는 의미 없음\n",
    "- 중괄호 {} 사용\n",
    "- 콤마(,)를 기준으로 아이템 구분\n",
    "- 사전(Dictionary)의 원소 - key:value(쌍으로 이루어짐)\n",
    "- 사전.keys() - key만 추출(임의의 순서)\n",
    "- 사전.values() - value만 추출(임의의 순서)\n",
    "- 사전.items() - key와 value를 튜플로 추출(임의의 순서)\n",
    "- keys, values, items가 반환하는 자료형 - 리스트"
   ]
  },
  {
   "cell_type": "code",
   "execution_count": null,
   "id": "08e7b2e5",
   "metadata": {},
   "outputs": [],
   "source": []
  },
  {
   "cell_type": "code",
   "execution_count": null,
   "id": "73d221aa",
   "metadata": {},
   "outputs": [],
   "source": []
  },
  {
   "cell_type": "code",
   "execution_count": null,
   "id": "005ff764",
   "metadata": {},
   "outputs": [],
   "source": []
  },
  {
   "cell_type": "code",
   "execution_count": null,
   "id": "d2553d7a",
   "metadata": {},
   "outputs": [],
   "source": []
  }
 ],
 "metadata": {
  "kernelspec": {
   "display_name": "Python 3 (ipykernel)",
   "language": "python",
   "name": "python3"
  },
  "language_info": {
   "codemirror_mode": {
    "name": "ipython",
    "version": 3
   },
   "file_extension": ".py",
   "mimetype": "text/x-python",
   "name": "python",
   "nbconvert_exporter": "python",
   "pygments_lexer": "ipython3",
   "version": "3.9.7"
  },
  "toc": {
   "base_numbering": 1,
   "nav_menu": {},
   "number_sections": true,
   "sideBar": true,
   "skip_h1_title": false,
   "title_cell": "Table of Contents",
   "title_sidebar": "Contents",
   "toc_cell": false,
   "toc_position": {
    "height": "calc(100% - 180px)",
    "left": "10px",
    "top": "150px",
    "width": "307.2px"
   },
   "toc_section_display": true,
   "toc_window_display": true
  },
  "varInspector": {
   "cols": {
    "lenName": 16,
    "lenType": 16,
    "lenVar": 40
   },
   "kernels_config": {
    "python": {
     "delete_cmd_postfix": "",
     "delete_cmd_prefix": "del ",
     "library": "var_list.py",
     "varRefreshCmd": "print(var_dic_list())"
    },
    "r": {
     "delete_cmd_postfix": ") ",
     "delete_cmd_prefix": "rm(",
     "library": "var_list.r",
     "varRefreshCmd": "cat(var_dic_list()) "
    }
   },
   "types_to_exclude": [
    "module",
    "function",
    "builtin_function_or_method",
    "instance",
    "_Feature"
   ],
   "window_display": false
  }
 },
 "nbformat": 4,
 "nbformat_minor": 5
}
