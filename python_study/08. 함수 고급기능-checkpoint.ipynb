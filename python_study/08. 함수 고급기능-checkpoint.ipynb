{
 "cells": [
  {
   "cell_type": "markdown",
   "id": "a7930f0d",
   "metadata": {},
   "source": [
    "# 함수의 종류\n",
    "- 내장 함수\n",
    "- 사용자 정의 함수"
   ]
  },
  {
   "cell_type": "markdown",
   "id": "b3dfeed1",
   "metadata": {},
   "source": [
    "## 내장 함수\n",
    "\n",
    "https://docs.python.org/ko/3/library/functions.html"
   ]
  },
  {
   "cell_type": "code",
   "execution_count": 1,
   "id": "58d0fc89",
   "metadata": {
    "ExecuteTime": {
     "end_time": "2023-08-24T07:12:28.122162Z",
     "start_time": "2023-08-24T07:12:28.110128Z"
    }
   },
   "outputs": [
    {
     "name": "stdout",
     "output_type": "stream",
     "text": [
      "['__add__', '__class__', '__contains__', '__delattr__', '__delitem__', '__dir__', '__doc__', '__eq__', '__format__', '__ge__', '__getattribute__', '__getitem__', '__gt__', '__hash__', '__iadd__', '__imul__', '__init__', '__init_subclass__', '__iter__', '__le__', '__len__', '__lt__', '__mul__', '__ne__', '__new__', '__reduce__', '__reduce_ex__', '__repr__', '__reversed__', '__rmul__', '__setattr__', '__setitem__', '__sizeof__', '__str__', '__subclasshook__', 'append', 'clear', 'copy', 'count', 'extend', 'index', 'insert', 'pop', 'remove', 'reverse', 'sort']\n"
     ]
    }
   ],
   "source": [
    "# 메모리 주소 확인 id()\n",
    "# 매직명령어 : %who\n",
    "# 객체의 멤버(변수나 함수, 메소드)\n",
    "# dir()\n",
    "print(dir([1, 2, 3]))"
   ]
  },
  {
   "cell_type": "code",
   "execution_count": 2,
   "id": "dc27981e",
   "metadata": {
    "ExecuteTime": {
     "end_time": "2023-08-24T07:13:52.695020Z",
     "start_time": "2023-08-24T07:13:52.686895Z"
    }
   },
   "outputs": [
    {
     "name": "stdout",
     "output_type": "stream",
     "text": [
      "['__class__', '__contains__', '__delattr__', '__delitem__', '__dir__', '__doc__', '__eq__', '__format__', '__ge__', '__getattribute__', '__getitem__', '__gt__', '__hash__', '__init__', '__init_subclass__', '__iter__', '__le__', '__len__', '__lt__', '__ne__', '__new__', '__reduce__', '__reduce_ex__', '__repr__', '__reversed__', '__setattr__', '__setitem__', '__sizeof__', '__str__', '__subclasshook__', 'clear', 'copy', 'fromkeys', 'get', 'items', 'keys', 'pop', 'popitem', 'setdefault', 'update', 'values']\n"
     ]
    }
   ],
   "source": [
    "print(dir({'name':'장보고'}))"
   ]
  },
  {
   "cell_type": "code",
   "execution_count": 3,
   "id": "ac91f2a6",
   "metadata": {
    "ExecuteTime": {
     "end_time": "2023-08-24T07:17:22.218444Z",
     "start_time": "2023-08-24T07:17:22.208340Z"
    }
   },
   "outputs": [
    {
     "name": "stdout",
     "output_type": "stream",
     "text": [
      "정수몫 : 2, 나머지 : 1\n"
     ]
    }
   ],
   "source": [
    "# 몫과 나머지 연산\n",
    "a = 7\n",
    "b = 3\n",
    "\n",
    "c = a / b  # 몫(실수)\n",
    "d = a // b # 몫(정수)\n",
    "e = a % b # 나머지\n",
    "\n",
    "print(\"정수몫 : {0}, 나머지 : {1}\".format(d,e))"
   ]
  },
  {
   "cell_type": "code",
   "execution_count": 4,
   "id": "bf6a3afa",
   "metadata": {
    "ExecuteTime": {
     "end_time": "2023-08-24T07:18:32.040131Z",
     "start_time": "2023-08-24T07:18:32.029773Z"
    }
   },
   "outputs": [
    {
     "name": "stdout",
     "output_type": "stream",
     "text": [
      "정수몫 : 2, 나머지 : 1\n"
     ]
    }
   ],
   "source": [
    "# divmod(수, 나눌수)\n",
    "mok, nmg = divmod(7,3)\n",
    "print(\"정수몫 : {0}, 나머지 : {1}\".format(mok,nmg))"
   ]
  },
  {
   "cell_type": "code",
   "execution_count": 5,
   "id": "d5b004e1",
   "metadata": {
    "ExecuteTime": {
     "end_time": "2023-08-24T07:20:03.134987Z",
     "start_time": "2023-08-24T07:20:03.127706Z"
    }
   },
   "outputs": [
    {
     "name": "stdout",
     "output_type": "stream",
     "text": [
      "[10, 20, 30, 40, 50]\n"
     ]
    }
   ],
   "source": [
    "# 인덱스와 값을 리턴하는 함수 : enuumerate\n",
    "print([10, 20, 30, 40, 50])\n"
   ]
  },
  {
   "cell_type": "code",
   "execution_count": 8,
   "id": "0df3d8b5",
   "metadata": {
    "ExecuteTime": {
     "end_time": "2023-08-24T07:21:40.325576Z",
     "start_time": "2023-08-24T07:21:40.317967Z"
    }
   },
   "outputs": [
    {
     "name": "stdout",
     "output_type": "stream",
     "text": [
      "[(0, 10), (1, 20), (2, 30), (3, 40), (4, 50)]\n"
     ]
    }
   ],
   "source": [
    "# 변수 : 값, 참조변수(주소)\n",
    "print(list(enumerate([10, 20, 30, 40, 50])))"
   ]
  },
  {
   "cell_type": "code",
   "execution_count": 9,
   "id": "0ac3a8d5",
   "metadata": {
    "ExecuteTime": {
     "end_time": "2023-08-24T07:23:13.025207Z",
     "start_time": "2023-08-24T07:23:13.018259Z"
    }
   },
   "outputs": [
    {
     "name": "stdout",
     "output_type": "stream",
     "text": [
      "0 10\n",
      "1 20\n",
      "2 30\n",
      "3 40\n",
      "4 50\n"
     ]
    }
   ],
   "source": [
    "for idx,val in enumerate([10, 20, 30, 40, 50]):\n",
    "    print(idx, val)"
   ]
  },
  {
   "cell_type": "code",
   "execution_count": 13,
   "id": "955e53df",
   "metadata": {
    "ExecuteTime": {
     "end_time": "2023-08-24T07:26:54.585106Z",
     "start_time": "2023-08-24T07:26:52.733943Z"
    }
   },
   "outputs": [
    {
     "name": "stdout",
     "output_type": "stream",
     "text": [
      "2.3\n",
      "a =  2.3\n"
     ]
    }
   ],
   "source": [
    "# eval() : 자동형변환의 의미\n",
    "a = eval(input())\n",
    "print(\"a = \", a)"
   ]
  },
  {
   "cell_type": "code",
   "execution_count": 16,
   "id": "e0f661f0",
   "metadata": {
    "ExecuteTime": {
     "end_time": "2023-08-24T07:28:21.262426Z",
     "start_time": "2023-08-24T07:28:21.253554Z"
    }
   },
   "outputs": [
    {
     "name": "stdout",
     "output_type": "stream",
     "text": [
      "divmod(10,3)\n",
      "(3, 1)\n"
     ]
    }
   ],
   "source": [
    "# eval - 수식을 문자열로 묶어서 입력하면 계산결과를 반환한다.\n",
    "string = \"divmod(10,3)\"\n",
    "print(string)\n",
    "print(eval(string))"
   ]
  },
  {
   "cell_type": "code",
   "execution_count": 18,
   "id": "766a3c8b",
   "metadata": {
    "ExecuteTime": {
     "end_time": "2023-08-24T07:33:43.334167Z",
     "start_time": "2023-08-24T07:33:43.320006Z"
    }
   },
   "outputs": [
    {
     "name": "stdout",
     "output_type": "stream",
     "text": [
      "(1, 'sugar')\n",
      "(2, 'spice')\n",
      "(3, 'everything nice')\n"
     ]
    }
   ],
   "source": [
    "# zip : 여러개의 객체를 인덱스별로 묶어서 처리할 때\n",
    "for item in zip([1, 2, 3], ['sugar', 'spice', 'everything nice']):\n",
    "    print(item)"
   ]
  },
  {
   "cell_type": "code",
   "execution_count": 19,
   "id": "709716c5",
   "metadata": {
    "ExecuteTime": {
     "end_time": "2023-08-24T07:35:07.881431Z",
     "start_time": "2023-08-24T07:35:07.877558Z"
    }
   },
   "outputs": [
    {
     "name": "stdout",
     "output_type": "stream",
     "text": [
      "[1, 2, 3]\n"
     ]
    }
   ],
   "source": [
    "data = [3,1,2]\n",
    "# sort() : 자기 자신을 변환\n",
    "data.sort()\n",
    "print(data)"
   ]
  },
  {
   "cell_type": "code",
   "execution_count": 20,
   "id": "addbb662",
   "metadata": {
    "ExecuteTime": {
     "end_time": "2023-08-24T07:35:36.698690Z",
     "start_time": "2023-08-24T07:35:36.686387Z"
    }
   },
   "outputs": [
    {
     "name": "stdout",
     "output_type": "stream",
     "text": [
      "[1, 2, 3]\n",
      "[3, 1, 2]\n"
     ]
    }
   ],
   "source": [
    "items = [3,1,2]\n",
    "a = sorted(items)\n",
    "print(a)\n",
    "print(items)"
   ]
  },
  {
   "cell_type": "markdown",
   "id": "20d95da6",
   "metadata": {},
   "source": [
    "## 사용자 정의 함수"
   ]
  },
  {
   "cell_type": "code",
   "execution_count": 21,
   "id": "93c2aaf6",
   "metadata": {
    "ExecuteTime": {
     "end_time": "2023-08-24T07:36:38.332036Z",
     "start_time": "2023-08-24T07:36:38.319640Z"
    }
   },
   "outputs": [],
   "source": [
    "# 함수 선언문 def 함수명(매개변수) :\n",
    "def say() :\n",
    "    a = '안녕하세요'\n",
    "    print(a)"
   ]
  },
  {
   "cell_type": "code",
   "execution_count": 22,
   "id": "a8f8ba02",
   "metadata": {
    "ExecuteTime": {
     "end_time": "2023-08-24T07:36:41.576744Z",
     "start_time": "2023-08-24T07:36:41.560608Z"
    }
   },
   "outputs": [
    {
     "name": "stdout",
     "output_type": "stream",
     "text": [
      "안녕하세요\n"
     ]
    }
   ],
   "source": [
    "say()"
   ]
  },
  {
   "cell_type": "code",
   "execution_count": 23,
   "id": "7f729fea",
   "metadata": {
    "ExecuteTime": {
     "end_time": "2023-08-24T07:36:57.039521Z",
     "start_time": "2023-08-24T07:36:57.027109Z"
    }
   },
   "outputs": [],
   "source": [
    "def say() :\n",
    "    a = '안녕하세요'\n",
    "    return a"
   ]
  },
  {
   "cell_type": "code",
   "execution_count": 24,
   "id": "2f5ccea9",
   "metadata": {
    "ExecuteTime": {
     "end_time": "2023-08-24T07:38:12.562062Z",
     "start_time": "2023-08-24T07:38:12.558462Z"
    }
   },
   "outputs": [
    {
     "name": "stdout",
     "output_type": "stream",
     "text": [
      "안녕하세요\n"
     ]
    }
   ],
   "source": [
    "string = say()\n",
    "print(string)"
   ]
  },
  {
   "cell_type": "code",
   "execution_count": 29,
   "id": "7e01408a",
   "metadata": {
    "ExecuteTime": {
     "end_time": "2023-08-24T07:42:14.994954Z",
     "start_time": "2023-08-24T07:42:14.988763Z"
    }
   },
   "outputs": [],
   "source": [
    "# 매개변수가 있는 함수\n",
    "def hello(name) :\n",
    "    message = \"Hello, {0}\".format(name)\n",
    "    return message"
   ]
  },
  {
   "cell_type": "code",
   "execution_count": 30,
   "id": "1c4f21c2",
   "metadata": {
    "ExecuteTime": {
     "end_time": "2023-08-24T07:42:15.929531Z",
     "start_time": "2023-08-24T07:42:15.918264Z"
    }
   },
   "outputs": [
    {
     "name": "stdout",
     "output_type": "stream",
     "text": [
      "Hello, kim\n"
     ]
    }
   ],
   "source": [
    "print(hello('kim'))"
   ]
  },
  {
   "cell_type": "markdown",
   "id": "3a18b68e",
   "metadata": {},
   "source": [
    "### defalt parameter : 초기화 파라미터\n",
    "\n",
    "- 매개변수에 초기화를 시켜주는 기능"
   ]
  },
  {
   "cell_type": "code",
   "execution_count": 33,
   "id": "775633b6",
   "metadata": {
    "ExecuteTime": {
     "end_time": "2023-08-24T07:45:25.908590Z",
     "start_time": "2023-08-24T07:45:25.895851Z"
    }
   },
   "outputs": [],
   "source": [
    "# None : 매개변수가 입력되지 않았을 경우 내부적으로 값이 없음을 뜻하는 상수\n",
    "def hello(name = None) :\n",
    "    if name == None :\n",
    "        print(\"이름을 입력해주세요.\")\n",
    "        return\n",
    "    message = \"Hello, {0}\".format(name)"
   ]
  },
  {
   "cell_type": "code",
   "execution_count": 36,
   "id": "c45cb5b7",
   "metadata": {
    "ExecuteTime": {
     "end_time": "2023-08-24T07:46:49.931154Z",
     "start_time": "2023-08-24T07:46:49.919674Z"
    }
   },
   "outputs": [
    {
     "name": "stdout",
     "output_type": "stream",
     "text": [
      "Hello, kim\n"
     ]
    }
   ],
   "source": [
    "hello()"
   ]
  },
  {
   "cell_type": "code",
   "execution_count": 35,
   "id": "92518837",
   "metadata": {
    "ExecuteTime": {
     "end_time": "2023-08-24T07:46:43.802228Z",
     "start_time": "2023-08-24T07:46:43.790978Z"
    }
   },
   "outputs": [],
   "source": [
    "def hello(name = 'kim') :\n",
    "    print(\"Hello, {0}\".format(name))"
   ]
  },
  {
   "cell_type": "code",
   "execution_count": 37,
   "id": "2609f39c",
   "metadata": {
    "ExecuteTime": {
     "end_time": "2023-08-24T07:48:07.764540Z",
     "start_time": "2023-08-24T07:48:07.759885Z"
    }
   },
   "outputs": [],
   "source": [
    "# 세 개의 수를 더한 결과를 반환하는 함수\n",
    "def hap(a,b,c) :\n",
    "    return a+b+c"
   ]
  },
  {
   "cell_type": "code",
   "execution_count": 38,
   "id": "b7014df7",
   "metadata": {
    "ExecuteTime": {
     "end_time": "2023-08-24T07:48:23.220948Z",
     "start_time": "2023-08-24T07:48:23.202433Z"
    }
   },
   "outputs": [
    {
     "name": "stdout",
     "output_type": "stream",
     "text": [
      "6\n"
     ]
    }
   ],
   "source": [
    "a = hap(1,2,3)\n",
    "print(a)"
   ]
  },
  {
   "cell_type": "code",
   "execution_count": 39,
   "id": "cd5f4277",
   "metadata": {
    "ExecuteTime": {
     "end_time": "2023-08-24T07:48:36.606421Z",
     "start_time": "2023-08-24T07:48:36.596458Z"
    }
   },
   "outputs": [
    {
     "ename": "TypeError",
     "evalue": "hap() missing 1 required positional argument: 'c'",
     "output_type": "error",
     "traceback": [
      "\u001b[1;31m---------------------------------------------------------------------------\u001b[0m",
      "\u001b[1;31mTypeError\u001b[0m                                 Traceback (most recent call last)",
      "\u001b[1;32m<ipython-input-39-34f39d44340f>\u001b[0m in \u001b[0;36m<module>\u001b[1;34m\u001b[0m\n\u001b[1;32m----> 1\u001b[1;33m \u001b[0ma\u001b[0m \u001b[1;33m=\u001b[0m \u001b[0mhap\u001b[0m\u001b[1;33m(\u001b[0m\u001b[1;36m1\u001b[0m\u001b[1;33m,\u001b[0m\u001b[1;36m2\u001b[0m\u001b[1;33m)\u001b[0m\u001b[1;33m\u001b[0m\u001b[1;33m\u001b[0m\u001b[0m\n\u001b[0m\u001b[0;32m      2\u001b[0m \u001b[0mprint\u001b[0m\u001b[1;33m(\u001b[0m\u001b[0ma\u001b[0m\u001b[1;33m)\u001b[0m\u001b[1;33m\u001b[0m\u001b[1;33m\u001b[0m\u001b[0m\n",
      "\u001b[1;31mTypeError\u001b[0m: hap() missing 1 required positional argument: 'c'"
     ]
    }
   ],
   "source": [
    "a = hap(1,2)\n",
    "print(a)"
   ]
  },
  {
   "cell_type": "code",
   "execution_count": 40,
   "id": "1b8707c1",
   "metadata": {
    "ExecuteTime": {
     "end_time": "2023-08-24T07:49:19.650696Z",
     "start_time": "2023-08-24T07:49:19.635666Z"
    }
   },
   "outputs": [],
   "source": [
    "def hap(a , b = 2, c =3) : # 값은 뒤에서부터 채워야한다.\n",
    "    return a + b+ c"
   ]
  },
  {
   "cell_type": "code",
   "execution_count": 41,
   "id": "4caaa1ee",
   "metadata": {
    "ExecuteTime": {
     "end_time": "2023-08-24T07:49:30.419706Z",
     "start_time": "2023-08-24T07:49:30.411596Z"
    }
   },
   "outputs": [
    {
     "name": "stdout",
     "output_type": "stream",
     "text": [
      "6\n"
     ]
    }
   ],
   "source": [
    "a = hap()\n",
    "print(a)"
   ]
  },
  {
   "cell_type": "code",
   "execution_count": 42,
   "id": "8ab8295f",
   "metadata": {
    "ExecuteTime": {
     "end_time": "2023-08-24T07:49:52.268184Z",
     "start_time": "2023-08-24T07:49:52.252381Z"
    }
   },
   "outputs": [
    {
     "name": "stdout",
     "output_type": "stream",
     "text": [
      "105\n"
     ]
    }
   ],
   "source": [
    "a = hap(100)\n",
    "print(a)"
   ]
  },
  {
   "cell_type": "code",
   "execution_count": 43,
   "id": "120537e8",
   "metadata": {
    "ExecuteTime": {
     "end_time": "2023-08-24T07:49:59.340801Z",
     "start_time": "2023-08-24T07:49:59.332435Z"
    }
   },
   "outputs": [
    {
     "name": "stdout",
     "output_type": "stream",
     "text": [
      "303\n"
     ]
    }
   ],
   "source": [
    "a = hap(100, 200)\n",
    "print(a)"
   ]
  },
  {
   "cell_type": "code",
   "execution_count": 45,
   "id": "ebf2b9bf",
   "metadata": {
    "ExecuteTime": {
     "end_time": "2023-08-24T07:52:03.713008Z",
     "start_time": "2023-08-24T07:52:03.699267Z"
    }
   },
   "outputs": [
    {
     "name": "stdout",
     "output_type": "stream",
     "text": [
      "600\n"
     ]
    }
   ],
   "source": [
    "a = hap(100, 200, 300)\n",
    "print(a)"
   ]
  },
  {
   "cell_type": "markdown",
   "id": "97725058",
   "metadata": {},
   "source": [
    "### 가변길이 파라미터\n",
    "\n",
    "- 매개변수의 개수와 상관없이 동작하도록 구현한 파라미터\n",
    "- 가변길이 매개변수를 구별하기 위해 변수명 앞에 '*'를 붙인다.."
   ]
  },
  {
   "cell_type": "code",
   "execution_count": 50,
   "id": "37a0c923",
   "metadata": {
    "ExecuteTime": {
     "end_time": "2023-08-24T08:01:46.523277Z",
     "start_time": "2023-08-24T08:01:46.511141Z"
    }
   },
   "outputs": [],
   "source": [
    "def adder(*ar):\n",
    "    res = 0\n",
    "    for i in ar:\n",
    "        res += i\n",
    "    return res"
   ]
  },
  {
   "cell_type": "code",
   "execution_count": 47,
   "id": "906258ce",
   "metadata": {
    "ExecuteTime": {
     "end_time": "2023-08-24T07:55:15.975435Z",
     "start_time": "2023-08-24T07:55:15.965513Z"
    }
   },
   "outputs": [],
   "source": [
    "def adder(a) :\n",
    "    res = 0\n",
    "    for i in a :\n",
    "        res += i\n",
    "    \n",
    "    return res"
   ]
  },
  {
   "cell_type": "code",
   "execution_count": 48,
   "id": "24caaa4f",
   "metadata": {
    "ExecuteTime": {
     "end_time": "2023-08-24T07:55:58.041326Z",
     "start_time": "2023-08-24T07:55:58.023426Z"
    }
   },
   "outputs": [
    {
     "name": "stdout",
     "output_type": "stream",
     "text": [
      "tot= 15\n"
     ]
    }
   ],
   "source": [
    "x = [1,2,3,4,5]\n",
    "\n",
    "tot = adder(x)\n",
    "print('tot=', tot)"
   ]
  },
  {
   "cell_type": "code",
   "execution_count": 51,
   "id": "9c67b9f3",
   "metadata": {
    "ExecuteTime": {
     "end_time": "2023-08-24T08:03:13.898893Z",
     "start_time": "2023-08-24T08:03:13.885870Z"
    }
   },
   "outputs": [
    {
     "ename": "TypeError",
     "evalue": "unsupported operand type(s) for +=: 'int' and 'tuple'",
     "output_type": "error",
     "traceback": [
      "\u001b[1;31m---------------------------------------------------------------------------\u001b[0m",
      "\u001b[1;31mTypeError\u001b[0m                                 Traceback (most recent call last)",
      "\u001b[1;32m<ipython-input-51-b77bfef55844>\u001b[0m in \u001b[0;36m<module>\u001b[1;34m\u001b[0m\n\u001b[0;32m      1\u001b[0m \u001b[0my\u001b[0m \u001b[1;33m=\u001b[0m \u001b[1;33m(\u001b[0m\u001b[1;36m2\u001b[0m\u001b[1;33m,\u001b[0m \u001b[1;36m4\u001b[0m\u001b[1;33m,\u001b[0m \u001b[1;36m6\u001b[0m\u001b[1;33m,\u001b[0m \u001b[1;36m8\u001b[0m\u001b[1;33m,\u001b[0m \u001b[1;36m10\u001b[0m\u001b[1;33m)\u001b[0m\u001b[1;33m\u001b[0m\u001b[1;33m\u001b[0m\u001b[0m\n\u001b[0;32m      2\u001b[0m \u001b[1;33m\u001b[0m\u001b[0m\n\u001b[1;32m----> 3\u001b[1;33m \u001b[0mtot\u001b[0m \u001b[1;33m=\u001b[0m \u001b[0madder\u001b[0m\u001b[1;33m(\u001b[0m\u001b[0my\u001b[0m\u001b[1;33m)\u001b[0m\u001b[1;33m\u001b[0m\u001b[1;33m\u001b[0m\u001b[0m\n\u001b[0m\u001b[0;32m      4\u001b[0m \u001b[1;33m\u001b[0m\u001b[0m\n\u001b[0;32m      5\u001b[0m \u001b[1;33m[\u001b[0m\u001b[0mprint\u001b[0m\u001b[1;33m(\u001b[0m\u001b[1;34m\"tot = \"\u001b[0m\u001b[1;33m,\u001b[0m \u001b[0mtot\u001b[0m\u001b[1;33m)\u001b[0m\u001b[1;33m]\u001b[0m\u001b[1;33m\u001b[0m\u001b[1;33m\u001b[0m\u001b[0m\n",
      "\u001b[1;32m<ipython-input-50-0b08ae6d888e>\u001b[0m in \u001b[0;36madder\u001b[1;34m(*ar)\u001b[0m\n\u001b[0;32m      2\u001b[0m     \u001b[0mres\u001b[0m \u001b[1;33m=\u001b[0m \u001b[1;36m0\u001b[0m\u001b[1;33m\u001b[0m\u001b[1;33m\u001b[0m\u001b[0m\n\u001b[0;32m      3\u001b[0m     \u001b[1;32mfor\u001b[0m \u001b[0mi\u001b[0m \u001b[1;32min\u001b[0m \u001b[0mar\u001b[0m\u001b[1;33m:\u001b[0m\u001b[1;33m\u001b[0m\u001b[1;33m\u001b[0m\u001b[0m\n\u001b[1;32m----> 4\u001b[1;33m         \u001b[0mres\u001b[0m \u001b[1;33m+=\u001b[0m \u001b[0mi\u001b[0m\u001b[1;33m\u001b[0m\u001b[1;33m\u001b[0m\u001b[0m\n\u001b[0m\u001b[0;32m      5\u001b[0m     \u001b[1;32mreturn\u001b[0m \u001b[0mres\u001b[0m\u001b[1;33m\u001b[0m\u001b[1;33m\u001b[0m\u001b[0m\n",
      "\u001b[1;31mTypeError\u001b[0m: unsupported operand type(s) for +=: 'int' and 'tuple'"
     ]
    }
   ],
   "source": [
    "y = (2, 4, 6, 8, 10)\n",
    "\n",
    "tot = adder(y)\n",
    "\n",
    "[print(\"tot = \", tot)]"
   ]
  },
  {
   "cell_type": "code",
   "execution_count": 52,
   "id": "aea834c0",
   "metadata": {
    "ExecuteTime": {
     "end_time": "2023-08-24T08:05:39.404535Z",
     "start_time": "2023-08-24T08:05:39.389947Z"
    }
   },
   "outputs": [],
   "source": [
    "def order(size, topping) :\n",
    "    print(\"\\n\" + size + \"피자를 주문하셨습니다.\\n토핑 :\", end = '')\n",
    "    for i in topping :\n",
    "        print(i + \",\", end = '')"
   ]
  },
  {
   "cell_type": "code",
   "execution_count": 53,
   "id": "55988e68",
   "metadata": {
    "ExecuteTime": {
     "end_time": "2023-08-24T08:07:58.005765Z",
     "start_time": "2023-08-24T08:07:57.994723Z"
    }
   },
   "outputs": [
    {
     "ename": "TypeError",
     "evalue": "order() takes 2 positional arguments but 4 were given",
     "output_type": "error",
     "traceback": [
      "\u001b[1;31m---------------------------------------------------------------------------\u001b[0m",
      "\u001b[1;31mTypeError\u001b[0m                                 Traceback (most recent call last)",
      "\u001b[1;32m<ipython-input-53-7a06000e3590>\u001b[0m in \u001b[0;36m<module>\u001b[1;34m\u001b[0m\n\u001b[1;32m----> 1\u001b[1;33m \u001b[0morder\u001b[0m\u001b[1;33m(\u001b[0m\u001b[1;34m'large'\u001b[0m\u001b[1;33m,\u001b[0m \u001b[1;34m'토마토'\u001b[0m\u001b[1;33m,\u001b[0m \u001b[1;34m'라임'\u001b[0m\u001b[1;33m,\u001b[0m \u001b[1;34m'파인애플'\u001b[0m\u001b[1;33m)\u001b[0m\u001b[1;33m\u001b[0m\u001b[1;33m\u001b[0m\u001b[0m\n\u001b[0m",
      "\u001b[1;31mTypeError\u001b[0m: order() takes 2 positional arguments but 4 were given"
     ]
    }
   ],
   "source": [
    "order('large', '토마토', '라임', '파인애플')"
   ]
  },
  {
   "cell_type": "markdown",
   "id": "8086a126",
   "metadata": {},
   "source": [
    "###  딕셔너리(사전)을 매개변수로 넘길때\n",
    "- 매개변수의 이름앞에 '**'를 붙인다."
   ]
  },
  {
   "cell_type": "code",
   "execution_count": 54,
   "id": "0fb3ad1b",
   "metadata": {
    "ExecuteTime": {
     "end_time": "2023-08-24T08:24:04.719792Z",
     "start_time": "2023-08-24T08:24:04.710754Z"
    }
   },
   "outputs": [],
   "source": [
    "def func(**kwargs):\n",
    "    print(kwargs)"
   ]
  },
  {
   "cell_type": "code",
   "execution_count": 55,
   "id": "8323a9ab",
   "metadata": {
    "ExecuteTime": {
     "end_time": "2023-08-24T08:25:10.679710Z",
     "start_time": "2023-08-24T08:25:10.664194Z"
    }
   },
   "outputs": [
    {
     "name": "stdout",
     "output_type": "stream",
     "text": [
      "{'name': 'aaa', 'age': 15, 'birth': '1992'}\n"
     ]
    }
   ],
   "source": [
    "func(name = 'aaa', age = 15, birth = '1992')"
   ]
  },
  {
   "cell_type": "code",
   "execution_count": 56,
   "id": "7dbfe90e",
   "metadata": {
    "ExecuteTime": {
     "end_time": "2023-08-24T08:26:08.041723Z",
     "start_time": "2023-08-24T08:26:08.024238Z"
    }
   },
   "outputs": [
    {
     "ename": "TypeError",
     "evalue": "func() takes 0 positional arguments but 3 were given",
     "output_type": "error",
     "traceback": [
      "\u001b[1;31m---------------------------------------------------------------------------\u001b[0m",
      "\u001b[1;31mTypeError\u001b[0m                                 Traceback (most recent call last)",
      "\u001b[1;32m<ipython-input-56-f1fc511835b5>\u001b[0m in \u001b[0;36m<module>\u001b[1;34m\u001b[0m\n\u001b[1;32m----> 1\u001b[1;33m \u001b[0mfunc\u001b[0m\u001b[1;33m(\u001b[0m\u001b[1;34m'aaa'\u001b[0m\u001b[1;33m,\u001b[0m \u001b[1;36m15\u001b[0m\u001b[1;33m,\u001b[0m \u001b[1;34m'1998'\u001b[0m\u001b[1;33m)\u001b[0m\u001b[1;33m\u001b[0m\u001b[1;33m\u001b[0m\u001b[0m\n\u001b[0m",
      "\u001b[1;31mTypeError\u001b[0m: func() takes 0 positional arguments but 3 were given"
     ]
    }
   ],
   "source": [
    "func('aaa', 15, '1998')"
   ]
  },
  {
   "cell_type": "markdown",
   "id": "9b50f1b4",
   "metadata": {
    "ExecuteTime": {
     "end_time": "2023-08-24T08:27:30.164773Z",
     "start_time": "2023-08-24T08:27:30.159228Z"
    }
   },
   "source": [
    "### 람다 함수(Lambda Function) or 람다 표현식(Lambda Expression)\n",
    "- 이름이 없는 함수(익명의 함수)\n",
    "- 매크로함수 or 인라인 함수\n",
    "- 인라인 함수 : 한줄로 구성된 함수\n",
    "- 함수가 간결하고 메모리를 절약하는 장점을 가지고있다.\n",
    "- 형식 : lambda 매개변수 : 표현식 / lambda 입력값 : 출력값"
   ]
  },
  {
   "cell_type": "code",
   "execution_count": 58,
   "id": "dcf8ade1",
   "metadata": {
    "ExecuteTime": {
     "end_time": "2023-08-24T08:29:23.249199Z",
     "start_time": "2023-08-24T08:29:23.236200Z"
    }
   },
   "outputs": [],
   "source": [
    "def plus(a):\n",
    "    return a + 1"
   ]
  },
  {
   "cell_type": "code",
   "execution_count": 59,
   "id": "bbf3d732",
   "metadata": {
    "ExecuteTime": {
     "end_time": "2023-08-24T08:29:30.104722Z",
     "start_time": "2023-08-24T08:29:30.086650Z"
    }
   },
   "outputs": [
    {
     "data": {
      "text/plain": [
       "46"
      ]
     },
     "execution_count": 59,
     "metadata": {},
     "output_type": "execute_result"
    }
   ],
   "source": [
    "print(plus(45))"
   ]
  },
  {
   "cell_type": "code",
   "execution_count": 61,
   "id": "d49658ee",
   "metadata": {
    "ExecuteTime": {
     "end_time": "2023-08-24T08:30:36.506988Z",
     "start_time": "2023-08-24T08:30:36.488980Z"
    }
   },
   "outputs": [
    {
     "name": "stdout",
     "output_type": "stream",
     "text": [
      "8\n"
     ]
    }
   ],
   "source": [
    "plus = lambda x : x + 1\n",
    "print(plus(7))"
   ]
  },
  {
   "cell_type": "code",
   "execution_count": 62,
   "id": "dc61b6f5",
   "metadata": {
    "ExecuteTime": {
     "end_time": "2023-08-24T08:36:26.438119Z",
     "start_time": "2023-08-24T08:36:26.423592Z"
    }
   },
   "outputs": [
    {
     "data": {
      "text/plain": [
       "False"
      ]
     },
     "execution_count": 62,
     "metadata": {},
     "output_type": "execute_result"
    }
   ],
   "source": [
    "is_even = lambda x : x % 2 == 0\n",
    "is_even(1)"
   ]
  },
  {
   "cell_type": "code",
   "execution_count": 63,
   "id": "f1708321",
   "metadata": {
    "ExecuteTime": {
     "end_time": "2023-08-24T08:36:48.877878Z",
     "start_time": "2023-08-24T08:36:48.869652Z"
    }
   },
   "outputs": [],
   "source": [
    "## map(함수, 집합객체=릿스트나 튜플)\n",
    "def add(x) :\n",
    "    return x + 2"
   ]
  },
  {
   "cell_type": "code",
   "execution_count": 64,
   "id": "2de41779",
   "metadata": {
    "ExecuteTime": {
     "end_time": "2023-08-24T08:37:31.792934Z",
     "start_time": "2023-08-24T08:37:31.780399Z"
    }
   },
   "outputs": [
    {
     "name": "stdout",
     "output_type": "stream",
     "text": [
      "[3, 4, 5, 6, 7]\n"
     ]
    }
   ],
   "source": [
    "result = list(map(add, [1,2,3,4,5]))\n",
    "print(result)"
   ]
  },
  {
   "cell_type": "code",
   "execution_count": 65,
   "id": "bfa25a8b",
   "metadata": {
    "ExecuteTime": {
     "end_time": "2023-08-24T08:38:52.069328Z",
     "start_time": "2023-08-24T08:38:52.057922Z"
    }
   },
   "outputs": [
    {
     "name": "stdout",
     "output_type": "stream",
     "text": [
      "[3, 4, 5, 6, 7]\n"
     ]
    }
   ],
   "source": [
    "result2 = list(map(lambda x : x + 2, [1, 2, 3, 4, 5]))\n",
    "print(result2)"
   ]
  },
  {
   "cell_type": "code",
   "execution_count": 67,
   "id": "f0b2b080",
   "metadata": {
    "ExecuteTime": {
     "end_time": "2023-08-24T08:42:47.476355Z",
     "start_time": "2023-08-24T08:42:47.471830Z"
    }
   },
   "outputs": [
    {
     "name": "stdout",
     "output_type": "stream",
     "text": [
      "[True, False, True, False, True, False, True, False, True, False]\n",
      "[0, 2, 4, 6, 8]\n"
     ]
    }
   ],
   "source": [
    "# filter(함수, 리스트나 튜플)\n",
    "# 리스트의 요소중 짝수만 추출하는 작업\n",
    "def is_even(x) :\n",
    "    return x % 2 == 0\n",
    "\n",
    "result1 = list(map(is_even, range(10)))\n",
    "print(result1)\n",
    "result2 = list(filter(is_even, range(10)))\n",
    "print(result2)"
   ]
  },
  {
   "cell_type": "code",
   "execution_count": 68,
   "id": "6e3a6cd0",
   "metadata": {
    "ExecuteTime": {
     "end_time": "2023-08-24T08:43:34.596811Z",
     "start_time": "2023-08-24T08:43:34.580193Z"
    }
   },
   "outputs": [
    {
     "name": "stdout",
     "output_type": "stream",
     "text": [
      "[0, 2, 4, 6, 8]\n"
     ]
    }
   ],
   "source": [
    "result3 = list(filter(lambda x : x % 2 == 0, range(10)))\n",
    "print(result3)"
   ]
  },
  {
   "cell_type": "code",
   "execution_count": 69,
   "id": "abfe1015",
   "metadata": {
    "ExecuteTime": {
     "end_time": "2023-08-24T08:45:00.881401Z",
     "start_time": "2023-08-24T08:45:00.865349Z"
    }
   },
   "outputs": [
    {
     "name": "stdout",
     "output_type": "stream",
     "text": [
      "True\n"
     ]
    }
   ],
   "source": [
    "print((lambda x : x % 2 == 0)(8))"
   ]
  },
  {
   "cell_type": "code",
   "execution_count": 76,
   "id": "645759a6",
   "metadata": {
    "ExecuteTime": {
     "end_time": "2023-08-24T08:50:20.099631Z",
     "start_time": "2023-08-24T08:50:20.089593Z"
    }
   },
   "outputs": [
    {
     "name": "stdout",
     "output_type": "stream",
     "text": [
      "[-8, -6, -4, -2, 1, 3, 5, 7, 9]\n"
     ]
    }
   ],
   "source": [
    "# 리스트에 입력된 값중 짝수를 음수로 변환하는 작업\n",
    "x  = [1,2,3,4,5,6,7,8,9]\n",
    "z = []\n",
    "xx = list(map(lambda x : -x,filter(lambda x : x % 2 == 0, x)))\n",
    "yy = list(filter(lambda x : x % 2 ==1, x))\n",
    "z = xx + yy\n",
    "print(sorted(z))"
   ]
  },
  {
   "cell_type": "markdown",
   "id": "fe60a07b",
   "metadata": {},
   "source": [
    "#### 리스트 내포"
   ]
  },
  {
   "cell_type": "code",
   "execution_count": null,
   "id": "5930696f",
   "metadata": {},
   "outputs": [],
   "source": []
  }
 ],
 "metadata": {
  "kernelspec": {
   "display_name": "Python 3",
   "language": "python",
   "name": "python3"
  },
  "language_info": {
   "codemirror_mode": {
    "name": "ipython",
    "version": 3
   },
   "file_extension": ".py",
   "mimetype": "text/x-python",
   "name": "python",
   "nbconvert_exporter": "python",
   "pygments_lexer": "ipython3",
   "version": "3.8.8"
  },
  "toc": {
   "base_numbering": 1,
   "nav_menu": {},
   "number_sections": true,
   "sideBar": true,
   "skip_h1_title": false,
   "title_cell": "Table of Contents",
   "title_sidebar": "Contents",
   "toc_cell": false,
   "toc_position": {},
   "toc_section_display": true,
   "toc_window_display": false
  },
  "varInspector": {
   "cols": {
    "lenName": 16,
    "lenType": 16,
    "lenVar": 40
   },
   "kernels_config": {
    "python": {
     "delete_cmd_postfix": "",
     "delete_cmd_prefix": "del ",
     "library": "var_list.py",
     "varRefreshCmd": "print(var_dic_list())"
    },
    "r": {
     "delete_cmd_postfix": ") ",
     "delete_cmd_prefix": "rm(",
     "library": "var_list.r",
     "varRefreshCmd": "cat(var_dic_list()) "
    }
   },
   "types_to_exclude": [
    "module",
    "function",
    "builtin_function_or_method",
    "instance",
    "_Feature"
   ],
   "window_display": false
  }
 },
 "nbformat": 4,
 "nbformat_minor": 5
}
