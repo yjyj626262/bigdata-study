{
 "cells": [
  {
   "cell_type": "markdown",
   "id": "002d6667",
   "metadata": {},
   "source": [
    "# 클래스"
   ]
  },
  {
   "cell_type": "code",
   "execution_count": 7,
   "id": "1c556a19",
   "metadata": {
    "ExecuteTime": {
     "end_time": "2023-08-28T00:18:28.799082Z",
     "start_time": "2023-08-28T00:18:28.790629Z"
    }
   },
   "outputs": [],
   "source": [
    "class Person:\n",
    "    # 멤버 필드 : 변수, 인스턴스 변수(개별적인), 클레스 변수(공유목적)\n",
    "    ## self : 인스턴스 자신의 주소값을 가르키는 키워드, 자기 자신, this\n",
    "    ## super ; 부모객체를 가르키는 키워드\n",
    "    \n",
    "    # 생성자 메서드 : 인스턴스 객체 생성시 자동으로 호출되는 메서드\n",
    "    ## 멤버필드를 초기화할 목적, 객체가 생성될 때 처음으로 해야할 작업을 기술\n",
    "     def __init__(self) :\n",
    "            print('객체 생성')\n",
    "    \n",
    "    # 멤버 메서드 : 함수, 행위나 동작 등을 기술할 때 사용\n",
    "     def walk(self) :\n",
    "            \n",
    "            print('사람이 걸어갑니다.')\n",
    "    \n",
    "     def run(self):\n",
    "            print('사람이 달려갑니다.')\n",
    "    \n",
    "    # 소멸자 메서드 : 객체가 소멸될 때 자동으로 호출출되는 메서드\n",
    "     def __del__(self):\n",
    "            print('객체 소멸')"
   ]
  },
  {
   "cell_type": "markdown",
   "id": "803c6ae3",
   "metadata": {},
   "source": [
    "## 인스턴스 객체 생성"
   ]
  },
  {
   "cell_type": "code",
   "execution_count": 8,
   "id": "3627a62a",
   "metadata": {
    "ExecuteTime": {
     "end_time": "2023-08-28T00:18:31.739396Z",
     "start_time": "2023-08-28T00:18:31.731429Z"
    }
   },
   "outputs": [
    {
     "name": "stdout",
     "output_type": "stream",
     "text": [
      "객체 생성\n",
      "사람이 걸어갑니다.\n",
      "사람이 달려갑니다.\n"
     ]
    }
   ],
   "source": [
    "p = Person() # default 생성자\n",
    "p.walk()\n",
    "p.run()"
   ]
  },
  {
   "cell_type": "code",
   "execution_count": 9,
   "id": "3ade59ed",
   "metadata": {
    "ExecuteTime": {
     "end_time": "2023-08-28T00:18:32.301452Z",
     "start_time": "2023-08-28T00:18:32.293550Z"
    }
   },
   "outputs": [
    {
     "name": "stdout",
     "output_type": "stream",
     "text": [
      "객체 생성\n",
      "사람이 걸어갑니다.\n",
      "사람이 달려갑니다.\n"
     ]
    }
   ],
   "source": [
    "p1 = Person()\n",
    "p1.walk()\n",
    "p1.run()"
   ]
  },
  {
   "cell_type": "markdown",
   "id": "a7099093",
   "metadata": {},
   "source": [
    "## Member field"
   ]
  },
  {
   "cell_type": "code",
   "execution_count": 33,
   "id": "e79ccd58",
   "metadata": {
    "ExecuteTime": {
     "end_time": "2023-08-28T00:27:10.386200Z",
     "start_time": "2023-08-28T00:27:10.379647Z"
    }
   },
   "outputs": [],
   "source": [
    "class Person:\n",
    "    \n",
    "    # 멤버 필드 : 변수, 인스턴스 변수(개별적인), 클레스 변수(공유목적)\n",
    "    ## self : 인스턴스 자신의 주소값을 가르키는 키워드, 자기 자신, this\n",
    "    ## super ; 부모객체를 가르키는 키워드\n",
    "    name = ' '\n",
    "    \n",
    "    # 생성자 메서드 : 인스턴스 객체 생성시 자동으로 호출되는 메서드\n",
    "    ## 멤버필드를 초기화할 목적, 객체가 생성될 때 처음으로 해야할 작업을 기술\n",
    "    def __init__(self) :\n",
    "            print('객체 생성')\n",
    "    \n",
    "    # 멤버 메서드 : 함수, 행위나 동작 등을 기술할 때 사용\n",
    "    def walk(self) :\n",
    "            print(self.name + '이 걸어갑니다.')\n",
    "    \n",
    "    def run(self):\n",
    "            print(self.name + '이 달려갑니다.')\n",
    "    \n",
    "    # 소멸자 메서드 : 객체가 소멸될 때 자동으로 호출출되는 메서드\n",
    "    def __del__(self):\n",
    "            print('객체 소멸')"
   ]
  },
  {
   "cell_type": "code",
   "execution_count": 26,
   "id": "b5b81b4d",
   "metadata": {
    "ExecuteTime": {
     "end_time": "2023-08-28T00:26:21.611330Z",
     "start_time": "2023-08-28T00:26:21.601118Z"
    }
   },
   "outputs": [
    {
     "name": "stdout",
     "output_type": "stream",
     "text": [
      "객체 생성\n",
      "홍길동이 걸어갑니다.\n",
      "홍길동이 달려갑니다.\n"
     ]
    }
   ],
   "source": [
    "p2 = Person()\n",
    "# 멤버 필드를 초기화시켜야한다.\n",
    "p2.name = '홍길동'\n",
    "p2.walk()\n",
    "p2.run()"
   ]
  },
  {
   "cell_type": "code",
   "execution_count": 34,
   "id": "140c36f7",
   "metadata": {
    "ExecuteTime": {
     "end_time": "2023-08-28T00:27:13.091598Z",
     "start_time": "2023-08-28T00:27:13.080689Z"
    }
   },
   "outputs": [
    {
     "name": "stdout",
     "output_type": "stream",
     "text": [
      "객체 생성\n",
      "객체 소멸\n",
      "장보고이 걸어갑니다.\n",
      "장보고이 달려갑니다.\n"
     ]
    }
   ],
   "source": [
    "p2 = Person()\n",
    "# 멤버 필드를 초기화시켜야한다.\n",
    "p2.name = '장보고'\n",
    "p2.walk()\n",
    "p2.run()"
   ]
  },
  {
   "cell_type": "code",
   "execution_count": 41,
   "id": "f209ee29",
   "metadata": {
    "ExecuteTime": {
     "end_time": "2023-08-28T00:29:41.323526Z",
     "start_time": "2023-08-28T00:29:41.313604Z"
    }
   },
   "outputs": [],
   "source": [
    "class Person:\n",
    "    \n",
    "    # 멤버 필드 : 변수, 인스턴스 변수(개별적인), 클레스 변수(공유목적)\n",
    "    ## self : 인스턴스 자신의 주소값을 가르키는 키워드, 자기 자신, this\n",
    "    ## super ; 부모객체를 가르키는 키워드\n",
    "    #name = ' '\n",
    "    \n",
    "    # 생성자 메서드 : 인스턴스 객체 생성시 자동으로 호출되는 메서드\n",
    "    ## 멤버필드를 초기화할 목적, 객체가 생성될 때 처음으로 해야할 작업을 기술\n",
    "    def __init__(self, name) :\n",
    "        print('객체 생성')\n",
    "        self.name = name\n",
    "    # 멤버 메서드 : 함수, 행위나 동작 등을 기술할 때 사용\n",
    "    def walk(self) :\n",
    "        print(self.name + '이 걸어갑니다.')\n",
    "    \n",
    "    def run(self):\n",
    "        print(self.name + '이 달려갑니다.')\n",
    "    \n",
    "    # 소멸자 메서드 : 객체가 소멸될 때 자동으로 호출출되는 메서드\n",
    "    def __del__(self):\n",
    "        print('객체 소멸')"
   ]
  },
  {
   "cell_type": "code",
   "execution_count": 43,
   "id": "175c64b1",
   "metadata": {
    "ExecuteTime": {
     "end_time": "2023-08-28T00:32:05.283974Z",
     "start_time": "2023-08-28T00:32:05.267393Z"
    }
   },
   "outputs": [
    {
     "name": "stdout",
     "output_type": "stream",
     "text": [
      "객체 생성\n",
      "이순신이 걸어갑니다.\n",
      "이순신이 달려갑니다.\n"
     ]
    }
   ],
   "source": [
    "p4 = Person(\"이순신\")\n",
    "p4.walk()\n",
    "p4.run()"
   ]
  },
  {
   "cell_type": "code",
   "execution_count": 50,
   "id": "e9c17562",
   "metadata": {
    "ExecuteTime": {
     "end_time": "2023-08-28T00:38:36.203302Z",
     "start_time": "2023-08-28T00:38:36.188661Z"
    }
   },
   "outputs": [],
   "source": [
    "class Person:\n",
    "    \n",
    "    # 멤버 필드 : 변수, 인스턴스 변수(개별적인), 클레스 변수(공유목적)\n",
    "    ## self : 인스턴스 자신의 주소값을 가르키는 키워드, 자기 자신, this\n",
    "    ## super ; 부모객체를 가르키는 키워드\n",
    "    #name = ' '\n",
    "    count = 0 # 객체가 생성될 때 마다 1씩 증가하는 누적변수\n",
    "    \n",
    "    # 생성자 메서드 : 인스턴스 객체 생성시 자동으로 호출되는 메서드\n",
    "    ## 멤버필드를 초기화할 목적, 객체가 생성될 때 처음으로 해야할 작업을 기술\n",
    "    def __init__(self, name) :\n",
    "        print('객체 생성')\n",
    "        self.name = name\n",
    "        Person.count += 1\n",
    "    # 멤버 메서드 : 함수, 행위나 동작 등을 기술할 때 사용\n",
    "    def walk(self) :\n",
    "        print(self.name + '이 걸어갑니다.')\n",
    "    \n",
    "    def run(self):\n",
    "        print(self.name + '이 달려갑니다.')\n",
    "        \n",
    "    def show(self) :\n",
    "        print('생성된 객체수 : ', Person.count)\n",
    "    \n",
    "    # 소멸자 메서드 : 객체가 소멸될 때 자동으로 호출출되는 메서드\n",
    "    def __del__(self):\n",
    "        print('객체 소멸')"
   ]
  },
  {
   "cell_type": "code",
   "execution_count": 51,
   "id": "cf3278c2",
   "metadata": {
    "ExecuteTime": {
     "end_time": "2023-08-28T00:38:36.707998Z",
     "start_time": "2023-08-28T00:38:36.693928Z"
    }
   },
   "outputs": [
    {
     "name": "stdout",
     "output_type": "stream",
     "text": [
      "객체 생성\n",
      "객체 소멸\n",
      "생성된 객체수 :  1\n"
     ]
    }
   ],
   "source": [
    "p1 = Person('aaa')\n",
    "p1.show()"
   ]
  },
  {
   "cell_type": "code",
   "execution_count": 52,
   "id": "f8766e5a",
   "metadata": {
    "ExecuteTime": {
     "end_time": "2023-08-28T00:38:37.440167Z",
     "start_time": "2023-08-28T00:38:37.429059Z"
    }
   },
   "outputs": [
    {
     "name": "stdout",
     "output_type": "stream",
     "text": [
      "객체 생성\n",
      "객체 소멸\n",
      "객체 생성\n",
      "객체 소멸\n",
      "생성된 객체수 :  3\n"
     ]
    }
   ],
   "source": [
    "p1 = Person('aaa')\n",
    "p2 = Person('bbb')\n",
    "p1.show()"
   ]
  },
  {
   "cell_type": "markdown",
   "id": "394d131c",
   "metadata": {},
   "source": [
    "## 클래스 변수 : 모든 인스턴스가 공유할 목적으로 구현하는 변수"
   ]
  },
  {
   "cell_type": "code",
   "execution_count": 53,
   "id": "90eab6a2",
   "metadata": {
    "ExecuteTime": {
     "end_time": "2023-08-28T00:44:11.614167Z",
     "start_time": "2023-08-28T00:44:11.598619Z"
    }
   },
   "outputs": [],
   "source": [
    "class Person :\n",
    "    # 멤버 필드 = 프로퍼티(Property)\n",
    "    name = 'kim'\n",
    "    age = 20\n",
    "    height = 180.5\n",
    "    \n",
    "    # 멤버 메서드\n",
    "    def disp(self) :\n",
    "        ## self.변수 : 인스턴스 변수 - 개별적인 값\n",
    "        print('이름 : ', self.name)\n",
    "        print('나이 : ', self.age)\n",
    "        print('신장 : ', self.height)\n",
    "        print('-' * 50)\n",
    "        ## class명.변수 : 클래스 변수 - 공통적인 값\n",
    "        print('이름 : ', Person.name)\n",
    "        print('나이 : ', Person.age)\n",
    "        print('신장 : ', Person.height)"
   ]
  },
  {
   "cell_type": "code",
   "execution_count": 54,
   "id": "1cc0ead2",
   "metadata": {
    "ExecuteTime": {
     "end_time": "2023-08-28T00:44:37.975340Z",
     "start_time": "2023-08-28T00:44:37.962732Z"
    }
   },
   "outputs": [
    {
     "name": "stdout",
     "output_type": "stream",
     "text": [
      "객체 소멸\n",
      "이름 :  kim\n",
      "나이 :  20\n",
      "신장 :  180.5\n",
      "--------------------------------------------------\n",
      "이름 :  kim\n",
      "나이 :  20\n",
      "신장 :  180.5\n"
     ]
    }
   ],
   "source": [
    "p1 = Person()\n",
    "p1.disp()"
   ]
  },
  {
   "cell_type": "code",
   "execution_count": 69,
   "id": "e07aa5e2",
   "metadata": {
    "ExecuteTime": {
     "end_time": "2023-08-28T01:06:37.802627Z",
     "start_time": "2023-08-28T01:06:37.790305Z"
    }
   },
   "outputs": [
    {
     "name": "stdout",
     "output_type": "stream",
     "text": [
      "이름 :  park\n",
      "나이 :  15\n",
      "신장 :  160.3\n",
      "--------------------------------------------------\n",
      "이름 :  kim\n",
      "나이 :  20\n",
      "신장 :  180.5\n",
      "이름 :  park\n",
      "나이 :  15\n",
      "신장 :  160.3\n",
      "--------------------------------------------------\n",
      "이름 :  him\n",
      "나이 :  20\n",
      "신장 :  180.5\n"
     ]
    }
   ],
   "source": [
    "p2 = Person()\n",
    "p2.name = 'park'\n",
    "p2.age = 15\n",
    "p2.height = 160.3\n",
    "p2.disp()\n",
    "Person.name = \"him\"\n",
    "p2.disp()"
   ]
  },
  {
   "cell_type": "code",
   "execution_count": 59,
   "id": "be79f92d",
   "metadata": {
    "ExecuteTime": {
     "end_time": "2023-08-28T00:48:20.017146Z",
     "start_time": "2023-08-28T00:48:20.003350Z"
    }
   },
   "outputs": [
    {
     "name": "stdout",
     "output_type": "stream",
     "text": [
      "이름 :  hong\n",
      "나이 :  15\n",
      "신장 :  160.3\n",
      "--------------------------------------------------\n",
      "이름 :  kim\n",
      "나이 :  20\n",
      "신장 :  180.5\n"
     ]
    }
   ],
   "source": [
    "p3 = p2 # 객체 복사\n",
    "p3.name = 'hong'\n",
    "p3.disp()"
   ]
  },
  {
   "cell_type": "code",
   "execution_count": 60,
   "id": "6afef906",
   "metadata": {
    "ExecuteTime": {
     "end_time": "2023-08-28T00:48:21.191532Z",
     "start_time": "2023-08-28T00:48:21.185448Z"
    }
   },
   "outputs": [
    {
     "name": "stdout",
     "output_type": "stream",
     "text": [
      "이름 :  hong\n",
      "나이 :  15\n",
      "신장 :  160.3\n",
      "--------------------------------------------------\n",
      "이름 :  kim\n",
      "나이 :  20\n",
      "신장 :  180.5\n"
     ]
    }
   ],
   "source": [
    "p2.disp()"
   ]
  },
  {
   "cell_type": "markdown",
   "id": "9b4590c2",
   "metadata": {},
   "source": [
    "## default parameter : 매개변수의 초기화"
   ]
  },
  {
   "cell_type": "code",
   "execution_count": 61,
   "id": "68c6aea8",
   "metadata": {
    "ExecuteTime": {
     "end_time": "2023-08-28T01:01:56.938518Z",
     "start_time": "2023-08-28T01:01:56.920768Z"
    }
   },
   "outputs": [],
   "source": [
    "class Member :\n",
    "    # 생성자 메서드\n",
    "    def __init__(self, userid, pwd, name) :\n",
    "        self.userid = userid\n",
    "        self.pwd = pwd\n",
    "        self.name = name\n",
    "        \n",
    "    def show(self):\n",
    "        print('id : ', self.userid)\n",
    "        print('pass : ', self.pwd)\n",
    "        print('name : ', self.name)"
   ]
  },
  {
   "cell_type": "code",
   "execution_count": 63,
   "id": "4e6df461",
   "metadata": {
    "ExecuteTime": {
     "end_time": "2023-08-28T01:03:44.929054Z",
     "start_time": "2023-08-28T01:03:44.919553Z"
    }
   },
   "outputs": [
    {
     "name": "stdout",
     "output_type": "stream",
     "text": [
      "id :  aaa\n",
      "pass :  1234\n",
      "name :  홍길동\n"
     ]
    }
   ],
   "source": [
    "m = Member('aaa', '1234', '홍길동')\n",
    "m.show()"
   ]
  },
  {
   "cell_type": "code",
   "execution_count": 64,
   "id": "13a93794",
   "metadata": {
    "ExecuteTime": {
     "end_time": "2023-08-28T01:04:23.137278Z",
     "start_time": "2023-08-28T01:04:23.123251Z"
    }
   },
   "outputs": [],
   "source": [
    "class Member :\n",
    "    # 생성자 메서드\n",
    "    def __init__(self, userid, pwd, name = '', age = 0) :\n",
    "        self.userid = userid\n",
    "        self.pwd = pwd\n",
    "        self.name = name\n",
    "        self.age = age\n",
    "        \n",
    "    def show(self):\n",
    "        print('id : ', self.userid)\n",
    "        print('pass : ', self.pwd)\n",
    "        print('name : ', self.name)\n",
    "        print('age : ', self.age)"
   ]
  },
  {
   "cell_type": "code",
   "execution_count": 65,
   "id": "07edc601",
   "metadata": {
    "ExecuteTime": {
     "end_time": "2023-08-28T01:04:55.258584Z",
     "start_time": "2023-08-28T01:04:55.253080Z"
    }
   },
   "outputs": [
    {
     "name": "stdout",
     "output_type": "stream",
     "text": [
      "id :  bbb\n",
      "pass :  1234\n",
      "name :  \n",
      "age :  0\n"
     ]
    }
   ],
   "source": [
    "m1 = Member('bbb', '1234')\n",
    "m1.show()"
   ]
  },
  {
   "cell_type": "code",
   "execution_count": 66,
   "id": "82f74522",
   "metadata": {
    "ExecuteTime": {
     "end_time": "2023-08-28T01:05:35.658888Z",
     "start_time": "2023-08-28T01:05:35.640588Z"
    }
   },
   "outputs": [
    {
     "name": "stdout",
     "output_type": "stream",
     "text": [
      "id :  ccc\n",
      "pass :  1234\n",
      "name :  강아지\n",
      "age :  4\n"
     ]
    }
   ],
   "source": [
    "m2 = Member('ccc', '1234', '강아지', '4')\n",
    "m2.show()"
   ]
  },
  {
   "cell_type": "markdown",
   "id": "57a0e961",
   "metadata": {},
   "source": [
    "# 상속\n",
    "\n",
    "- 기반클래스, 부모클래스, 슈퍼클래스\n",
    "- 파생클래스, 자녀클래스, 서브클래스"
   ]
  },
  {
   "cell_type": "code",
   "execution_count": 70,
   "id": "137ba21e",
   "metadata": {
    "ExecuteTime": {
     "end_time": "2023-08-28T01:07:54.839950Z",
     "start_time": "2023-08-28T01:07:54.826663Z"
    }
   },
   "outputs": [],
   "source": [
    "# 상속의 기본 구문\n",
    "class 기반클래스이름:\n",
    "    pass\n",
    "class 파생클래스이름(기반클래스이름) :\n",
    "    pass"
   ]
  },
  {
   "cell_type": "code",
   "execution_count": 71,
   "id": "91d124bc",
   "metadata": {
    "ExecuteTime": {
     "end_time": "2023-08-28T01:09:14.926864Z",
     "start_time": "2023-08-28T01:09:14.920716Z"
    }
   },
   "outputs": [],
   "source": [
    "class Person :\n",
    "    def greeting(self):\n",
    "        print('안녕하세요')\n",
    "        \n",
    "class Student(Person):\n",
    "    def study(self):\n",
    "        print('공부하기')"
   ]
  },
  {
   "cell_type": "code",
   "execution_count": 72,
   "id": "a7015a5b",
   "metadata": {
    "ExecuteTime": {
     "end_time": "2023-08-28T01:10:09.571789Z",
     "start_time": "2023-08-28T01:10:09.555525Z"
    }
   },
   "outputs": [
    {
     "name": "stdout",
     "output_type": "stream",
     "text": [
      "안녕하세요\n",
      "공부하기\n"
     ]
    }
   ],
   "source": [
    "# 상속의 기본 : 자식 객체를 이용해 부모 객체에 접근이 허용된다.\n",
    "a = Student()\n",
    "a.greeting()\n",
    "a.study()"
   ]
  },
  {
   "cell_type": "code",
   "execution_count": 73,
   "id": "ae8606fe",
   "metadata": {
    "ExecuteTime": {
     "end_time": "2023-08-28T01:10:51.544419Z",
     "start_time": "2023-08-28T01:10:51.530503Z"
    }
   },
   "outputs": [
    {
     "data": {
      "text/plain": [
       "True"
      ]
     },
     "execution_count": 73,
     "metadata": {},
     "output_type": "execute_result"
    }
   ],
   "source": [
    "# 상속관계확인\n",
    "issubclass(Student, Person)"
   ]
  },
  {
   "cell_type": "code",
   "execution_count": 76,
   "id": "f020ad1e",
   "metadata": {
    "ExecuteTime": {
     "end_time": "2023-08-28T01:19:11.324245Z",
     "start_time": "2023-08-28T01:19:11.307120Z"
    }
   },
   "outputs": [],
   "source": [
    "# 반드시  자식객체는 부모객체의 멤버를 초기화시킬 의무가 있다.\n",
    "## 부모객체가 생성자 메서드를 가지고 있다면 반드시 자식 객체도 생성자 메서드를 기술해야 한다.\n",
    "class Person :\n",
    "    def __init__(self):\n",
    "        print('Person.__init__')\n",
    "        self.hello = '안녕하세요'\n",
    "    \n",
    "class Student(Person):\n",
    "    def __init__(self):\n",
    "        super().__init__()\n",
    "        print('Student.__init__')\n",
    "        self.school = '파이썬 공부'"
   ]
  },
  {
   "cell_type": "code",
   "execution_count": 78,
   "id": "8c60f8d0",
   "metadata": {
    "ExecuteTime": {
     "end_time": "2023-08-28T01:19:16.637157Z",
     "start_time": "2023-08-28T01:19:16.622485Z"
    }
   },
   "outputs": [
    {
     "name": "stdout",
     "output_type": "stream",
     "text": [
      "Person.__init__\n",
      "Student.__init__\n",
      "파이썬 공부\n",
      "안녕하세요\n"
     ]
    }
   ],
   "source": [
    "b = Student()\n",
    "print(b.school)\n",
    "print(b.hello)"
   ]
  },
  {
   "cell_type": "markdown",
   "id": "c44062d4",
   "metadata": {},
   "source": [
    "## 오버라이딩(overriding) : 재정의"
   ]
  },
  {
   "cell_type": "code",
   "execution_count": 79,
   "id": "b79217e1",
   "metadata": {
    "ExecuteTime": {
     "end_time": "2023-08-28T01:22:46.089572Z",
     "start_time": "2023-08-28T01:22:46.077028Z"
    }
   },
   "outputs": [],
   "source": [
    "class Person :\n",
    "    def greeting(self) :\n",
    "        print('안녕하세요')\n",
    "        \n",
    "class Student(Person) :\n",
    "    def treeting(self) :\n",
    "        print('나는 파이썬을 공부하는 학생입니다.')\n",
    "    "
   ]
  },
  {
   "cell_type": "code",
   "execution_count": 80,
   "id": "81b4a462",
   "metadata": {
    "ExecuteTime": {
     "end_time": "2023-08-28T01:25:40.881217Z",
     "start_time": "2023-08-28T01:25:40.872000Z"
    }
   },
   "outputs": [
    {
     "name": "stdout",
     "output_type": "stream",
     "text": [
      "안녕하세요\n"
     ]
    }
   ],
   "source": [
    "# 부모와 자식객체가 같은 이름의 메서드를 가질 수 있다.\n",
    "# 해당 메서드를 호출하면 자식 객체의 메서드가 호출된다.\n",
    "c  = Student()\n",
    "c.greeting()"
   ]
  },
  {
   "cell_type": "markdown",
   "id": "e4e126b2",
   "metadata": {},
   "source": [
    "## 도형을 입력받아 출력하는 프로그램<br>\n",
    "<br>\n",
    "### 처리조건<br>\n",
    "1. 10개의 도형을 입력받아 출력하는 프로그램을 구현한다.<br>\n",
    "2. 도형은 사용자가 원하는 객체를 받아서 처리하도록 구현한다.<br>\n",
    "3. 점, 원, 사각형 중 선택하여 입력받되, 10개가 넘으면 입력을 받을 수 없도록 구현한다.<br>\n",
    "4. 주어진 입출력 형식에 맞게 프로그램을 구현할 것<br>\n",
    "<br>\n",
    "### 입력 및 출력형식<br>\n",
    "입력(1.원 2.사각형 3.도형출력 4.종료)<br>\n",
    "선택 = 1<br>\n",
    "x = 6<br>\n",
    "y = 9<br>\n",
    "r = 5<br>\n",
    "<br>\n",
    "입력(1.원 2.사각형 3.도형출력 4.종료)<br>\n",
    "선택 = 2<br>\n",
    "x = 3<br>\n",
    "y = 3<br>\n",
    "h = 7<br>\n",
    "w = 20<br>\n",
    "<br>\n",
    "입력(1.원 2.사각형 3.도형출력 4.종료)<br>\n",
    "선택 = 3<br>\n",
    "점(x, y) = (6, 9)<br>\n",
    "반지름(r) = 5<br>\n",
    "<br>\n",
    "점(x, y) = (3, 3)<br>\n",
    "높이(h) = 7, 너비(w) = 20<br>\n",
    "<br>\n",
    "입력(1.원 2.사각형 3.도형출력 4.종료)<br>\n",
    "선택 =<br>"
   ]
  },
  {
   "cell_type": "code",
   "execution_count": 86,
   "id": "15c89a20",
   "metadata": {
    "ExecuteTime": {
     "end_time": "2023-08-28T01:45:57.976453Z",
     "start_time": "2023-08-28T01:45:57.960927Z"
    }
   },
   "outputs": [],
   "source": [
    "# 기반 클래스\n",
    "## 평면 위의 한 점을 추상화하는 클래스\n",
    "class Point :\n",
    "    # 멤버 필드\n",
    "    def __init__(self) :\n",
    "        self.x = eval(input('x = '))\n",
    "        self.y = eval(input('y = '))\n",
    "        \n",
    "    # 멤버 메서드\n",
    "    def disp(self) :\n",
    "        print(f'점(x, y) = ({self.x}, {self.y})')"
   ]
  },
  {
   "cell_type": "code",
   "execution_count": 87,
   "id": "30feeaa8",
   "metadata": {
    "ExecuteTime": {
     "end_time": "2023-08-28T01:46:01.853007Z",
     "start_time": "2023-08-28T01:45:58.371138Z"
    }
   },
   "outputs": [
    {
     "name": "stdout",
     "output_type": "stream",
     "text": [
      "x = 1\n",
      "y = 2\n",
      "점(x, y) = (1, 2)\n"
     ]
    }
   ],
   "source": [
    "ap = Point() # __init__() 호출\n",
    "ap.disp()"
   ]
  },
  {
   "cell_type": "code",
   "execution_count": 88,
   "id": "2d0e0579",
   "metadata": {
    "ExecuteTime": {
     "end_time": "2023-08-28T01:46:07.332726Z",
     "start_time": "2023-08-28T01:46:07.322615Z"
    }
   },
   "outputs": [],
   "source": [
    "# 파생 클래스\n",
    "## 반지름을 입력받아 원을 추상화하는 클래스\n",
    "class Circle(Point) :\n",
    "    # 생성자 메서드\n",
    "    def __init__(self) :\n",
    "        Point.__init__(self)\n",
    "        self.r = eval(input('r = '))\n",
    "        \n",
    "    # 멤버 메서드 : 오버라이딩\n",
    "    def disp(self) :\n",
    "        Point.disp(self)\n",
    "        print(f\"반지름(r) = {self.r}\")"
   ]
  },
  {
   "cell_type": "code",
   "execution_count": 89,
   "id": "03cac35d",
   "metadata": {
    "ExecuteTime": {
     "end_time": "2023-08-28T01:46:10.054340Z",
     "start_time": "2023-08-28T01:46:07.808921Z"
    }
   },
   "outputs": [
    {
     "name": "stdout",
     "output_type": "stream",
     "text": [
      "x = 1\n",
      "y = 2\n",
      "r = 3\n",
      "점(x, y) = (1, 2)\n",
      "반지름(r) = 3\n"
     ]
    }
   ],
   "source": [
    "ac = Circle()\n",
    "ac.disp()"
   ]
  },
  {
   "cell_type": "code",
   "execution_count": 94,
   "id": "bc3a47c1",
   "metadata": {
    "ExecuteTime": {
     "end_time": "2023-08-28T01:47:18.394032Z",
     "start_time": "2023-08-28T01:47:18.384029Z"
    }
   },
   "outputs": [],
   "source": [
    "# 파생클래스\n",
    "## 가로와 세로 길이를 이용하나 사각형을 추상화하는 클래스\n",
    "class Rect(Point):\n",
    "    def __init__(self) :\n",
    "        Point.__init__(self)\n",
    "        self.h = eval(input('h = '))\n",
    "        self.w = eval(input('w = '))\n",
    "        \n",
    "    def disp(self):\n",
    "        Point.disp(self)\n",
    "        print(f\"높이(h) = {self.h}, 너비(w) = {self.w}\")"
   ]
  },
  {
   "cell_type": "code",
   "execution_count": 95,
   "id": "12fd2eaa",
   "metadata": {
    "ExecuteTime": {
     "end_time": "2023-08-28T01:47:20.491679Z",
     "start_time": "2023-08-28T01:47:19.010999Z"
    }
   },
   "outputs": [
    {
     "name": "stdout",
     "output_type": "stream",
     "text": [
      "x = 1\n",
      "y = 2\n",
      "h = 3\n",
      "w = 4\n",
      "점(x, y) = (1, 2)\n",
      "높이(h) = 3, 너비(w) = 4\n"
     ]
    }
   ],
   "source": [
    "ar = Rect()\n",
    "ar.disp()"
   ]
  },
  {
   "cell_type": "code",
   "execution_count": 97,
   "id": "a9ab842e",
   "metadata": {
    "ExecuteTime": {
     "end_time": "2023-08-28T01:59:10.318963Z",
     "start_time": "2023-08-28T01:59:04.491275Z"
    }
   },
   "outputs": [
    {
     "name": "stdout",
     "output_type": "stream",
     "text": [
      "\n",
      "도형(1.원 2.사각형 3.도형출력 4.종료) = \n",
      "선택 = 1\n",
      "x = a\n",
      "y = a\n",
      "r = 4\n",
      "도형이 입력되었습니다.\n",
      "\n",
      "도형(1.원 2.사각형 3.도형출력 4.종료) = \n",
      "선택 = 4\n",
      "프로그램을 종료합니다.\n"
     ]
    }
   ],
   "source": [
    "# main processor\n",
    "\n",
    "## 컨테이너 객체\n",
    "data = list()\n",
    "\n",
    "for i in range(10):\n",
    "    # 메뉴 출력\n",
    "    print('\\n도형(1.원 2.사각형 3.도형출력 4.종료) = ')\n",
    "    menu = int(input('선택 = '))\n",
    "    \n",
    "    # 선택에 따른 로직 구현\n",
    "    if menu == 1 :\n",
    "        c = Circle()\n",
    "        data.append(c)\n",
    "        print('도형이 입력되었습니다.')\n",
    "    elif menu == 2 :\n",
    "        r = Rect()\n",
    "        data.append(r)\n",
    "        print('도형이 입력되었습니다.')\n",
    "    elif menu == 3 :\n",
    "        if len(data) == 0:\n",
    "            print('입력된 도형이 존재하지 않습니다.')\n",
    "        else :\n",
    "            for a in data:\n",
    "                a.disp()\n",
    "        # i가 누적된걸 빼줘야 한다. 도형입력이 아니니깐\n",
    "        i -= 1\n",
    "    elif menu == 4 :\n",
    "        # 리스트 객체 삭제\n",
    "        data.clear()\n",
    "        break\n",
    "    else :\n",
    "        print('메뉴의 선택이 올바르지 않습니다.')\n",
    "        # i가 누적된걸 빼줘야 한다. 도형입력이 아니니깐\n",
    "        i -= 1\n",
    "        \n",
    "# 작업종료\n",
    "print('프로그램을 종료합니다.')"
   ]
  },
  {
   "cell_type": "markdown",
   "id": "45d98fe7",
   "metadata": {},
   "source": [
    "## 다중상속"
   ]
  },
  {
   "cell_type": "code",
   "execution_count": 99,
   "id": "b1980a93",
   "metadata": {
    "ExecuteTime": {
     "end_time": "2023-08-28T02:21:56.849831Z",
     "start_time": "2023-08-28T02:21:56.833762Z"
    }
   },
   "outputs": [],
   "source": [
    "class Phone :\n",
    "    def call(self) :\n",
    "        print('통화가능')\n",
    "        \n",
    "class Camera :\n",
    "    def picture(self) :\n",
    "        print('촬영가능')\n",
    "        \n",
    "# 다중상속 구문\n",
    "class CameraPhone(Phone,Camera) :\n",
    "    def pictureCall(self) :\n",
    "        print('영상통화 가능')"
   ]
  },
  {
   "cell_type": "code",
   "execution_count": 100,
   "id": "0a64ed81",
   "metadata": {
    "ExecuteTime": {
     "end_time": "2023-08-28T02:22:28.334353Z",
     "start_time": "2023-08-28T02:22:28.321138Z"
    }
   },
   "outputs": [
    {
     "name": "stdout",
     "output_type": "stream",
     "text": [
      "영상통화 가능\n",
      "촬영가능\n",
      "통화가능\n"
     ]
    }
   ],
   "source": [
    "p = CameraPhone()\n",
    "p.pictureCall()\n",
    "p.picture()\n",
    "p.call()"
   ]
  },
  {
   "cell_type": "markdown",
   "id": "3a832df4",
   "metadata": {},
   "source": [
    "# 파이썬 언더바, 언더스코어, 밑줄 개념"
   ]
  },
  {
   "cell_type": "markdown",
   "id": "f9792268",
   "metadata": {},
   "source": [
    "## 언더바(언더스코어, 밑줄)\n",
    "- 인터프리터에서의 마지막 값\n",
    "- 무시하는 값\n",
    "- 숫자 자릿수 구분\n",
    "- (앞 언더바 1개) 모듈내에서만 변수/ 함수를 사용할 때\n",
    "- (뒤 언더바 1개) 파이썬 변수/함수명 충돌을 피하기 위해\n",
    "- (앞 언더바 2개) 네임 맹글링\n",
    "- (앞뒤 언더바 2개씩) 매직 메소드"
   ]
  },
  {
   "cell_type": "code",
   "execution_count": 101,
   "id": "97c83c2d",
   "metadata": {
    "ExecuteTime": {
     "end_time": "2023-08-28T02:27:39.448313Z",
     "start_time": "2023-08-28T02:27:39.436555Z"
    }
   },
   "outputs": [
    {
     "data": {
      "text/plain": [
       "7"
      ]
     },
     "execution_count": 101,
     "metadata": {},
     "output_type": "execute_result"
    }
   ],
   "source": [
    "3+4\n",
    "_*7"
   ]
  },
  {
   "cell_type": "code",
   "execution_count": 102,
   "id": "c525c24f",
   "metadata": {
    "ExecuteTime": {
     "end_time": "2023-08-28T02:27:50.286673Z",
     "start_time": "2023-08-28T02:27:50.280307Z"
    }
   },
   "outputs": [
    {
     "data": {
      "text/plain": [
       "49"
      ]
     },
     "execution_count": 102,
     "metadata": {},
     "output_type": "execute_result"
    }
   ],
   "source": [
    "_*7\n"
   ]
  },
  {
   "cell_type": "code",
   "execution_count": 103,
   "id": "e48b7e68",
   "metadata": {
    "ExecuteTime": {
     "end_time": "2023-08-28T02:29:09.003875Z",
     "start_time": "2023-08-28T02:29:08.988477Z"
    }
   },
   "outputs": [
    {
     "name": "stdout",
     "output_type": "stream",
     "text": [
      "hi\n",
      "hi\n",
      "hi\n",
      "hi\n",
      "hi\n"
     ]
    }
   ],
   "source": [
    "for i in range(5): # 0, 1, 2, 3, 4\n",
    "    print('hi')\n",
    "    "
   ]
  },
  {
   "cell_type": "code",
   "execution_count": 105,
   "id": "ede134c5",
   "metadata": {
    "ExecuteTime": {
     "end_time": "2023-08-28T02:31:06.975958Z",
     "start_time": "2023-08-28T02:31:06.960372Z"
    }
   },
   "outputs": [
    {
     "name": "stdout",
     "output_type": "stream",
     "text": [
      "1\n",
      "2\n",
      "3\n",
      "4\n",
      "5\n"
     ]
    }
   ],
   "source": [
    "a = [1,2,3,4,5] # packing(패킹)\n",
    "aa, bb, _, dd, ee = a # unpacking(언패킹)\n",
    "print(aa)\n",
    "print(bb)\n",
    "print(_)\n",
    "print(dd)\n",
    "print(ee)"
   ]
  },
  {
   "cell_type": "code",
   "execution_count": 106,
   "id": "82c61f04",
   "metadata": {
    "ExecuteTime": {
     "end_time": "2023-08-28T02:34:47.140458Z",
     "start_time": "2023-08-28T02:34:47.125350Z"
    }
   },
   "outputs": [
    {
     "name": "stdout",
     "output_type": "stream",
     "text": [
      "1\n"
     ]
    }
   ],
   "source": [
    "# 가변길이 매개변수 : *변수명\n",
    "list01 = [1,2,3,4,5]\n",
    "a, *_, e = list01\n",
    "print(a)"
   ]
  },
  {
   "cell_type": "code",
   "execution_count": null,
   "id": "a04be892",
   "metadata": {},
   "outputs": [],
   "source": []
  }
 ],
 "metadata": {
  "kernelspec": {
   "display_name": "Python 3",
   "language": "python",
   "name": "python3"
  },
  "language_info": {
   "codemirror_mode": {
    "name": "ipython",
    "version": 3
   },
   "file_extension": ".py",
   "mimetype": "text/x-python",
   "name": "python",
   "nbconvert_exporter": "python",
   "pygments_lexer": "ipython3",
   "version": "3.8.8"
  },
  "toc": {
   "base_numbering": 1,
   "nav_menu": {},
   "number_sections": true,
   "sideBar": true,
   "skip_h1_title": false,
   "title_cell": "Table of Contents",
   "title_sidebar": "Contents",
   "toc_cell": false,
   "toc_position": {},
   "toc_section_display": true,
   "toc_window_display": false
  },
  "varInspector": {
   "cols": {
    "lenName": 16,
    "lenType": 16,
    "lenVar": 40
   },
   "kernels_config": {
    "python": {
     "delete_cmd_postfix": "",
     "delete_cmd_prefix": "del ",
     "library": "var_list.py",
     "varRefreshCmd": "print(var_dic_list())"
    },
    "r": {
     "delete_cmd_postfix": ") ",
     "delete_cmd_prefix": "rm(",
     "library": "var_list.r",
     "varRefreshCmd": "cat(var_dic_list()) "
    }
   },
   "types_to_exclude": [
    "module",
    "function",
    "builtin_function_or_method",
    "instance",
    "_Feature"
   ],
   "window_display": false
  }
 },
 "nbformat": 4,
 "nbformat_minor": 5
}
