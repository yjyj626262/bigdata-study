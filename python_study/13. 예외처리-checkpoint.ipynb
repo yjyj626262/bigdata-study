{
 "cells": [
  {
   "cell_type": "markdown",
   "id": "1149c4f4",
   "metadata": {},
   "source": [
    "# 에러와 예외\n",
    "\n",
    "1. 에러(Syntax Error)\n",
    "  - 문법적 에러\n",
    "  - 파이썬은 상대적으로 언어적 문법이 간단하므로 구문 자체의 에러 발생 비율이 낮다\n",
    "\n",
    "2. 예외(Exception)\n",
    "  - 구문 에러는 없으나 프로그램 실행 중 더 이상 진행할 수 없는 상황\n",
    "  - 예외가 발생하면 프로그램은 바로 종료된다.\n",
    "  - 개발자에 의해 임의로 또는 강제로 발생시키는 에러\n",
    "\n",
    "3. 예외처리 방법\n",
    "  try 구문 : 예외가 발생할 만한 문구를 기술\n",
    "  except Exception : 예외가 발생했을 때 실행할 문장 기술\n",
    "  elsse : 예외가 발생하지 않았을 때 실행할 문장 기술\n",
    "  finally : 예외와 상관없이 실행할 문장을 기술"
   ]
  },
  {
   "cell_type": "code",
   "execution_count": null,
   "id": "5f2c5605",
   "metadata": {
    "ExecuteTime": {
     "end_time": "2023-08-28T08:30:40.723979Z",
     "start_time": "2023-08-28T08:30:40.585733Z"
    },
    "scrolled": true
   },
   "outputs": [],
   "source": [
    "# 일반적인 프로그램의 흐름은 위에서 아래로, 좌에서 우로 진행된다.\n",
    "print('start')\n",
    "4/0\n",
    "print('end')"
   ]
  },
  {
   "cell_type": "markdown",
   "id": "a5563314",
   "metadata": {},
   "source": [
    "- 파이썬 내장 예외의 종류\n",
    "https://docs.python.org/3/library/exceptions.html"
   ]
  },
  {
   "cell_type": "code",
   "execution_count": null,
   "id": "b8aaa0d4",
   "metadata": {
    "ExecuteTime": {
     "end_time": "2023-08-28T08:37:41.108816Z",
     "start_time": "2023-08-28T08:37:41.102764Z"
    }
   },
   "outputs": [],
   "source": [
    "print('start')\n",
    "\n",
    "try:\n",
    "    4/0\n",
    "    \n",
    "except ZeroDivisionError as e:\n",
    "    #print(e) # e.message\n",
    "    print('0으로 나눠서 그래요')\n",
    "\n",
    "print('end')"
   ]
  },
  {
   "cell_type": "code",
   "execution_count": null,
   "id": "5b5f3561",
   "metadata": {
    "ExecuteTime": {
     "end_time": "2023-08-28T08:45:23.464265Z",
     "start_time": "2023-08-28T08:45:20.980661Z"
    }
   },
   "outputs": [],
   "source": [
    "print('종료하려면 q를 입력하세요.')\n",
    "\n",
    "while True : \n",
    "    num1 = input('\\n분자 = ')\n",
    "    if num1 == 'q':\n",
    "        break\n",
    "    num2 = input('분모 = ')\n",
    "    \n",
    "    result = int(num1) / int(num2)\n",
    "    \n",
    "    print(f'{num1} / {num2} = {result}')\n",
    "    \n",
    "print('프로그램을 종료합니다.')"
   ]
  },
  {
   "cell_type": "code",
   "execution_count": null,
   "id": "835c6a78",
   "metadata": {
    "ExecuteTime": {
     "end_time": "2023-08-28T08:45:38.719323Z",
     "start_time": "2023-08-28T08:45:24.514059Z"
    }
   },
   "outputs": [],
   "source": [
    "print('종료하려면 q를 입력하세요.')\n",
    "\n",
    "while True : \n",
    "    num1 = input('\\n분자 = ')\n",
    "    if num1 == 'q':\n",
    "        break\n",
    "    num2 = input('분모 = ')\n",
    "    \n",
    "    try : \n",
    "        result = int(num1) / int(num2)\n",
    "        print(f'{num1} / {num2} = {result}')\n",
    "    except Exception as e:\n",
    "        print('분모에 0이 입력될 수 없습니다.')\n",
    "        print('오류메시지 : ', e)\n",
    "    \n",
    "print('프로그램을 종료합니다.')"
   ]
  },
  {
   "cell_type": "code",
   "execution_count": null,
   "id": "44fd35cc",
   "metadata": {
    "ExecuteTime": {
     "end_time": "2023-08-28T08:48:58.306086Z",
     "start_time": "2023-08-28T08:48:58.300991Z"
    }
   },
   "outputs": [],
   "source": [
    "def exception_test():\n",
    "    print('start')\n",
    "    try :\n",
    "        print(2 + '2')\n",
    "        print('end')\n",
    "    except TypeError as t :\n",
    "        print('에러 : {}'.format(t))\n",
    "        print('자료형이 일치하지 않습니다.')\n",
    "    print('end')\n",
    "        "
   ]
  },
  {
   "cell_type": "code",
   "execution_count": null,
   "id": "583b1f07",
   "metadata": {
    "ExecuteTime": {
     "end_time": "2023-08-28T08:48:59.741581Z",
     "start_time": "2023-08-28T08:48:59.732276Z"
    }
   },
   "outputs": [],
   "source": [
    "exception_test()"
   ]
  },
  {
   "cell_type": "code",
   "execution_count": null,
   "id": "733ae0ba",
   "metadata": {
    "ExecuteTime": {
     "end_time": "2023-08-29T00:29:18.209280Z",
     "start_time": "2023-08-29T00:29:18.204254Z"
    }
   },
   "outputs": [],
   "source": [
    "print('Hello Python')"
   ]
  },
  {
   "cell_type": "code",
   "execution_count": null,
   "id": "759214e6",
   "metadata": {
    "ExecuteTime": {
     "end_time": "2023-08-29T00:39:09.210337Z",
     "start_time": "2023-08-29T00:39:09.205522Z"
    }
   },
   "outputs": [],
   "source": [
    "# step1. 파일객체생성과 파일오픈\n",
    "## open(파일이름, 모드), 모드 - r, w, a\n",
    "try :\n",
    "    f = open('', 'r')\n",
    "except FileNotFoundError as e :\n",
    "    print('에러 메시지 :', e)\n",
    "    print('해당 파일이 존재하지 않습니다.')\n",
    "    \n",
    "else :\n",
    "    # step2. 실제처리할 작업을 기술(비즈니스 로직)\n",
    "    while True:\n",
    "        line = f.readline()\n",
    "        if not line:\n",
    "            break\n",
    "        print(line, end = '')\n",
    "\n",
    "    # step3. 파일객체 닫기\n",
    "    f.close()"
   ]
  },
  {
   "cell_type": "markdown",
   "id": "93a02ad2",
   "metadata": {},
   "source": [
    "## 처리조건 : 계산기 프로그램\n",
    "1. 두 개의 숫자와 하나의 연산자를 입력받아 사칙연산을 수행하는 프로그램을 구현하시오.\n",
    "2. 연산자는 +,-,*,/만 입력되도록 한다. 단, 이외의 연산자가 들어오면 예외처리 문구를 기술한다.\n",
    "3. 연산자가 '/'이고, 두번째로 입력받은 숫자가 0이면 예외처리 문구를 기술한다.\n",
    "4. 계산을 수행할 값이 숫자가 아닌값이 들어오면 예외처리를 수행한다.\n",
    "5. 주어진 입출력형식에 맞게 프로그램을 구현한다.\n",
    "6. 사용자가 원하는 연산을 수행할 수 있도록 구현한다.\n",
    "7. 첫번째 수로 q이 입력되면 프로그램을 종료한다.\n",
    "\n",
    "## 입출력형식\n",
    "첫번째 수 =  \n",
    "연산자(+,-,*,/) =  \n",
    "두번째 수 =  \n",
    "\n",
    "10 - 4 =6"
   ]
  },
  {
   "cell_type": "code",
   "execution_count": null,
   "id": "e3c1ee52",
   "metadata": {
    "ExecuteTime": {
     "end_time": "2023-08-29T01:11:54.635376Z",
     "start_time": "2023-08-29T01:11:54.622265Z"
    }
   },
   "outputs": [],
   "source": [
    "class Data :\n",
    "    def __init__(self):\n",
    "        self.one = input('첫번째 수 =')\n",
    "        self.cal = input('연산자(+,-,*,/) =')\n",
    "        self.two = input('두번째 수 =')\n",
    "        \n",
    "    def Calcul(self):\n",
    "        if self.one == 'q': \n",
    "            return 0\n",
    "        else:\n",
    "            self.one = int(self.one)\n",
    "            self.two = int(self.two)\n",
    "            if self.cal == '+':\n",
    "                self.result = self.one + self.two\n",
    "                return self.result\n",
    "            elif self.cal == '-':\n",
    "                self.result = self.one - self.two\n",
    "                return self.result\n",
    "            elif self.cal == '*':\n",
    "                self.result = self.one * self.two\n",
    "                return self.result\n",
    "            elif self.cal == '/':\n",
    "                if self.two == 0:\n",
    "                    try :\n",
    "                        d.one / d.two\n",
    "                    except ZeroDivisionError as e :\n",
    "                        print('0으로 나누었습니다.')\n",
    "                        print('에러 메시지 : ', e)\n",
    "                else :\n",
    "                    self.result = self.one / self.two\n",
    "                    return self.result\n",
    "\n",
    "            else:\n",
    "                print('잘못입력하셨습니다.')\n",
    "\n",
    "    def disp(self):\n",
    "        print(f'{self.one} {self.cal} {self.two} = {self.result}')\n",
    "\n"
   ]
  },
  {
   "cell_type": "code",
   "execution_count": null,
   "id": "82be6f18",
   "metadata": {
    "ExecuteTime": {
     "start_time": "2023-08-29T01:11:55.848Z"
    }
   },
   "outputs": [],
   "source": [
    "d = Data()\n",
    "\n",
    "while True :\n",
    "    d\n",
    "    if d == 0 :\n",
    "        break\n",
    "    \n",
    "    d.Calcul()\n",
    "    d.disp()\n",
    "    "
   ]
  },
  {
   "cell_type": "code",
   "execution_count": null,
   "id": "81d1a321",
   "metadata": {
    "ExecuteTime": {
     "start_time": "2023-08-29T01:35:50.956Z"
    }
   },
   "outputs": [],
   "source": [
    "class Data :\n",
    "    def __init__(self):\n",
    "        self.get_input()\n",
    "\n",
    "    def get_input(self):\n",
    "        self.one = input('첫번째 수 =')\n",
    "        if self.one == 'q':\n",
    "            return\n",
    "        self.cal = input('연산자(+,-,*,/) =')\n",
    "        self.two = input('두번째 수 =')\n",
    "        \n",
    "    def Calcul(self):\n",
    "        try:\n",
    "            self.one = int(self.one)\n",
    "            self.two = int(self.two)\n",
    "            \n",
    "            if self.cal == '+':\n",
    "                self.result = self.one + self.two\n",
    "            elif self.cal == '-':\n",
    "                self.result = self.one - self.two\n",
    "            elif self.cal == '*':\n",
    "                self.result = self.one * self.two\n",
    "            elif self.cal == '/':\n",
    "                if self.two == 0:\n",
    "                    raise ZeroDivisionError(\"Cannot divide by zero!\")\n",
    "                self.result = self.one / self.two\n",
    "            else:\n",
    "                print('잘못입력하셨습니다.')\n",
    "                return\n",
    "\n",
    "        except ValueError:\n",
    "            print(\"잘못된 값이 입력되었습니다. 숫자를 입력해주세요.\")\n",
    "            return\n",
    "        except ZeroDivisionError:\n",
    "            print('0으로 나누었습니다.')\n",
    "            return\n",
    "\n",
    "    def disp(self):\n",
    "        print(f'{self.one} {self.cal} {self.two} = {self.result}')\n",
    "\n",
    "d = Data()\n",
    "\n",
    "while d.one != 'q':\n",
    "    d.Calcul()\n",
    "    d.disp()\n",
    "    d.get_input()\n"
   ]
  },
  {
   "cell_type": "code",
   "execution_count": null,
   "id": "c41f1866",
   "metadata": {},
   "outputs": [],
   "source": []
  }
 ],
 "metadata": {
  "kernelspec": {
   "display_name": "Python 3",
   "language": "python",
   "name": "python3"
  },
  "language_info": {
   "codemirror_mode": {
    "name": "ipython",
    "version": 3
   },
   "file_extension": ".py",
   "mimetype": "text/x-python",
   "name": "python",
   "nbconvert_exporter": "python",
   "pygments_lexer": "ipython3",
   "version": "3.8.8"
  },
  "toc": {
   "base_numbering": 1,
   "nav_menu": {},
   "number_sections": true,
   "sideBar": true,
   "skip_h1_title": false,
   "title_cell": "Table of Contents",
   "title_sidebar": "Contents",
   "toc_cell": false,
   "toc_position": {},
   "toc_section_display": true,
   "toc_window_display": false
  },
  "varInspector": {
   "cols": {
    "lenName": 16,
    "lenType": 16,
    "lenVar": 40
   },
   "kernels_config": {
    "python": {
     "delete_cmd_postfix": "",
     "delete_cmd_prefix": "del ",
     "library": "var_list.py",
     "varRefreshCmd": "print(var_dic_list())"
    },
    "r": {
     "delete_cmd_postfix": ") ",
     "delete_cmd_prefix": "rm(",
     "library": "var_list.r",
     "varRefreshCmd": "cat(var_dic_list()) "
    }
   },
   "types_to_exclude": [
    "module",
    "function",
    "builtin_function_or_method",
    "instance",
    "_Feature"
   ],
   "window_display": false
  }
 },
 "nbformat": 4,
 "nbformat_minor": 5
}
