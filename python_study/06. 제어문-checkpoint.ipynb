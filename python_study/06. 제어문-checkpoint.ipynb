{
 "cells": [
  {
   "cell_type": "markdown",
   "id": "9ff7f963",
   "metadata": {},
   "source": [
    "# 파이썬 제어문\n",
    "<br>\n",
    "1. 조건문 or 선택문 or 비교/판단문  <br>\n",
    "  - 주어진 조건에 따라 실행여부를 판단하는 문장  <br>\n",
    "  - 반드시 조건식은 그 결과가 참 또는 거짓으로 판정이 되어야 한다.  <br>\n",
    "  - 논리연산자와 관계연산자를 이용한다.  <br>\n",
    " \n",
    "  1) if문 : 단순 if문, 조건이 참일때만 문장을 제어할 때 사용하는 제어문 <br>\n",
    "  \n",
    "  2) elif~else문 : 다중 if문, 여러개의 조건을 이용해서 문장을 제어할 때 사용<br>\n",
    "  \n",
    "  <br>\n",
    "2. 반복문\n",
    "  - 주어진 조건 또는 횟수에 의해 반복처리하는 문장<br>\n",
    "  - 동일하거나 일정한 규칙을 가지고 있는 문장<br>\n",
    "  \n",
    "  1) for문 : 반복할 횟수가 명확할 때 사용하는 반복문<br>\n",
    "  \n",
    "  2) while문 : 사용자에 의해 반복을 제어할 때 사용하는 반복문<br>"
   ]
  },
  {
   "cell_type": "markdown",
   "id": "59d6461d",
   "metadata": {},
   "source": [
    "## 단순 if문\n",
    "\n",
    "if 조건식: <br>\n",
    "         (4칸띄고)  조건이 참일 때 실행할 문장"
   ]
  },
  {
   "cell_type": "code",
   "execution_count": null,
   "id": "42243444",
   "metadata": {
    "ExecuteTime": {
     "end_time": "2023-08-23T02:39:07.466600Z",
     "start_time": "2023-08-23T02:39:02.681842Z"
    }
   },
   "outputs": [],
   "source": [
    "color = input('좋아하는 색상?')\n",
    "\n",
    "if color == 'blue' :\n",
    "    print('me too')\n",
    "\n",
    "print('The end!')"
   ]
  },
  {
   "cell_type": "markdown",
   "id": "8cd554c4",
   "metadata": {},
   "source": [
    "## if ~ else 문\n",
    "\n",
    "if 조건식 :<br>\n",
    "(4칸띄고) 주어진 조건식이 참일 때 실행할 문장<br>\n",
    "else:<br>\n",
    "(4칸띄고) 주어진 조건식이 거짓일 때 실행할 문장<br>\n"
   ]
  },
  {
   "cell_type": "code",
   "execution_count": null,
   "id": "5fc758cb",
   "metadata": {
    "ExecuteTime": {
     "end_time": "2023-08-23T02:47:24.779418Z",
     "start_time": "2023-08-23T02:46:29.633933Z"
    }
   },
   "outputs": [],
   "source": [
    "# 하나의 숫자를 입력받아 짝수인지 홀수인지 판정하여 출력하는 프로그램\n",
    "\n",
    "## 입력문\n",
    "num = int(input('숫자입력 : '))\n",
    "## 처리문\n",
    "\n",
    "## 출력문\n",
    "if num % 2 == 0 :\n",
    "    print('짝수')\n",
    "else : \n",
    "    print('홀수')\n",
    "print('The end')"
   ]
  },
  {
   "cell_type": "markdown",
   "id": "f89146e5",
   "metadata": {},
   "source": [
    "## 다중 if문 : elif ~ else 문\n",
    "<br>\n",
    "if 조건식1:<br>\n",
    "(4칸띄고) 조건식 1이 참일 때 실행할 문장<br>\n",
    "elif 조건식2:<br>\n",
    "(4칸띄고) 조건식 2가 참일 때 실행할 문장<br>\n",
    "else:<br>\n",
    "(4칸띄고) 주어진 모든 조건식이 거짓일 때 실행할 문장"
   ]
  },
  {
   "cell_type": "code",
   "execution_count": null,
   "id": "e1fcfa61",
   "metadata": {
    "ExecuteTime": {
     "end_time": "2023-08-23T02:55:08.585962Z",
     "start_time": "2023-08-23T02:55:04.885384Z"
    }
   },
   "outputs": [],
   "source": [
    "# 숫자를 입력받아 음수인지 양수인지 판정하는 프로그램을 구현하시오.\n",
    "\n",
    "## 입력문\n",
    "num = int(input('숫자입력 :'))\n",
    "## 처리문\n",
    "## 출력문\n",
    "if num == 0:\n",
    "    print('0입니다.')\n",
    "elif num < 0 :\n",
    "    print('음수입니다.')\n",
    "else :\n",
    "    print('양수입니다.')"
   ]
  },
  {
   "cell_type": "markdown",
   "id": "ba8a7a9c",
   "metadata": {
    "ExecuteTime": {
     "end_time": "2023-08-23T02:55:26.232911Z",
     "start_time": "2023-08-23T02:55:26.225635Z"
    }
   },
   "source": [
    "## 성적처리 프로그램 2단계\n",
    "<br>\n",
    "- 처리조건 <br>\n",
    "  1. 국어, 영어, 수학점수를 입력받아 처리한다.<br>\n",
    "  2. 총점과 평균 그리고 학점을 계산하여 출력한다.<br>\n",
    "  3. 학점은 평균이 90점 이상이면 'A', 80점 이상이면 'B'..."
   ]
  },
  {
   "cell_type": "code",
   "execution_count": null,
   "id": "b60115bf",
   "metadata": {
    "ExecuteTime": {
     "end_time": "2023-08-23T05:43:37.117304Z",
     "start_time": "2023-08-23T05:43:37.103681Z"
    },
    "code_folding": []
   },
   "outputs": [],
   "source": [
    "kor = int(input('국어 점수 :'))\n",
    "eng = int(input('영어 점수 :'))\n",
    "math = int(input('수학 점수 :'))\n",
    "tot = kor + eng + math\n",
    "avg = tot / 3\n",
    "a = ['A','B','C','D','E','F']\n",
    "\n",
    "score = 90\n",
    "\n",
    "if avg > 90 :\n",
    "    print(a[0])\n",
    "for i in range(1,5) :\n",
    "    score += - 10 * i\n",
    "    elif avg > score :\n",
    "            print(a[i])\n",
    "else :\n",
    "    print(a[5])"
   ]
  },
  {
   "cell_type": "code",
   "execution_count": null,
   "id": "24472f31",
   "metadata": {
    "ExecuteTime": {
     "end_time": "2023-08-23T03:15:11.468602Z",
     "start_time": "2023-08-23T03:15:08.954735Z"
    }
   },
   "outputs": [],
   "source": [
    "kor = int(input('국어 점수 :'))\n",
    "eng = int(input('영어 점수 :'))\n",
    "math = int(input('수학 점수 :'))\n",
    "tot = kor + eng + math\n",
    "avg = tot / 3\n",
    "\n",
    "\n",
    "if avg > 90 :\n",
    "    grade = 'A'\n",
    "elif avg > 80 :\n",
    "    grade = 'B'\n",
    "elif avg > 70 :\n",
    "    grade = 'C'\n",
    "elif avg > 60 :\n",
    "    grade = 'D'\n",
    "elif avg > 50 :\n",
    "    grade = 'E'\n",
    "else :\n",
    "    grade = 'F'\n",
    "\n",
    "## 출력문\n",
    "print(f'총점 : {tot}점, 평균 : {avg:.2f}, 학점 : {grade}학점')"
   ]
  },
  {
   "cell_type": "markdown",
   "id": "b5b30430",
   "metadata": {},
   "source": [
    "## 세 개의 정수를 입력받아 가장 큰 수와 가장 작은 수를 출력하는 프로그램\n",
    "\n",
    "- 세 개의 정수를 입력받는다.\n",
    "- 입력받은 숫자중 큰수와 작은 수를 판정하여 출력한다."
   ]
  },
  {
   "cell_type": "code",
   "execution_count": null,
   "id": "82fc52fa",
   "metadata": {
    "ExecuteTime": {
     "end_time": "2023-08-23T03:50:53.702300Z",
     "start_time": "2023-08-23T03:50:48.569213Z"
    }
   },
   "outputs": [],
   "source": [
    "one, two, three = map(int, input().split())\n",
    "\n",
    "if one >= two :\n",
    "    one, two = one, two\n",
    "elif two >= three :\n",
    "    one, two = two, three\n",
    "else :\n",
    "    one, two, three = three, two, one\n",
    "print(f'{one} >= {two} >= {three}')\n",
    "    \n"
   ]
  },
  {
   "cell_type": "code",
   "execution_count": null,
   "id": "d9e8b3a5",
   "metadata": {
    "ExecuteTime": {
     "end_time": "2023-08-23T03:43:47.465451Z",
     "start_time": "2023-08-23T03:43:45.732573Z"
    }
   },
   "outputs": [],
   "source": [
    "#### 입력문\n",
    "first, second, third = map(int, input().split())\n",
    "\n",
    "# 처리문\n",
    "## first라는 변수에 가장 큰 수가 들어오지 않는 경우 또는 first 가 가장 큰 수가 되는 경우\n",
    "if second >= first and second >= third:\n",
    "    first, second = second, first\n",
    "elif third >= first and third >= second:\n",
    "    first, thirdrd = third, first\n",
    "## 두번째와 세번째 숫자 비교\n",
    "if third >=second:\n",
    "    second, third = third, second\n",
    "\n",
    "# 출력문\n",
    "print(f'{first} >= {second} >= {three}')"
   ]
  },
  {
   "cell_type": "markdown",
   "id": "b4301b27",
   "metadata": {},
   "source": [
    "## 계산기 프로그램\n",
    "<br>\n",
    "- 두 개의 숫자와 하나의 연산자를 입력받아 계산을 수행한 후 결과를 출력하는 프로그램<br>\n",
    "- 주어진 입력 및 출력 형식에 맞게 프로그램을 구현할 것.<br>\n",
    "- 입력형식<br>\n",
    "  첫번째 수 =<br>\n",
    "  연산자(+, -, *, /)=<br>\n",
    "  두번째 수 =\n"
   ]
  },
  {
   "cell_type": "code",
   "execution_count": null,
   "id": "b3d3f9d1",
   "metadata": {
    "ExecuteTime": {
     "end_time": "2023-08-23T03:36:00.457984Z",
     "start_time": "2023-08-23T03:35:57.622414Z"
    }
   },
   "outputs": [],
   "source": [
    "num1 = int(input('첫번째 수 ='))\n",
    "num2 = int(input('두번째 수 ='))\n",
    "cor = input('연산자(+, -, *, /)=')\n",
    "\n",
    "if cor == '+' :\n",
    "    ans = num1 + num2\n",
    "elif cor == '-' :\n",
    "    ans = num1 - num2\n",
    "elif cor == '*' :\n",
    "    ans = num1 * num2\n",
    "else :\n",
    "    ans = num1 / num2\n",
    "print(f'{num1} {cor} {num2} = {ans}')"
   ]
  },
  {
   "cell_type": "markdown",
   "id": "9a60350d",
   "metadata": {},
   "source": [
    "# 반복문\n",
    "\n",
    "- 동일한 문장\n",
    "- 유사한 문장(동일한 행위를 하되 일정한 규칙을 가지고 있는 문장)"
   ]
  },
  {
   "cell_type": "markdown",
   "id": "ecefe076",
   "metadata": {},
   "source": [
    "## for 문\n",
    "<br>\n",
    "for 개별변수 in 집합변수 : <br>\n",
    "(4칸띄고) 반복수행할 문장"
   ]
  },
  {
   "cell_type": "code",
   "execution_count": null,
   "id": "47bca7db",
   "metadata": {
    "ExecuteTime": {
     "end_time": "2023-08-23T05:14:47.123090Z",
     "start_time": "2023-08-23T05:14:47.108089Z"
    }
   },
   "outputs": [],
   "source": [
    "# 동일한 문장\n",
    "print('hi')\n",
    "print('hi')\n",
    "print('hi')\n",
    "print('hi')\n",
    "print('hi')\n",
    "print('-' * 50)\n",
    "range(5) # 0, 1, 2, 3, 4\n",
    "# for 개별변수 in 집합변수(컨테이너 객체) : \n",
    "for i in range(5) :\n",
    "    print('hi')"
   ]
  },
  {
   "cell_type": "code",
   "execution_count": null,
   "id": "53585b72",
   "metadata": {
    "ExecuteTime": {
     "end_time": "2023-08-23T05:18:07.299419Z",
     "start_time": "2023-08-23T05:18:07.283135Z"
    }
   },
   "outputs": [],
   "source": [
    "for _ in range(1, 11) :\n",
    "    print(_)"
   ]
  },
  {
   "cell_type": "code",
   "execution_count": null,
   "id": "283aba8d",
   "metadata": {
    "ExecuteTime": {
     "end_time": "2023-08-23T05:26:01.833676Z",
     "start_time": "2023-08-23T05:26:01.824649Z"
    }
   },
   "outputs": [],
   "source": [
    "i = 0\n",
    "while i < 5:\n",
    "    i += 1 # i = i+1\n",
    "    print(i)"
   ]
  },
  {
   "cell_type": "code",
   "execution_count": null,
   "id": "05e25773",
   "metadata": {
    "ExecuteTime": {
     "end_time": "2023-08-23T05:30:50.292250Z",
     "start_time": "2023-08-23T05:30:50.286121Z"
    }
   },
   "outputs": [],
   "source": [
    "i = 0\n",
    "while True:\n",
    "    i += 1 # i = i+1\n",
    "    print(i)\n",
    "    if i == 5 : break"
   ]
  },
  {
   "cell_type": "code",
   "execution_count": null,
   "id": "b60effb7",
   "metadata": {
    "ExecuteTime": {
     "end_time": "2023-08-23T05:31:50.589029Z",
     "start_time": "2023-08-23T05:31:49.291998Z"
    }
   },
   "outputs": [],
   "source": [
    "# 알파벳을 입력받아 출력하는 작업을 수행한다. 단, 입력받은 알파벳이 q이면 반복을 종료한다.\n",
    "\n",
    "while True :\n",
    "    ch = input('종료(q) = ')\n",
    "    if ch == 'q' : break\n",
    "    print(ch)"
   ]
  },
  {
   "cell_type": "markdown",
   "id": "a082feda",
   "metadata": {},
   "source": [
    "### 1부터 10까지의 자연수의 합을 계산하여 출력하는 프로그램을 구현하시오."
   ]
  },
  {
   "cell_type": "code",
   "execution_count": null,
   "id": "8b14489d",
   "metadata": {
    "ExecuteTime": {
     "end_time": "2023-08-23T05:40:06.025513Z",
     "start_time": "2023-08-23T05:40:06.007690Z"
    }
   },
   "outputs": [],
   "source": [
    "# 1+2+3+4+5+6+7+8+9+10 =\n",
    "sum = 0\n",
    "for i in range(1,11) :\n",
    "    sum += i\n",
    "print(sum)"
   ]
  },
  {
   "cell_type": "markdown",
   "id": "c7c1c872",
   "metadata": {},
   "source": [
    "### 단을 입력받아 해당 단의 구구단을 출력하는 프로그램을 구현하시오."
   ]
  },
  {
   "cell_type": "code",
   "execution_count": null,
   "id": "a61ffe6a",
   "metadata": {
    "ExecuteTime": {
     "end_time": "2023-08-23T05:55:57.390605Z",
     "start_time": "2023-08-23T05:55:47.761499Z"
    }
   },
   "outputs": [],
   "source": [
    "while True :\n",
    "    # 입력문\n",
    "    dan = int(input('(종료:0)단을 입력하시오 :'))\n",
    "    if dan == 0 : break\n",
    "    for i in range(1,10) :\n",
    "        ans = dan * i\n",
    "        print(f'{dan} * {i} = {ans}')"
   ]
  },
  {
   "cell_type": "markdown",
   "id": "48a32768",
   "metadata": {},
   "source": [
    "### 구구단을 출력하는 프로그램을 구현하시오.\n",
    "<br>\n",
    "for 개별변수 in 집합변수 :<br>\n",
    "(4칸띄고) 반복문장1<br>\n",
    "(4칸띄고) for 개별변수2 in 집합변수 :<br>\n",
    "(4칸띄고)(4칸띄고) 반복문장 2<br>\n"
   ]
  },
  {
   "cell_type": "code",
   "execution_count": null,
   "id": "08fba5e5",
   "metadata": {
    "ExecuteTime": {
     "end_time": "2023-08-23T06:03:04.029695Z",
     "start_time": "2023-08-23T06:03:04.014842Z"
    }
   },
   "outputs": [],
   "source": [
    "for dan in range(2,10) :\n",
    "    print(\"=={0}==단\".format(dan)) # 8\n",
    "    for i in range(1,10) :\n",
    "        ans = dan * i\n",
    "        print(f'{dan} * {i} = {ans}')\n",
    "    print()"
   ]
  },
  {
   "cell_type": "markdown",
   "id": "9d5eb478",
   "metadata": {},
   "source": [
    "### 멀티 프로그램을 구현하시오.  \n",
    "  \n",
    "1. 처리조건  \n",
    "   - 주어진 입출력 형식에 맞게 프로그램을 구현하시오.  \n",
    "   - 사용자에 의해 처리할 작업을 선택할 수 있도록 구현하시오.  \n",
    "   - 사용자가 원하면 언제든지 프로그램을 종료할 수 있도록 구현하시오.  \n",
    "   - 기타 조건은 주어진 입출력 형식에 맞게 구현하시오.  \n",
    "     \n",
    "2. 입력형식  \n",
    "<pre>  \n",
    "   == 멀티프로그램 ==  \n",
    "   1. 수나열  \n",
    "   2. 계산기 프로그램  \n",
    "   3. 작업종료  \n",
    "   =================\n",
    "   선택 =\n",
    "</pre>\n",
    "<br>\n",
    "<br>\n",
    "3. 기능설명\n",
    "  - 수나열은 세 개의 정수를 입력받아 큰 순서대로 출력하는 프로그램\n",
    "  - 계산기는 두 개의 정수와 하나의 연산자를 입력받아 계산결과를 출력하는 프로그램\n",
    "  - 작업종료를 선택하지 않으면 프로그램을 무한루프로 동작되도록 구현\n"
   ]
  },
  {
   "cell_type": "code",
   "execution_count": null,
   "id": "fe796933",
   "metadata": {
    "ExecuteTime": {
     "end_time": "2023-08-23T06:18:24.297608Z",
     "start_time": "2023-08-23T06:18:16.604036Z"
    }
   },
   "outputs": [],
   "source": [
    "while True :\n",
    "    num = int(input(\"\"\"== 멀티프로그램 ==  \n",
    "1. 수나열  \n",
    "2. 계산기 프로그램  \n",
    "3. 작업종료  \n",
    "=================\n",
    "선택 =\"\"\"))\n",
    "       \n",
    "    if num == 1 :\n",
    "        #### 입력문\n",
    "        first, second, third = map(int, input('세 개의 정수입력 :').split())\n",
    "\n",
    "        # 처리문\n",
    "        ## first라는 변수에 가장 큰 수가 들어오지 않는 경우 또는 first 가 가장 큰 수가 되는 경우\n",
    "        if second >= first and second >= third:\n",
    "            first, second = second, first\n",
    "        elif third >= first and third >= second:\n",
    "            first, thirdrd = third, first\n",
    "        ## 두번째와 세번째 숫자 비교\n",
    "        if third >=second:\n",
    "            second, third = third, second\n",
    "\n",
    "        # 출력문\n",
    "        print(f'{first} >= {second} >= {three}')\n",
    "    \n",
    "    elif num == 2 :\n",
    "        num1 = int(input('첫번째 수 ='))\n",
    "        num2 = int(input('두번째 수 ='))\n",
    "        cor = input('연산자(+, -, *, /)=')\n",
    "\n",
    "        if cor == '+' :\n",
    "            ans = num1 + num2\n",
    "        elif cor == '-' :\n",
    "            ans = num1 - num2\n",
    "        elif cor == '*' :\n",
    "            ans = num1 * num2\n",
    "        else :\n",
    "            ans = num1 / num2\n",
    "        print(f'{num1} {cor} {num2} = {ans}')\n",
    "    elif num ==3 : break\n",
    "    else :\n",
    "        print(\"선택이 올바르지 않습니다.\")\n",
    "print(\"프로그램을 종료합니다.\")"
   ]
  },
  {
   "cell_type": "markdown",
   "id": "76b50252",
   "metadata": {},
   "source": [
    "## 리스트, 튜플, 문자열 등 iterable한 객체 이용한 제어문 처리"
   ]
  },
  {
   "cell_type": "code",
   "execution_count": null,
   "id": "514c6185",
   "metadata": {
    "ExecuteTime": {
     "end_time": "2023-08-23T06:19:22.142788Z",
     "start_time": "2023-08-23T06:19:22.136742Z"
    }
   },
   "outputs": [],
   "source": [
    "a = [2, 1, 5, 3, 4]\n",
    "print(a)"
   ]
  },
  {
   "cell_type": "code",
   "execution_count": null,
   "id": "436612ec",
   "metadata": {
    "ExecuteTime": {
     "end_time": "2023-08-23T06:20:43.494209Z",
     "start_time": "2023-08-23T06:20:43.482320Z"
    }
   },
   "outputs": [],
   "source": [
    "for i in range(5) :\n",
    "    print(a[i])"
   ]
  },
  {
   "cell_type": "code",
   "execution_count": null,
   "id": "79b3453e",
   "metadata": {
    "ExecuteTime": {
     "end_time": "2023-08-23T06:21:58.042684Z",
     "start_time": "2023-08-23T06:21:58.027045Z"
    }
   },
   "outputs": [],
   "source": [
    "# for 개별변수 in 집합변수(컨테이너 객체)\n",
    "for i in a:\n",
    "    print(i)"
   ]
  },
  {
   "cell_type": "code",
   "execution_count": null,
   "id": "f789b22a",
   "metadata": {
    "ExecuteTime": {
     "end_time": "2023-08-23T06:22:48.653293Z",
     "start_time": "2023-08-23T06:22:48.637692Z"
    }
   },
   "outputs": [],
   "source": [
    "students = ('John','Minsu','Gildong','Chris')\n",
    "print(students)"
   ]
  },
  {
   "cell_type": "code",
   "execution_count": null,
   "id": "27a5326e",
   "metadata": {
    "ExecuteTime": {
     "end_time": "2023-08-23T06:23:35.039759Z",
     "start_time": "2023-08-23T06:23:35.022143Z"
    }
   },
   "outputs": [],
   "source": [
    "for name in students:\n",
    "    print(name)"
   ]
  },
  {
   "cell_type": "code",
   "execution_count": null,
   "id": "6b853fa3",
   "metadata": {
    "ExecuteTime": {
     "end_time": "2023-08-23T06:25:13.323799Z",
     "start_time": "2023-08-23T06:25:13.312777Z"
    }
   },
   "outputs": [],
   "source": [
    "for i in range(5) :\n",
    "    print(a[i], end = ' ')"
   ]
  },
  {
   "cell_type": "markdown",
   "id": "9a89bde9",
   "metadata": {},
   "source": [
    "## 리스트 내포(List comprehension)\n",
    "\n",
    "- 파이썬에서는 for문과 if 문 등 한줄로 코드를 작성하여 직관적이고 실행속도를 높여주는 기능\n",
    "- 결과를 다시 리스트에 담아야 하는 상황에 해당 명령을 리스트에 포함시키는 코드 방식\n",
    "- 기본형식\n",
    "  리스트명 = [표현식 for 개별변수 in 집합변수]\n",
    "  "
   ]
  },
  {
   "cell_type": "code",
   "execution_count": null,
   "id": "221a17e5",
   "metadata": {
    "ExecuteTime": {
     "end_time": "2023-08-23T06:30:39.723385Z",
     "start_time": "2023-08-23T06:30:39.716294Z"
    }
   },
   "outputs": [],
   "source": [
    "a = [1, 2, 3]\n",
    "b = []\n",
    "\n",
    "for i in a :\n",
    "    b.append(i * 2)\n",
    "    \n",
    "print(b)"
   ]
  },
  {
   "cell_type": "code",
   "execution_count": null,
   "id": "7d328bb0",
   "metadata": {
    "ExecuteTime": {
     "end_time": "2023-08-23T06:31:46.305201Z",
     "start_time": "2023-08-23T06:31:46.296434Z"
    }
   },
   "outputs": [],
   "source": [
    "a = [1, 2, 3]\n",
    "b = [i*2 for i in a]\n",
    "print(b)"
   ]
  },
  {
   "cell_type": "markdown",
   "id": "43f4d4c2",
   "metadata": {},
   "source": [
    "리스트명 = [표현식 for 개별변수 in 집합변수 if 조건문]"
   ]
  },
  {
   "cell_type": "code",
   "execution_count": null,
   "id": "ab2e1f3c",
   "metadata": {
    "ExecuteTime": {
     "end_time": "2023-08-23T06:37:55.504981Z",
     "start_time": "2023-08-23T06:37:55.496196Z"
    }
   },
   "outputs": [],
   "source": [
    "a = [3, 7, 9, 10]\n",
    "b = list()\n",
    "# 주어진 리스트의 요소의 값이 홀수인것만 100을 곱하자\n",
    "\n",
    "for i in a:\n",
    "    if i % 2 != 0:\n",
    "        b.append(i * 100)\n",
    "print(b)"
   ]
  },
  {
   "cell_type": "code",
   "execution_count": null,
   "id": "6a99d940",
   "metadata": {
    "ExecuteTime": {
     "end_time": "2023-08-23T06:38:42.907502Z",
     "start_time": "2023-08-23T06:38:42.893055Z"
    }
   },
   "outputs": [],
   "source": [
    "a = [3, 7, 9, 10]\n",
    "b = [i * 100 for i in a if i%2 != 0]\n",
    "print(b)"
   ]
  },
  {
   "cell_type": "markdown",
   "id": "25d5170d",
   "metadata": {},
   "source": [
    "## 기타제어문\n",
    "- break 문 : 해당 블록에서 벗어나라\n",
    "- continue 문 : 이하 생략"
   ]
  },
  {
   "cell_type": "code",
   "execution_count": null,
   "id": "42fb96c8",
   "metadata": {
    "ExecuteTime": {
     "end_time": "2023-08-23T06:40:46.067716Z",
     "start_time": "2023-08-23T06:40:46.046351Z"
    }
   },
   "outputs": [],
   "source": [
    "# 1부터 100 사이의 자연수를 출력하는 프로그램\n",
    "for i in range(1,101) :\n",
    "    print(i, end = ',')"
   ]
  },
  {
   "cell_type": "code",
   "execution_count": null,
   "id": "8e9df59c",
   "metadata": {
    "ExecuteTime": {
     "end_time": "2023-08-23T06:45:25.036108Z",
     "start_time": "2023-08-23T06:45:25.028052Z"
    }
   },
   "outputs": [],
   "source": [
    "# 1줄에 10개씩만 출력\n",
    "# 1부터 100 사이의 자연수를 출력하는 프로그램\n",
    "for i in range(1,101) :\n",
    "    if i % 10 == 1 :\n",
    "        print()\n",
    "    print(i, end = ',')"
   ]
  },
  {
   "cell_type": "code",
   "execution_count": null,
   "id": "de646b11",
   "metadata": {
    "ExecuteTime": {
     "end_time": "2023-08-23T06:49:08.457121Z",
     "start_time": "2023-08-23T06:49:08.445776Z"
    }
   },
   "outputs": [],
   "source": [
    "# 1부터 100사이의 자연수 중 홀수만 추출하시오. 단 한줄에 5개씩 추출하시오.\n",
    "for i in range(1, 101) :\n",
    "    if i % 2 == 0 :\n",
    "        continue\n",
    "    if i % 20 == 1 :\n",
    "        print()\n",
    "    print(i, end=' ')"
   ]
  },
  {
   "cell_type": "code",
   "execution_count": null,
   "id": "a16a9510",
   "metadata": {
    "ExecuteTime": {
     "end_time": "2023-08-23T07:19:25.465246Z",
     "start_time": "2023-08-23T07:19:25.453341Z"
    }
   },
   "outputs": [],
   "source": [
    "# 홀수의 갯수를 누적하기 위한 변수\n",
    "cnt = 0\n",
    "for i in range(1, 101) :\n",
    "    if i % 2 == 0 :  \n",
    "        continue\n",
    "    else :\n",
    "        cnt += 1\n",
    "        print(i, end=' ')\n",
    "        if cnt % 5 == 0:\n",
    "            \n",
    "            print()"
   ]
  },
  {
   "cell_type": "markdown",
   "id": "c94770f2",
   "metadata": {},
   "source": [
    "# 자료구조와 제어문"
   ]
  },
  {
   "cell_type": "code",
   "execution_count": null,
   "id": "dde2912e",
   "metadata": {
    "ExecuteTime": {
     "end_time": "2023-08-23T07:25:58.351349Z",
     "start_time": "2023-08-23T07:25:58.339316Z"
    }
   },
   "outputs": [],
   "source": [
    "a = [(1, 2),(3,4),(5,6),(7,8),(9,10)]\n",
    "print(a)"
   ]
  },
  {
   "cell_type": "code",
   "execution_count": null,
   "id": "8b46d5ae",
   "metadata": {
    "ExecuteTime": {
     "end_time": "2023-08-23T07:21:49.114625Z",
     "start_time": "2023-08-23T07:21:49.101726Z"
    }
   },
   "outputs": [],
   "source": [
    "for i in a :\n",
    "    print(i)"
   ]
  },
  {
   "cell_type": "code",
   "execution_count": null,
   "id": "6dff232e",
   "metadata": {
    "ExecuteTime": {
     "end_time": "2023-08-23T07:23:01.821794Z",
     "start_time": "2023-08-23T07:23:01.803825Z"
    }
   },
   "outputs": [],
   "source": [
    "for i in a :\n",
    "    print(i[0], i[1])"
   ]
  },
  {
   "cell_type": "code",
   "execution_count": null,
   "id": "df10a8fa",
   "metadata": {
    "ExecuteTime": {
     "end_time": "2023-08-23T07:25:06.089131Z",
     "start_time": "2023-08-23T07:25:06.074281Z"
    }
   },
   "outputs": [],
   "source": [
    "for i in a :\n",
    "    print(i[0] + i[1])"
   ]
  },
  {
   "cell_type": "code",
   "execution_count": null,
   "id": "f00c205e",
   "metadata": {
    "ExecuteTime": {
     "end_time": "2023-08-23T07:26:01.021481Z",
     "start_time": "2023-08-23T07:26:01.006025Z"
    }
   },
   "outputs": [],
   "source": [
    "for (s, t) in a :\n",
    "    print(\"{0} + {1} = {2}\".format(s,t,s+t))"
   ]
  },
  {
   "cell_type": "code",
   "execution_count": null,
   "id": "4e35797c",
   "metadata": {
    "ExecuteTime": {
     "end_time": "2023-08-23T07:26:02.589670Z",
     "start_time": "2023-08-23T07:26:02.578189Z"
    }
   },
   "outputs": [],
   "source": [
    "print(a)"
   ]
  },
  {
   "cell_type": "markdown",
   "id": "6ccb4be8",
   "metadata": {},
   "source": [
    "## 년도를 입력받아 평년인지 윤년인지 판단하여 출력하는 프로그램\n",
    "\n",
    "- 입력받은 년도가 0이면 작업을 종료할 것\n",
    "- 윤년은 4년마다 돌아오는데 100으로 나누어 떨어지는 연도는 평년, 하지만 400으로 나누어 떨어지면 윤년"
   ]
  },
  {
   "cell_type": "code",
   "execution_count": null,
   "id": "68359efb",
   "metadata": {
    "ExecuteTime": {
     "start_time": "2023-08-23T07:33:43.556Z"
    }
   },
   "outputs": [],
   "source": [
    "while True :\n",
    "    year = int(input('년도를 입력하시오(0은 종료) ='))\n",
    "    \n",
    "    if year == 0 : break\n",
    "    elif year % 4 == 0 and year % 100 !=0 or year % 400 == 0:\n",
    "        print(f'{year}년도는 윤년입니다.')\n",
    "    else : print(f'{year}년도는 평년입니다.')\n"
   ]
  },
  {
   "cell_type": "markdown",
   "id": "9614c832",
   "metadata": {},
   "source": [
    "## 1부터 100사이의 수 중 소수에 해당하는 숫자를 출력하는 프로그램\n",
    "\n",
    "- 처리조건 : 한 줄에 10개씩 출력되도록 구현할 것\n",
    "- 소수(Prime) : 1과 자기자신으로만 나누어 떨어지는 수"
   ]
  },
  {
   "cell_type": "code",
   "execution_count": 4,
   "id": "28a9419d",
   "metadata": {
    "ExecuteTime": {
     "end_time": "2023-08-23T07:54:14.735459Z",
     "start_time": "2023-08-23T07:54:12.275091Z"
    }
   },
   "outputs": [
    {
     "name": "stdout",
     "output_type": "stream",
     "text": [
      "수 = 100\n",
      "소수가 아니다\n"
     ]
    }
   ],
   "source": [
    "num = int(input('수 = '))\n",
    "\n",
    "ck = 0\n",
    "\n",
    "for i in range(1,num+1) : # 1~7\n",
    "    if num % i == 0:\n",
    "        ck += 1\n",
    "if ck == 2 :\n",
    "    print('소수이다')\n",
    "else :\n",
    "    print('소수가 아니다')"
   ]
  },
  {
   "cell_type": "code",
   "execution_count": 5,
   "id": "3f6a1172",
   "metadata": {
    "ExecuteTime": {
     "end_time": "2023-08-23T07:54:19.238396Z",
     "start_time": "2023-08-23T07:54:19.227365Z"
    }
   },
   "outputs": [
    {
     "name": "stdout",
     "output_type": "stream",
     "text": [
      "2 3 5 7 11 13 17 19 23 29 31 37 41 43 47 53 59 61 67 71 73 79 83 89 97 "
     ]
    }
   ],
   "source": [
    "for i in range(1, 100) :\n",
    "    check = 0 # 나누어 떨어지는 수의 개수를 누적할 변수\n",
    "    \n",
    "    for j in range(1,i+1):\n",
    "        if i % j == 0:\n",
    "            check += 1\n",
    "    if check == 2:\n",
    "        print(i, end = ' ')"
   ]
  },
  {
   "cell_type": "markdown",
   "id": "ab273121",
   "metadata": {},
   "source": []
  }
 ],
 "metadata": {
  "kernelspec": {
   "display_name": "Python 3",
   "language": "python",
   "name": "python3"
  },
  "language_info": {
   "codemirror_mode": {
    "name": "ipython",
    "version": 3
   },
   "file_extension": ".py",
   "mimetype": "text/x-python",
   "name": "python",
   "nbconvert_exporter": "python",
   "pygments_lexer": "ipython3",
   "version": "3.8.8"
  },
  "toc": {
   "base_numbering": 1,
   "nav_menu": {},
   "number_sections": true,
   "sideBar": true,
   "skip_h1_title": false,
   "title_cell": "Table of Contents",
   "title_sidebar": "Contents",
   "toc_cell": false,
   "toc_position": {},
   "toc_section_display": true,
   "toc_window_display": false
  },
  "varInspector": {
   "cols": {
    "lenName": 16,
    "lenType": 16,
    "lenVar": 40
   },
   "kernels_config": {
    "python": {
     "delete_cmd_postfix": "",
     "delete_cmd_prefix": "del ",
     "library": "var_list.py",
     "varRefreshCmd": "print(var_dic_list())"
    },
    "r": {
     "delete_cmd_postfix": ") ",
     "delete_cmd_prefix": "rm(",
     "library": "var_list.r",
     "varRefreshCmd": "cat(var_dic_list()) "
    }
   },
   "types_to_exclude": [
    "module",
    "function",
    "builtin_function_or_method",
    "instance",
    "_Feature"
   ],
   "window_display": false
  }
 },
 "nbformat": 4,
 "nbformat_minor": 5
}
