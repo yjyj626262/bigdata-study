{
 "cells": [
  {
   "cell_type": "markdown",
   "id": "8f87e212",
   "metadata": {},
   "source": [
    "# 함수(Function)란?\n",
    "\n",
    "1. 함수의 정의\n",
    "  - 자주 반복적으로 수행하는 기능이나 명령어를 묶어서 관리하는 기능\n",
    "  - 여러개의 명령어를 묶어놓은 명령어 집합\n",
    "  \n",
    "2. 함수의 장점\n",
    "  - 재사용 가능\n",
    "  - 코드의 간결성\n",
    "  - 유지보수가 효율성\n",
    "\n",
    "3. 함수의 구조\n",
    "  def 함수명(입력매개변수):\n",
    "  (4칸띄고) 함수의 내용정의부\n",
    "  (4칸띄고) return 반환값 or 수식\n",
    "  \n",
    "4. 함수의 종류\n",
    "  - 내장 함수 : 파이썬에서 미리 만들어 놓은 함수, 각 라이브러리(패키지)마다 만들어놓은 함수\n",
    "  - 사용자 정의 함수 : 사용자에 의해 임의로 생성한 함수\n"
   ]
  },
  {
   "cell_type": "markdown",
   "id": "283774d5",
   "metadata": {},
   "source": [
    "## 함수의 형태\n",
    "\n",
    "1. 입력값과 반환값이 없는 함수 => 매개변수와 return 값이 없는 함수\n",
    "2. 매개변수는 있고 반환값이 없는 함수\n",
    "3. 매개변수 없고 반환값이 있는 함수\n",
    "4. 매개변수와 반환 값이 있는 함수"
   ]
  },
  {
   "cell_type": "code",
   "execution_count": null,
   "id": "68a63c45",
   "metadata": {},
   "outputs": [],
   "source": []
  },
  {
   "cell_type": "code",
   "execution_count": null,
   "id": "29d7d2b4",
   "metadata": {
    "ExecuteTime": {
     "end_time": "2023-08-23T08:28:38.246028Z",
     "start_time": "2023-08-23T08:28:38.237056Z"
    }
   },
   "outputs": [],
   "source": [
    "# 매개변수와 반환값(return)이 없는 함수\n",
    "## 함수정의 : def = define\n",
    "def show():\n",
    "    print(\"Hello Function\")"
   ]
  },
  {
   "cell_type": "code",
   "execution_count": null,
   "id": "816897be",
   "metadata": {
    "ExecuteTime": {
     "end_time": "2023-08-23T08:28:38.255306Z",
     "start_time": "2023-08-23T08:28:38.247645Z"
    }
   },
   "outputs": [],
   "source": [
    "# 함수 호출 : Call by Name\n",
    "show()"
   ]
  },
  {
   "cell_type": "code",
   "execution_count": null,
   "id": "41788ef4",
   "metadata": {
    "ExecuteTime": {
     "end_time": "2023-08-23T08:28:38.263585Z",
     "start_time": "2023-08-23T08:28:38.255306Z"
    }
   },
   "outputs": [],
   "source": [
    "# 매개변수는 없고 반환 값은 있는 함수\n",
    "def aaa():\n",
    "    return 100"
   ]
  },
  {
   "cell_type": "code",
   "execution_count": null,
   "id": "a972cd8c",
   "metadata": {
    "ExecuteTime": {
     "end_time": "2023-08-23T08:28:38.278871Z",
     "start_time": "2023-08-23T08:28:38.263951Z"
    }
   },
   "outputs": [],
   "source": [
    "aaa()+aaa()"
   ]
  },
  {
   "cell_type": "code",
   "execution_count": null,
   "id": "525e6713",
   "metadata": {
    "ExecuteTime": {
     "end_time": "2023-08-23T08:31:13.422945Z",
     "start_time": "2023-08-23T08:31:13.412497Z"
    }
   },
   "outputs": [],
   "source": [
    "# 매개변수는 있고 리턴값은 없는 함수\n",
    "def disp(a) :\n",
    "    print('''a''')"
   ]
  },
  {
   "cell_type": "code",
   "execution_count": null,
   "id": "e8dccdf7",
   "metadata": {
    "ExecuteTime": {
     "end_time": "2023-08-23T08:31:14.249879Z",
     "start_time": "2023-08-23T08:31:14.246441Z"
    }
   },
   "outputs": [],
   "source": [
    "disp(2)"
   ]
  },
  {
   "cell_type": "code",
   "execution_count": null,
   "id": "6fca0b80",
   "metadata": {
    "ExecuteTime": {
     "end_time": "2023-08-23T08:36:01.041077Z",
     "start_time": "2023-08-23T08:36:01.031273Z"
    }
   },
   "outputs": [],
   "source": [
    "# 매개변수도 있고, 반환값도 있는 함수\n",
    "def add(a,b) :\n",
    "    return a+b\n"
   ]
  },
  {
   "cell_type": "code",
   "execution_count": null,
   "id": "6b0160a1",
   "metadata": {
    "ExecuteTime": {
     "end_time": "2023-08-23T08:31:59.431504Z",
     "start_time": "2023-08-23T08:31:59.404112Z"
    }
   },
   "outputs": [],
   "source": [
    "add(10,20)"
   ]
  },
  {
   "cell_type": "markdown",
   "id": "528ba836",
   "metadata": {},
   "source": [
    "## 함수의 사용\n",
    "\n",
    "- 함수는 호출에 의해 동작한다.\n",
    "- 함수를 호출하는 방식 :  Call by Name, Call by Value, Call by Reference\n",
    "- Call by Name(이름에 의한 호출)\n",
    "- Call by Value(값에 의한 호출)\n",
    "- Call by Reference(참조 = 주소에 의한 호출)"
   ]
  },
  {
   "cell_type": "code",
   "execution_count": null,
   "id": "091471e2",
   "metadata": {
    "ExecuteTime": {
     "end_time": "2023-08-23T08:43:00.946585Z",
     "start_time": "2023-08-23T08:43:00.937427Z"
    }
   },
   "outputs": [],
   "source": [
    "def add(x,y) :\n",
    "    result = x + y\n",
    "    print(f\"{x} + {y} = {result}\")"
   ]
  },
  {
   "cell_type": "code",
   "execution_count": null,
   "id": "3e061f34",
   "metadata": {
    "ExecuteTime": {
     "end_time": "2023-08-23T08:43:01.155700Z",
     "start_time": "2023-08-23T08:43:01.140352Z"
    }
   },
   "outputs": [],
   "source": [
    "def sub(x,y) :\n",
    "    result = x - y\n",
    "    print(\"{} - {} = {}\".format(x,y,result))\n",
    "def mul(x,y) :\n",
    "    result = x * y\n",
    "    print(\"{} * {} = {}\".format(x,y,result))\n",
    "    \n",
    "def div(x,y) :\n",
    "    if y == 0 : y = 1\n",
    "    result = x * y\n",
    "    print(\"{} / {} = {}\".format(x,y,result))"
   ]
  },
  {
   "cell_type": "code",
   "execution_count": null,
   "id": "2afa3c65",
   "metadata": {
    "ExecuteTime": {
     "end_time": "2023-08-23T08:44:53.335694Z",
     "start_time": "2023-08-23T08:44:49.215055Z"
    }
   },
   "outputs": [],
   "source": [
    "num1 = int(input('첫번째 수 ='))\n",
    "num2 = int(input('두번째 수 ='))\n",
    "cor = input('연산자(+, -, *, /)=')\n",
    "\n",
    "if cor == '+':\n",
    "    add(num1,num2)\n",
    "elif cor == '-':\n",
    "    sub(num1,num2)\n",
    "elif cor == '*':\n",
    "    mul(num1,num2)\n",
    "else:\n",
    "    div(num1,num2)"
   ]
  },
  {
   "cell_type": "markdown",
   "id": "c580e283",
   "metadata": {},
   "source": [
    "## 내장함수"
   ]
  },
  {
   "cell_type": "code",
   "execution_count": null,
   "id": "6d1b5ae2",
   "metadata": {
    "ExecuteTime": {
     "end_time": "2023-08-23T08:45:30.770330Z",
     "start_time": "2023-08-23T08:45:30.753311Z"
    }
   },
   "outputs": [],
   "source": [
    "# 절대값 계산하는 함수\n",
    "print(abs(-100))"
   ]
  },
  {
   "cell_type": "code",
   "execution_count": null,
   "id": "5ad1db83",
   "metadata": {
    "ExecuteTime": {
     "end_time": "2023-08-23T08:46:20.072792Z",
     "start_time": "2023-08-23T08:46:20.068835Z"
    }
   },
   "outputs": [],
   "source": [
    "def abss(a) :\n",
    "    if a >= 0:\n",
    "        return a\n",
    "    else : \n",
    "        return -a"
   ]
  },
  {
   "cell_type": "code",
   "execution_count": null,
   "id": "11d33f1e",
   "metadata": {
    "ExecuteTime": {
     "end_time": "2023-08-23T08:46:39.525622Z",
     "start_time": "2023-08-23T08:46:39.517503Z"
    }
   },
   "outputs": [],
   "source": [
    "abss(-9)"
   ]
  },
  {
   "cell_type": "code",
   "execution_count": null,
   "id": "66029c46",
   "metadata": {
    "ExecuteTime": {
     "end_time": "2023-08-23T08:50:13.105093Z",
     "start_time": "2023-08-23T08:50:13.100928Z"
    }
   },
   "outputs": [],
   "source": [
    "# all(), any()\n",
    "## all : 모든 값이 True 인지 검사하는 함수 (결과 : 모두 참이면 참, 그렇지 않으면 거짓)\n",
    "## any : 어느거 하나라도 True 인지 검사하는 함수\n",
    "## 2진수(0=False과 1=True)\n",
    "## 0이 아니면 참으로 간주한다.\n",
    "print(all([1,2,3])) # True\n",
    "print(all([1,2,3,0]))"
   ]
  },
  {
   "cell_type": "markdown",
   "id": "b87e3df7",
   "metadata": {},
   "source": [
    "# 제어문 작업"
   ]
  },
  {
   "cell_type": "code",
   "execution_count": null,
   "id": "f381232e",
   "metadata": {
    "ExecuteTime": {
     "end_time": "2023-08-24T00:05:30.619989Z",
     "start_time": "2023-08-24T00:05:30.612710Z"
    }
   },
   "outputs": [],
   "source": [
    "for i in range(5) :\n",
    "    print('*', end = '')"
   ]
  },
  {
   "cell_type": "code",
   "execution_count": null,
   "id": "0c14136f",
   "metadata": {
    "ExecuteTime": {
     "end_time": "2023-08-24T00:06:35.789334Z",
     "start_time": "2023-08-24T00:06:35.770818Z"
    }
   },
   "outputs": [],
   "source": [
    "#다중 for 문 : 바깥쪽 for 문이 한번수행될때마다 안쪽 for문 주어진 횟수만큼\n",
    "for k in range(5) : # 행의 수(줄)\n",
    "    for i in range(5) : # 열의 수\n",
    "        print('*', end = '')\n",
    "    print()"
   ]
  },
  {
   "cell_type": "code",
   "execution_count": null,
   "id": "9b99a586",
   "metadata": {
    "ExecuteTime": {
     "end_time": "2023-08-24T00:10:33.276666Z",
     "start_time": "2023-08-24T00:10:33.269626Z"
    }
   },
   "outputs": [],
   "source": [
    "for k in range(8) : # 행의 수(줄)\n",
    "    for i in range(k) : # 열의 수\n",
    "        print('*', end = '')\n",
    "    print()"
   ]
  },
  {
   "cell_type": "code",
   "execution_count": null,
   "id": "83babf34",
   "metadata": {
    "ExecuteTime": {
     "end_time": "2023-08-24T00:13:46.496409Z",
     "start_time": "2023-08-24T00:13:46.485466Z"
    }
   },
   "outputs": [],
   "source": [
    "# range(from, to, by)\n",
    "for k in range(8) : # 행의 수(줄)\n",
    "    for i in range(8-k) : # 열의 수\n",
    "        print('*', end = '')\n",
    "    print()"
   ]
  },
  {
   "cell_type": "code",
   "execution_count": null,
   "id": "4b16aa85",
   "metadata": {
    "ExecuteTime": {
     "end_time": "2023-08-24T00:14:17.328733Z",
     "start_time": "2023-08-24T00:14:17.309060Z"
    }
   },
   "outputs": [],
   "source": [
    "for k in range(8, 0 , -1) : # 행의 수(줄)\n",
    "    for i in range(k) : # 열의 수\n",
    "        print('*', end = '')\n",
    "    print()"
   ]
  },
  {
   "cell_type": "code",
   "execution_count": null,
   "id": "f078b262",
   "metadata": {
    "ExecuteTime": {
     "end_time": "2023-08-24T00:25:53.864281Z",
     "start_time": "2023-08-24T00:25:53.847252Z"
    }
   },
   "outputs": [],
   "source": [
    "# 공백을 제어할 변수\n",
    "b = 8\n",
    "\n",
    "# 전체 출력되는 줄을 반복처리하는 로직\n",
    "for i in range(8) :\n",
    "    # 공백처리\n",
    "    for j in range(b) :\n",
    "        print(' ', end = '')\n",
    "    # 별의개수\n",
    "    for k in range(i + 1):\n",
    "        print('*', end = '')\n",
    "    # 개행\n",
    "    print()\n",
    "    # 공백\n",
    "    b -= 1"
   ]
  },
  {
   "cell_type": "code",
   "execution_count": null,
   "id": "180c9f2d",
   "metadata": {
    "ExecuteTime": {
     "end_time": "2023-08-24T00:54:37.794031Z",
     "start_time": "2023-08-24T00:54:37.776812Z"
    }
   },
   "outputs": [],
   "source": [
    "def aaa() : \n",
    "    for k in range(8) : # 행의 수(줄)\n",
    "        for i in range(k) : # 열의 수\n",
    "            print('*', end = '')\n",
    "        print()\n"
   ]
  },
  {
   "cell_type": "code",
   "execution_count": null,
   "id": "68199bee",
   "metadata": {
    "ExecuteTime": {
     "end_time": "2023-08-24T00:55:11.545753Z",
     "start_time": "2023-08-24T00:55:11.528874Z"
    }
   },
   "outputs": [],
   "source": []
  },
  {
   "cell_type": "code",
   "execution_count": null,
   "id": "01cb7981",
   "metadata": {
    "ExecuteTime": {
     "end_time": "2023-08-24T01:23:54.242225Z",
     "start_time": "2023-08-24T01:23:54.232260Z"
    }
   },
   "outputs": [],
   "source": []
  },
  {
   "cell_type": "code",
   "execution_count": null,
   "id": "d4d48d26",
   "metadata": {
    "ExecuteTime": {
     "end_time": "2023-08-24T00:31:36.997574Z",
     "start_time": "2023-08-24T00:31:36.984604Z"
    }
   },
   "outputs": [],
   "source": [
    "# 공백을 제어할 변수\n",
    "b = 8\n",
    "\n",
    "# 전체 출력되는 줄을 반복처리하는 로직\n",
    "for i in range(8) :\n",
    "    # 공백처리\n",
    "    for j in range(b) :\n",
    "        print(' ', end = '')\n",
    "    # 별의개수\n",
    "    for k in range(i + 1):\n",
    "        print('*', end = '')\n",
    "    # 개행\n",
    "    print()\n",
    "    # 공백\n",
    "    b -= 1"
   ]
  },
  {
   "cell_type": "code",
   "execution_count": null,
   "id": "e912260c",
   "metadata": {
    "ExecuteTime": {
     "end_time": "2023-08-24T00:40:47.679962Z",
     "start_time": "2023-08-24T00:40:47.668321Z"
    }
   },
   "outputs": [],
   "source": [
    "# 공백을 제어할 변수\n",
    "b = 6\n",
    "\n",
    "# 전체 출력되는 줄을 반복처리하는 로직\n",
    "for i in range(1,7) :\n",
    "    # 공백처리\n",
    "    for j in range(b) :\n",
    "        print(' ', end = '')\n",
    "    # 별의개수\n",
    "    for s in range(2*i-1):        \n",
    "        print('*', end = '')\n",
    "    # 공백처리\n",
    "    for j in range(b) :\n",
    "        print(' ', end = '')\n",
    "    # 개행\n",
    "    print()\n",
    "    # 공백\n",
    "    b -= 1"
   ]
  },
  {
   "cell_type": "markdown",
   "id": "7467c741",
   "metadata": {},
   "source": [
    "# 파이썬 함수\n",
    "\n",
    "- 반복적인 프로그래밍을 피할 수 있다.\n",
    "- 모듈화로 인해 전체적인 코드의 가독성을 높인다.\n",
    "- 프로그램에 문제가 발생하거나 기능을 변경해야 할 때 빠른 유지보수가 가능하다."
   ]
  },
  {
   "cell_type": "code",
   "execution_count": null,
   "id": "0dd35429",
   "metadata": {
    "ExecuteTime": {
     "end_time": "2023-08-24T01:10:35.353018Z",
     "start_time": "2023-08-24T01:10:35.337569Z"
    }
   },
   "outputs": [],
   "source": [
    "# 함수의 형식\n",
    "def 함수명(매개변수) :\n",
    "    실행문장\n",
    "    return 반환값 또는 수식"
   ]
  },
  {
   "cell_type": "code",
   "execution_count": null,
   "id": "86c77d5b",
   "metadata": {
    "ExecuteTime": {
     "end_time": "2023-08-24T01:13:45.957347Z",
     "start_time": "2023-08-24T01:13:45.944109Z"
    }
   },
   "outputs": [],
   "source": [
    "# 프로그램의 실행순서는 main 시작 - main 끝\n",
    "# 프로그램의 실행순서는 main 시작 - sub 프로그램 호출 - main 끝\n",
    "# return 키워드의 의미 : main에게 프로그램의 제어권을 돌려준다.\n",
    "# return : 제어권을 main에 넘겨준다는 의미로 생략이 가능\n",
    "# return 값 or 수식"
   ]
  },
  {
   "cell_type": "code",
   "execution_count": null,
   "id": "53693d3b",
   "metadata": {
    "ExecuteTime": {
     "end_time": "2023-08-24T01:17:06.449632Z",
     "start_time": "2023-08-24T01:17:06.435651Z"
    }
   },
   "outputs": [],
   "source": [
    "print('안녕!')\n",
    "print('----------------')\n",
    "print('----------------------')\n",
    "print('뭘봐')\n",
    "print('오늘이 목요일이라니~')\n",
    "print('체감은 일요일이야')\n",
    "print('-------')\n",
    "print('---------------------')\n",
    "print('반복적인 문구가 보입니까?')"
   ]
  },
  {
   "cell_type": "code",
   "execution_count": null,
   "id": "9d4aaf5d",
   "metadata": {
    "ExecuteTime": {
     "end_time": "2023-08-24T01:18:33.025584Z",
     "start_time": "2023-08-24T01:18:33.014486Z"
    }
   },
   "outputs": [],
   "source": [
    "def line(size) :\n",
    "    print('-' * size)\n",
    "    return"
   ]
  },
  {
   "cell_type": "code",
   "execution_count": null,
   "id": "4dc9a8bc",
   "metadata": {
    "ExecuteTime": {
     "end_time": "2023-08-24T01:18:33.764206Z",
     "start_time": "2023-08-24T01:18:33.751839Z"
    }
   },
   "outputs": [],
   "source": [
    "line(6)"
   ]
  },
  {
   "cell_type": "code",
   "execution_count": null,
   "id": "1d61b72b",
   "metadata": {
    "ExecuteTime": {
     "end_time": "2023-08-24T01:19:23.021448Z",
     "start_time": "2023-08-24T01:19:23.013614Z"
    }
   },
   "outputs": [],
   "source": [
    "print('안녕!')\n",
    "line(10)\n",
    "line(20)\n",
    "print('뭘봐')\n",
    "print('오늘이 목요일이라니~')\n",
    "print('체감은 일요일이야')\n",
    "line(5)\n",
    "line(30)\n",
    "print('반복적인 문구가 보입니까?')"
   ]
  },
  {
   "cell_type": "code",
   "execution_count": null,
   "id": "31b44816",
   "metadata": {
    "ExecuteTime": {
     "end_time": "2023-08-24T01:30:02.032785Z",
     "start_time": "2023-08-24T01:30:02.027106Z"
    }
   },
   "outputs": [],
   "source": [
    "# 매개변수 X, 리턴값 X\n",
    "def aaa() :\n",
    "    print(\"sub 프로그램의 시작\")"
   ]
  },
  {
   "cell_type": "code",
   "execution_count": null,
   "id": "6679769f",
   "metadata": {
    "ExecuteTime": {
     "end_time": "2023-08-24T01:30:02.264592Z",
     "start_time": "2023-08-24T01:30:02.249318Z"
    }
   },
   "outputs": [],
   "source": [
    "# 매개변수 X, 리턴값 O\n",
    "def bbb() :\n",
    "    return 'ok'"
   ]
  },
  {
   "cell_type": "code",
   "execution_count": null,
   "id": "0a767cdd",
   "metadata": {
    "ExecuteTime": {
     "end_time": "2023-08-24T01:30:02.414741Z",
     "start_time": "2023-08-24T01:30:02.399008Z"
    }
   },
   "outputs": [],
   "source": [
    "# 매개변수 O, 리턴값 X\n",
    "def ccc(len) :\n",
    "    if len >= 10 :\n",
    "        print(\"길어\")\n",
    "    else :\n",
    "        print(\"짧아\")"
   ]
  },
  {
   "cell_type": "code",
   "execution_count": null,
   "id": "046a76f0",
   "metadata": {
    "ExecuteTime": {
     "end_time": "2023-08-24T01:30:02.614559Z",
     "start_time": "2023-08-24T01:30:02.598700Z"
    }
   },
   "outputs": [],
   "source": [
    "# 매개변수 O, 리턴값 O\n",
    "def adder(a,b) :\n",
    "    #c = a+b\n",
    "    return a+b"
   ]
  },
  {
   "cell_type": "code",
   "execution_count": null,
   "id": "c34f6607",
   "metadata": {
    "ExecuteTime": {
     "end_time": "2023-08-24T01:35:28.262318Z",
     "start_time": "2023-08-24T01:35:28.255265Z"
    }
   },
   "outputs": [],
   "source": [
    "print('main 시작')\n",
    "\n",
    "# 호출 : 서브프로그램과 매크로 프로그램\n",
    "## Call by Name : 이름에 의한 호출 - 매개변수를 가지고 있지 않은 함수를 호출하는 행위\n",
    "aaa()\n",
    "print(bbb())\n",
    "string = bbb()\n",
    "print(string)\n",
    "## Call by Value : 값에 의한 호출 - 매개변수값을 전달해서 함수를 호출하는 행위\n",
    "ccc(8)\n",
    "print(adder(4,5))\n",
    "tot = adder(10,20)\n",
    "print(\"tot = \",tot)\n",
    "print('main 끝')\n"
   ]
  },
  {
   "cell_type": "markdown",
   "id": "f68db53d",
   "metadata": {
    "ExecuteTime": {
     "end_time": "2023-08-24T01:28:33.407025Z",
     "start_time": "2023-08-24T01:28:33.397155Z"
    }
   },
   "source": [
    "## 다섯개의 정수를 입력받아 그 합과 평균을 계산하여 출력하는 프로그램"
   ]
  },
  {
   "cell_type": "code",
   "execution_count": null,
   "id": "12ea21a0",
   "metadata": {
    "ExecuteTime": {
     "end_time": "2023-08-24T01:41:50.586919Z",
     "start_time": "2023-08-24T01:41:47.787189Z"
    }
   },
   "outputs": [],
   "source": [
    "def inp(x, y) :\n",
    "    x = int(input('수 {} ='.format(y)))\n",
    "\n",
    "inp(a,1)\n",
    "inp(b,2)\n",
    "inp(c,3)\n",
    "inp(d,4)\n",
    "inp(e,5)\n",
    "\n",
    "tot = a + b + c + d + e\n",
    "avg = tot/5\n",
    "\n",
    "print('합 =', tot)\n",
    "print('평균 =', avg)"
   ]
  },
  {
   "cell_type": "code",
   "execution_count": null,
   "id": "05123e43",
   "metadata": {
    "ExecuteTime": {
     "end_time": "2023-08-24T01:44:40.928764Z",
     "start_time": "2023-08-24T01:44:36.700813Z"
    }
   },
   "outputs": [],
   "source": [
    "num = list(map(int, input('수 입력 =').split()))\n",
    "tot = 0\n",
    "for i in num :\n",
    "    tot += i\n",
    "avg = tot / len(num)\n",
    "\n",
    "print('합 =', tot)\n",
    "print('평균 =', avg)"
   ]
  },
  {
   "cell_type": "code",
   "execution_count": null,
   "id": "a31015c4",
   "metadata": {
    "ExecuteTime": {
     "end_time": "2023-08-24T01:53:08.591879Z",
     "start_time": "2023-08-24T01:53:08.575746Z"
    }
   },
   "outputs": [],
   "source": [
    "def inData() :\n",
    "    num = list(map(int, input('수 입력 =').split()))\n",
    "    return num"
   ]
  },
  {
   "cell_type": "code",
   "execution_count": null,
   "id": "a34c3ebd",
   "metadata": {
    "ExecuteTime": {
     "end_time": "2023-08-24T01:53:08.958158Z",
     "start_time": "2023-08-24T01:53:08.943717Z"
    }
   },
   "outputs": [],
   "source": [
    "def process() :\n",
    "    tot = 0\n",
    "    num = inData()\n",
    "    for i in num :\n",
    "        tot += i\n",
    "    avg = tot / len(num)\n",
    "    return tot, avg"
   ]
  },
  {
   "cell_type": "code",
   "execution_count": null,
   "id": "7a60565a",
   "metadata": {
    "ExecuteTime": {
     "end_time": "2023-08-24T01:56:31.282906Z",
     "start_time": "2023-08-24T01:56:31.265390Z"
    }
   },
   "outputs": [],
   "source": [
    "# process 함수 수정\n",
    "## Call by Referecne : 참조에 의한 호출, 매개변수의 값이 아닌 주소를 이용하여 함수를 호출\n",
    "def process(num) :\n",
    "    tot = 0\n",
    "    for i in num :\n",
    "        tot += i\n",
    "    avg = tot / len(num)\n",
    "    return tot, avg"
   ]
  },
  {
   "cell_type": "code",
   "execution_count": null,
   "id": "3278b029",
   "metadata": {
    "ExecuteTime": {
     "end_time": "2023-08-24T01:54:02.393599Z",
     "start_time": "2023-08-24T01:53:59.887386Z"
    }
   },
   "outputs": [],
   "source": [
    "# main\n",
    "print(\"main start\")\n",
    "\n",
    "t = process()\n",
    "print(t, type(t))\n",
    "\n",
    "print('합 =', t[0])\n",
    "print('평균 =', t[1])"
   ]
  },
  {
   "cell_type": "code",
   "execution_count": null,
   "id": "a5060b3c",
   "metadata": {
    "ExecuteTime": {
     "end_time": "2023-08-24T01:57:32.621947Z",
     "start_time": "2023-08-24T01:57:29.168585Z"
    }
   },
   "outputs": [],
   "source": [
    "# main\n",
    "print(\"main start\")\n",
    "\n",
    "num = list(map(int, input('수 입력 =').split()))\n",
    "t = process(num)\n",
    "print(t, type(t))\n",
    "\n",
    "print('합 =', t[0])\n",
    "print('평균 =', t[1])"
   ]
  },
  {
   "cell_type": "markdown",
   "id": "a3808259",
   "metadata": {},
   "source": [
    "## 계산기 프로그램\n",
    "\n",
    "- 두 개의 정수와 하나의 연산자를 입력받아 계산을 수행한 후 결과를 출력하는 프로그램\n",
    "- 연산자에 따른 계산식을 각각의 함수를 구현하시오.\n",
    "- adder, substract, multiply, divide\n",
    "- 사용자가 원하는 계산을 수행할 수 있도록 구현할 것.\n",
    "- 언제든 프로그램을 종료할 수 있도록 구현할 것. 무한Loop를 사용\n",
    "- Main Menu : [1]더하기 [2]빼기 [3]곱하기 [4]나누기 [5]종료"
   ]
  },
  {
   "cell_type": "code",
   "execution_count": null,
   "id": "5e4cd218",
   "metadata": {
    "ExecuteTime": {
     "end_time": "2023-08-24T02:34:22.011581Z",
     "start_time": "2023-08-24T02:34:22.003473Z"
    }
   },
   "outputs": [],
   "source": [
    "def inData() :\n",
    "    num = int(input('Main Menu : [1]더하기 [2]빼기 [3]곱하기 [4]나누기 [5]종료  :  '))\n",
    "    return num\n",
    "def innum() :\n",
    "    num2 = list(map(eval, input('2개의 수 입력 : ').split()))\n",
    "    x = num2[0]\n",
    "    y = num2[1]\n",
    "    return x,y"
   ]
  },
  {
   "cell_type": "code",
   "execution_count": null,
   "id": "a398b01f",
   "metadata": {
    "ExecuteTime": {
     "end_time": "2023-08-24T02:34:34.033914Z",
     "start_time": "2023-08-24T02:34:34.024895Z"
    }
   },
   "outputs": [],
   "source": [
    "def process(x) :\n",
    "    while True :\n",
    "        n = innum()\n",
    "        if x == 1 : \n",
    "            return n[0] + n[1]\n",
    "        elif x == 2 :\n",
    "            return n[0] - n[1]\n",
    "        elif x == 3 :\n",
    "            return n[0] * n[1]\n",
    "        elif x == 4 :\n",
    "            return n[0] / n[1]\n",
    "        elif x == 5 :\n",
    "            print('프로그램을 종료합니다.')\n",
    "            break\n",
    "        else :\n",
    "            print('잘못입력하셨습니다.')\n",
    "       "
   ]
  },
  {
   "cell_type": "code",
   "execution_count": null,
   "id": "69c25683",
   "metadata": {
    "ExecuteTime": {
     "end_time": "2023-08-24T02:35:26.812663Z",
     "start_time": "2023-08-24T02:35:13.694340Z"
    }
   },
   "outputs": [],
   "source": [
    "num = inData()\n",
    "print(process(num))"
   ]
  },
  {
   "cell_type": "markdown",
   "id": "1b46488f",
   "metadata": {},
   "source": [
    "## 성적처리 프로그램 3단계\n",
    "\n",
    "- 국어, 영어, 수학 점수를 입력받아 총점과 평균 그리고 학점을 계산하여 출력하는 프로그램\n",
    "- 한 명 이상의 학생에 대한 정보를 받아 처리하도록 구현할 것.\n",
    "- 주어진 입력 및 출력형식에 맞게 구현할 것."
   ]
  },
  {
   "cell_type": "code",
   "execution_count": null,
   "id": "4414e043",
   "metadata": {
    "ExecuteTime": {
     "end_time": "2023-08-24T02:38:39.063918Z",
     "start_time": "2023-08-24T02:38:39.059369Z"
    }
   },
   "outputs": [],
   "source": [
    "# 한명의 학생정보\n",
    "student = {'name' : '홍길동', 'kor' : 80, 'eng' : 92, 'math' : 77}\n",
    "print(student)"
   ]
  },
  {
   "cell_type": "code",
   "execution_count": null,
   "id": "61fdacf0",
   "metadata": {
    "ExecuteTime": {
     "end_time": "2023-08-24T02:38:54.594061Z",
     "start_time": "2023-08-24T02:38:54.586808Z"
    }
   },
   "outputs": [],
   "source": [
    "# 사전은 키를 이용하여 값을 추출\n",
    "student['name']"
   ]
  },
  {
   "cell_type": "code",
   "execution_count": null,
   "id": "f890e11a",
   "metadata": {
    "ExecuteTime": {
     "end_time": "2023-08-24T02:39:20.734442Z",
     "start_time": "2023-08-24T02:39:20.729312Z"
    }
   },
   "outputs": [],
   "source": [
    "student.get('name')"
   ]
  },
  {
   "cell_type": "code",
   "execution_count": null,
   "id": "f60b81ad",
   "metadata": {
    "ExecuteTime": {
     "end_time": "2023-08-24T02:39:37.799037Z",
     "start_time": "2023-08-24T02:39:37.780320Z"
    }
   },
   "outputs": [],
   "source": [
    "student['name'] = '장보고'\n",
    "student"
   ]
  },
  {
   "cell_type": "code",
   "execution_count": null,
   "id": "ccfbf61d",
   "metadata": {
    "ExecuteTime": {
     "end_time": "2023-08-24T02:40:22.384456Z",
     "start_time": "2023-08-24T02:40:22.373053Z"
    }
   },
   "outputs": [],
   "source": [
    "student['tot'] = student['kor'] + student['eng'] + student['math']\n",
    "student"
   ]
  },
  {
   "cell_type": "code",
   "execution_count": null,
   "id": "20bb6952",
   "metadata": {
    "ExecuteTime": {
     "end_time": "2023-08-24T02:44:27.574886Z",
     "start_time": "2023-08-24T02:44:22.994524Z"
    }
   },
   "outputs": [],
   "source": [
    "name = input('이름 = ')\n",
    "kor = int(input('국어 = '))\n",
    "eng = int(input('영어 = '))\n",
    "math = int(input('수학 = '))\n",
    "\n",
    "stu = dict()  # 빈 사전 생성\n",
    "stu['name'] = name\n",
    "stu['kor'] = kor\n",
    "stu['eng'] = eng\n",
    "stu['math'] = math\n",
    "\n",
    "print(stu)"
   ]
  },
  {
   "cell_type": "code",
   "execution_count": null,
   "id": "5552187b",
   "metadata": {
    "ExecuteTime": {
     "end_time": "2023-08-24T02:50:10.275324Z",
     "start_time": "2023-08-24T02:50:02.366418Z"
    }
   },
   "outputs": [],
   "source": [
    "# 여러명의 학생의 정보를 담을 리스트 객체를 생성\n",
    "students = []\n",
    "for i in range(3):\n",
    "    name = input('이름 = ')\n",
    "    kor = int(input('국어 = '))\n",
    "    eng = int(input('영어 = '))\n",
    "    math = int(input('수학 = '))\n",
    "    \n",
    "    stu = dict()  # 빈 사전 생성\n",
    "    stu['name'] = name\n",
    "    stu['kor'] = kor\n",
    "    stu['eng'] = eng\n",
    "    stu['math'] = math\n",
    "    \n",
    "    students.append(stu)\n",
    "    print(type(students))\n",
    "for i in students:\n",
    "    print(i)"
   ]
  },
  {
   "cell_type": "code",
   "execution_count": 1,
   "id": "e8051b7d",
   "metadata": {
    "ExecuteTime": {
     "end_time": "2023-08-24T04:51:02.351868Z",
     "start_time": "2023-08-24T04:51:02.336731Z"
    }
   },
   "outputs": [],
   "source": [
    "def menu() :\n",
    "    print(\"== 성적처리 프로그램 ==\")\n",
    "    print(\"1. 신규학생등록\")\n",
    "    print(\"2. 전체성적조회\")\n",
    "    print(\"3. 학생성적조회\")\n",
    "    print(\"4. 학생정보삭제\")\n",
    "    print(\"5. 프로그램종료\")"
   ]
  },
  {
   "cell_type": "code",
   "execution_count": 2,
   "id": "44325ca0",
   "metadata": {
    "ExecuteTime": {
     "end_time": "2023-08-24T04:51:02.936798Z",
     "start_time": "2023-08-24T04:51:02.931989Z"
    }
   },
   "outputs": [],
   "source": [
    "# 여러명의 학생의 정보를 담을 리스트 객체를 생성\n",
    "students = []\n",
    "def inData() :\n",
    "        stu = dict()  # 빈 사전 생성\n",
    "        stu['name'] = input('이름 = ')\n",
    "        stu['kor'] = int(input('국어 = '))\n",
    "        stu['eng'] = int(input('영어 = '))\n",
    "        stu['math'] = int(input('수학 = '))\n",
    "    \n",
    "        students.append(stu)"
   ]
  },
  {
   "cell_type": "code",
   "execution_count": 3,
   "id": "f3975886",
   "metadata": {
    "ExecuteTime": {
     "end_time": "2023-08-24T04:51:03.406733Z",
     "start_time": "2023-08-24T04:51:03.391106Z"
    }
   },
   "outputs": [],
   "source": [
    "def allscore() :\n",
    "    for i in range(len(students)) :\n",
    "        students[i]['tot'] = students[i]['kor'] + students[i]['eng'] + students[i]['math']\n"
   ]
  },
  {
   "cell_type": "code",
   "execution_count": null,
   "id": "e79c81b0",
   "metadata": {
    "ExecuteTime": {
     "start_time": "2023-08-24T03:44:30.420Z"
    }
   },
   "outputs": [],
   "source": [
    "name = input('이름 = ')\n",
    "\n",
    "# 스위칭변수(switch == toggle)\n",
    "sw = False\n",
    "\n",
    "for i in rage(3) :\n",
    "    if imsi[i]['name'] == name :\n",
    "        sw = True\n",
    "        break\n",
    "\n",
    "if sw == True :\n",
    "    print(imsi[i])\n",
    "else :\n",
    "    print('해당학생이 존재하지 않습니다.')"
   ]
  },
  {
   "cell_type": "code",
   "execution_count": 4,
   "id": "c7a676af",
   "metadata": {
    "ExecuteTime": {
     "end_time": "2023-08-24T04:51:11.187216Z",
     "start_time": "2023-08-24T04:51:11.170108Z"
    },
    "code_folding": []
   },
   "outputs": [
    {
     "name": "stdout",
     "output_type": "stream",
     "text": [
      "[]\n",
      "0\n"
     ]
    }
   ],
   "source": [
    "# search\n",
    "print(students)\n",
    "print(len(students))\n",
    "def search() :\n",
    "    name = input('이름 =')\n",
    "    sw = False\n",
    "    for i in range(len(students)) :\n",
    "        if students[i]['name'] == name :\n",
    "            sw =True\n",
    "    if sw == True :\n",
    "        print(students[i])\n",
    "    else : \n",
    "        print('그런 학생이 없습니다.')"
   ]
  },
  {
   "cell_type": "code",
   "execution_count": 5,
   "id": "1ed99ec3",
   "metadata": {
    "ExecuteTime": {
     "end_time": "2023-08-24T04:51:24.257980Z",
     "start_time": "2023-08-24T04:51:11.886265Z"
    }
   },
   "outputs": [
    {
     "name": "stdout",
     "output_type": "stream",
     "text": [
      "== 성적처리 프로그램 ==\n",
      "1. 신규학생등록\n",
      "2. 전체성적조회\n",
      "3. 학생성적조회\n",
      "4. 학생정보삭제\n",
      "5. 프로그램종료\n",
      "메뉴 선택 =3\n",
      "이름 =aaa\n",
      "그런 학생이 없습니다.\n",
      "== 성적처리 프로그램 ==\n",
      "1. 신규학생등록\n",
      "2. 전체성적조회\n",
      "3. 학생성적조회\n",
      "4. 학생정보삭제\n",
      "5. 프로그램종료\n",
      "메뉴 선택 =5\n",
      "프로그램이 종료되었습니다.\n"
     ]
    }
   ],
   "source": [
    "\n",
    "while True :\n",
    "    menu()\n",
    "    ch = int(input('메뉴 선택 ='))\n",
    "    if ch == 1 :\n",
    "        while True :\n",
    "            ch2 = input('학생 정보입력 하시겠습니까?(Y/N)')\n",
    "            if ch2 == 'N' : break\n",
    "            inData()\n",
    "    elif ch == 2 :\n",
    "        allscore()\n",
    "        for i in students :            \n",
    "            print(students)\n",
    "    elif ch == 3 :\n",
    "        search()\n",
    "    elif ch == 4 :\n",
    "        pass\n",
    "    elif ch == 5 :\n",
    "        print('프로그램이 종료되었습니다.')\n",
    "        break\n",
    "    else :\n",
    "        print('잘못입력했습니다.')\n"
   ]
  },
  {
   "cell_type": "markdown",
   "id": "4eb46141",
   "metadata": {
    "ExecuteTime": {
     "end_time": "2023-08-24T02:58:00.669956Z",
     "start_time": "2023-08-24T02:58:00.654377Z"
    }
   },
   "source": [
    "## "
   ]
  },
  {
   "cell_type": "code",
   "execution_count": null,
   "id": "0ea75a67",
   "metadata": {
    "ExecuteTime": {
     "end_time": "2023-08-24T03:19:29.808037Z",
     "start_time": "2023-08-24T03:19:29.796041Z"
    }
   },
   "outputs": [],
   "source": []
  },
  {
   "cell_type": "code",
   "execution_count": null,
   "id": "556fa66a",
   "metadata": {
    "ExecuteTime": {
     "end_time": "2023-08-24T02:59:20.697573Z",
     "start_time": "2023-08-24T02:59:20.685005Z"
    }
   },
   "outputs": [],
   "source": [
    "# 변수 범위(scope, 영역) : 전역변수, 지역변수\n",
    "\n",
    "a = 100 # 전역변수"
   ]
  },
  {
   "cell_type": "code",
   "execution_count": null,
   "id": "f487720f",
   "metadata": {
    "ExecuteTime": {
     "end_time": "2023-08-24T02:59:21.569076Z",
     "start_time": "2023-08-24T02:59:21.555056Z"
    }
   },
   "outputs": [],
   "source": [
    "def check() :\n",
    "    a = 10 # 지역변수\n",
    "    print(\"a = \", a)"
   ]
  },
  {
   "cell_type": "code",
   "execution_count": null,
   "id": "a37c3933",
   "metadata": {},
   "outputs": [],
   "source": [
    "check()"
   ]
  },
  {
   "cell_type": "code",
   "execution_count": null,
   "id": "6b8583e8",
   "metadata": {
    "ExecuteTime": {
     "end_time": "2023-08-24T02:59:10.455158Z",
     "start_time": "2023-08-24T02:59:10.441706Z"
    }
   },
   "outputs": [],
   "source": [
    "print(\"a = \", a)\n",
    "check()"
   ]
  },
  {
   "cell_type": "code",
   "execution_count": null,
   "id": "8c482861",
   "metadata": {},
   "outputs": [],
   "source": [
    "print(\"a = \", a)"
   ]
  }
 ],
 "metadata": {
  "kernelspec": {
   "display_name": "Python 3",
   "language": "python",
   "name": "python3"
  },
  "language_info": {
   "codemirror_mode": {
    "name": "ipython",
    "version": 3
   },
   "file_extension": ".py",
   "mimetype": "text/x-python",
   "name": "python",
   "nbconvert_exporter": "python",
   "pygments_lexer": "ipython3",
   "version": "3.8.8"
  },
  "toc": {
   "base_numbering": 1,
   "nav_menu": {},
   "number_sections": true,
   "sideBar": true,
   "skip_h1_title": false,
   "title_cell": "Table of Contents",
   "title_sidebar": "Contents",
   "toc_cell": false,
   "toc_position": {},
   "toc_section_display": true,
   "toc_window_display": false
  },
  "varInspector": {
   "cols": {
    "lenName": 16,
    "lenType": 16,
    "lenVar": 40
   },
   "kernels_config": {
    "python": {
     "delete_cmd_postfix": "",
     "delete_cmd_prefix": "del ",
     "library": "var_list.py",
     "varRefreshCmd": "print(var_dic_list())"
    },
    "r": {
     "delete_cmd_postfix": ") ",
     "delete_cmd_prefix": "rm(",
     "library": "var_list.r",
     "varRefreshCmd": "cat(var_dic_list()) "
    }
   },
   "types_to_exclude": [
    "module",
    "function",
    "builtin_function_or_method",
    "instance",
    "_Feature"
   ],
   "window_display": false
  }
 },
 "nbformat": 4,
 "nbformat_minor": 5
}
