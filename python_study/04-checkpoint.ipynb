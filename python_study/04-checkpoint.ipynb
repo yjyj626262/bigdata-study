{
 "cells": [
  {
   "cell_type": "code",
   "execution_count": null,
   "id": "a3190fc2",
   "metadata": {},
   "outputs": [],
   "source": []
  },
  {
   "cell_type": "code",
   "execution_count": 1,
   "id": "dc5112ee",
   "metadata": {
    "ExecuteTime": {
     "end_time": "2023-08-22T06:25:05.016596Z",
     "start_time": "2023-08-22T06:25:05.006964Z"
    }
   },
   "outputs": [],
   "source": [
    "a = True\n",
    "b = False"
   ]
  },
  {
   "cell_type": "code",
   "execution_count": 2,
   "id": "4e24df2a",
   "metadata": {
    "ExecuteTime": {
     "end_time": "2023-08-22T06:25:13.796848Z",
     "start_time": "2023-08-22T06:25:13.779530Z"
    }
   },
   "outputs": [
    {
     "name": "stdout",
     "output_type": "stream",
     "text": [
      "False\n"
     ]
    }
   ],
   "source": [
    "print(a and b)"
   ]
  },
  {
   "cell_type": "code",
   "execution_count": 3,
   "id": "4acdd14c",
   "metadata": {
    "ExecuteTime": {
     "end_time": "2023-08-22T06:25:21.437103Z",
     "start_time": "2023-08-22T06:25:21.415610Z"
    }
   },
   "outputs": [
    {
     "name": "stdout",
     "output_type": "stream",
     "text": [
      "True\n"
     ]
    }
   ],
   "source": [
    "print(a or b)"
   ]
  },
  {
   "cell_type": "code",
   "execution_count": 4,
   "id": "a729890c",
   "metadata": {
    "ExecuteTime": {
     "end_time": "2023-08-22T06:27:07.341280Z",
     "start_time": "2023-08-22T06:27:07.336607Z"
    }
   },
   "outputs": [
    {
     "name": "stdout",
     "output_type": "stream",
     "text": [
      "ok\n"
     ]
    }
   ],
   "source": [
    "a = 1\n",
    "b = 3\n",
    "\n",
    "# 들여쓰기(Indent)\n",
    "if a == 1 and b == 3:\n",
    "    print(\"ok\")\n",
    "else:\n",
    "    print(\"not ok\")"
   ]
  },
  {
   "cell_type": "code",
   "execution_count": 7,
   "id": "89a5c591",
   "metadata": {
    "ExecuteTime": {
     "end_time": "2023-08-22T06:30:10.911769Z",
     "start_time": "2023-08-22T06:30:10.900904Z"
    }
   },
   "outputs": [
    {
     "name": "stdout",
     "output_type": "stream",
     "text": [
      "Hello\n",
      "Python\n",
      "programming\n"
     ]
    }
   ],
   "source": [
    "# multi line text : 여러줄 문장\n",
    "\n",
    "multi = \"Hello\\nPython\\nprogramming\"\n",
    "\n",
    "# 제어문자 : \\n == new line, 줄바꿈(개행)\n",
    "print(multi)"
   ]
  },
  {
   "cell_type": "code",
   "execution_count": 8,
   "id": "50cbf28f",
   "metadata": {
    "ExecuteTime": {
     "end_time": "2023-08-22T06:33:23.589249Z",
     "start_time": "2023-08-22T06:33:23.570327Z"
    }
   },
   "outputs": [
    {
     "name": "stdout",
     "output_type": "stream",
     "text": [
      "\n",
      "Hello\n",
      "Python\n",
      "Programming\n",
      "\n"
     ]
    }
   ],
   "source": [
    "multiline = \"\"\"\n",
    "Hello\n",
    "Python\n",
    "Programming\n",
    "\"\"\"\n",
    "\n",
    "print(multiline)"
   ]
  },
  {
   "cell_type": "code",
   "execution_count": 9,
   "id": "81639401",
   "metadata": {
    "ExecuteTime": {
     "end_time": "2023-08-22T06:34:02.244402Z",
     "start_time": "2023-08-22T06:34:02.238355Z"
    }
   },
   "outputs": [
    {
     "name": "stdout",
     "output_type": "stream",
     "text": [
      "파이썬은 재미있다\n",
      "파이썬은재미있다\n"
     ]
    }
   ],
   "source": [
    "head = \"파이썬은\"\n",
    "tail = \"재미있다\"\n",
    "print(head, tail)\n",
    "print(head + tail)"
   ]
  },
  {
   "cell_type": "code",
   "execution_count": 10,
   "id": "c4c1eeec",
   "metadata": {
    "ExecuteTime": {
     "end_time": "2023-08-22T06:34:36.416610Z",
     "start_time": "2023-08-22T06:34:36.401882Z"
    }
   },
   "outputs": [
    {
     "name": "stdout",
     "output_type": "stream",
     "text": [
      "홍길동 33\n",
      "홍길동33\n"
     ]
    }
   ],
   "source": [
    "name = \"홍길동\"\n",
    "age = 33\n",
    "\n",
    "print(name, age)\n",
    "print(name + str(age))"
   ]
  },
  {
   "cell_type": "code",
   "execution_count": 16,
   "id": "bf0c68d4",
   "metadata": {
    "ExecuteTime": {
     "end_time": "2023-08-22T06:39:17.514323Z",
     "start_time": "2023-08-22T06:39:17.504914Z"
    }
   },
   "outputs": [
    {
     "name": "stdout",
     "output_type": "stream",
     "text": [
      "이름 : 홍길동, 나이 : 33\n",
      "이름 : 홍길동, 나이 : 33\n",
      "이름 : 홍길동, 나이 : 33\n",
      "이름 : 홍길동, 나이 : 33\n"
     ]
    }
   ],
   "source": [
    "print(\"이름 : {}, 나이 : {}\".format(name, age))\n",
    "# 파이썬의 인덱스(index)는 0부터 시작된다.\n",
    "print(\"이름 : {0}, 나이 : {1}\".format(name, age))\n",
    "print(f\"이름 : {name}\"\", 나이 : {}\".format( age))\n",
    "print(\"이름 : %s, 나이 : %d\" % (name, age))"
   ]
  },
  {
   "cell_type": "code",
   "execution_count": 17,
   "id": "c314b08a",
   "metadata": {
    "ExecuteTime": {
     "end_time": "2023-08-22T06:44:53.865318Z",
     "start_time": "2023-08-22T06:44:53.855854Z"
    }
   },
   "outputs": [
    {
     "name": "stdout",
     "output_type": "stream",
     "text": [
      "Life is too short\n",
      "e\n",
      "r\n",
      "==================================================\n",
      "Life\n",
      "is too short\n",
      "Life is\n",
      "Life is too short\n"
     ]
    }
   ],
   "source": [
    "# 문자열 인덱싱\n",
    "# 파이썬에서 리스트(list)는 1차원 배열과 같다. R에서 Vector와 같다.\n",
    "\n",
    "xx = 'Life is too short'\n",
    "print(xx)\n",
    "\n",
    "# [인덱스]\n",
    "print(xx[3])\n",
    "print(xx[-2])\n",
    "print(\"=\"*50)\n",
    "# 슬라이싱(slicing) : , start:stop(stop-1)\n",
    "print(xx[0:4]) # 0~3\n",
    "print(xx[5:]) # 5~\n",
    "print(xx[:7]) # ~ 6\n",
    "print(xx[:])"
   ]
  },
  {
   "cell_type": "markdown",
   "id": "9ce2bc53",
   "metadata": {},
   "source": [
    "# 문자열과 관련된 함수"
   ]
  },
  {
   "cell_type": "code",
   "execution_count": 18,
   "id": "3fd5d607",
   "metadata": {
    "ExecuteTime": {
     "end_time": "2023-08-22T06:46:50.653760Z",
     "start_time": "2023-08-22T06:46:50.643380Z"
    }
   },
   "outputs": [
    {
     "name": "stdout",
     "output_type": "stream",
     "text": [
      "True\n",
      "False\n"
     ]
    }
   ],
   "source": [
    "str = 'Hello World'\n",
    "\n",
    "# in과 not in\n",
    "print(\"World\"in str)\n",
    "print('World' not in str)"
   ]
  },
  {
   "cell_type": "code",
   "execution_count": 19,
   "id": "64fd11b3",
   "metadata": {
    "ExecuteTime": {
     "end_time": "2023-08-22T06:48:18.327371Z",
     "start_time": "2023-08-22T06:48:18.308844Z"
    }
   },
   "outputs": [
    {
     "name": "stdout",
     "output_type": "stream",
     "text": [
      "3.141592653589793\n"
     ]
    }
   ],
   "source": [
    "import math\n",
    "\n",
    "y = math.pi\n",
    "print(y)"
   ]
  },
  {
   "cell_type": "code",
   "execution_count": 20,
   "id": "dac34a51",
   "metadata": {
    "ExecuteTime": {
     "end_time": "2023-08-22T06:49:47.221923Z",
     "start_time": "2023-08-22T06:49:47.207363Z"
    }
   },
   "outputs": [
    {
     "name": "stdout",
     "output_type": "stream",
     "text": [
      "hobby\n",
      "2\n"
     ]
    }
   ],
   "source": [
    "a = 'hobby'\n",
    "print(a)\n",
    "\n",
    "# count : 해당 문자의 개수를 반환해준다.\n",
    "print(a.count('b'))"
   ]
  },
  {
   "cell_type": "code",
   "execution_count": 22,
   "id": "480463d3",
   "metadata": {
    "ExecuteTime": {
     "end_time": "2023-08-22T06:52:53.975758Z",
     "start_time": "2023-08-22T06:52:53.962527Z"
    }
   },
   "outputs": [
    {
     "name": "stdout",
     "output_type": "stream",
     "text": [
      "Have a nice today\n",
      "7\n",
      "-1\n",
      "7\n"
     ]
    }
   ],
   "source": [
    "# find() : 문자열에서 해당 문자를 찾아 첫번째 위치를 반환, 단 없으면 -1을 반환\n",
    "# rfind() : 오른쪽에서부터 첫번째 위치를 반환\n",
    "\n",
    "b = \"Have a nice today\"\n",
    "print(b)\n",
    "\n",
    "print(b.find('nice')) # 7\n",
    "print(b.find('have')) # -1\n",
    "print(b.rfind('nice'))"
   ]
  },
  {
   "cell_type": "code",
   "execution_count": 23,
   "id": "191f69c1",
   "metadata": {
    "ExecuteTime": {
     "end_time": "2023-08-22T06:55:09.578276Z",
     "start_time": "2023-08-22T06:55:09.569284Z"
    }
   },
   "outputs": [
    {
     "name": "stdout",
     "output_type": "stream",
     "text": [
      "7\n"
     ]
    },
    {
     "ename": "ValueError",
     "evalue": "substring not found",
     "output_type": "error",
     "traceback": [
      "\u001b[1;31m---------------------------------------------------------------------------\u001b[0m",
      "\u001b[1;31mValueError\u001b[0m                                Traceback (most recent call last)",
      "\u001b[1;32m<ipython-input-23-11c2f3174e78>\u001b[0m in \u001b[0;36m<module>\u001b[1;34m\u001b[0m\n\u001b[0;32m      2\u001b[0m \u001b[0mx\u001b[0m \u001b[1;33m=\u001b[0m \u001b[1;34m'Have a nice today'\u001b[0m\u001b[1;33m\u001b[0m\u001b[1;33m\u001b[0m\u001b[0m\n\u001b[0;32m      3\u001b[0m \u001b[0mprint\u001b[0m\u001b[1;33m(\u001b[0m\u001b[0mx\u001b[0m\u001b[1;33m.\u001b[0m\u001b[0mindex\u001b[0m\u001b[1;33m(\u001b[0m\u001b[1;34m\"nice\"\u001b[0m\u001b[1;33m)\u001b[0m\u001b[1;33m)\u001b[0m\u001b[1;33m\u001b[0m\u001b[1;33m\u001b[0m\u001b[0m\n\u001b[1;32m----> 4\u001b[1;33m \u001b[0mprint\u001b[0m\u001b[1;33m(\u001b[0m\u001b[0mx\u001b[0m\u001b[1;33m.\u001b[0m\u001b[0mindex\u001b[0m\u001b[1;33m(\u001b[0m\u001b[1;34m\"have\"\u001b[0m\u001b[1;33m)\u001b[0m\u001b[1;33m)\u001b[0m\u001b[1;33m\u001b[0m\u001b[1;33m\u001b[0m\u001b[0m\n\u001b[0m",
      "\u001b[1;31mValueError\u001b[0m: substring not found"
     ]
    }
   ],
   "source": [
    "# index : find와 유사하지만 해당 문자열이 없으면 오류 발생\n",
    "x = 'Have a nice today'\n",
    "print(x.index(\"nice\"))\n",
    "print(x.index(\"have\"))"
   ]
  },
  {
   "cell_type": "code",
   "execution_count": 24,
   "id": "cb497b1f",
   "metadata": {
    "ExecuteTime": {
     "end_time": "2023-08-22T06:56:08.802104Z",
     "start_time": "2023-08-22T06:56:08.771260Z"
    }
   },
   "outputs": [
    {
     "data": {
      "text/plain": [
       "'a,b,c,d'"
      ]
     },
     "execution_count": 24,
     "metadata": {},
     "output_type": "execute_result"
    }
   ],
   "source": [
    "# join(문자열) : 각각의 문자열 사이에 지정한 문자를 삽입하는 함수\n",
    "\",\".join(\"abcd\")"
   ]
  },
  {
   "cell_type": "code",
   "execution_count": 25,
   "id": "a1969b0a",
   "metadata": {
    "ExecuteTime": {
     "end_time": "2023-08-22T06:57:38.392560Z",
     "start_time": "2023-08-22T06:57:38.383163Z"
    }
   },
   "outputs": [
    {
     "data": {
      "text/plain": [
       "'HELLO'"
      ]
     },
     "execution_count": 25,
     "metadata": {},
     "output_type": "execute_result"
    }
   ],
   "source": [
    "# upper/lower\n",
    "data = 'hello'\n",
    "\n",
    "data.upper()"
   ]
  },
  {
   "cell_type": "code",
   "execution_count": 27,
   "id": "9a0acf09",
   "metadata": {
    "ExecuteTime": {
     "end_time": "2023-08-22T06:58:18.131118Z",
     "start_time": "2023-08-22T06:58:18.118064Z"
    }
   },
   "outputs": [
    {
     "data": {
      "text/plain": [
       "'hello'"
      ]
     },
     "execution_count": 27,
     "metadata": {},
     "output_type": "execute_result"
    }
   ],
   "source": [
    "data.upper().lower()"
   ]
  },
  {
   "cell_type": "code",
   "execution_count": 29,
   "id": "726e8a4f",
   "metadata": {
    "ExecuteTime": {
     "end_time": "2023-08-22T06:59:05.863833Z",
     "start_time": "2023-08-22T06:59:05.854010Z"
    }
   },
   "outputs": [
    {
     "data": {
      "text/plain": [
       "'Hello'"
      ]
     },
     "execution_count": 29,
     "metadata": {},
     "output_type": "execute_result"
    }
   ],
   "source": [
    "# 첫글자만 대문자\n",
    "data.capitalize()\n"
   ]
  },
  {
   "cell_type": "code",
   "execution_count": 30,
   "id": "05206336",
   "metadata": {
    "ExecuteTime": {
     "end_time": "2023-08-22T07:00:22.844604Z",
     "start_time": "2023-08-22T07:00:22.827454Z"
    }
   },
   "outputs": [
    {
     "name": "stdout",
     "output_type": "stream",
     "text": [
      "hi     \n",
      "     hi\n",
      "hi\n"
     ]
    }
   ],
   "source": [
    "# 공백제거 : strip, rstrip, lstrip\n",
    "a = '     hi     '\n",
    "result = a.lstrip()\n",
    "print(result)\n",
    "a = '     hi     '\n",
    "result = a.rstrip()\n",
    "print(result)\n",
    "a = '     hi     '\n",
    "result = a.strip()\n",
    "print(result)"
   ]
  },
  {
   "cell_type": "code",
   "execution_count": 31,
   "id": "14d0f5c6",
   "metadata": {
    "ExecuteTime": {
     "end_time": "2023-08-22T07:06:28.876579Z",
     "start_time": "2023-08-22T07:06:28.871318Z"
    }
   },
   "outputs": [
    {
     "name": "stdout",
     "output_type": "stream",
     "text": [
      "경력 개발자\n"
     ]
    }
   ],
   "source": [
    "# replace : 문자열을 특정 문자열로 바꿔주는 함수\n",
    "a = \"신입 개발자\"\n",
    "# replace(A, B) : A를 B로 변경해라\n",
    "result = a.replace(\"신입\", \"경력\")\n",
    "print(result)"
   ]
  },
  {
   "cell_type": "code",
   "execution_count": 32,
   "id": "29e00aa9",
   "metadata": {
    "ExecuteTime": {
     "end_time": "2023-08-22T07:08:06.154092Z",
     "start_time": "2023-08-22T07:08:06.140203Z"
    }
   },
   "outputs": [
    {
     "name": "stdout",
     "output_type": "stream",
     "text": [
      "['신입', '개발자', '자바', '파이썬', '가능자']\n"
     ]
    }
   ],
   "source": [
    "a = '신입 개발자 자바 파이썬 가능자'\n",
    "result = a.split() # 공백을 기준으로 나눈다. => 리스트로 반환\n",
    "print(result)"
   ]
  },
  {
   "cell_type": "code",
   "execution_count": 33,
   "id": "420d25ce",
   "metadata": {
    "ExecuteTime": {
     "end_time": "2023-08-22T07:08:41.950850Z",
     "start_time": "2023-08-22T07:08:41.934405Z"
    }
   },
   "outputs": [
    {
     "name": "stdout",
     "output_type": "stream",
     "text": [
      "['A', 'B', 'C', 'D']\n"
     ]
    }
   ],
   "source": [
    "a = 'A:B:C:D'\n",
    "result = a.split(':')\n",
    "print(result)"
   ]
  },
  {
   "cell_type": "code",
   "execution_count": 34,
   "id": "124aa7d0",
   "metadata": {
    "ExecuteTime": {
     "end_time": "2023-08-22T07:09:14.958288Z",
     "start_time": "2023-08-22T07:09:14.941830Z"
    }
   },
   "outputs": [
    {
     "name": "stdout",
     "output_type": "stream",
     "text": [
      "1 2 3\n",
      "4 5 6\n"
     ]
    }
   ],
   "source": [
    "print(1, 2, 3)\n",
    "print(4, 5, 6)\n"
   ]
  },
  {
   "cell_type": "code",
   "execution_count": 43,
   "id": "b99760a6",
   "metadata": {
    "ExecuteTime": {
     "end_time": "2023-08-22T07:13:23.573433Z",
     "start_time": "2023-08-22T07:13:23.558344Z"
    }
   },
   "outputs": [
    {
     "name": "stdout",
     "output_type": "stream",
     "text": [
      "1 2 3 4 5 6\n"
     ]
    }
   ],
   "source": [
    "# pirnt('출력내용', sep ='\\n')\n",
    "print(1, 2, 3, end = ' ')  # end of line : 줄의 끝 처리 , end ='\\n' 기본값\n",
    "print(4, 5, 6)"
   ]
  },
  {
   "cell_type": "code",
   "execution_count": 44,
   "id": "c1067f57",
   "metadata": {
    "ExecuteTime": {
     "end_time": "2023-08-22T07:14:02.526592Z",
     "start_time": "2023-08-22T07:14:02.514230Z"
    }
   },
   "outputs": [
    {
     "name": "stdout",
     "output_type": "stream",
     "text": [
      "1, 2, 3\n",
      "4 5 6\n"
     ]
    }
   ],
   "source": [
    "print(1, 2, 3, sep = ', ')  # end of line : 줄의 끝 처리 , end ='\\n' 기본값\n",
    "print(4, 5, 6)"
   ]
  },
  {
   "cell_type": "code",
   "execution_count": null,
   "id": "e822f0bd",
   "metadata": {},
   "outputs": [],
   "source": []
  }
 ],
 "metadata": {
  "kernelspec": {
   "display_name": "Python 3",
   "language": "python",
   "name": "python3"
  },
  "language_info": {
   "codemirror_mode": {
    "name": "ipython",
    "version": 3
   },
   "file_extension": ".py",
   "mimetype": "text/x-python",
   "name": "python",
   "nbconvert_exporter": "python",
   "pygments_lexer": "ipython3",
   "version": "3.8.8"
  },
  "toc": {
   "base_numbering": 1,
   "nav_menu": {},
   "number_sections": true,
   "sideBar": true,
   "skip_h1_title": false,
   "title_cell": "Table of Contents",
   "title_sidebar": "Contents",
   "toc_cell": false,
   "toc_position": {},
   "toc_section_display": true,
   "toc_window_display": false
  },
  "varInspector": {
   "cols": {
    "lenName": 16,
    "lenType": 16,
    "lenVar": 40
   },
   "kernels_config": {
    "python": {
     "delete_cmd_postfix": "",
     "delete_cmd_prefix": "del ",
     "library": "var_list.py",
     "varRefreshCmd": "print(var_dic_list())"
    },
    "r": {
     "delete_cmd_postfix": ") ",
     "delete_cmd_prefix": "rm(",
     "library": "var_list.r",
     "varRefreshCmd": "cat(var_dic_list()) "
    }
   },
   "types_to_exclude": [
    "module",
    "function",
    "builtin_function_or_method",
    "instance",
    "_Feature"
   ],
   "window_display": false
  }
 },
 "nbformat": 4,
 "nbformat_minor": 5
}
