{
 "cells": [
  {
   "cell_type": "markdown",
   "id": "cb013a22",
   "metadata": {
    "ExecuteTime": {
     "end_time": "2023-08-29T02:37:21.259773Z",
     "start_time": "2023-08-29T02:37:21.242242Z"
    }
   },
   "source": [
    "# Python과 DataBase연동\n",
    "\n",
    "1. 해당 라이브러리 : DB 접속 드라이버, cx_Oracle, python-oracledb\n",
    "  - 설치 : Anaconda prompt 창(ㅐ관리자 권한 실행)\n",
    "  - 주피터 노트북안에서 설치 : !pip install 설치할 모듈명\n",
    "  - Anaconda : pip install ~ or pip conda install ~\n",
    "  - pip install oracledb --upgrade 최근 버전(권장)\n",
    "  - pip install cx_Oracle --upgrade\n",
    " \n",
    "2. 접속정보 확인\n",
    "  - 사용자 계정과 비밀번호 : scott/tiger\n",
    "  - 오라클 url : localhost:1521/xe"
   ]
  },
  {
   "cell_type": "markdown",
   "id": "3adf8a88",
   "metadata": {},
   "source": [
    "# DB 연동 작업"
   ]
  },
  {
   "cell_type": "code",
   "execution_count": 4,
   "id": "9d9a9452",
   "metadata": {
    "ExecuteTime": {
     "end_time": "2023-08-29T03:16:16.479725Z",
     "start_time": "2023-08-29T03:16:14.288511Z"
    }
   },
   "outputs": [
    {
     "name": "stdout",
     "output_type": "stream",
     "text": [
      "Collecting cx_Oracle\n",
      "  Downloading cx_Oracle-8.3.0-cp38-cp38-win_amd64.whl (219 kB)\n",
      "Installing collected packages: cx-Oracle\n",
      "Successfully installed cx-Oracle-8.3.0\n",
      "Note: you may need to restart the kernel to use updated packages.\n"
     ]
    }
   ],
   "source": [
    "pip install cx_Oracle"
   ]
  },
  {
   "cell_type": "code",
   "execution_count": 5,
   "id": "c8412e3f",
   "metadata": {
    "ExecuteTime": {
     "end_time": "2023-08-29T03:38:19.755498Z",
     "start_time": "2023-08-29T03:38:19.741816Z"
    },
    "code_folding": []
   },
   "outputs": [],
   "source": [
    "# 라이브러리(모듈) 연결\n",
    "import cx_Oracle as cx"
   ]
  },
  {
   "cell_type": "markdown",
   "id": "87304449",
   "metadata": {},
   "source": [
    "## connection : 연결 통로 구축"
   ]
  },
  {
   "cell_type": "code",
   "execution_count": 6,
   "id": "dc3e6046",
   "metadata": {
    "ExecuteTime": {
     "end_time": "2023-08-29T03:38:22.325045Z",
     "start_time": "2023-08-29T03:38:22.225844Z"
    }
   },
   "outputs": [],
   "source": [
    "# db 연동 connect('사용자계정', '비밀번호', 'url')\n",
    "# url - localhost(127.0.0.1:1521/xe)\n",
    "conn =cx.connect('scott', '1234', 'localhost:1521/xe')\n",
    "# conn = cx.connect('scott/1234@localhost:1521/xe')"
   ]
  },
  {
   "cell_type": "markdown",
   "id": "f538bc3b",
   "metadata": {},
   "source": [
    "## DB의 테이블 조회"
   ]
  },
  {
   "cell_type": "code",
   "execution_count": 7,
   "id": "ff974342",
   "metadata": {
    "ExecuteTime": {
     "end_time": "2023-08-29T03:38:24.483059Z",
     "start_time": "2023-08-29T03:38:24.471559Z"
    }
   },
   "outputs": [],
   "source": [
    "# cursor(커서) : 레코드 셋을 탐색하는 포인터\n",
    "## 커서 객체 생성\n",
    "cur = conn.cursor()\n",
    "\n",
    "## query(질의문)\n",
    "sql = 'select * from product'\n",
    "\n",
    "## 커서 객체를 이용하여 sql 실행\n",
    "cur.execute(sql)\n",
    "\n",
    "for row in cur :\n",
    "    print(row)\n",
    "    # clob 자료형은 그냥 읽어올 수 없다.\n",
    "    description = row[3].read()\n",
    "    print(description)"
   ]
  },
  {
   "cell_type": "markdown",
   "id": "fea2c483",
   "metadata": {},
   "source": [
    "## 전체 레코드 삭제 후 테이블에 레코드 삽입하는 작업"
   ]
  },
  {
   "cell_type": "code",
   "execution_count": 8,
   "id": "ca5ca55b",
   "metadata": {
    "ExecuteTime": {
     "end_time": "2023-08-29T03:38:27.887358Z",
     "start_time": "2023-08-29T03:38:27.868856Z"
    }
   },
   "outputs": [],
   "source": [
    "sql = 'delete from product'\n",
    "cur.execute(sql)\n",
    "conn.commit()"
   ]
  },
  {
   "cell_type": "code",
   "execution_count": 10,
   "id": "0b0c625d",
   "metadata": {
    "ExecuteTime": {
     "end_time": "2023-08-29T03:38:52.139156Z",
     "start_time": "2023-08-29T03:38:52.120675Z"
    }
   },
   "outputs": [
    {
     "name": "stdout",
     "output_type": "stream",
     "text": [
      "(1, '레몬', 1500, '맛있는 레몬', 'lemon.jpg')\n",
      "(2, '오렌지', 2500, '맛있는 오렌지', 'orange.jpg')\n",
      "(3, '키위', 1000, '맛있는 키위', 'kiwi.jpg')\n",
      "(4, '포도', 5000, '맛있는 포도', 'grape.jpg')\n",
      "(5, '딸기', 8000, '맛있는 딸기', 'strawberry.jpg')\n",
      "(6, '귤', 500, '맛있는 귤', 'tangerine.jpg')\n"
     ]
    }
   ],
   "source": [
    "# 파이썬에서 DB에 레코드 삽입\n",
    "items = [\n",
    "    (1, '레몬', 1500 , '맛있는 레몬', 'lemon.jpg'),\n",
    "    (2, '오렌지', 2500 , '맛있는 오렌지', 'orange.jpg'),\n",
    "    (3, '키위', 1000 , '맛있는 키위', 'kiwi.jpg'),\n",
    "    (4, '포도', 5000 , '맛있는 포도', 'grape.jpg'),\n",
    "    (5, '딸기', 8000 , '맛있는 딸기', 'strawberry.jpg'),\n",
    "    (6, '귤', 500 , '맛있는 귤', 'tangerine.jpg')\n",
    "]\n",
    "\n",
    "for row in items:\n",
    "    # : 필드인덱스(1분터)\n",
    "    sql = 'insert into product values (:1, :2, :3, :4, :5)'\n",
    "    print(row)\n",
    "    cur.execute(sql, row)\n",
    "    \n",
    "conn.commit()"
   ]
  },
  {
   "cell_type": "code",
   "execution_count": 11,
   "id": "39d56c7a",
   "metadata": {
    "ExecuteTime": {
     "end_time": "2023-08-29T03:43:08.313343Z",
     "start_time": "2023-08-29T03:43:08.292811Z"
    }
   },
   "outputs": [
    {
     "name": "stdout",
     "output_type": "stream",
     "text": [
      "상품갯수 :  6\n"
     ]
    }
   ],
   "source": [
    "# 상품갯수를 추출하는 함수\n",
    "sql = 'select count(*) from product'\n",
    "cur.execute(sql)\n",
    "\n",
    "# 레코드 갯수가 1개일 경우\n",
    "count = cur.fetchone()\n",
    "print('상품갯수 : ', count[0])"
   ]
  },
  {
   "cell_type": "code",
   "execution_count": 12,
   "id": "83776775",
   "metadata": {
    "ExecuteTime": {
     "end_time": "2023-08-29T03:44:13.075708Z",
     "start_time": "2023-08-29T03:44:13.058275Z"
    }
   },
   "outputs": [],
   "source": [
    "# 전체 레코드 삭제\n",
    "sql = 'delete from product'\n",
    "cur.execute(sql)\n",
    "conn.commit()"
   ]
  },
  {
   "cell_type": "code",
   "execution_count": 13,
   "id": "8412c486",
   "metadata": {
    "ExecuteTime": {
     "end_time": "2023-08-29T03:48:00.023023Z",
     "start_time": "2023-08-29T03:48:00.012463Z"
    }
   },
   "outputs": [],
   "source": [
    "# 레코드를 일괄적으로 추가하는 작업\n",
    "items = [\n",
    "    (1, '레몬', 1500 , '맛있는 레몬', 'lemon.jpg'),\n",
    "    (2, '오렌지', 2500 , '맛있는 오렌지', 'orange.jpg'),\n",
    "    (3, '키위', 1000 , '맛있는 키위', 'kiwi.jpg'),\n",
    "    (4, '포도', 5000 , '맛있는 포도', 'grape.jpg'),\n",
    "    (5, '딸기', 8000 , '맛있는 딸기', 'strawberry.jpg'),\n",
    "    (6, '귤', 500 , '맛있는 귤', 'tangerine.jpg')\n",
    "]\n",
    "\n",
    "sql = 'insert into product values(:1, :2, :3, :4, :5)'\n",
    "# 일괄적으로 레코드를 추가할 때는 레코드의 갯수를 지정해줘야 한다.\n",
    "cur.bindarraysize = len(items)\n",
    "cur.executemany(sql, items)\n",
    "conn.commit()"
   ]
  },
  {
   "cell_type": "code",
   "execution_count": 14,
   "id": "8f8e3ba6",
   "metadata": {
    "ExecuteTime": {
     "end_time": "2023-08-29T03:50:11.855797Z",
     "start_time": "2023-08-29T03:50:11.847827Z"
    }
   },
   "outputs": [],
   "source": [
    "cur.close()\n",
    "conn.close()"
   ]
  },
  {
   "cell_type": "code",
   "execution_count": null,
   "id": "de854a52",
   "metadata": {},
   "outputs": [],
   "source": []
  }
 ],
 "metadata": {
  "kernelspec": {
   "display_name": "Python 3",
   "language": "python",
   "name": "python3"
  },
  "language_info": {
   "codemirror_mode": {
    "name": "ipython",
    "version": 3
   },
   "file_extension": ".py",
   "mimetype": "text/x-python",
   "name": "python",
   "nbconvert_exporter": "python",
   "pygments_lexer": "ipython3",
   "version": "3.8.8"
  },
  "toc": {
   "base_numbering": 1,
   "nav_menu": {},
   "number_sections": true,
   "sideBar": true,
   "skip_h1_title": false,
   "title_cell": "Table of Contents",
   "title_sidebar": "Contents",
   "toc_cell": false,
   "toc_position": {},
   "toc_section_display": true,
   "toc_window_display": false
  },
  "varInspector": {
   "cols": {
    "lenName": 16,
    "lenType": 16,
    "lenVar": 40
   },
   "kernels_config": {
    "python": {
     "delete_cmd_postfix": "",
     "delete_cmd_prefix": "del ",
     "library": "var_list.py",
     "varRefreshCmd": "print(var_dic_list())"
    },
    "r": {
     "delete_cmd_postfix": ") ",
     "delete_cmd_prefix": "rm(",
     "library": "var_list.r",
     "varRefreshCmd": "cat(var_dic_list()) "
    }
   },
   "types_to_exclude": [
    "module",
    "function",
    "builtin_function_or_method",
    "instance",
    "_Feature"
   ],
   "window_display": false
  }
 },
 "nbformat": 4,
 "nbformat_minor": 5
}
