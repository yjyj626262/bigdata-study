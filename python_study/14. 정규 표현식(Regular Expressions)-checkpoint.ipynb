{
 "cells": [
  {
   "cell_type": "markdown",
   "id": "c6215cb5",
   "metadata": {},
   "source": [
    "# Regular Expressions(정규 표현식)\n",
    "\n",
    "- 복잡한 문자열을 처리할 때 사용하는 기법\n",
    "- 모든 언어에서 문자열을 처리할 때 공통으로 사용\n",
    "- 예 : 주민등록번호의 뒷자리를 '*' 문자로 변경"
   ]
  },
  {
   "cell_type": "markdown",
   "id": "d61857e3",
   "metadata": {
    "ExecuteTime": {
     "end_time": "2023-08-29T01:14:19.087327Z",
     "start_time": "2023-08-29T01:14:19.084391Z"
    }
   },
   "source": [
    "## 정규 표현식을 사용하지 않는 예"
   ]
  },
  {
   "cell_type": "code",
   "execution_count": 3,
   "id": "d10af7af",
   "metadata": {
    "ExecuteTime": {
     "end_time": "2023-08-29T01:24:17.194366Z",
     "start_time": "2023-08-29T01:24:17.184653Z"
    }
   },
   "outputs": [
    {
     "name": "stdout",
     "output_type": "stream",
     "text": [
      "\n",
      "park 800905-******\n",
      "kim 700905-******\n",
      "lee 880203-******\n",
      "hong 901105-******\n",
      "jang 020319-******\n",
      "\n"
     ]
    }
   ],
   "source": [
    "data = \"\"\"\n",
    "park 800905-1049118\n",
    "kim 700905-1059119\n",
    "lee 880203-2110537\n",
    "hong 901105-1234567\n",
    "jang 020319-2205147\n",
    "\"\"\"\n",
    "\n",
    "result = []\n",
    "# 전체 텍스트를 공백 문자로 나눈다. split\n",
    "for line in data.split('\\n'):\n",
    "    word_result = []\n",
    "    for word in line.split(' '):\n",
    "# 나누어진 단어가 주민등록번호형식인지를 조사\n",
    "        if len(word) == 14 and word[:6].isdigit() and word[7:].isdigit():\n",
    "# 주민등록번호 형식이라면 뒷자리를 '*'로 변환\n",
    "            word = word[:6] + '-' + '*'*6\n",
    "# 나누어진 단어를 다시 합치는 작업\n",
    "        word_result.append(word)\n",
    "    result.append(' '.join(word_result))\n",
    "    \n",
    "print('\\n'.join(result))"
   ]
  },
  {
   "cell_type": "markdown",
   "id": "526ae89c",
   "metadata": {},
   "source": [
    "## 정규 표현식을 이용한 예"
   ]
  },
  {
   "cell_type": "code",
   "execution_count": 4,
   "id": "b70c215a",
   "metadata": {
    "ExecuteTime": {
     "end_time": "2023-08-29T01:28:31.549852Z",
     "start_time": "2023-08-29T01:28:31.545198Z"
    }
   },
   "outputs": [
    {
     "name": "stdout",
     "output_type": "stream",
     "text": [
      "\n",
      "park 800905-1049118-*******\n",
      "kim 700905-1059119-*******\n",
      "lee 880203-2110537-*******\n",
      "hong 901105-1234567-*******\n",
      "jang 020319-2205147-*******\n",
      "\n"
     ]
    }
   ],
   "source": [
    "# 정규 표현식을 위한 re 모듈 포함\n",
    "import re\n",
    "\n",
    "data = \"\"\"\n",
    "park 800905-1049118\n",
    "kim 700905-1059119\n",
    "lee 880203-2110537\n",
    "hong 901105-1234567\n",
    "jang 020319-2205147\n",
    "\"\"\"\n",
    "\n",
    "pat = re.compile('(\\d{6}[-]\\d{7})')\n",
    "print(pat.sub('\\g<1>-'+'*'*7,data))\n"
   ]
  },
  {
   "cell_type": "markdown",
   "id": "0e3446dc",
   "metadata": {},
   "source": [
    "# 메타 문자(Meta Chartacter)\n",
    "- 원래 그 문자의 의미가 아니라 특별한 의미를 가진 문자\n",
    "- 종류 : ., ^, $, *, +, ?, {}, [], \\, |, ()"
   ]
  },
  {
   "cell_type": "code",
   "execution_count": 5,
   "id": "fce49159",
   "metadata": {
    "ExecuteTime": {
     "end_time": "2023-08-29T01:36:55.143254Z",
     "start_time": "2023-08-29T01:36:55.128974Z"
    }
   },
   "outputs": [],
   "source": [
    "# 메타문자 : []\n",
    "## [abc] : a, b, c중 한 개라도 문자와 매칭하는 것을 검색하는 것\n",
    "## [a-c] : [abc]와 동일한 의미\n",
    "## [0-5] : [012345]\n",
    "## [a-zA-Z] : 모든 알파벳\n",
    "## [0-9] : 모든 숫자\n",
    "## ^ : not을 의미한다 [^0-9] 라면 0~9가 아닌이란 뜻으로 숫자가 아닌 문자를 찾으라는 뜻\n",
    "## .(dot) : a.b == 'a + 모든문자 + b'"
   ]
  },
  {
   "cell_type": "code",
   "execution_count": 12,
   "id": "c99843fc",
   "metadata": {
    "ExecuteTime": {
     "end_time": "2023-08-29T01:41:40.443654Z",
     "start_time": "2023-08-29T01:41:40.435671Z"
    }
   },
   "outputs": [
    {
     "name": "stdout",
     "output_type": "stream",
     "text": [
      "['a']\n",
      "['32lee0902']\n",
      "['m']\n"
     ]
    }
   ],
   "source": [
    "string = \"My id number is 32lee0902 abc\"\n",
    "\n",
    "# 특정 패턴에 해당하는 문자를 찾는 작업\n",
    "## findall('패턴', 문자열)\n",
    "a = re.findall('a', string)\n",
    "print(a)\n",
    "\n",
    "b = re.findall('\\d+lee\\d+', string)\n",
    "print(b)\n",
    "\n",
    "c = re.findall('m', string)\n",
    "print(c)\n",
    "\n"
   ]
  },
  {
   "cell_type": "code",
   "execution_count": 16,
   "id": "e2a29815",
   "metadata": {
    "ExecuteTime": {
     "end_time": "2023-08-29T01:45:49.740103Z",
     "start_time": "2023-08-29T01:45:49.732006Z"
    }
   },
   "outputs": [
    {
     "name": "stdout",
     "output_type": "stream",
     "text": [
      "['y', 'i', 'd', 'u', 'm', 'b', 'e', 'r', 'i', 's']\n",
      "['y', 'id', 'umber', 'is']\n",
      "['M', 'N', 'K', 'I', 'M']\n",
      "['M', 'N', 'KIM']\n"
     ]
    }
   ],
   "source": [
    "string = 'My id Number is KIM0902'\n",
    "# 모든 소문자를 찾아서 리스트로 반환\n",
    "a = re.findall('[a-z]', string)\n",
    "print(a)\n",
    "\n",
    "# 단어 단위로 찾는 작업\n",
    "b = re.findall('[a-z]+', string)\n",
    "print(b)\n",
    "\n",
    "# 모든 대문자를 찾아서 리스트로 반환\n",
    "c = re.findall('[A-Z]', string)\n",
    "print(c)\n",
    "\n",
    "# 단어 단위로 찾는 작업\n",
    "d = re.findall('[A-Z]+', string)\n",
    "print(d)"
   ]
  },
  {
   "cell_type": "code",
   "execution_count": 29,
   "id": "523d0d2c",
   "metadata": {
    "ExecuteTime": {
     "end_time": "2023-08-29T01:54:43.123635Z",
     "start_time": "2023-08-29T01:54:43.113831Z"
    }
   },
   "outputs": [
    {
     "name": "stdout",
     "output_type": "stream",
     "text": [
      "['M', 'y', 'i', 'd', 'n', 'u', 'm', 'b', 'e', 'r', 'i', 's', 'k', 'i', 'm', 'w', '0', '5', '0', '2']\n",
      "['My', 'id', 'number', 'is', 'kimw', '0502']\n",
      "[' ', ' ', ' ', ' ', '_', '$', '%']\n",
      "['My', 'id', 'number', 'is', 'kimw_0502']\n",
      "[' ', ' ', ' ', ' ', '$', '%']\n"
     ]
    }
   ],
   "source": [
    "string = 'My id number is kimw_0502$%'\n",
    "\n",
    "# 영문자와 숫자로만 이루어진 글자 찾는 작업\n",
    "a = re.findall('[a-zA-Z0-9]', string)\n",
    "print(a)\n",
    "\n",
    "# 영문자와 숫자로만 이루어진 단어를 찾는 작업\n",
    "b = re.findall('[a-zA-Z0-9]+', string)\n",
    "print(b)\n",
    "\n",
    "# 영문자와 숫자가 아닌 글자 찾는 작업\n",
    "c = re.findall('[^a-zA-Z0-9]', string)\n",
    "print(c)\n",
    "\n",
    "# \\w(소문자w) : 영문자와 숫자, _\n",
    "d = re.findall('[\\w]+', string)\n",
    "print(d)\n",
    "\n",
    "# \\W(대문자W) : 영문자와 숫자 그리고 _가 아닌 경우\n",
    "f = re.findall('[\\W]', string)\n",
    "print(f)"
   ]
  },
  {
   "cell_type": "code",
   "execution_count": 30,
   "id": "7e3bc686",
   "metadata": {
    "ExecuteTime": {
     "end_time": "2023-08-29T02:06:52.126746Z",
     "start_time": "2023-08-29T02:06:52.120714Z"
    }
   },
   "outputs": [],
   "source": [
    "# 비밀번호 체크하는 함수 구현\n",
    "## 문자의 길이는 6 ~ 12 이내\n",
    "## 영문자와 숫자를 포함\n",
    "\n",
    "def check_pass(pwd):\n",
    "    \n",
    "    # 글자수 체크\n",
    "    if len(pwd) < 6 or len(pwd) > 12 :\n",
    "        print(f'입력받은 {pwd}는 길이가 적당하지 않습니다.')\n",
    "        return False\n",
    "    \n",
    "    # 영문자와 숫자로만 구성\n",
    "    if re.findall('[a-zA-Z0-9]+', pwd)[0] != pwd :\n",
    "        print(f'{pwd}는 영문자와 숫자로만 이루어지지 않았습니다.')\n",
    "        return False\n",
    "    \n",
    "    # 영문자의 소문자, 대문자는 적어도 한글자는 포함되어야 한다.\n",
    "    if len(re.findall('[a-z]', pwd)) == 0 or len(re.findall('[A-Z]',pwd)) == 0 :\n",
    "        print(f'{pwd}는 적어도 하나의 대, 소문자를 포함하지 않았습니다.')\n",
    "        return False\n",
    "    \n",
    "    # 올바른 비밀번호 형식일 경우\n",
    "    print(f'{pwd}는 올바른 형식의 비밀번호입니다.')\n",
    "    return"
   ]
  },
  {
   "cell_type": "code",
   "execution_count": 34,
   "id": "7cb68cbd",
   "metadata": {
    "ExecuteTime": {
     "end_time": "2023-08-29T02:07:46.587589Z",
     "start_time": "2023-08-29T02:07:46.573796Z"
    }
   },
   "outputs": [
    {
     "name": "stdout",
     "output_type": "stream",
     "text": [
      "12abcaAb2@는 영문자와 숫자로만 이루어지지 않았습니다.\n"
     ]
    },
    {
     "data": {
      "text/plain": [
       "False"
      ]
     },
     "execution_count": 34,
     "metadata": {},
     "output_type": "execute_result"
    }
   ],
   "source": [
    "check_pass('12abcaAb2')"
   ]
  },
  {
   "cell_type": "code",
   "execution_count": 38,
   "id": "e935edc6",
   "metadata": {
    "ExecuteTime": {
     "end_time": "2023-08-29T02:33:28.670570Z",
     "start_time": "2023-08-29T02:33:28.656757Z"
    }
   },
   "outputs": [],
   "source": [
    "# 이메일 체크 함수\n",
    "## 첫글자는 영문자의 소문자와 숫자로 이루어지되 2글자 이상이어야 함\n",
    "## 문자열 사이에 @를 포함하여야함\n",
    "## 마지막은 반드시 .와 함께 영문자 그리고 2글자 이상으로 끝나야함\n",
    "\n",
    "def email_check(email):\n",
    "    # ^[ ] : 시작, ^[a-z] - 시작은 반드시 ㅇ뎡문자 소문자여야 한다는 의미\n",
    "    # [^ ] : 제외, [^a-z] - 영문자의 소문자를 포함하지 않아야 한다는 의미\n",
    "    # {n} : n개 반복 {2, } : 최소 두 글자 이상\n",
    "    # {n, m} : 최소 n개, 최대 m개 반복, \\d{3, 5} : 적어도 숫자가 3개 4개 5개는 포함되어야 한다\n",
    "    # []$ : 해당 패턴으로 종료되어야 함\n",
    "    # \\문자 : 해당 문자는 반드시 포함, \\w\\w\\w\n",
    "    exp = re.findall('^[a-z0-9]{2,}@[a-z0-9]{2,}\\.[a-z]{2,}$', email)\n",
    "    \n",
    "    if len(exp) == 0:\n",
    "        print(email, '은 형식이 올바르지 않습니다.')\n",
    "        return\n",
    "    \n",
    "    print(email, '은 올바른 형식입니다.')\n",
    "    return\n",
    "    "
   ]
  },
  {
   "cell_type": "code",
   "execution_count": 39,
   "id": "9dbae5b4",
   "metadata": {
    "ExecuteTime": {
     "end_time": "2023-08-29T02:33:29.518657Z",
     "start_time": "2023-08-29T02:33:29.507471Z"
    }
   },
   "outputs": [
    {
     "name": "stdout",
     "output_type": "stream",
     "text": [
      "lee123@naver.com 은 올바른 형식입니다.\n"
     ]
    }
   ],
   "source": [
    "email_check('lee123@naver.com')"
   ]
  },
  {
   "cell_type": "code",
   "execution_count": null,
   "id": "b6bb6517",
   "metadata": {},
   "outputs": [],
   "source": []
  }
 ],
 "metadata": {
  "kernelspec": {
   "display_name": "Python 3",
   "language": "python",
   "name": "python3"
  },
  "language_info": {
   "codemirror_mode": {
    "name": "ipython",
    "version": 3
   },
   "file_extension": ".py",
   "mimetype": "text/x-python",
   "name": "python",
   "nbconvert_exporter": "python",
   "pygments_lexer": "ipython3",
   "version": "3.8.8"
  },
  "toc": {
   "base_numbering": 1,
   "nav_menu": {},
   "number_sections": true,
   "sideBar": true,
   "skip_h1_title": false,
   "title_cell": "Table of Contents",
   "title_sidebar": "Contents",
   "toc_cell": false,
   "toc_position": {},
   "toc_section_display": true,
   "toc_window_display": false
  },
  "varInspector": {
   "cols": {
    "lenName": 16,
    "lenType": 16,
    "lenVar": 40
   },
   "kernels_config": {
    "python": {
     "delete_cmd_postfix": "",
     "delete_cmd_prefix": "del ",
     "library": "var_list.py",
     "varRefreshCmd": "print(var_dic_list())"
    },
    "r": {
     "delete_cmd_postfix": ") ",
     "delete_cmd_prefix": "rm(",
     "library": "var_list.r",
     "varRefreshCmd": "cat(var_dic_list()) "
    }
   },
   "types_to_exclude": [
    "module",
    "function",
    "builtin_function_or_method",
    "instance",
    "_Feature"
   ],
   "window_display": false
  }
 },
 "nbformat": 4,
 "nbformat_minor": 5
}
