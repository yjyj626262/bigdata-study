{
 "cells": [
  {
   "cell_type": "markdown",
   "id": "c6f80db1",
   "metadata": {},
   "source": [
    "# 객체 지향적인 프로그래밍?\n",
    "1. 구조적인 프로그램 기법 : 대표적인 언어 C언어\n",
    "  - 구조적인 프로그래밍 기법의 단점은 프로그램의 개발 시간과 비용\n",
    "  - 소프트웨어의 위기\n",
    "  - 고전적인 프로그래밍 개발기법 : 폭포수 기법\n",
    "\n",
    "2. 객체(object)와 객체(Instance)\n",
    "  - 객체(object) : 붕어빵 틀(Template), 설계도\n",
    "  - 객체(Instance) : 붕어빵\n",
    "\n",
    "3. \"나는 사과장수에게 2000원을 주고 사과를 구매했다.\"\n",
    "  - 객체(틀) => 클래스\n",
    "    * 나\n",
    "    * 사과장수\n",
    "    * 사과 : IoT(사물인터넷)\n",
    "  - 메소드(Method) : 객체가 하는 행위나 동작 => 함수(메소드), 동사형\n",
    "    * 나 : 사과를 구매하는 행위\n",
    "    * 사과장수 : 사과를 판매하는 행위\n",
    "  - 속성(Attribute) : 객체가 가지고 있는 특성 => 변수\n",
    "    * 나 : 돈\n",
    "    * 사과장수 : 판매할 사과, 사과 가격"
   ]
  },
  {
   "cell_type": "markdown",
   "id": "8bcec04f",
   "metadata": {},
   "source": [
    "# 모듈(Module) vs 클래스(class) vs 인스턴스(instance)\n",
    "1. 모듈(Module) : py라는 확장자를 가지고 있는 파이썬 파일\n",
    "  - 주피터 노트북 ipynb라는 확장자를 가진다.\n",
    "  - 모듈은 아주 작은 프로그램 덩어리, 라이브러리(library)\n",
    "  - 패키지(package) : 여러 모듈을 묶어놓은 단위\n",
    "2. 클래스(class) : 객체를 추상화하는 구조 또는 틀\n",
    "3. 인스턴스(instance) : 클래스로부터 만들어낸 객체"
   ]
  },
  {
   "cell_type": "markdown",
   "id": "58612722",
   "metadata": {},
   "source": [
    "# 클래스(class)\n",
    "1. 클래스의 구조 또는 형식\n",
    "<code>\n",
    "    class 클래스명 : \n",
    "        멤버필드(Member Field) or 속성(Property) = 프로퍼티\n",
    "        멤버메서드(Member Method) = 함수(Function)\n",
    "</code>"
   ]
  },
  {
   "cell_type": "code",
   "execution_count": null,
   "id": "6e4a5584",
   "metadata": {
    "ExecuteTime": {
     "end_time": "2023-08-25T00:46:49.609934Z",
     "start_time": "2023-08-25T00:46:49.596089Z"
    }
   },
   "outputs": [],
   "source": [
    "# 나\n",
    "class AppleBuyer :\n",
    "    # 멤버 필드\n",
    "    money = 10000\n",
    "    apple = 0\n",
    "    # 멤버 메서드\n",
    "    def buy(self) :\n",
    "        apple = seller.sales(don)\n",
    "        money -= don\n",
    "        return\n",
    "    \n",
    "    def result(self) :\n",
    "        print(\"남은 용돈 : \", money)\n",
    "        print(\"구매 사과 : \", apple)"
   ]
  },
  {
   "cell_type": "code",
   "execution_count": null,
   "id": "d3c02a0d",
   "metadata": {
    "ExecuteTime": {
     "end_time": "2023-08-25T00:40:56.239465Z",
     "start_time": "2023-08-25T00:40:56.228692Z"
    }
   },
   "outputs": [],
   "source": [
    "# 사과장수\n",
    "class AppleSeller :\n",
    "    # 멤버 필드 - 생략해서 사용가능, 초기화(처음값를 줄 경우 기술한다.\n",
    "    price = 1000\n",
    "    apples = 50\n",
    "    money = 0\n",
    "    \n",
    "    # 멤버 메서드\n",
    "    def seller(self, don):\n",
    "        apple = don / price\n",
    "        apples -= apple\n",
    "        money += don\n",
    "        return apple\n",
    "    \n",
    "    def disp(self) :\n",
    "        print('남은 사과 수 : ', apples)\n",
    "        print('매출 금액 : ', money)"
   ]
  },
  {
   "cell_type": "code",
   "execution_count": null,
   "id": "9e38c263",
   "metadata": {
    "ExecuteTime": {
     "end_time": "2023-08-25T00:47:54.368276Z",
     "start_time": "2023-08-25T00:47:54.353159Z"
    }
   },
   "outputs": [],
   "source": [
    "AppleSeller"
   ]
  },
  {
   "cell_type": "markdown",
   "id": "015b86f3",
   "metadata": {},
   "source": [
    "## 클래스 내부의 Method 선언\n",
    "- def로 선언\n",
    "- 일반함수와 구별하기 위해 클래스의 멤버메서드를 뜻하는 첫번째 매개변수 self"
   ]
  },
  {
   "cell_type": "code",
   "execution_count": null,
   "id": "3ca8543c",
   "metadata": {
    "ExecuteTime": {
     "end_time": "2023-08-25T00:59:01.954033Z",
     "start_time": "2023-08-25T00:59:01.945867Z"
    }
   },
   "outputs": [],
   "source": [
    "# 사람\n",
    "class Person : \n",
    "    # 멤버 필드\n",
    "    \n",
    "    # 멤버 메서드\n",
    "    def walk(self) :\n",
    "        print(\"사람이 걸어갑니다.\")\n",
    "    \n",
    "    def run(self) :\n",
    "        print(\"사람이 달려갑니다\")"
   ]
  },
  {
   "cell_type": "code",
   "execution_count": null,
   "id": "f44826bf",
   "metadata": {
    "ExecuteTime": {
     "end_time": "2023-08-25T00:53:59.063387Z",
     "start_time": "2023-08-25T00:53:59.048441Z"
    }
   },
   "outputs": [],
   "source": [
    "# 클래스에 접근하려면 반드시 인스턴스 객체가 필요하다.\n",
    "p = Person()"
   ]
  },
  {
   "cell_type": "code",
   "execution_count": null,
   "id": "570b6179",
   "metadata": {
    "ExecuteTime": {
     "end_time": "2023-08-25T00:55:20.599602Z",
     "start_time": "2023-08-25T00:55:20.591328Z"
    }
   },
   "outputs": [],
   "source": [
    "# 객체명을 통해 클래스의 멤버에 접근 : 접근연산자(. direct 연산자)\n",
    "p.walk()"
   ]
  },
  {
   "cell_type": "code",
   "execution_count": null,
   "id": "8c453c7c",
   "metadata": {
    "ExecuteTime": {
     "end_time": "2023-08-25T00:55:31.756807Z",
     "start_time": "2023-08-25T00:55:31.739041Z"
    }
   },
   "outputs": [],
   "source": [
    "p.run()"
   ]
  },
  {
   "cell_type": "code",
   "execution_count": null,
   "id": "edce13b5",
   "metadata": {
    "ExecuteTime": {
     "end_time": "2023-08-25T00:59:29.567392Z",
     "start_time": "2023-08-25T00:59:29.553286Z"
    }
   },
   "outputs": [],
   "source": [
    "# 사람\n",
    "class Person : \n",
    "    # 멤버 필드\n",
    "    \n",
    "    # 멤버 메서드\n",
    "    def walk(self) :\n",
    "        print(self.name + \"이 걸어갑니다.\")\n",
    "    \n",
    "    def run(self) :\n",
    "        print(self.name + \"이 달려갑니다.\")"
   ]
  },
  {
   "cell_type": "code",
   "execution_count": null,
   "id": "ec926bfc",
   "metadata": {
    "ExecuteTime": {
     "end_time": "2023-08-25T01:00:50.572318Z",
     "start_time": "2023-08-25T01:00:50.559514Z"
    }
   },
   "outputs": [],
   "source": [
    "# 인스턴스 객체 생성\n",
    "p1 = Person()\n",
    "\n",
    "p1.name = '홍길동'\n",
    "\n",
    "# 멤버 접근\n",
    "p1.walk()"
   ]
  },
  {
   "cell_type": "code",
   "execution_count": null,
   "id": "a52bed25",
   "metadata": {
    "ExecuteTime": {
     "end_time": "2023-08-25T01:01:29.155545Z",
     "start_time": "2023-08-25T01:01:29.146971Z"
    }
   },
   "outputs": [],
   "source": [
    "p2 = Person()\n",
    "p2.name = '장보고'\n",
    "p2.walk()"
   ]
  },
  {
   "cell_type": "code",
   "execution_count": null,
   "id": "5c8af9ee",
   "metadata": {
    "ExecuteTime": {
     "end_time": "2023-08-25T01:20:43.326292Z",
     "start_time": "2023-08-25T01:20:43.310652Z"
    }
   },
   "outputs": [],
   "source": [
    "# 사람\n",
    "class Person : \n",
    "    # 멤버 필드\n",
    "    \n",
    "    # 멤버 메서드\n",
    "    def walk(self) :\n",
    "        print(self.name + \"이\" + str(speed) + \"걸어갑니다.\")\n",
    "    \n",
    "    def run(self) :\n",
    "        print(self.name + \"이\" + str(speed) + \"달려갑니다.\")\n",
    "        "
   ]
  },
  {
   "cell_type": "code",
   "execution_count": null,
   "id": "1e021b49",
   "metadata": {
    "ExecuteTime": {
     "end_time": "2023-08-25T01:20:44.338675Z",
     "start_time": "2023-08-25T01:20:44.326687Z"
    }
   },
   "outputs": [],
   "source": [
    "p1 = Person()\n",
    "\n",
    "# 멤버 필드를 초기화시켜줘야 한다.\n",
    "p1.name = '홍길동'\n",
    "p1.speed = 10\n",
    "\n",
    "# 멤버 메서드 접근\n",
    "p1.walk()"
   ]
  },
  {
   "cell_type": "code",
   "execution_count": null,
   "id": "f0cddd0b",
   "metadata": {
    "ExecuteTime": {
     "end_time": "2023-08-25T01:20:29.059851Z",
     "start_time": "2023-08-25T01:20:29.050620Z"
    }
   },
   "outputs": [],
   "source": [
    "p1.run(30)"
   ]
  },
  {
   "cell_type": "code",
   "execution_count": null,
   "id": "df274f2a",
   "metadata": {
    "ExecuteTime": {
     "end_time": "2023-08-25T01:24:35.946198Z",
     "start_time": "2023-08-25T01:24:35.932405Z"
    }
   },
   "outputs": [],
   "source": [
    "class People:\n",
    "    # 멤버필드\n",
    "    \n",
    "    # 멤버 메서드\n",
    "    ## this 키워드와 같은 의미가 self\n",
    "    def disp(self):\n",
    "        print(\"이름 = \", self.name)\n",
    "        print(\"나이 = \", self.age)\n",
    "        print(\"신장 - \", self.height)"
   ]
  },
  {
   "cell_type": "code",
   "execution_count": null,
   "id": "1aa4264c",
   "metadata": {
    "ExecuteTime": {
     "end_time": "2023-08-25T01:25:48.728579Z",
     "start_time": "2023-08-25T01:25:48.716100Z"
    }
   },
   "outputs": [],
   "source": [
    "p2 = People()\n",
    "\n",
    "p2.name= '이순신'\n",
    "p2.age = 30\n",
    "p2.height = 170.3\n",
    "\n",
    "p2.disp()"
   ]
  },
  {
   "cell_type": "markdown",
   "id": "869deaa4",
   "metadata": {},
   "source": [
    "### 특별한 메서드 : init(self)\n",
    "- 멤버 필드를 초기화시켜주는 목적으로 사용하는 메서드"
   ]
  },
  {
   "cell_type": "code",
   "execution_count": null,
   "id": "0c205ecd",
   "metadata": {
    "ExecuteTime": {
     "end_time": "2023-08-25T01:31:32.787983Z",
     "start_time": "2023-08-25T01:31:32.776987Z"
    }
   },
   "outputs": [],
   "source": [
    "# __init__(self) : 생성자 메서드\n",
    "# 생성자 메서드 : 객체가 생성될 때 자동으로 호출되는 메서드\n",
    "\n",
    "class People:\n",
    "    # 멤버필드\n",
    "    \n",
    "    ## 생성자 메서드\n",
    "    def __init__(self, name, age, height) :\n",
    "        self.name = name\n",
    "        self.age = age\n",
    "        self.height = height\n",
    "    # 멤버 메서드\n",
    "    ## this 키워드와 같은 의미가 self\n",
    "    def disp(self):\n",
    "        print(\"이름 = \", self.name)\n",
    "        print(\"나이 = \", self.age)\n",
    "        print(\"신장 - \", self.height)"
   ]
  },
  {
   "cell_type": "code",
   "execution_count": null,
   "id": "1a13dbbf",
   "metadata": {
    "ExecuteTime": {
     "end_time": "2023-08-25T01:32:06.344792Z",
     "start_time": "2023-08-25T01:32:06.336370Z"
    }
   },
   "outputs": [],
   "source": [
    "p1 = People('이순신', 23, 170.6)\n",
    "p1.disp()"
   ]
  },
  {
   "cell_type": "markdown",
   "id": "c7ede7ec",
   "metadata": {},
   "source": [
    "- self.변수 : 인스턴스 변수\n",
    "- 클래스명.변수 : 클래스 변수, static 변수"
   ]
  },
  {
   "cell_type": "code",
   "execution_count": null,
   "id": "84ea2786",
   "metadata": {
    "ExecuteTime": {
     "end_time": "2023-08-25T01:39:47.252400Z",
     "start_time": "2023-08-25T01:39:47.234373Z"
    }
   },
   "outputs": [],
   "source": [
    "class Student:\n",
    "    # 멤버 필드 = 프로퍼티, 클래스 변수(공유의 목적)\n",
    "    name = 'kim'\n",
    "    no = 1987\n",
    "    score = 99\n",
    "    \n",
    "    # 멤버 메서드\n",
    "    def show(self) :\n",
    "        ## self.변수\n",
    "        print('이름 :' + self.name, end = '')\n",
    "        print('학번 :' + str(self.no), end = '')\n",
    "        print('성적 :' + str(self.score))\n",
    "        ## class 명.변수\n",
    "        print('이름 :' + self.name, end = '')\n",
    "        print('학번 :' + str(self.no), end = '')\n",
    "        print('성적 :' + str(self.score))"
   ]
  },
  {
   "cell_type": "code",
   "execution_count": null,
   "id": "3f18c731",
   "metadata": {
    "ExecuteTime": {
     "end_time": "2023-08-25T01:43:06.204134Z",
     "start_time": "2023-08-25T01:43:06.197019Z"
    }
   },
   "outputs": [],
   "source": [
    "s1 = Student()\n",
    "s1.name = '김유신'\n",
    "s1.no = 901234\n",
    "s1.score = 78\n",
    "\n",
    "s2 = Student()\n",
    "s2.name = '홍길동'\n",
    "s2.no = 12345\n",
    "s2.score = 90\n",
    "\n",
    "s1.show()\n",
    "print('-' * 30)\n",
    "s2.show()"
   ]
  },
  {
   "cell_type": "code",
   "execution_count": null,
   "id": "dd0ea89d",
   "metadata": {
    "ExecuteTime": {
     "end_time": "2023-08-25T01:48:28.008076Z",
     "start_time": "2023-08-25T01:48:27.992600Z"
    }
   },
   "outputs": [],
   "source": [
    "# 원\n",
    "\n",
    "class Circle:\n",
    "    # 멤버 필드\n",
    "    radius = 0\n",
    "    \n",
    "    # 멤버 메서드\n",
    "    def area(self):\n",
    "        return self.radius * self.radius * PI\n",
    "    \n",
    "    def around(self):\n",
    "        return 2 * PI * self.radius\n",
    "    \n",
    "    def disp(self):\n",
    "        print('반지름 : '. self.radius)"
   ]
  },
  {
   "cell_type": "code",
   "execution_count": null,
   "id": "f1da4202",
   "metadata": {
    "ExecuteTime": {
     "end_time": "2023-08-25T01:51:45.277047Z",
     "start_time": "2023-08-25T01:51:45.262041Z"
    }
   },
   "outputs": [],
   "source": [
    "a = Circle()\n",
    "\n",
    "a.radius = 5\n",
    "\n",
    "# 반지름이 5인 원의 면적을 출력\n",
    "print('반지름이 5인 원의 면적 : ', a.area)"
   ]
  },
  {
   "cell_type": "code",
   "execution_count": null,
   "id": "e66780f1",
   "metadata": {
    "ExecuteTime": {
     "end_time": "2023-08-25T02:22:46.409955Z",
     "start_time": "2023-08-25T02:22:46.397760Z"
    }
   },
   "outputs": [],
   "source": [
    "# 원\n",
    "PI=3.14\n",
    "class Circle:\n",
    "    # 멤버 필드\n",
    "    radius = 0\n",
    "    \n",
    "    # 생성자 메서드 : 멤버 필드를 초기화시켜줄 목적으로 생성하는 메서드, 자동 호출(객체 생성될 때)\n",
    "    def __init__(self) :\n",
    "        self.radius = int(input('반지름 = '))\n",
    "    \n",
    "    # 멤버 메서드\n",
    "    def area(self):\n",
    "        return self.radius * self.radius * PI\n",
    "    \n",
    "    def around(self):\n",
    "        return 2 * PI * self.radius\n",
    "    \n",
    "    def disp(self):\n",
    "        print(f'반지름이 {obj[i].getRadius()}인 원의 면적 {obj[i].area()}')\n",
    "        \n",
    "    def getRadius(self):\n",
    "        return self.radius"
   ]
  },
  {
   "cell_type": "code",
   "execution_count": null,
   "id": "aef998f1",
   "metadata": {
    "ExecuteTime": {
     "end_time": "2023-08-25T01:55:58.973893Z",
     "start_time": "2023-08-25T01:55:57.926082Z"
    }
   },
   "outputs": [],
   "source": [
    "x = Circle()\n",
    "x.disp()"
   ]
  },
  {
   "cell_type": "code",
   "execution_count": null,
   "id": "86cf447e",
   "metadata": {
    "ExecuteTime": {
     "end_time": "2023-08-25T02:00:26.258795Z",
     "start_time": "2023-08-25T02:00:24.200396Z"
    }
   },
   "outputs": [],
   "source": [
    "# 세 개의 반지름을 입력받아 원의 면적을 계산하여 출력하는 프록르ㅐㅁ을 구현하시오.\n",
    "# 단, 원을 클래스로 구현할 것\n",
    "\n",
    "a = Circle()\n",
    "b = Circle()\n",
    "c = Circle()\n",
    "\n",
    "print(f'반지름이 {a.getRadius()}인 원의 면적{a.area()}')\n",
    "print(f'반지름이 {b.getRadius()}인 원의 면적{b.area()}')\n",
    "print(f'반지름이 {c.getRadius()}인 원의 면적{c.area()}')"
   ]
  },
  {
   "cell_type": "code",
   "execution_count": null,
   "id": "e93c8cdc",
   "metadata": {
    "ExecuteTime": {
     "end_time": "2023-08-25T02:04:13.052398Z",
     "start_time": "2023-08-25T02:04:09.934179Z"
    }
   },
   "outputs": [],
   "source": [
    "obj = list()\n",
    "\n",
    "for i in range(3):\n",
    "    obj.append(Circle())\n",
    "    \n",
    "for i in range(3) :\n",
    "    print(f'반지름이 {obj[i].getRadius()}인 원의 면적 {obj[i].area()}')"
   ]
  },
  {
   "cell_type": "markdown",
   "id": "b020af61",
   "metadata": {},
   "source": [
    "반지름을 입력받아 원의 면적을 출력하는 프로그램을 구현하시오.  \n",
    "단, 입력받는 반지름이 0이면 입력을 종료하고 면적을 출력하도록 구현할 것."
   ]
  },
  {
   "cell_type": "code",
   "execution_count": null,
   "id": "6ed236a6",
   "metadata": {
    "ExecuteTime": {
     "end_time": "2023-08-25T02:23:13.014300Z",
     "start_time": "2023-08-25T02:23:09.998652Z"
    }
   },
   "outputs": [],
   "source": [
    "obj = list()\n",
    "###### obj = list()\n",
    "i = 0\n",
    "while True:\n",
    "    obj.append(Circle())\n",
    "    if obj[i].getRadius() != 0 : \n",
    "        obj[i].disp()\n",
    "        i += 1\n",
    "    else : \n",
    "        print('프로그램을 종료합니다.')\n",
    "        break\n",
    "        "
   ]
  },
  {
   "cell_type": "markdown",
   "id": "3e1e6490",
   "metadata": {},
   "source": [
    "### 성적 처리 프로그램 4단계"
   ]
  },
  {
   "cell_type": "code",
   "execution_count": null,
   "id": "496ab26f",
   "metadata": {
    "ExecuteTime": {
     "end_time": "2023-08-25T02:31:50.956896Z",
     "start_time": "2023-08-25T02:31:50.944418Z"
    }
   },
   "outputs": [],
   "source": [
    "# 학생 리스트를 생성\n",
    "students = [\n",
    "    {'name': \"홍길동\", 'kor':87, 'eng' : 88, 'math':98},\n",
    "    {'name': \"장보고\", 'kor':92, 'eng' : 96, 'math':89},\n",
    "    {'name': \"유관순\", 'kor':94, 'eng' : 76, 'math':90},\n",
    "    {'name': \"이순신\", 'kor':95, 'eng' : 78, 'math':90},\n",
    "    {'name': \"사임당\", 'kor':98, 'eng' : 70, 'math':95}\n",
    "]\n",
    "\n",
    "# 이름, 총점과 평균을 개별 출력하는 로직\n",
    "print('이름', '총점', '평균', sep = '\\t')\n",
    "for student in students:\n",
    "    # 총점과 평균 계산\n",
    "    tot = student['kor'] + student['eng'] + student['math']\n",
    "    avg = tot/3\n",
    "    \n",
    "    # 출력\n",
    "    print(student['name'], tot, round(avg,2), sep='\\t')"
   ]
  },
  {
   "cell_type": "code",
   "execution_count": null,
   "id": "5fb428d4",
   "metadata": {
    "ExecuteTime": {
     "end_time": "2023-08-25T02:39:54.427333Z",
     "start_time": "2023-08-25T02:39:54.410996Z"
    }
   },
   "outputs": [],
   "source": [
    "# 학생 한 명의 정보를 입력받아 사전 객체로 반환하여 리턴하는 함수\n",
    "def makeStudent(name, kor, eng, math) :\n",
    "    return {\n",
    "        'name' : name,\n",
    "        'kor' : kor,\n",
    "        'eng' : eng,\n",
    "        'math' : math\n",
    "}\n",
    "\n",
    "students = [\n",
    "    makeStudent(\"홍길동\",87,88,98)\n",
    "    makeStudent(\"장보고\",92,96,89)\n",
    "    makeStudent(\"유관순\",94,76,90)\n",
    "    makeStudent(\"이순신\",95,78,90)\n",
    "    makeStudent(\"사임당\",98,70,95)  \n",
    "]\n",
    "# 이름, 총점과 평균을 개별 출력하는 로직\n",
    "print('이름', '총점', '평균', sep = '\\t')\n",
    "for student in students:\n",
    "    # 총점과 평균 계산\n",
    "    tot = student['kor'] + student['eng'] + student['math']\n",
    "    avg = tot/3\n",
    "    \n",
    "    # 출력\n",
    "    print(student['name'], tot, round(avg,2), sep='\\t')"
   ]
  },
  {
   "cell_type": "code",
   "execution_count": null,
   "id": "be7f1727",
   "metadata": {
    "ExecuteTime": {
     "end_time": "2023-08-25T02:47:18.713574Z",
     "start_time": "2023-08-25T02:47:18.701774Z"
    }
   },
   "outputs": [],
   "source": [
    "def makeStudent(name, kor, eng, math) :\n",
    "    return {\n",
    "        'name':name,\n",
    "        'kor':kor,\n",
    "        'eng':eng,\n",
    "        'math':math\n",
    "    }\n",
    "\n",
    "def calc_tot(student):\n",
    "    return student['kor'] + student['eng'] + student['math']\n",
    "\n",
    "def calc_avg(student):\n",
    "    return round(calc_tot(student) / 3)\n",
    "\n",
    "def toString(student):\n",
    "    return \"{}\\t{}\\t{}\".format(student['name'], calc_tot(student), calc_avg(student))\n",
    "\n",
    "students = [\n",
    "    makeStudent(\"홍길동\",87,88,98),\n",
    "    makeStudent(\"장보고\",92,96,89),\n",
    "    makeStudent(\"유관순\",94,76,90),\n",
    "    makeStudent(\"이순신\",95,78,90),\n",
    "    makeStudent(\"사임당\",98,70,95)  \n",
    "]\n",
    "\n",
    "print('이름', '총점', '평균', sep = '\\t')\n",
    "for student in students:\n",
    "    print(toString(student))"
   ]
  },
  {
   "cell_type": "code",
   "execution_count": null,
   "id": "e3b46fe6",
   "metadata": {
    "ExecuteTime": {
     "end_time": "2023-08-25T03:06:27.448116Z",
     "start_time": "2023-08-25T03:06:27.431710Z"
    }
   },
   "outputs": [],
   "source": [
    "# 학생 객체를 담을 클래스 선언\n",
    "class Student :\n",
    "    # 생성자 메서드\n",
    "    def __init__(self, name, kor, eng, math) :\n",
    "        self.name = name\n",
    "        self.kor = kor\n",
    "        self.eng = eng\n",
    "        self.math = math\n",
    "\n",
    "# 인스턴스 객체 생성\n",
    "stu = Student()\n",
    "\n",
    "# 학생 리스트 선언\n",
    "Students = [\n",
    "    student(\"홍길동\",87,88,98),\n",
    "    student(\"장보고\",92,96,89),\n",
    "    student(\"유관순\",94,76,90),\n",
    "    student(\"이순신\",95,78,90),\n",
    "    student(\"사임당\",98,70,95)\n",
    "]"
   ]
  },
  {
   "cell_type": "code",
   "execution_count": null,
   "id": "2a056a92",
   "metadata": {
    "ExecuteTime": {
     "end_time": "2023-08-25T03:15:33.653143Z",
     "start_time": "2023-08-25T03:15:33.640035Z"
    }
   },
   "outputs": [],
   "source": [
    "# 한 명의 학생 정보를 관리할 목적으로 구현하는 클래스\n",
    "class Student :\n",
    "    # 멤버 필드\n",
    "    \n",
    "    # 생성자 메서드\n",
    "    def __init__(self, name, kor, eng, math) :\n",
    "        self.name = name\n",
    "        self.kor = kor\n",
    "        self.eng = eng\n",
    "        self.math = math\n",
    "        \n",
    "    # 멤버 메서드\n",
    "    def total(self) :\n",
    "        return self.kor + self.eng + self.math\n",
    "    \n",
    "    def average(self):\n",
    "        return round(self.total() / 3, 2)\n",
    "    \n",
    "    def disp(self):\n",
    "        return \"{}\\t{}\\t{}\".format(self.name, self.total(), self.average())\n",
    "    \n",
    "    # 소멸자 메서드\n",
    "    def __del__(self) :\n",
    "        pass"
   ]
  },
  {
   "cell_type": "code",
   "execution_count": null,
   "id": "3ea08294",
   "metadata": {
    "ExecuteTime": {
     "end_time": "2023-08-25T03:17:39.715947Z",
     "start_time": "2023-08-25T03:17:39.709813Z"
    }
   },
   "outputs": [],
   "source": [
    "# 학생정보를 이용한 인스턴스 객체 생성\n",
    "one = Student('aaa', 100, 100, 100)\n",
    "\n",
    "print(one.disp())"
   ]
  },
  {
   "cell_type": "code",
   "execution_count": null,
   "id": "03fb7931",
   "metadata": {
    "ExecuteTime": {
     "end_time": "2023-08-25T03:19:43.713809Z",
     "start_time": "2023-08-25T03:19:35.833417Z"
    }
   },
   "outputs": [],
   "source": [
    "# 학생 정보를 키보드를 통해 입력받아 처리하는 작업\n",
    "name = input('name = ')\n",
    "kor = int(input('kor = '))\n",
    "eng = int(input('eng = '))\n",
    "math = int(input('mat = '))\n",
    "\n",
    "two = Student(name,kor,eng,math)\n",
    "print(two.disp())"
   ]
  },
  {
   "cell_type": "markdown",
   "id": "95489442",
   "metadata": {},
   "source": [
    "## 상속(Inheritance)\n",
    "\n",
    "- 부모클래스(상위클래스)가 가지고 있는 특성과 속성을 그대로 자식클래스(하위클래스, 파생클래스)가 물려받는것\n",
    "- 재활용을 극대화하기 위해 사용하는 개념\n",
    "- 다중 상속도 가능하다.\n",
    "- 오버라이딩(Overiding) : 재정의 부모메서드를 자식클래스에서 다시 정의해서 사용하는 것\n",
    "- 다형성(Polymorphism) : 가독성을 높이기 위해서 사용하는 기능"
   ]
  },
  {
   "cell_type": "code",
   "execution_count": null,
   "id": "5a71b471",
   "metadata": {
    "ExecuteTime": {
     "end_time": "2023-08-25T03:35:11.390983Z",
     "start_time": "2023-08-25T03:35:11.372572Z"
    }
   },
   "outputs": [],
   "source": [
    "class Person :\n",
    "   # 멤버 필드\n",
    "#     name = ''\n",
    "#     age = 0\n",
    "#     height = 0.0\n",
    "    \n",
    "    # 멤버 메서드\n",
    "    def disp(self) :\n",
    "        print('이름 : ', self.name)\n",
    "        print('나이 : ', self.age)\n",
    "        print('신장 : ', self.height)"
   ]
  },
  {
   "cell_type": "code",
   "execution_count": null,
   "id": "53047bda",
   "metadata": {
    "ExecuteTime": {
     "end_time": "2023-08-25T03:38:01.616235Z",
     "start_time": "2023-08-25T03:38:01.601419Z"
    }
   },
   "outputs": [],
   "source": [
    "#  인스턴스 객체 생성 - 객체가 생성되면 자동적으로 생성자 메서드가 호출된다.\n",
    "# 클래스명과 동일한 이름을 가진 생성자 : default 생성자 - 생략가능\n",
    "p1 = Person()\n",
    "p1.name = 'kim'\n",
    "p1.age = 23\n",
    "p1.height = 169.8\n",
    "p1.disp()"
   ]
  },
  {
   "cell_type": "code",
   "execution_count": null,
   "id": "7b22f1e6",
   "metadata": {
    "ExecuteTime": {
     "end_time": "2023-08-25T03:39:12.302710Z",
     "start_time": "2023-08-25T03:39:12.297955Z"
    }
   },
   "outputs": [],
   "source": [
    "p2 = Person()\n",
    "p2.name = 'lee'\n",
    "p2.age = 33\n",
    "p2.height = 190.7\n",
    "p2.disp()"
   ]
  },
  {
   "cell_type": "code",
   "execution_count": null,
   "id": "bc6ca29c",
   "metadata": {
    "ExecuteTime": {
     "end_time": "2023-08-25T03:41:15.933353Z",
     "start_time": "2023-08-25T03:41:15.914110Z"
    }
   },
   "outputs": [],
   "source": [
    "class Person :\n",
    "    # 생성자 메서드 : 멤버 필드를 초기화시켜줄 목적으로 구현된다.\n",
    "    def __init__(self,name,age,height):\n",
    "        self.name = name\n",
    "        self.age = age\n",
    "        self.height = height\n",
    "    \n",
    "    # 멤버 메서드\n",
    "    def disp(self) :\n",
    "        print('이름 : ', self.name)\n",
    "        print('나이 : ', self.age)\n",
    "        print('신장 : ', self.height)"
   ]
  },
  {
   "cell_type": "code",
   "execution_count": null,
   "id": "8c622889",
   "metadata": {
    "ExecuteTime": {
     "end_time": "2023-08-25T03:41:16.317480Z",
     "start_time": "2023-08-25T03:41:16.285434Z"
    }
   },
   "outputs": [],
   "source": [
    "p3 = Person('park', 19, 160.4)\n",
    "p3.disp()"
   ]
  },
  {
   "cell_type": "code",
   "execution_count": null,
   "id": "fab0b99b",
   "metadata": {
    "ExecuteTime": {
     "end_time": "2023-08-25T03:57:29.829070Z",
     "start_time": "2023-08-25T03:57:29.820008Z"
    }
   },
   "outputs": [],
   "source": [
    "# 중학교\n",
    "class Middle :\n",
    "    # 멤버 필드\n",
    "    \n",
    "    # 생성자 메서드\n",
    "    def __init__(self, name, phone) :\n",
    "        self.name = name\n",
    "        self.phone = phone\n",
    "        \n",
    "    # 멤버 메서드\n",
    "    def disp(self) :\n",
    "        print(f\"{self.name} : {self.phone}\", end=' ')"
   ]
  },
  {
   "cell_type": "code",
   "execution_count": null,
   "id": "24dc585d",
   "metadata": {
    "ExecuteTime": {
     "end_time": "2023-08-25T03:49:13.438701Z",
     "start_time": "2023-08-25T03:49:13.428422Z"
    }
   },
   "outputs": [],
   "source": [
    "# 친구등록\n",
    "m1 = Middle('이중학', '010-1111-2222')\n",
    "m2 = Middle('저중학', '010-2222-3333')"
   ]
  },
  {
   "cell_type": "code",
   "execution_count": null,
   "id": "cc37be2b",
   "metadata": {
    "ExecuteTime": {
     "end_time": "2023-08-25T03:49:17.714841Z",
     "start_time": "2023-08-25T03:49:17.696814Z"
    }
   },
   "outputs": [],
   "source": [
    "m1.disp()"
   ]
  },
  {
   "cell_type": "code",
   "execution_count": null,
   "id": "c7ed2557",
   "metadata": {
    "ExecuteTime": {
     "end_time": "2023-08-25T03:51:28.695718Z",
     "start_time": "2023-08-25T03:51:28.691114Z"
    }
   },
   "outputs": [],
   "source": [
    "# 고등학교\n",
    "class High:\n",
    "    # 멤버필드\n",
    "    \n",
    "    # 생성자 메서드\n",
    "    def __init__(self, name, phone, address) :\n",
    "        self.name = name\n",
    "        self.phone = phone\n",
    "        self.address = address\n",
    "        \n",
    "    # 멤버 메서드\n",
    "    def disp(self):\n",
    "        print(f\"{self.name} : {self.phone} : {self.address}\")"
   ]
  },
  {
   "cell_type": "code",
   "execution_count": null,
   "id": "90b7a950",
   "metadata": {
    "ExecuteTime": {
     "end_time": "2023-08-25T03:52:03.687739Z",
     "start_time": "2023-08-25T03:52:03.670474Z"
    }
   },
   "outputs": [],
   "source": [
    "h1 = High('박고등', '010-3333-4444', '가산동')\n",
    "h1.disp()"
   ]
  },
  {
   "cell_type": "code",
   "execution_count": null,
   "id": "8d3c5b70",
   "metadata": {
    "ExecuteTime": {
     "end_time": "2023-08-25T03:57:33.266644Z",
     "start_time": "2023-08-25T03:57:33.252923Z"
    }
   },
   "outputs": [],
   "source": [
    "# 고등학교\n",
    "class High(Middle):\n",
    "    # 멤버필드\n",
    "    \n",
    "    # 생성자 메서드\n",
    "    def __init__(self, name, phone, address) :\n",
    "#         self.name = name\n",
    "#         self.phone = phone\n",
    "# 반드시 자식객체는 부모객체의 멤버를 초기화시켜야한다. \n",
    "        Middle.__init__(self, name, phone)\n",
    "        self.address = address\n",
    "        \n",
    "    # 멤버 메서드\n",
    "    def disp(self):\n",
    "        Middle.disp(self)\n",
    "        print(f\"{self.address}\")"
   ]
  },
  {
   "cell_type": "code",
   "execution_count": null,
   "id": "1af95ff4",
   "metadata": {
    "ExecuteTime": {
     "end_time": "2023-08-25T03:58:20.784755Z",
     "start_time": "2023-08-25T03:58:20.768031Z"
    }
   },
   "outputs": [],
   "source": [
    "m3 = Middle('한중학', '010-7777-8888')\n",
    "m3.disp()"
   ]
  },
  {
   "cell_type": "code",
   "execution_count": null,
   "id": "d04190b7",
   "metadata": {
    "ExecuteTime": {
     "end_time": "2023-08-25T03:58:58.159220Z",
     "start_time": "2023-08-25T03:58:58.145770Z"
    }
   },
   "outputs": [],
   "source": [
    "h2 = High('박고등', '010-9999-9090','서울시')\n",
    "h2.disp()"
   ]
  },
  {
   "cell_type": "code",
   "execution_count": null,
   "id": "d6952889",
   "metadata": {
    "ExecuteTime": {
     "end_time": "2023-08-25T05:17:04.285244Z",
     "start_time": "2023-08-25T05:17:04.270775Z"
    }
   },
   "outputs": [],
   "source": [
    "# 회원정보를 관리할 목적의 클래스\n",
    "class Member :\n",
    "    # 생성자 메서드\n",
    "    def __init__(self, userid, pwd, name, age):\n",
    "        self.userid = userid\n",
    "        self.pwd = pwd\n",
    "        self.name = name\n",
    "        self.age = age\n",
    "        \n",
    "    # 멤버 메서드\n",
    "    def info(self):\n",
    "        print('아이디 : ', self.userid, end = '')\n",
    "        print('비밀번호 : ', self.pwd, end = '')\n",
    "        print('이름 : ', self.name, end = '')\n",
    "        print('나이 : ', self.age)"
   ]
  },
  {
   "cell_type": "code",
   "execution_count": null,
   "id": "ba86de88",
   "metadata": {
    "ExecuteTime": {
     "end_time": "2023-08-25T05:24:39.128607Z",
     "start_time": "2023-08-25T05:24:39.118952Z"
    }
   },
   "outputs": [],
   "source": [
    "# 파생 클래스\n",
    "class MemberInfo(Member) :\n",
    "    # 부모 객체가 생성자를 가지고 있다면 자식 객체는 반드시 생성자를 기술\n",
    "    # 상속받은 자식객체는 반드시 부모객체의 멤버를 초기화할 의무가 있다.\n",
    "    def __init__(self, userid, pwd, name, age, job, hobby):\n",
    "        Member.__init__(self, userid, pwd, name, age)\n",
    "        self.job = job\n",
    "        self.hobby = hobby\n",
    "        \n",
    "    # 부모와 자식이 같은 이름의 메서드를 가지고 있는 경우 오버라이딩이라 부른다.\n",
    "    def info(self):\n",
    "        Member.info(self)\n",
    "        print('직업 : ', self.job, end = '   ')\n",
    "        print('취미 : ', self.hobby)"
   ]
  },
  {
   "cell_type": "code",
   "execution_count": null,
   "id": "e7a56a2e",
   "metadata": {
    "ExecuteTime": {
     "end_time": "2023-08-25T05:24:40.059203Z",
     "start_time": "2023-08-25T05:24:40.041104Z"
    }
   },
   "outputs": [],
   "source": [
    "mem = MemberInfo('aaa', '1234', '배불러', 33, '개발자', '댄스')\n",
    "mem.info()"
   ]
  },
  {
   "cell_type": "markdown",
   "id": "46c0d2d7",
   "metadata": {},
   "source": [
    "다음 주어진 조건에 만족하는 프로그램을 구현하시오. <br>\n",
    "<br>\n",
    "처리조건<br>\n",
    "1. 사용자가 원하는 도형을 입력받아 처리할 수 있도록 구현한다.\n",
    "2. 점, 원, 사각형 중 하나를 입력받아 처리한다.\n",
    "3. 출력형식 및 입력형식에 맞게 프로그램을 구현한다.\n",
    "<br>\n",
    " 입력형식 <br>\n",
    "  도형(1. 점 2. 원 3. 사각형 4. 종료) = <br>\n",
    "    <br>\n",
    "  - 점을 선택한 경우  <br>\n",
    "    x = 10  <br>\n",
    "    y = 10  <br>\n",
    "    점(x,y) = (10,20)  <br>\n",
    "    <br>\n",
    "  - 원을 선택한 경우<br>\n",
    "    x = 3<br>\n",
    "    y = 5 <br>\n",
    "    r = 10<br>\n",
    "    점(x,y) = (3,5)<br>\n",
    "    반지름(r) = 10<br>\n",
    "    <br>\n",
    "  - 사각형을 선택한 경우<br>\n",
    "    x = 10<br>\n",
    "    y = 9<br>\n",
    "    h = 20<br>\n",
    "    w = 7<br>\n",
    "    점(x, y) = (10,9)<br>\n",
    "    높이(h) = 20, 너비(w) = 7"
   ]
  },
  {
   "cell_type": "code",
   "execution_count": null,
   "id": "02156650",
   "metadata": {
    "ExecuteTime": {
     "end_time": "2023-08-25T05:32:35.815897Z",
     "start_time": "2023-08-25T05:32:35.796784Z"
    }
   },
   "outputs": [],
   "source": [
    "# 평면 위의 한 점을 추상화하는 클래스 Point 구현\n",
    "class Point :\n",
    "    # 멤버 필드\n",
    "    \n",
    "    # 생성자 메서드\n",
    "    def __init__(self) :\n",
    "        self.xpos = int(input('x = '))\n",
    "        self.xpos = int(input('x = '))\n",
    "        \n",
    "    # 멤버 메서드\n",
    "    def disp(self):\n",
    "        print(f'점(x,y) = ({self.xpos}, {self.ypos})')\n",
    "        "
   ]
  },
  {
   "cell_type": "code",
   "execution_count": null,
   "id": "f9de7993",
   "metadata": {
    "ExecuteTime": {
     "end_time": "2023-08-25T05:41:55.093275Z",
     "start_time": "2023-08-25T05:41:52.080582Z"
    }
   },
   "outputs": [],
   "source": [
    "ap = Point()"
   ]
  },
  {
   "cell_type": "markdown",
   "id": "5458ee56",
   "metadata": {},
   "source": [
    "### 급여관리 프로그램\n",
    "A라는 회사의 직원 급여를 관리할 목적으로 프로그램을 구현하려고 한다.<br>\n",
    "처음 이 회사가 창립될 때 채용한 모든 직원은 정규직 직원이다.<br>\n",
    "\n",
    "- Entity Class : 단수히 자료를 담아서 보관할 목적으로 구현하는 클래스, Model(모델)\n",
    "- Handler Class or Controller Class : 실제 프로그램을 동작할 목적으로 구현하는 클래스\n",
    "\n",
    "- 주요기능 : 직원등록, 직원정보를 출력, 모든 직원의 급여정보와 총 지급하는 급여액을 확인"
   ]
  },
  {
   "cell_type": "code",
   "execution_count": null,
   "id": "78308fd5",
   "metadata": {
    "ExecuteTime": {
     "end_time": "2023-08-25T06:34:42.888495Z",
     "start_time": "2023-08-25T06:34:42.876417Z"
    }
   },
   "outputs": [],
   "source": [
    "# 정규직 한 명을 관리할 목적으로 클래스 구현\n",
    "class Permanent:\n",
    "    # 멤버 필드\n",
    "    \n",
    "    # 생성자 메서드\n",
    "    def __init__(self, name, pay):\n",
    "        self.name = name\n",
    "        self.pay = pay\n",
    "        \n",
    "    def disp(self):\n",
    "        print(f\"{self.name} : {self.pay}\")\n",
    "        \n",
    "    def getPay(self):\n",
    "        return self.pay"
   ]
  },
  {
   "cell_type": "code",
   "execution_count": null,
   "id": "37158e52",
   "metadata": {
    "ExecuteTime": {
     "end_time": "2023-08-25T06:50:38.426299Z",
     "start_time": "2023-08-25T06:50:30.337946Z"
    }
   },
   "outputs": [],
   "source": [
    "# 전체 직원을 담을 컨테이너 객체\n",
    "emp = list()\n",
    "\n",
    "# 사용자의 선택에 의해 동작되도록 프로그램을 구현\n",
    "while True :\n",
    "    # 메뉴출력\n",
    "    print('\\n[1]직원등록 [2]직원출력 [3]총지급액 [4]작업종료')\n",
    "    menu = int(input('선택 = '))\n",
    "    \n",
    "    # 선택에 따라 동작하는 로직 \n",
    "    if menu == 1 :\n",
    "        name = input('이름 = ')\n",
    "        pay = int(input('급여 = '))\n",
    "        p = Permanent(name, pay)\n",
    "        emp.append(p)\n",
    "        print('직원등록이 완료되었습니다.')\n",
    "    elif menu == 2 :\n",
    "        if len(emp) == 0 :\n",
    "            print('등록된 직원이 없습니다.')\n",
    "            \n",
    "        else :\n",
    "            for e in emp :\n",
    "                e.disp()\n",
    "    elif menu == 3 :\n",
    "        tot = 0\n",
    "        for e in emp:\n",
    "            tot += e.getPay()\n",
    "            print('총지급액 : ', tot)\n",
    "    elif menu == 4:\n",
    "        print('프로그램을 종료합니다.')\n",
    "        break\n",
    "    else : \n",
    "        print('선택이 올바르지 않습니다.')"
   ]
  },
  {
   "cell_type": "code",
   "execution_count": null,
   "id": "7f3d1e48",
   "metadata": {
    "ExecuteTime": {
     "end_time": "2023-08-25T06:50:14.752395Z",
     "start_time": "2023-08-25T06:50:14.740117Z"
    }
   },
   "outputs": [],
   "source": [
    "# Handler Class : 실제 처리를 담당하는 클래스\n",
    "class EmpManager:\n",
    "    # 멤버 필드\n",
    "    emp = list()\n",
    "    \n",
    "    # 멤버 메서드\n",
    "    def create(self):\n",
    "        name = input('이름 = ')\n",
    "        pay = int(input('급여 = '))\n",
    "        p = Permanent(name, pay)\n",
    "        emp.append(p)\n",
    "        print('직원등록이 완료되었습니다.')\n",
    "        \n",
    "    # 직원정보를 출력하는 메서드\n",
    "    def show(self):\n",
    "        if len(emp) == 0 :\n",
    "            print('등록된 직원이 없습니다.')\n",
    "        else :\n",
    "            for e in emp :\n",
    "                e.disp()\n",
    "    # 총급여를  출력하는 메서드            \n",
    "    def allPay(self):\n",
    "        tot = 0\n",
    "        for e in emp:\n",
    "            tot += e.getPay()\n",
    "        print('총 지급액 : ', tot)"
   ]
  },
  {
   "cell_type": "code",
   "execution_count": null,
   "id": "d8e5643c",
   "metadata": {
    "ExecuteTime": {
     "end_time": "2023-08-25T06:34:56.798728Z",
     "start_time": "2023-08-25T06:34:51.687234Z"
    }
   },
   "outputs": [],
   "source": [
    "# main process\n",
    "\n",
    "# 실제 처리를 담당하는 클래스의 인스턴스 객체 생성\n",
    "emp = EmpManager()\n",
    "\n",
    "# 사용자의 선택에 의해 동작되도록 프로그램을 구현\n",
    "while True :\n",
    "    # 메뉴출력\n",
    "    print('\\n[1]직원등록 [2]직원출력 [3]총지급액 [4]작업종료')\n",
    "    menu = int(input('선택 = '))\n",
    "    \n",
    "    # 선택에 따라 동작하는 로직 \n",
    "    if menu == 1 :\n",
    "        manager.create()\n",
    "    elif menu == 2 :\n",
    "        manager.show()\n",
    "    elif menu == 3 :\n",
    "        manager.allPay()\n",
    "    elif menu == 4:\n",
    "        print('프로그램을 종료합니다.')\n",
    "        break\n",
    "    else : \n",
    "        print('선택이 올바르지 않습니다.')"
   ]
  },
  {
   "cell_type": "markdown",
   "id": "7a52e1e6",
   "metadata": {},
   "source": [
    "- 회사가 성장을 하여 다양한 직군의 직원을 채용한다.\n",
    "- 정규직(Permanet) : 이름, 기본급\n",
    "- 영업직(Sales) : 이름, 기본급, 매출실적, 보너스, 급여(기본급 + 매출실적*보너스)\n",
    "- 임시직(Temporary) : 이름, 근무시간, 시간당급여, 급여(근무시간*시간당급여)\n",
    "- 메서드 오버라이딩(Method Overiding) : 부모 클래스에 선언된 메서드와 동일한 이름을 가진 메서드를 자식 클래스에도 선얺난다. 이때 자식 객체를 이용해서 해당 메서드를 호출하면 자식메서드가 실행된다.\n",
    "<code>\n",
    "    직원(Employee) : 이름, 급여(추상메서드\n",
    "    - 정규직 : 급여(기본급)\n",
    "    - 영업직 : 급여(기본급 + 매출실적 * 상여금)\n",
    "    - 임시직 : 급여(근무시간 * 수당)\n",
    "</code>"
   ]
  },
  {
   "cell_type": "code",
   "execution_count": 73,
   "id": "5457c7d1",
   "metadata": {
    "ExecuteTime": {
     "end_time": "2023-08-25T08:38:59.386629Z",
     "start_time": "2023-08-25T08:38:59.378648Z"
    }
   },
   "outputs": [],
   "source": [
    "# 상위 클래스 : 부모 클래스\n",
    "class Employee :\n",
    "    # 멤버 필드\n",
    "    \n",
    "    # 생성자 메서드\n",
    "    def __init__(self, name) :\n",
    "        self.name = name\n",
    "        \n",
    "    #  멤버 메서드\n",
    "    def disp(self) :\n",
    "        print(\"이름 : \", self.name, end= ' ')\n",
    "        \n",
    "    # 추상 메서드\n",
    "    def getPay(self) :\n",
    "        return 0"
   ]
  },
  {
   "cell_type": "code",
   "execution_count": 74,
   "id": "24ae20a8",
   "metadata": {
    "ExecuteTime": {
     "end_time": "2023-08-25T08:39:00.365704Z",
     "start_time": "2023-08-25T08:39:00.351250Z"
    }
   },
   "outputs": [],
   "source": [
    "# 정규직\n",
    "class Permanent(Employee):\n",
    "    # 멤버 필드\n",
    "    \n",
    "    # 생성자 메서드\n",
    "    def __init__(self, name, pay):\n",
    "        Employee.__init__(self, name)\n",
    "        self.pay = pay\n",
    "    \n",
    "    # Method Overriding\n",
    "    def disp(self):\n",
    "        Employee.disp(self)\n",
    "        print(\"급여 : \", self.getPay())\n",
    "        \n",
    "    def getPay(self):\n",
    "        return self.pay"
   ]
  },
  {
   "cell_type": "code",
   "execution_count": 75,
   "id": "b1e3b2cd",
   "metadata": {
    "ExecuteTime": {
     "end_time": "2023-08-25T08:39:00.872096Z",
     "start_time": "2023-08-25T08:39:00.855615Z"
    }
   },
   "outputs": [],
   "source": [
    "class Sales(Employee) :\n",
    "    # 생성자 메서드\n",
    "    def __init__(self,name,pay, result, rate):\n",
    "        Employee.__init__(self,name)\n",
    "        self.pay = pay\n",
    "        self.result = result\n",
    "        self.rate = rate\n",
    "        \n",
    "    def disp(self):\n",
    "        Employee.disp(self)\n",
    "        print(\"급여 : \", self.getPay())\n",
    "    \n",
    "    def getPay(self):\n",
    "        return self.pay + (self.result * self.rate)\n",
    "    "
   ]
  },
  {
   "cell_type": "code",
   "execution_count": 79,
   "id": "9065f225",
   "metadata": {
    "ExecuteTime": {
     "end_time": "2023-08-25T08:41:11.960673Z",
     "start_time": "2023-08-25T08:41:11.955607Z"
    }
   },
   "outputs": [],
   "source": [
    "class exmaple(Employee) :\n",
    "    # 생성자 메서드\n",
    "    def __init__(self,name,money, hour):\n",
    "        Employee.__init__(self,name)\n",
    "        self.money = money\n",
    "        self.hour = hour\n",
    "        \n",
    "    def disp(self):\n",
    "        Employee.disp(self)\n",
    "        print(\"급여 : \", self.getPay())\n",
    "    \n",
    "    def getPay(self):\n",
    "        return self.money * self.hour"
   ]
  },
  {
   "cell_type": "code",
   "execution_count": 88,
   "id": "8066711b",
   "metadata": {
    "ExecuteTime": {
     "end_time": "2023-08-25T08:44:50.362524Z",
     "start_time": "2023-08-25T08:44:50.349410Z"
    }
   },
   "outputs": [],
   "source": [
    "# Handler Class : 실제 처리를 담당하는 클래스\n",
    "class EmpManager:\n",
    "    # 멤버 필드\n",
    "    emp = list()\n",
    "    ## self. 멤버필드 : 인스턴스 변수, 인스턴스마다 달라지는 값\n",
    "    ## 클래스명.멤버필드 : 클래스 변수, 모든 인스턴스 객체가 공통의 값을 갖는 것\n",
    "    \n",
    "    # 멤버 메서드\n",
    "    # 직원등록을하는\n",
    "    def create(self):\n",
    "        print('직군을 선택하세요.')\n",
    "        job = int(input('1. 정규직   2. 영업직  3. 임시직  = '))\n",
    "        if job == 1 :\n",
    "            name = input('이름 = ')\n",
    "            pay = eval(input('급여 = '))\n",
    "            p = Permanent(name, pay)\n",
    "            EmpManager.emp.append(p)\n",
    "            \n",
    "        elif job == 2 :\n",
    "            name = input('이름 = ')\n",
    "            pay = eval(input('급여 = '))\n",
    "            result = eval(input('판매실적 = '))\n",
    "            rate = int(input('상여율 = '))\n",
    "            p = Sales(name, pay, result, rate)\n",
    "            EmpManager.emp.append(p)\n",
    "        elif job == 3 : \n",
    "            name = input('이름 = ')\n",
    "            money = eval(input('급여 = '))\n",
    "            hour = eval(input('근무시간 = '))\n",
    "            p = exmaple(name,money,hour)\n",
    "            EmpManager.emp.append(p)\n",
    "            \n",
    "        else :\n",
    "            print('잘못입력하셨습니다.')\n",
    "        print('직원등록이 완료되었습니다.')\n",
    "        \n",
    "    # 직원정보를 출력하는 메서드\n",
    "    def show(self):\n",
    "        if len(EmpManager.emp) == 0 :\n",
    "            print('등록된 직원이 없습니다.')\n",
    "            return\n",
    "        else :\n",
    "            for e in EmpManager.emp :\n",
    "                e.disp()\n",
    "    # 총급여를  출력하는 메서드            \n",
    "    def allPay(self):\n",
    "        tot = 0\n",
    "        for e in EmpManager.emp:\n",
    "            tot += e.getPay()\n",
    "        print('총 지급액 : ', tot)"
   ]
  },
  {
   "cell_type": "code",
   "execution_count": 89,
   "id": "92b6476b",
   "metadata": {
    "ExecuteTime": {
     "end_time": "2023-08-25T08:45:01.009359Z",
     "start_time": "2023-08-25T08:44:53.111079Z"
    }
   },
   "outputs": [
    {
     "name": "stdout",
     "output_type": "stream",
     "text": [
      "\n",
      "[1]직원등록 [2]직원출력 [3]총지급액 [4]작업종료\n",
      "선택 = 1\n",
      "직군을 선택하세요.\n",
      "1. 정규직   2. 영업직  3. 임시직  = 3\n",
      "이름 = aa\n",
      "급여 = 22\n",
      "근무시간 = 33\n",
      "직원등록이 완료되었습니다.\n",
      "\n",
      "[1]직원등록 [2]직원출력 [3]총지급액 [4]작업종료\n",
      "선택 = 3\n",
      "총 지급액 :  726\n",
      "\n",
      "[1]직원등록 [2]직원출력 [3]총지급액 [4]작업종료\n",
      "선택 = 4\n",
      "프로그램을 종료합니다.\n"
     ]
    }
   ],
   "source": [
    "## main process\n",
    "\n",
    "## 실제 처리를 담당하는 클래스의 인스턴스 객체 생성\n",
    "manager = EmpManager()\n",
    "\n",
    "# 사용자의 선택에 의해 동작되도록 프로그램을 구현\n",
    "while True:\n",
    "    # 메뉴출력\n",
    "    print(\"\\n[1]직원등록 [2]직원출력 [3]총지급액 [4]작업종료\")\n",
    "    menu = int(input('선택 = '))\n",
    "    \n",
    "    # 선택에 따라 동작하는 로직\n",
    "    if menu == 1:\n",
    "        manager.create()\n",
    "        \n",
    "    elif menu == 2:\n",
    "        manager.show()\n",
    "    elif menu == 3:\n",
    "        manager.allPay()\n",
    "    elif menu == 4:\n",
    "        print(\"프로그램을 종료합니다.\")\n",
    "        break\n",
    "    else:\n",
    "        print(\"선택이 올바르지 않습니다.\")"
   ]
  },
  {
   "cell_type": "markdown",
   "id": "ff9dbc27",
   "metadata": {},
   "source": [
    "## "
   ]
  }
 ],
 "metadata": {
  "kernelspec": {
   "display_name": "Python 3",
   "language": "python",
   "name": "python3"
  },
  "language_info": {
   "codemirror_mode": {
    "name": "ipython",
    "version": 3
   },
   "file_extension": ".py",
   "mimetype": "text/x-python",
   "name": "python",
   "nbconvert_exporter": "python",
   "pygments_lexer": "ipython3",
   "version": "3.8.8"
  },
  "toc": {
   "base_numbering": 1,
   "nav_menu": {},
   "number_sections": true,
   "sideBar": true,
   "skip_h1_title": false,
   "title_cell": "Table of Contents",
   "title_sidebar": "Contents",
   "toc_cell": false,
   "toc_position": {},
   "toc_section_display": true,
   "toc_window_display": false
  },
  "varInspector": {
   "cols": {
    "lenName": 16,
    "lenType": 16,
    "lenVar": 40
   },
   "kernels_config": {
    "python": {
     "delete_cmd_postfix": "",
     "delete_cmd_prefix": "del ",
     "library": "var_list.py",
     "varRefreshCmd": "print(var_dic_list())"
    },
    "r": {
     "delete_cmd_postfix": ") ",
     "delete_cmd_prefix": "rm(",
     "library": "var_list.r",
     "varRefreshCmd": "cat(var_dic_list()) "
    }
   },
   "types_to_exclude": [
    "module",
    "function",
    "builtin_function_or_method",
    "instance",
    "_Feature"
   ],
   "window_display": false
  }
 },
 "nbformat": 4,
 "nbformat_minor": 5
}
