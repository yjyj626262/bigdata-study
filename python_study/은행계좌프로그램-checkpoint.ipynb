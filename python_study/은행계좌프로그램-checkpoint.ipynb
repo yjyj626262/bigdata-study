{
 "cells": [
  {
   "cell_type": "markdown",
   "id": "54974114",
   "metadata": {},
   "source": [
    "# 은행 계좌 관리 프로그램\n",
    "\n",
    "### 처리조건\n",
    "- 은행 거래를 위한 고객의 계좌정보를 담아서 관리하는 프로그램을 구현한다.\n",
    "- 각 고객의 정보는 고객번호, 이름, 예금금액이다.\n",
    "- 고객번호는 고객을 식별할 용도로 사용한다. (중복을 허용하지 않겠다.)\n",
    "  {'고객번호' : {'name':'aaa', 'money':1000}}\n",
    "- 둘 이상의 고객에 대한 정보를 담아서 처리하는 컨테이너 객체를 이용하여 구현한다.\n",
    "\n",
    "### 주요기능\n",
    "- 계좌개설(makeAccount) : 계좌번호와 고객이름 그리고 예금금액을 입력받아 처리한다.\n",
    "- 입금처리(inAccount) : 계좌번호를 입력받아 해당 계좌의 고객정보에 입금처리를 수행한다.\n",
    "- 출금처리(outAccount) : 계좌번호를 입력받아 해당 계좌의 고객에 예금금액에서 출금처리를 진행한다.\n",
    "- 계좌조회(showAccount) : 계좌번호를 입력받아 해당 계좌의 고객정보를 출력한다.\n",
    "- 전체계좌(showAllAccount) : 전체 고객의 계좌정보를 출력한다.\n",
    "- 입금 및 출금처리 시 계좌번호를 입력받아 해당 계좌의 정보가 존재하는지 여부를 판단하여 처리한다.\n",
    "- 출금처리 시 출금금액보다 예금잔액이 부족할 경우 경고메시지를 출력한다.\n",
    "\n",
    "### 입력 및 출력형식\n",
    "<code>\n",
    "    == Bank Menu ==\n",
    "    1. 계좌개설\n",
    "    2. 입금처리\n",
    "    3. 출금처리\n",
    "    4. 잔액조회\n",
    "    5. 전체조회\n",
    "    6. 작업종료\n",
    "    ===============\n",
    "    menu =\n",
    "    \n",
    "    == 계좌개설 ==\n",
    "    계좌번호 = \n",
    "    고객이름 = \n",
    "    예금금액 =\n",
    "    =============\n",
    "    계좌개설이 완료되었습니다.\n",
    "    \n",
    "    == 입금처리 ==\n",
    "    계좌번호 =\n",
    "      입력한 계좌번호가 존재하지 않습니다.\n",
    "      또는\n",
    "    입금금액 =\n",
    "    ======================================\n",
    "    입금처리가 완료되었습니다.\n",
    "    \n",
    "    == 출금처리 ==\n",
    "    계좌번호 =\n",
    "      입력한 계좌번호는 존재하지 않습니다.\n",
    "      또는\n",
    "    출금금액 =\n",
    "      잔액이 부족합니다.\n",
    "      또는\n",
    "    =======================================\n",
    "    출금처리가 완료되었습니다.\n",
    "</code>"
   ]
  },
  {
   "cell_type": "code",
   "execution_count": 22,
   "id": "b7e5d015",
   "metadata": {
    "ExecuteTime": {
     "end_time": "2023-08-24T06:54:38.471464Z",
     "start_time": "2023-08-24T06:54:38.459329Z"
    }
   },
   "outputs": [
    {
     "name": "stdout",
     "output_type": "stream",
     "text": [
      "== Bank Menu ==\n",
      "1. 계좌개설\n",
      "2. 입금처리\n",
      "3. 출금처리\n",
      "4. 잔액조회\n",
      "5. 전체조회\n",
      "6. 작업종료\n",
      "===============\n",
      "menu =\n"
     ]
    }
   ],
   "source": [
    "def Menu() :\n",
    "    print(\"\"\"== Bank Menu ==\n",
    "1. 계좌개설\n",
    "2. 입금처리\n",
    "3. 출금처리\n",
    "4. 잔액조회\n",
    "5. 전체조회\n",
    "6. 작업종료\n",
    "===============\n",
    "menu =\"\"\")\n"
   ]
  },
  {
   "cell_type": "code",
   "execution_count": 23,
   "id": "0b093e28",
   "metadata": {
    "ExecuteTime": {
     "end_time": "2023-08-24T06:56:06.966568Z",
     "start_time": "2023-08-24T06:56:06.957461Z"
    }
   },
   "outputs": [],
   "source": [
    "# 계좌 개설\n",
    "def account() :\n",
    "    \n",
    "    aclist = dict()\n",
    "    aclist['account'] = int(input('''== 계좌개설 ==\n",
    "계좌번호 = '''))\n",
    "    aclist['name'] = input('고객이름 = ')\n",
    "    aclist['money'] = int(input('예금금액 ='))\n",
    "    print('=============')\n",
    "    print('계좌개설이 완료되었습니다.')\n",
    "    return aclist"
   ]
  },
  {
   "cell_type": "code",
   "execution_count": 17,
   "id": "dcc82a32",
   "metadata": {
    "ExecuteTime": {
     "end_time": "2023-08-24T06:52:42.851459Z",
     "start_time": "2023-08-24T06:52:42.840188Z"
    }
   },
   "outputs": [],
   "source": [
    "# 입금처리\n",
    "def income(aclists) :\n",
    "    num = int(input(\"\"\"== 입금처리 ==\n",
    "계좌번호 =\"\"\"))\n",
    "    for i in range(len(aclists)) :\n",
    "        if aclists[i]['account'] != account :\n",
    "            print(\"입력한 계좌번호가 존재하지 않습니다.\")\n",
    "            return\n",
    "        else :\n",
    "            come = int(input(\"입금금액 =\"))\n",
    "            aclists[i]['money'] = aclists[i]['money'] + come\n",
    "            print(\"\"\"======================================\n",
    "입금처리가 완료되었습니다.\"\"\")\n",
    "            return\n",
    "    "
   ]
  },
  {
   "cell_type": "code",
   "execution_count": 18,
   "id": "48dc98ed",
   "metadata": {
    "ExecuteTime": {
     "end_time": "2023-08-24T06:52:44.590375Z",
     "start_time": "2023-08-24T06:52:44.578444Z"
    }
   },
   "outputs": [],
   "source": [
    "# 출금처리\n",
    "def out(aclists) :\n",
    "    num = int(input(\"\"\"== 출금처리 ==\n",
    "계좌번호 =\"\"\"))\n",
    "    for i in range(len(aclists)) :\n",
    "        if aclists[i]['account'] != account :\n",
    "            print(\"입력한 계좌번호가 존재하지 않습니다.\")\n",
    "            return\n",
    "    out = int(input('출금금액 ='))\n",
    "    for i in range(len(aclists)) :\n",
    "        if aclists[i]['money'] < out :\n",
    "            print(\"잔액이 부족합니다.\")\n",
    "            return\n",
    "        else :\n",
    "            aclists[i]['money'] = aclists[i]['money'] - out\n",
    "            print(\"\"\"=======================================\n",
    "출금처리가 완료되었습니다.\"\"\")\n",
    "            return"
   ]
  },
  {
   "cell_type": "code",
   "execution_count": 19,
   "id": "e370c238",
   "metadata": {
    "ExecuteTime": {
     "end_time": "2023-08-24T06:52:45.638642Z",
     "start_time": "2023-08-24T06:52:45.625375Z"
    }
   },
   "outputs": [],
   "source": [
    "# 잔액조회\n",
    "def check(aclists) :\n",
    "    num = int(input('계좌번호를 입력하시오 ='))\n",
    "    for i in range(len(aclists)) :\n",
    "        if aclists[i]['account'] == num :\n",
    "            print(aclists[i]['money'])\n",
    "            return\n",
    "    "
   ]
  },
  {
   "cell_type": "code",
   "execution_count": 20,
   "id": "562a2468",
   "metadata": {
    "ExecuteTime": {
     "end_time": "2023-08-24T06:52:47.537849Z",
     "start_time": "2023-08-24T06:52:47.522655Z"
    }
   },
   "outputs": [],
   "source": [
    "# 전체조회\n",
    "def allcheck(aclists) :\n",
    "    for i in range(len(aclists)) :\n",
    "        print(aclists[i])\n",
    "    "
   ]
  },
  {
   "cell_type": "code",
   "execution_count": 25,
   "id": "3ad88950",
   "metadata": {
    "ExecuteTime": {
     "end_time": "2023-08-24T07:05:46.571441Z",
     "start_time": "2023-08-24T07:02:28.670476Z"
    }
   },
   "outputs": [
    {
     "name": "stdout",
     "output_type": "stream",
     "text": [
      "== Bank Menu ==\n",
      "1. 계좌개설\n",
      "2. 입금처리\n",
      "3. 출금처리\n",
      "4. 잔액조회\n",
      "5. 전체조회\n",
      "6. 작업종료\n",
      "===============\n",
      "menu =\n",
      "번호 입력 : 1\n",
      "== 계좌개설 ==\n",
      "계좌번호 = 123\n",
      "고객이름 = aaa\n",
      "예금금액 =3000\n",
      "=============\n",
      "계좌개설이 완료되었습니다.\n",
      "== Bank Menu ==\n",
      "1. 계좌개설\n",
      "2. 입금처리\n",
      "3. 출금처리\n",
      "4. 잔액조회\n",
      "5. 전체조회\n",
      "6. 작업종료\n",
      "===============\n",
      "menu =\n",
      "번호 입력 : 1\n",
      "== 계좌개설 ==\n",
      "계좌번호 = 1234\n",
      "고객이름 = bbb\n",
      "예금금액 =30000\n",
      "=============\n",
      "계좌개설이 완료되었습니다.\n",
      "== Bank Menu ==\n",
      "1. 계좌개설\n",
      "2. 입금처리\n",
      "3. 출금처리\n",
      "4. 잔액조회\n",
      "5. 전체조회\n",
      "6. 작업종료\n",
      "===============\n",
      "menu =\n",
      "번호 입력 : 3\n",
      "== 출금처리 ==\n",
      "계좌번호 =1234\n",
      "입력한 계좌번호가 존재하지 않습니다.\n",
      "== Bank Menu ==\n",
      "1. 계좌개설\n",
      "2. 입금처리\n",
      "3. 출금처리\n",
      "4. 잔액조회\n",
      "5. 전체조회\n",
      "6. 작업종료\n",
      "===============\n",
      "menu =\n",
      "번호 입력 : bbb\n"
     ]
    },
    {
     "ename": "ValueError",
     "evalue": "invalid literal for int() with base 10: 'bbb'",
     "output_type": "error",
     "traceback": [
      "\u001b[1;31m---------------------------------------------------------------------------\u001b[0m",
      "\u001b[1;31mValueError\u001b[0m                                Traceback (most recent call last)",
      "\u001b[1;32m<ipython-input-25-d692e83a9aec>\u001b[0m in \u001b[0;36m<module>\u001b[1;34m\u001b[0m\n\u001b[0;32m      5\u001b[0m \u001b[1;32mwhile\u001b[0m \u001b[1;32mTrue\u001b[0m \u001b[1;33m:\u001b[0m\u001b[1;33m\u001b[0m\u001b[1;33m\u001b[0m\u001b[0m\n\u001b[0;32m      6\u001b[0m     \u001b[0mMenu\u001b[0m\u001b[1;33m(\u001b[0m\u001b[1;33m)\u001b[0m\u001b[1;33m\u001b[0m\u001b[1;33m\u001b[0m\u001b[0m\n\u001b[1;32m----> 7\u001b[1;33m     \u001b[0mmenu\u001b[0m \u001b[1;33m=\u001b[0m \u001b[0mint\u001b[0m\u001b[1;33m(\u001b[0m\u001b[0minput\u001b[0m\u001b[1;33m(\u001b[0m\u001b[1;34m'번호 입력 : '\u001b[0m\u001b[1;33m)\u001b[0m\u001b[1;33m)\u001b[0m\u001b[1;33m\u001b[0m\u001b[1;33m\u001b[0m\u001b[0m\n\u001b[0m\u001b[0;32m      8\u001b[0m \u001b[1;33m\u001b[0m\u001b[0m\n\u001b[0;32m      9\u001b[0m     \u001b[1;32mif\u001b[0m \u001b[0mmenu\u001b[0m \u001b[1;33m==\u001b[0m \u001b[1;36m1\u001b[0m\u001b[1;33m:\u001b[0m\u001b[1;33m\u001b[0m\u001b[1;33m\u001b[0m\u001b[0m\n",
      "\u001b[1;31mValueError\u001b[0m: invalid literal for int() with base 10: 'bbb'"
     ]
    }
   ],
   "source": [
    "# 무한루프 생성\n",
    "while True :\n",
    "    Menu()\n",
    "    menu = int(input('번호 입력 : '))\n",
    "    \n",
    "    if menu == 1:\n",
    "        aclist = account()\n",
    "        aclists.append(aclist)\n",
    "    elif menu == 2:\n",
    "        income(aclists)\n",
    "    elif menu == 3:\n",
    "        out(aclists)\n",
    "    elif menu == 4:\n",
    "        check(aclists)\n",
    "    elif menu == 5:\n",
    "        allcheck(aclists)\n",
    "    elif menu == 6:\n",
    "        break\n",
    "    else :\n",
    "        print('잘 못 입력했습니다.')"
   ]
  }
 ],
 "metadata": {
  "kernelspec": {
   "display_name": "Python 3",
   "language": "python",
   "name": "python3"
  },
  "language_info": {
   "codemirror_mode": {
    "name": "ipython",
    "version": 3
   },
   "file_extension": ".py",
   "mimetype": "text/x-python",
   "name": "python",
   "nbconvert_exporter": "python",
   "pygments_lexer": "ipython3",
   "version": "3.8.8"
  },
  "toc": {
   "base_numbering": 1,
   "nav_menu": {},
   "number_sections": true,
   "sideBar": true,
   "skip_h1_title": false,
   "title_cell": "Table of Contents",
   "title_sidebar": "Contents",
   "toc_cell": false,
   "toc_position": {},
   "toc_section_display": true,
   "toc_window_display": false
  },
  "varInspector": {
   "cols": {
    "lenName": 16,
    "lenType": 16,
    "lenVar": 40
   },
   "kernels_config": {
    "python": {
     "delete_cmd_postfix": "",
     "delete_cmd_prefix": "del ",
     "library": "var_list.py",
     "varRefreshCmd": "print(var_dic_list())"
    },
    "r": {
     "delete_cmd_postfix": ") ",
     "delete_cmd_prefix": "rm(",
     "library": "var_list.r",
     "varRefreshCmd": "cat(var_dic_list()) "
    }
   },
   "types_to_exclude": [
    "module",
    "function",
    "builtin_function_or_method",
    "instance",
    "_Feature"
   ],
   "window_display": false
  }
 },
 "nbformat": 4,
 "nbformat_minor": 5
}
