{
 "cells": [
  {
   "cell_type": "markdown",
   "id": "99fa7365",
   "metadata": {},
   "source": [
    "# Numpy : Numerical Python의 줄임말\n",
    "  - 벡터 및 행렬 연산에 특화된 라이브러리\n",
    "  - array 단위로 데이터를 관리함\n",
    "  - 행렬(matrix)과 비슷함\n",
    "  - 리스트(list), 튜플(tuple), 사전(dictionary)에서 변환 가능\n",
    "  - panadas와 함께 데이터분석에 주로 사용됨"
   ]
  },
  {
   "cell_type": "markdown",
   "id": "f9d537bc",
   "metadata": {},
   "source": [
    "# 실습예제"
   ]
  },
  {
   "cell_type": "markdown",
   "id": "44dab1bb",
   "metadata": {},
   "source": [
    "## numpy 모듈 불러오기"
   ]
  },
  {
   "cell_type": "code",
   "execution_count": 1,
   "id": "c49b9836",
   "metadata": {},
   "outputs": [],
   "source": [
    "import numpy as np"
   ]
  },
  {
   "cell_type": "markdown",
   "id": "fa82190a",
   "metadata": {},
   "source": [
    "## Array 정의 및 사용하기\n",
    "- 넘파이 배열이라는 표현으로 주로 사용한다.\n",
    "- 자료구조 : ndarray 객체(Ndarray)"
   ]
  },
  {
   "cell_type": "code",
   "execution_count": 2,
   "id": "72f83725",
   "metadata": {},
   "outputs": [
    {
     "name": "stdout",
     "output_type": "stream",
     "text": [
      "[1 2 3 4 5]\n",
      "<class 'list'>\n",
      "<class 'numpy.ndarray'>\n"
     ]
    }
   ],
   "source": [
    "# 리스트\n",
    "data1 = [1, 2, 3, 4, 5]\n",
    "# 리스트를 1차원 넘파이 배열로 변환\n",
    "arr1 = np.array(data1)\n",
    "print(arr1)\n",
    "# type 객체의 자료형을 확인하는 함수\n",
    "print(type(data1))\n",
    "print(type(arr1))"
   ]
  },
  {
   "cell_type": "code",
   "execution_count": 3,
   "id": "777db9ce",
   "metadata": {},
   "outputs": [
    {
     "data": {
      "text/plain": [
       "(5,)"
      ]
     },
     "execution_count": 3,
     "metadata": {},
     "output_type": "execute_result"
    }
   ],
   "source": [
    "# 넘파이 배열의 형태(차원)\n",
    "arr1.shape"
   ]
  },
  {
   "cell_type": "code",
   "execution_count": 4,
   "id": "efbb8ad7",
   "metadata": {},
   "outputs": [
    {
     "name": "stdout",
     "output_type": "stream",
     "text": [
      "[[1 2 3]\n",
      " [4 5 6]]\n",
      "(2, 3)\n"
     ]
    }
   ],
   "source": [
    "# 2차원 리스트\n",
    "data2 = [[1,2,3],[4,5,6]]\n",
    "# 리스트를 넘파이 2차원 배열로 생성\n",
    "arr2 = np.array(data2)\n",
    "print(arr2)\n",
    "print(arr2.shape)"
   ]
  },
  {
   "cell_type": "code",
   "execution_count": 6,
   "id": "c85c8099",
   "metadata": {},
   "outputs": [
    {
     "name": "stdout",
     "output_type": "stream",
     "text": [
      "[[ 8 10 12]\n",
      " [14 16 18]]\n"
     ]
    }
   ],
   "source": [
    "arr1 = np.array([[1, 2, 3], [4, 5, 6]])\n",
    "arr2 = np.array([[7, 8, 9], [10, 11, 12]])\n",
    "# 벡터화연산 : 배열의 구성요소의 같은 위치끼리 연산을 수행\n",
    "print(arr1 + arr2)"
   ]
  },
  {
   "cell_type": "code",
   "execution_count": 7,
   "id": "0dcdaa6e",
   "metadata": {},
   "outputs": [
    {
     "data": {
      "text/plain": [
       "array([[ 1,  4,  9],\n",
       "       [16, 25, 36]])"
      ]
     },
     "execution_count": 7,
     "metadata": {},
     "output_type": "execute_result"
    }
   ],
   "source": [
    "arr1 ** 2"
   ]
  },
  {
   "cell_type": "markdown",
   "id": "c18000d0",
   "metadata": {},
   "source": [
    "numpy 자료형\n",
    "- 부호가 있는 정수 int(8, 16, 32, 64)\n",
    "- 부호가 없는 정수 unit(8, 16, 32, 64)\n",
    "- 실수 float(16, 32, 64, 128)\n",
    "- 복소수 complex(64, 128, 256)\n",
    "- 블리언 bool(True, False)\n",
    "- 문자열 string\n",
    "- 파이썬 오브젝트(객체) object\n",
    "- 유니코드 unicode_"
   ]
  },
  {
   "cell_type": "code",
   "execution_count": 9,
   "id": "02afb097",
   "metadata": {},
   "outputs": [
    {
     "name": "stdout",
     "output_type": "stream",
     "text": [
      "<class 'numpy.ndarray'>\n",
      "['홍길동' '장보고' '이순신']\n",
      "홍길동\n",
      "['hon' '장보고' '이순신']\n",
      "['kim' 'kim' 'kim']\n"
     ]
    }
   ],
   "source": [
    "names = np.array(['홍길동','장보고','이순신'])\n",
    "print(type(names))\n",
    "print(names)\n",
    "print(names[0])\n",
    "names[0] = 'hong'\n",
    "print(names)\n",
    "names[0:3] = 'kim'\n",
    "print(names)"
   ]
  },
  {
   "cell_type": "markdown",
   "id": "a52b6fe4",
   "metadata": {},
   "source": [
    "numpy 단순 배열 생성\n",
    "\n",
    "  - zeros, ones\n",
    "  - zeros_like, ones_like\n",
    "  - empty\n",
    "  - arange : python의 range()와 동일\n",
    "  - linspace, longspace"
   ]
  },
  {
   "cell_type": "code",
   "execution_count": 10,
   "id": "7798a2e9",
   "metadata": {},
   "outputs": [
    {
     "data": {
      "text/plain": [
       "array([0., 0., 0., 0., 0., 0., 0., 0., 0., 0.])"
      ]
     },
     "execution_count": 10,
     "metadata": {},
     "output_type": "execute_result"
    }
   ],
   "source": [
    "# 크기가 정해져 있괴 모든요소의 값이 0인 배열을 생성 zeros\n",
    "np.zeros(10)"
   ]
  },
  {
   "cell_type": "code",
   "execution_count": 11,
   "id": "40bc5dc3",
   "metadata": {},
   "outputs": [
    {
     "data": {
      "text/plain": [
       "array([[0., 0., 0., 0., 0.],\n",
       "       [0., 0., 0., 0., 0.],\n",
       "       [0., 0., 0., 0., 0.]])"
      ]
     },
     "execution_count": 11,
     "metadata": {},
     "output_type": "execute_result"
    }
   ],
   "source": [
    "np.zeros([3, 5])"
   ]
  },
  {
   "cell_type": "code",
   "execution_count": 12,
   "id": "bea8f5c8",
   "metadata": {},
   "outputs": [
    {
     "data": {
      "text/plain": [
       "array([1., 1., 1., 1., 1., 1., 1., 1., 1.])"
      ]
     },
     "execution_count": 12,
     "metadata": {},
     "output_type": "execute_result"
    }
   ],
   "source": [
    "# np.ones() 함수는 매개변수로 배열의 크기, 모든요소의 값이 1인 배열이 생성\n",
    "np.ones(9)"
   ]
  },
  {
   "cell_type": "code",
   "execution_count": 13,
   "id": "79681c6e",
   "metadata": {},
   "outputs": [
    {
     "data": {
      "text/plain": [
       "array([0, 1, 2, 3, 4, 5, 6, 7, 8, 9])"
      ]
     },
     "execution_count": 13,
     "metadata": {},
     "output_type": "execute_result"
    }
   ],
   "source": [
    "# np.arange() 순열\n",
    "np.arange(10)"
   ]
  },
  {
   "cell_type": "code",
   "execution_count": 14,
   "id": "12898ee5",
   "metadata": {},
   "outputs": [
    {
     "data": {
      "text/plain": [
       "array([3, 4, 5, 6, 7, 8, 9])"
      ]
     },
     "execution_count": 14,
     "metadata": {},
     "output_type": "execute_result"
    }
   ],
   "source": [
    "np.arange(3,10)"
   ]
  },
  {
   "cell_type": "markdown",
   "id": "ae0be527",
   "metadata": {},
   "source": [
    "**Array연산**\n",
    "- 벡터화 연산 : 배열을 구성하는 각 요소들의 같은 위치끼리 개별연산을 수행하는 기능\n",
    "- 브로드캐스팅 : 배열의 크기가 서로다른 배열연산 시 작은 크기의 배열이 큰 크기의 배열의 수에 맞춰서 계산을 수행하는 기능"
   ]
  },
  {
   "cell_type": "code",
   "execution_count": 15,
   "id": "5639cabc",
   "metadata": {},
   "outputs": [
    {
     "data": {
      "text/plain": [
       "array([[1, 2, 3],\n",
       "       [4, 5, 6]])"
      ]
     },
     "execution_count": 15,
     "metadata": {},
     "output_type": "execute_result"
    }
   ],
   "source": [
    "arr1 = np.array([[1,2,3],[4,5,6]])\n",
    "arr1"
   ]
  },
  {
   "cell_type": "code",
   "execution_count": 16,
   "id": "8e179614",
   "metadata": {},
   "outputs": [
    {
     "data": {
      "text/plain": [
       "(2, 3)"
      ]
     },
     "execution_count": 16,
     "metadata": {},
     "output_type": "execute_result"
    }
   ],
   "source": [
    "arr1.shape"
   ]
  },
  {
   "cell_type": "code",
   "execution_count": 22,
   "id": "959d2fff",
   "metadata": {},
   "outputs": [
    {
     "data": {
      "text/plain": [
       "array([[10, 11, 12],\n",
       "       [13, 14, 15],\n",
       "       [13, 14, 15]])"
      ]
     },
     "execution_count": 22,
     "metadata": {},
     "output_type": "execute_result"
    }
   ],
   "source": [
    "arr2 = np.array([[10, 11, 12], [13, 14, 15], [13, 14, 15]])\n",
    "arr2"
   ]
  },
  {
   "cell_type": "code",
   "execution_count": 18,
   "id": "e9af3d0d",
   "metadata": {},
   "outputs": [
    {
     "data": {
      "text/plain": [
       "(2, 3)"
      ]
     },
     "execution_count": 18,
     "metadata": {},
     "output_type": "execute_result"
    }
   ],
   "source": [
    "arr2.shape"
   ]
  },
  {
   "cell_type": "code",
   "execution_count": 19,
   "id": "eb0aabea",
   "metadata": {},
   "outputs": [
    {
     "data": {
      "text/plain": [
       "array([[11, 13, 15],\n",
       "       [17, 19, 21]])"
      ]
     },
     "execution_count": 19,
     "metadata": {},
     "output_type": "execute_result"
    }
   ],
   "source": [
    "# array 덧셈\n",
    "arr1 + arr2"
   ]
  },
  {
   "cell_type": "code",
   "execution_count": 20,
   "id": "7456f3b3",
   "metadata": {},
   "outputs": [
    {
     "data": {
      "text/plain": [
       "array([[-9, -9, -9],\n",
       "       [-9, -9, -9]])"
      ]
     },
     "execution_count": 20,
     "metadata": {},
     "output_type": "execute_result"
    }
   ],
   "source": [
    "arr1 - arr2"
   ]
  },
  {
   "cell_type": "code",
   "execution_count": 21,
   "id": "bed96395",
   "metadata": {},
   "outputs": [
    {
     "data": {
      "text/plain": [
       "array([[10, 22, 36],\n",
       "       [52, 70, 90]])"
      ]
     },
     "execution_count": 21,
     "metadata": {},
     "output_type": "execute_result"
    }
   ],
   "source": [
    "arr1 * arr2"
   ]
  },
  {
   "cell_type": "code",
   "execution_count": 25,
   "id": "b7ba6f66",
   "metadata": {},
   "outputs": [
    {
     "data": {
      "text/plain": [
       "array([[ 75,  81,  87],\n",
       "       [183, 198, 213]])"
      ]
     },
     "execution_count": 25,
     "metadata": {},
     "output_type": "execute_result"
    }
   ],
   "source": [
    "# 행렬곱 : a x b와 c x d, b=c\n",
    "np.dot(arr1, arr2)\n"
   ]
  },
  {
   "cell_type": "markdown",
   "id": "310a0f0c",
   "metadata": {},
   "source": [
    "**Array 인덱싱**"
   ]
  },
  {
   "cell_type": "code",
   "execution_count": 28,
   "id": "071ae627",
   "metadata": {},
   "outputs": [
    {
     "data": {
      "text/plain": [
       "array([0, 1, 2, 3, 4, 5, 6, 7, 8, 9])"
      ]
     },
     "execution_count": 28,
     "metadata": {},
     "output_type": "execute_result"
    }
   ],
   "source": [
    "arr1 = np.arange(10)\n",
    "arr1"
   ]
  },
  {
   "cell_type": "code",
   "execution_count": 31,
   "id": "9b6a020d",
   "metadata": {},
   "outputs": [
    {
     "name": "stdout",
     "output_type": "stream",
     "text": [
      "0\n",
      "3\n"
     ]
    }
   ],
   "source": [
    "# 0번째 요소\n",
    "print(arr1[0])\n",
    "print(arr1[3])"
   ]
  },
  {
   "cell_type": "code",
   "execution_count": 32,
   "id": "e048aa47",
   "metadata": {},
   "outputs": [
    {
     "name": "stdout",
     "output_type": "stream",
     "text": [
      "[3 4 5 6 7 8]\n",
      "[0 1 2 3 4 5 6 7 8 9]\n"
     ]
    }
   ],
   "source": [
    "# 3번째 요소부터 8번째 요소까지 출력\n",
    "print(arr1[3:9])\n",
    "# 전체\n",
    "print(arr1[:])"
   ]
  },
  {
   "cell_type": "code",
   "execution_count": 33,
   "id": "d3801f44",
   "metadata": {},
   "outputs": [
    {
     "data": {
      "text/plain": [
       "array([[ 1,  2,  3,  4],\n",
       "       [ 5,  6,  7,  8],\n",
       "       [ 9, 10, 11, 12]])"
      ]
     },
     "execution_count": 33,
     "metadata": {},
     "output_type": "execute_result"
    }
   ],
   "source": [
    "arr2 = np.array([[1,2,3,4],[5,6,7,8],[9,10,11,12]])\n",
    "arr2"
   ]
  },
  {
   "cell_type": "code",
   "execution_count": 34,
   "id": "84f31189",
   "metadata": {},
   "outputs": [
    {
     "data": {
      "text/plain": [
       "1"
      ]
     },
     "execution_count": 34,
     "metadata": {},
     "output_type": "execute_result"
    }
   ],
   "source": [
    "# 배열명[행, 열],, 배열명[행][열]\n",
    "arr2[0, 0]"
   ]
  },
  {
   "cell_type": "code",
   "execution_count": 35,
   "id": "144ea9b9",
   "metadata": {},
   "outputs": [
    {
     "data": {
      "text/plain": [
       "array([ 9, 10, 11, 12])"
      ]
     },
     "execution_count": 35,
     "metadata": {},
     "output_type": "execute_result"
    }
   ],
   "source": [
    "# 2행의 모든 요소 추출\n",
    "arr2[2, :]"
   ]
  },
  {
   "cell_type": "code",
   "execution_count": 36,
   "id": "83489c03",
   "metadata": {},
   "outputs": [
    {
     "data": {
      "text/plain": [
       "12"
      ]
     },
     "execution_count": 36,
     "metadata": {},
     "output_type": "execute_result"
    }
   ],
   "source": [
    "# 2행의 3번째 요소\n",
    "arr2[2, 3]"
   ]
  },
  {
   "cell_type": "code",
   "execution_count": 37,
   "id": "ffc4ce99",
   "metadata": {},
   "outputs": [
    {
     "data": {
      "text/plain": [
       "array([ 4,  8, 12])"
      ]
     },
     "execution_count": 37,
     "metadata": {},
     "output_type": "execute_result"
    }
   ],
   "source": [
    "# 모든 행의 3번째 열의 요소 추출\n",
    "arr2[:,3]"
   ]
  },
  {
   "cell_type": "markdown",
   "id": "b44b8182",
   "metadata": {},
   "source": [
    "**Array의 Boolearn Indexing(Mask bit)**"
   ]
  },
  {
   "cell_type": "code",
   "execution_count": 45,
   "id": "0d970364",
   "metadata": {},
   "outputs": [],
   "source": [
    "names = np.array(['Alice', 'Bob', 'Alice', 'Alice', 'Eve', 'Frank', 'Grace', 'Hannah'])"
   ]
  },
  {
   "cell_type": "code",
   "execution_count": 39,
   "id": "53e22503",
   "metadata": {},
   "outputs": [
    {
     "data": {
      "text/plain": [
       "(8,)"
      ]
     },
     "execution_count": 39,
     "metadata": {},
     "output_type": "execute_result"
    }
   ],
   "source": [
    "names.shape"
   ]
  },
  {
   "cell_type": "code",
   "execution_count": 43,
   "id": "64f70dc0",
   "metadata": {},
   "outputs": [
    {
     "data": {
      "text/plain": [
       "array([[-0.51718226, -0.24044068,  0.44682198,  0.52208999],\n",
       "       [ 0.53969337, -0.4194283 ,  0.98910638,  0.02625153],\n",
       "       [ 0.95162483, -0.3879608 ,  0.86708201,  0.9257627 ],\n",
       "       [-1.30362937,  0.64883145, -2.64656565, -2.78912682],\n",
       "       [ 1.37379093,  0.67654799,  0.50057973,  0.22009432],\n",
       "       [-0.38853985,  0.17784182,  1.20139587,  1.22356593],\n",
       "       [-0.78751122, -0.02446063,  0.67451769,  0.71558367],\n",
       "       [-1.14886714, -1.00884079, -0.04249205,  0.88951945]])"
      ]
     },
     "execution_count": 43,
     "metadata": {},
     "output_type": "execute_result"
    }
   ],
   "source": [
    "# 정규분포 난수 : 평균 0, 표준편차 1인\n",
    "data = np.random.randn(8, 4)\n",
    "data"
   ]
  },
  {
   "cell_type": "code",
   "execution_count": 46,
   "id": "722d6ff1",
   "metadata": {},
   "outputs": [
    {
     "data": {
      "text/plain": [
       "array([ True, False,  True,  True, False, False, False, False])"
      ]
     },
     "execution_count": 46,
     "metadata": {},
     "output_type": "execute_result"
    }
   ],
   "source": [
    "# 벡터화 연산\n",
    "mask = names == 'Alice'\n",
    "mask"
   ]
  },
  {
   "cell_type": "code",
   "execution_count": 53,
   "id": "d69080d9",
   "metadata": {},
   "outputs": [
    {
     "data": {
      "text/plain": [
       "array([[-0.51718226, -0.24044068,  0.44682198,  0.52208999],\n",
       "       [ 0.95162483, -0.3879608 ,  0.86708201,  0.9257627 ],\n",
       "       [-1.30362937,  0.64883145, -2.64656565, -2.78912682]])"
      ]
     },
     "execution_count": 53,
     "metadata": {},
     "output_type": "execute_result"
    }
   ],
   "source": [
    "data[names == 'Alice', :]"
   ]
  },
  {
   "cell_type": "code",
   "execution_count": 54,
   "id": "81b0b044",
   "metadata": {},
   "outputs": [
    {
     "data": {
      "text/plain": [
       "array([False,  True,  True, False,  True, False, False, False])"
      ]
     },
     "execution_count": 54,
     "metadata": {},
     "output_type": "execute_result"
    }
   ],
   "source": [
    "data[:, 0] > 0"
   ]
  },
  {
   "cell_type": "code",
   "execution_count": 55,
   "id": "6604269a",
   "metadata": {},
   "outputs": [
    {
     "data": {
      "text/plain": [
       "array([[ 0.53969337, -0.4194283 ,  0.98910638,  0.02625153],\n",
       "       [ 0.95162483, -0.3879608 ,  0.86708201,  0.9257627 ],\n",
       "       [ 1.37379093,  0.67654799,  0.50057973,  0.22009432]])"
      ]
     },
     "execution_count": 55,
     "metadata": {},
     "output_type": "execute_result"
    }
   ],
   "source": [
    "data[data[:,0]>0,:]"
   ]
  },
  {
   "cell_type": "code",
   "execution_count": 58,
   "id": "352ecf61",
   "metadata": {},
   "outputs": [
    {
     "data": {
      "text/plain": [
       "array([[ 0.44682198,  0.52208999],\n",
       "       [-2.64656565, -2.78912682],\n",
       "       [ 1.20139587,  1.22356593],\n",
       "       [ 0.67451769,  0.71558367],\n",
       "       [-0.04249205,  0.88951945]])"
      ]
     },
     "execution_count": 58,
     "metadata": {},
     "output_type": "execute_result"
    }
   ],
   "source": [
    "# 0번째 열의 값이 0보다 작은 행의 2,3번째 열 값을 추출\n",
    "data[data[:,0]<0,2:4]"
   ]
  },
  {
   "cell_type": "code",
   "execution_count": 59,
   "id": "d13855cb",
   "metadata": {},
   "outputs": [
    {
     "data": {
      "text/plain": [
       "array([[-0.51718226, -0.24044068,  0.        ,  0.        ],\n",
       "       [ 0.53969337, -0.4194283 ,  0.98910638,  0.02625153],\n",
       "       [ 0.95162483, -0.3879608 ,  0.86708201,  0.9257627 ],\n",
       "       [-1.30362937,  0.64883145,  0.        ,  0.        ],\n",
       "       [ 1.37379093,  0.67654799,  0.50057973,  0.22009432],\n",
       "       [-0.38853985,  0.17784182,  0.        ,  0.        ],\n",
       "       [-0.78751122, -0.02446063,  0.        ,  0.        ],\n",
       "       [-1.14886714, -1.00884079,  0.        ,  0.        ]])"
      ]
     },
     "execution_count": 59,
     "metadata": {},
     "output_type": "execute_result"
    }
   ],
   "source": [
    "# 0번째 열의 값이 0보다 작은 행의 2, 3번째 열 값으로 0으로\\\n",
    "data[data[:,0]<0,2:4] = 0\n",
    "data"
   ]
  },
  {
   "cell_type": "code",
   "execution_count": 60,
   "id": "e513d3b3",
   "metadata": {},
   "outputs": [
    {
     "data": {
      "text/plain": [
       "32"
      ]
     },
     "execution_count": 60,
     "metadata": {},
     "output_type": "execute_result"
    }
   ],
   "source": [
    "# 요소의 갯수를 추출하는 속성 : size\n",
    "data.size"
   ]
  },
  {
   "cell_type": "code",
   "execution_count": 62,
   "id": "f0bf1394",
   "metadata": {},
   "outputs": [
    {
     "data": {
      "text/plain": [
       "array([0, 1, 2, 3, 4, 5, 6, 7, 8, 9])"
      ]
     },
     "execution_count": 62,
     "metadata": {},
     "output_type": "execute_result"
    }
   ],
   "source": [
    "# 배열의 형태 변환 : reshape()\n",
    "arr1 = np.arange(10)\n",
    "arr1"
   ]
  },
  {
   "cell_type": "code",
   "execution_count": 63,
   "id": "9090d66d",
   "metadata": {},
   "outputs": [
    {
     "data": {
      "text/plain": [
       "1"
      ]
     },
     "execution_count": 63,
     "metadata": {},
     "output_type": "execute_result"
    }
   ],
   "source": [
    "arr1[1]"
   ]
  },
  {
   "cell_type": "code",
   "execution_count": 66,
   "id": "b5f3bb00",
   "metadata": {},
   "outputs": [
    {
     "data": {
      "text/plain": [
       "array([[0, 1, 2],\n",
       "       [3, 4, 5],\n",
       "       [6, 7, 8]])"
      ]
     },
     "execution_count": 66,
     "metadata": {},
     "output_type": "execute_result"
    }
   ],
   "source": [
    "arr2 = np.arange(9).reshape(3,3)\n",
    "arr2"
   ]
  },
  {
   "cell_type": "code",
   "execution_count": 69,
   "id": "e861e013",
   "metadata": {},
   "outputs": [
    {
     "data": {
      "text/plain": [
       "7"
      ]
     },
     "execution_count": 69,
     "metadata": {},
     "output_type": "execute_result"
    }
   ],
   "source": [
    "arr2[2,1]"
   ]
  },
  {
   "cell_type": "code",
   "execution_count": 70,
   "id": "63bc61cd",
   "metadata": {},
   "outputs": [],
   "source": [
    "arr3 = np.reshape(np.arange(24), (2, 3, 4))"
   ]
  },
  {
   "cell_type": "code",
   "execution_count": 71,
   "id": "d32a8a4a",
   "metadata": {},
   "outputs": [
    {
     "data": {
      "text/plain": [
       "array([[[ 0,  1,  2,  3],\n",
       "        [ 4,  5,  6,  7],\n",
       "        [ 8,  9, 10, 11]],\n",
       "\n",
       "       [[12, 13, 14, 15],\n",
       "        [16, 17, 18, 19],\n",
       "        [20, 21, 22, 23]]])"
      ]
     },
     "execution_count": 71,
     "metadata": {},
     "output_type": "execute_result"
    }
   ],
   "source": [
    "arr3"
   ]
  },
  {
   "cell_type": "code",
   "execution_count": 72,
   "id": "492927e9",
   "metadata": {},
   "outputs": [
    {
     "data": {
      "text/plain": [
       "18"
      ]
     },
     "execution_count": 72,
     "metadata": {},
     "output_type": "execute_result"
    }
   ],
   "source": [
    "arr3[1,1,2]"
   ]
  },
  {
   "cell_type": "code",
   "execution_count": 73,
   "id": "b299b274",
   "metadata": {},
   "outputs": [
    {
     "data": {
      "text/plain": [
       "23"
      ]
     },
     "execution_count": 73,
     "metadata": {},
     "output_type": "execute_result"
    }
   ],
   "source": [
    "arr3[1][2][3]"
   ]
  },
  {
   "cell_type": "markdown",
   "id": "18a3d358",
   "metadata": {},
   "source": [
    "**slicing(슬라이싱) : 데이터 일부분을 추출**\n",
    "- 모든 배열은 항상 원본 배열의 뷰(view)이다.\n",
    "- 뷰(view)는 원본 객체를 인덱싱하여 자른 후 생성된 배열을 뜻한다.\n",
    "- 데이터베이스(Oracle)의 뷰(view)는 원본에서부터 유도된 가상테이블이다."
   ]
  },
  {
   "cell_type": "code",
   "execution_count": 74,
   "id": "e27b9071",
   "metadata": {},
   "outputs": [
    {
     "data": {
      "text/plain": [
       "array([0, 1, 2, 3, 4, 5, 6, 7, 8, 9])"
      ]
     },
     "execution_count": 74,
     "metadata": {},
     "output_type": "execute_result"
    }
   ],
   "source": [
    "arr1"
   ]
  },
  {
   "cell_type": "code",
   "execution_count": 75,
   "id": "f144831a",
   "metadata": {},
   "outputs": [
    {
     "data": {
      "text/plain": [
       "array([0, 1, 2, 3, 4, 5])"
      ]
     },
     "execution_count": 75,
     "metadata": {},
     "output_type": "execute_result"
    }
   ],
   "source": [
    "arr1[:6]"
   ]
  },
  {
   "cell_type": "code",
   "execution_count": 76,
   "id": "f412edc1",
   "metadata": {},
   "outputs": [
    {
     "data": {
      "text/plain": [
       "array([1, 3, 5, 7, 9])"
      ]
     },
     "execution_count": 76,
     "metadata": {},
     "output_type": "execute_result"
    }
   ],
   "source": [
    "arr1[1::2]"
   ]
  },
  {
   "cell_type": "code",
   "execution_count": 77,
   "id": "907e8c83",
   "metadata": {},
   "outputs": [
    {
     "data": {
      "text/plain": [
       "array([1, 3, 5])"
      ]
     },
     "execution_count": 77,
     "metadata": {},
     "output_type": "execute_result"
    }
   ],
   "source": [
    "arr1[1:7:2]"
   ]
  },
  {
   "cell_type": "code",
   "execution_count": 78,
   "id": "a193cf65",
   "metadata": {},
   "outputs": [
    {
     "data": {
      "text/plain": [
       "array([0, 2, 4, 6, 8])"
      ]
     },
     "execution_count": 78,
     "metadata": {},
     "output_type": "execute_result"
    }
   ],
   "source": [
    "arr1[::2]"
   ]
  },
  {
   "cell_type": "code",
   "execution_count": 80,
   "id": "7e6e6d76",
   "metadata": {},
   "outputs": [
    {
     "data": {
      "text/plain": [
       "array([7, 8])"
      ]
     },
     "execution_count": 80,
     "metadata": {},
     "output_type": "execute_result"
    }
   ],
   "source": [
    "# 리버스 인덱스는 배열의 뒤에서부터 인덱스 값이 -1로 시작되는 인덱스\n",
    "arr1[-3:9]"
   ]
  },
  {
   "cell_type": "code",
   "execution_count": 81,
   "id": "1246cfc0",
   "metadata": {},
   "outputs": [
    {
     "data": {
      "text/plain": [
       "array([0, 1, 2, 3, 4, 5, 6])"
      ]
     },
     "execution_count": 81,
     "metadata": {},
     "output_type": "execute_result"
    }
   ],
   "source": [
    "arr1[:-3]"
   ]
  },
  {
   "cell_type": "code",
   "execution_count": 82,
   "id": "d9e6c68f",
   "metadata": {},
   "outputs": [
    {
     "data": {
      "text/plain": [
       "array([[0, 1, 2],\n",
       "       [3, 4, 5],\n",
       "       [6, 7, 8]])"
      ]
     },
     "execution_count": 82,
     "metadata": {},
     "output_type": "execute_result"
    }
   ],
   "source": [
    "arr2"
   ]
  },
  {
   "cell_type": "code",
   "execution_count": 85,
   "id": "b3e0caca",
   "metadata": {},
   "outputs": [
    {
     "data": {
      "text/plain": [
       "array([[0, 1],\n",
       "       [3, 4]])"
      ]
     },
     "execution_count": 85,
     "metadata": {},
     "output_type": "execute_result"
    }
   ],
   "source": [
    "arr2[:2, :2]"
   ]
  },
  {
   "cell_type": "code",
   "execution_count": 86,
   "id": "887b1868",
   "metadata": {},
   "outputs": [
    {
     "data": {
      "text/plain": [
       "array([[2, 1, 0],\n",
       "       [5, 4, 3],\n",
       "       [8, 7, 6]])"
      ]
     },
     "execution_count": 86,
     "metadata": {},
     "output_type": "execute_result"
    }
   ],
   "source": [
    "arr2[:,::-1]"
   ]
  },
  {
   "cell_type": "markdown",
   "id": "15849d08",
   "metadata": {},
   "source": [
    "## Numpy 기술 통계 관련 함수\n",
    "- 간단한 통계를 계산할 때 사용하는 함수\n",
    "- 데이터의 개수(count)\n",
    "- 평균(mean, average)\n",
    "- 분산(varalance)\n",
    "- 표준편차(std, standard deviation)\n",
    "- 최대값(max, maximum)\n",
    "- 최소값(min,minimum)\n",
    "- 중앙값(median) : 짝수일 경우 가운데 두 개의 숫자의 합을 2로 나눈 결과\n",
    "- 사분위수(quantile)"
   ]
  },
  {
   "cell_type": "markdown",
   "id": "c27beb56",
   "metadata": {},
   "source": [
    "## 집계 함수(Aggregate Function)\n",
    "- numpy의 모든 집계 함수는 axis를 기준으로 계산된다.\n",
    "- 집계함수에 axis를 지정하지 않으면 axis=None이다.\n",
    "- axis = None, 0, 1이다.\n",
    "- aixs = None : 전체 행렬을 하나의 배열로 간주하여 범위 전체를 대상으로 계산\n",
    "- axis = 0 : 행을 기준으로 각 행의 동일한 인덱스의 요소를 그룹으로 계산(열단위 계산)\n",
    "- axis = 1 : 열을 기준으로 각 열의 같은 인덱스의 요소를 그룹으로 계산(행단위 계산)"
   ]
  },
  {
   "cell_type": "code",
   "execution_count": 87,
   "id": "b2e70946",
   "metadata": {},
   "outputs": [
    {
     "name": "stdout",
     "output_type": "stream",
     "text": [
      "[[1 2 3]\n",
      " [4 5 6]\n",
      " [7 8 9]]\n"
     ]
    }
   ],
   "source": [
    "a = np.arange(1, 10).reshape(3, 3)\n",
    "print(a)"
   ]
  },
  {
   "cell_type": "markdown",
   "id": "1e06b94c",
   "metadata": {},
   "source": [
    "**수업에 사용할 함수 정의**"
   ]
  },
  {
   "cell_type": "code",
   "execution_count": 88,
   "id": "b3c3ecff",
   "metadata": {},
   "outputs": [],
   "source": [
    "def pprint(arr):\n",
    "    print(\"type : {}\".format(type(arr)))\n",
    "    print('shape : {}, dimension : {}, dtype:{}'.format(arr.shape, arr.ndim, arr.dtype))\n",
    "    print(\"Array's Data : \\n\", arr)"
   ]
  },
  {
   "cell_type": "code",
   "execution_count": 89,
   "id": "64f7517b",
   "metadata": {},
   "outputs": [
    {
     "name": "stdout",
     "output_type": "stream",
     "text": [
      "type : <class 'numpy.ndarray'>\n",
      "shape : (3, 3), dimension : 2, dtype:int32\n",
      "Array's Data : \n",
      " [[1 2 3]\n",
      " [4 5 6]\n",
      " [7 8 9]]\n"
     ]
    }
   ],
   "source": [
    "pprint(a)"
   ]
  },
  {
   "cell_type": "code",
   "execution_count": 90,
   "id": "f5de5025",
   "metadata": {},
   "outputs": [
    {
     "data": {
      "text/plain": [
       "(45, 45)"
      ]
     },
     "execution_count": 90,
     "metadata": {},
     "output_type": "execute_result"
    }
   ],
   "source": [
    "# ndarray 배열객체.함수()\n",
    "# np.함수(객체)\n",
    "a.sum(), np.sum(a)"
   ]
  },
  {
   "cell_type": "code",
   "execution_count": 91,
   "id": "54de8670",
   "metadata": {},
   "outputs": [
    {
     "data": {
      "text/plain": [
       "(array([12, 15, 18]), array([12, 15, 18]))"
      ]
     },
     "execution_count": 91,
     "metadata": {},
     "output_type": "execute_result"
    }
   ],
   "source": [
    "# 열단위로 계산\n",
    "a.sum(axis=0), np.sum(a, axis=0)"
   ]
  },
  {
   "cell_type": "code",
   "execution_count": 92,
   "id": "227285d4",
   "metadata": {},
   "outputs": [
    {
     "data": {
      "text/plain": [
       "(array([ 6, 15, 24]), array([ 6, 15, 24]))"
      ]
     },
     "execution_count": 92,
     "metadata": {},
     "output_type": "execute_result"
    }
   ],
   "source": [
    "# 행단위로 계산\n",
    "a.sum(axis=1), np.sum(a, axis=1)"
   ]
  },
  {
   "cell_type": "code",
   "execution_count": 93,
   "id": "2677851b",
   "metadata": {},
   "outputs": [
    {
     "data": {
      "text/plain": [
       "(1, 1)"
      ]
     },
     "execution_count": 93,
     "metadata": {},
     "output_type": "execute_result"
    }
   ],
   "source": [
    "# axis=None, 전체 요소를 대상으로 계산\n",
    "a.min(), np.min(a)"
   ]
  },
  {
   "cell_type": "code",
   "execution_count": 94,
   "id": "7306dab6",
   "metadata": {},
   "outputs": [
    {
     "data": {
      "text/plain": [
       "(array([1, 2, 3]), array([1, 2, 3]))"
      ]
     },
     "execution_count": 94,
     "metadata": {},
     "output_type": "execute_result"
    }
   ],
   "source": [
    "# 열단위 계산\n",
    "a.min(axis=0), np.min(a, axis=0)"
   ]
  },
  {
   "cell_type": "code",
   "execution_count": 95,
   "id": "fbec33c2",
   "metadata": {},
   "outputs": [
    {
     "data": {
      "text/plain": [
       "(array([1, 4, 7]), array([1, 4, 7]))"
      ]
     },
     "execution_count": 95,
     "metadata": {},
     "output_type": "execute_result"
    }
   ],
   "source": [
    "# 행단위 계산\n",
    "a.min(axis=1), np.min(a, axis=1)"
   ]
  },
  {
   "cell_type": "markdown",
   "id": "c9b3b14e",
   "metadata": {},
   "source": [
    "**ndarray객체.max() or np.max(객체)**"
   ]
  },
  {
   "cell_type": "code",
   "execution_count": 96,
   "id": "d6d779f8",
   "metadata": {},
   "outputs": [
    {
     "data": {
      "text/plain": [
       "(9, 9)"
      ]
     },
     "execution_count": 96,
     "metadata": {},
     "output_type": "execute_result"
    }
   ],
   "source": [
    "# 전체 요소를 대상\n",
    "a.max(), np.max(a)"
   ]
  },
  {
   "cell_type": "code",
   "execution_count": 97,
   "id": "b5c0841b",
   "metadata": {},
   "outputs": [
    {
     "data": {
      "text/plain": [
       "(array([7, 8, 9]), array([7, 8, 9]))"
      ]
     },
     "execution_count": 97,
     "metadata": {},
     "output_type": "execute_result"
    }
   ],
   "source": [
    "a.max(axis=0), np.max(a, axis=0)"
   ]
  },
  {
   "cell_type": "code",
   "execution_count": 98,
   "id": "dad90d5f",
   "metadata": {},
   "outputs": [
    {
     "data": {
      "text/plain": [
       "(array([3, 6, 9]), array([3, 6, 9]))"
      ]
     },
     "execution_count": 98,
     "metadata": {},
     "output_type": "execute_result"
    }
   ],
   "source": [
    "a.max(axis=1), np.max(a, axis=1)"
   ]
  },
  {
   "cell_type": "markdown",
   "id": "35a25c83",
   "metadata": {},
   "source": [
    "**ndarray객체.cumsum(), np.cumsum() : 누적합계**"
   ]
  },
  {
   "cell_type": "code",
   "execution_count": 101,
   "id": "2e1914af",
   "metadata": {},
   "outputs": [
    {
     "data": {
      "text/plain": [
       "(array([ 1,  3,  6, 10, 15, 21, 28, 36, 45]),\n",
       " array([ 1,  3,  6, 10, 15, 21, 28, 36, 45]))"
      ]
     },
     "execution_count": 101,
     "metadata": {},
     "output_type": "execute_result"
    }
   ],
   "source": [
    "a.cumsum(), np.cumsum(a)"
   ]
  },
  {
   "cell_type": "code",
   "execution_count": 102,
   "id": "3545efdb",
   "metadata": {},
   "outputs": [
    {
     "data": {
      "text/plain": [
       "(array([ 1,  3,  6, 10, 15, 21, 28, 36, 45]),\n",
       " array([[ 1,  2,  3],\n",
       "        [ 5,  7,  9],\n",
       "        [12, 15, 18]]))"
      ]
     },
     "execution_count": 102,
     "metadata": {},
     "output_type": "execute_result"
    }
   ],
   "source": [
    "# 열단위 계산\n",
    "a.cumsum(), np.cumsum(a, axis=0)"
   ]
  },
  {
   "cell_type": "markdown",
   "id": "19552ea2",
   "metadata": {},
   "source": [
    "**ndarray.mean(), np.mean() : 평균**"
   ]
  },
  {
   "cell_type": "markdown",
   "id": "64b5496b",
   "metadata": {},
   "source": [
    "**ndarray.median() : 중앙값**"
   ]
  },
  {
   "cell_type": "markdown",
   "id": "7679769f",
   "metadata": {},
   "source": [
    "**np.corrcoef() : 상관계수, correlation coeficient**"
   ]
  },
  {
   "cell_type": "code",
   "execution_count": 109,
   "id": "58319498",
   "metadata": {},
   "outputs": [
    {
     "data": {
      "text/plain": [
       "array([[1., 1., 1.],\n",
       "       [1., 1., 1.],\n",
       "       [1., 1., 1.]])"
      ]
     },
     "execution_count": 109,
     "metadata": {},
     "output_type": "execute_result"
    }
   ],
   "source": [
    "np.corrcoef(a)"
   ]
  },
  {
   "cell_type": "code",
   "execution_count": 107,
   "id": "d268089e",
   "metadata": {},
   "outputs": [
    {
     "data": {
      "text/plain": [
       "array([[0, 1, 2],\n",
       "       [3, 4, 5],\n",
       "       [6, 7, 8]])"
      ]
     },
     "execution_count": 107,
     "metadata": {},
     "output_type": "execute_result"
    }
   ],
   "source": []
  },
  {
   "cell_type": "markdown",
   "id": "56a85492",
   "metadata": {},
   "source": [
    "## 난수 기반 배열 생성\n",
    "\n",
    "- numpy.random 모듈 이용"
   ]
  },
  {
   "cell_type": "markdown",
   "id": "cd824530",
   "metadata": {},
   "source": [
    "**np.random.normal**\n",
    "- normal(loc=0.0, sclae=1.0, size=None)\n",
    "- 정규 분포 확률 밀도에서 표본 추출 함수\n",
    "- loc : 정규분포의 평균\n",
    "- scale : 표준편차"
   ]
  },
  {
   "cell_type": "code",
   "execution_count": 188,
   "id": "640c30e2",
   "metadata": {},
   "outputs": [
    {
     "name": "stdout",
     "output_type": "stream",
     "text": [
      "type : <class 'numpy.ndarray'>\n",
      "shape : (2, 3), dimension : 2, dtype:float64\n",
      "Array's Data : \n",
      " [[ 0.87081922 -2.26361236  1.24221534]\n",
      " [-0.78598178 -2.01761827 -1.32407105]]\n"
     ]
    }
   ],
   "source": [
    "mean = 0\n",
    "std = 1\n",
    "a = np.random.normal(mean, std, (2,3))\n",
    "pprint(a)"
   ]
  },
  {
   "cell_type": "code",
   "execution_count": 190,
   "id": "6efb0bab",
   "metadata": {},
   "outputs": [
    {
     "data": {
      "text/plain": [
       "(array([  1.,   0.,   0.,   0.,   1.,   4.,   2.,   0.,   1.,   1.,   0.,\n",
       "          3.,   1.,   3.,   5.,  10.,   5.,  10.,  16.,  16.,  21.,  39.,\n",
       "         36.,  42.,  48.,  56.,  51.,  56.,  77.,  77., 112.,  91., 124.,\n",
       "        125., 153., 175., 183., 196., 225., 217., 234., 257., 274., 302.,\n",
       "        286., 274., 273., 319., 281., 318., 322., 336., 312., 313., 314.,\n",
       "        273., 283., 269., 250., 226., 200., 199., 197., 195., 171., 164.,\n",
       "        139., 100., 110.,  93.,  92.,  71.,  77.,  49.,  42.,  42.,  27.,\n",
       "         27.,  21.,  14.,  13.,  10.,   7.,   6.,   3.,  10.,   3.,   2.,\n",
       "          7.,   3.,   2.,   0.,   0.,   1.,   2.,   0.,   0.,   1.,   0.,\n",
       "          1.]),\n",
       " array([-3.97720868, -3.8974094 , -3.81761012, -3.73781084, -3.65801156,\n",
       "        -3.57821228, -3.498413  , -3.41861372, -3.33881445, -3.25901517,\n",
       "        -3.17921589, -3.09941661, -3.01961733, -2.93981805, -2.86001877,\n",
       "        -2.78021949, -2.70042022, -2.62062094, -2.54082166, -2.46102238,\n",
       "        -2.3812231 , -2.30142382, -2.22162454, -2.14182526, -2.06202599,\n",
       "        -1.98222671, -1.90242743, -1.82262815, -1.74282887, -1.66302959,\n",
       "        -1.58323031, -1.50343103, -1.42363175, -1.34383248, -1.2640332 ,\n",
       "        -1.18423392, -1.10443464, -1.02463536, -0.94483608, -0.8650368 ,\n",
       "        -0.78523752, -0.70543825, -0.62563897, -0.54583969, -0.46604041,\n",
       "        -0.38624113, -0.30644185, -0.22664257, -0.14684329, -0.06704401,\n",
       "         0.01275526,  0.09255454,  0.17235382,  0.2521531 ,  0.33195238,\n",
       "         0.41175166,  0.49155094,  0.57135022,  0.65114949,  0.73094877,\n",
       "         0.81074805,  0.89054733,  0.97034661,  1.05014589,  1.12994517,\n",
       "         1.20974445,  1.28954372,  1.369343  ,  1.44914228,  1.52894156,\n",
       "         1.60874084,  1.68854012,  1.7683394 ,  1.84813868,  1.92793796,\n",
       "         2.00773723,  2.08753651,  2.16733579,  2.24713507,  2.32693435,\n",
       "         2.40673363,  2.48653291,  2.56633219,  2.64613146,  2.72593074,\n",
       "         2.80573002,  2.8855293 ,  2.96532858,  3.04512786,  3.12492714,\n",
       "         3.20472642,  3.2845257 ,  3.36432497,  3.44412425,  3.52392353,\n",
       "         3.60372281,  3.68352209,  3.76332137,  3.84312065,  3.92291993,\n",
       "         4.0027192 ]),\n",
       " <BarContainer object of 100 artists>)"
      ]
     },
     "execution_count": 190,
     "metadata": {},
     "output_type": "execute_result"
    },
    {
     "data": {
      "image/png": "[encoded data removed]",
      "text/plain": [
       "<Figure size 640x480 with 1 Axes>"
      ]
     },
     "metadata": {},
     "output_type": "display_data"
    }
   ],
   "source": [
    "import matplotlib.pyplot as plt\n",
    "%matplotlib inline\n",
    "\n",
    "data = np.random.normal(0, 1, 10000)\n",
    "# 히스토그램, 100개의 구간으로 구분\n",
    "plt.hist(data, bins=100)\n"
   ]
  },
  {
   "cell_type": "markdown",
   "id": "c11cd8b8",
   "metadata": {},
   "source": [
    "**np.random.rand() : 균등분포, 0.0 ~ 1.0**"
   ]
  },
  {
   "cell_type": "code",
   "execution_count": 192,
   "id": "5ce10e23",
   "metadata": {},
   "outputs": [
    {
     "name": "stdout",
     "output_type": "stream",
     "text": [
      "type : <class 'numpy.ndarray'>\n",
      "shape : (3, 2), dimension : 2, dtype:float64\n",
      "Array's Data : \n",
      " [[0.67048075 0.09850752]\n",
      " [0.30910963 0.80586589]\n",
      " [0.34858449 0.01466639]]\n"
     ]
    }
   ],
   "source": [
    "a = np.random.rand(3,2)\n",
    "pprint(a)"
   ]
  },
  {
   "cell_type": "code",
   "execution_count": 193,
   "id": "d3e1f9b2",
   "metadata": {},
   "outputs": [
    {
     "data": {
      "image/png": "[encoded data removed]",
      "text/plain": [
       "<Figure size 640x480 with 1 Axes>"
      ]
     },
     "metadata": {},
     "output_type": "display_data"
    }
   ],
   "source": [
    "data = np.random.rand(10000)\n",
    "plt.hist(data, bins = 10)\n",
    "plt.show()"
   ]
  },
  {
   "cell_type": "markdown",
   "id": "41e7c362",
   "metadata": {},
   "source": [
    "**np.random.randn() : 표준 정규 분포**"
   ]
  },
  {
   "cell_type": "code",
   "execution_count": 194,
   "id": "89da4904",
   "metadata": {},
   "outputs": [
    {
     "name": "stdout",
     "output_type": "stream",
     "text": [
      "type : <class 'numpy.ndarray'>\n",
      "shape : (2, 4), dimension : 2, dtype:float64\n",
      "Array's Data : \n",
      " [[-0.15331681 -0.90783998 -1.4692385   0.83389175]\n",
      " [-0.13015098  1.91935874 -0.26372798 -0.16321774]]\n"
     ]
    }
   ],
   "source": [
    "a = np.random.randn(2, 4)\n",
    "pprint(a)"
   ]
  },
  {
   "cell_type": "code",
   "execution_count": 195,
   "id": "10fe0117",
   "metadata": {},
   "outputs": [
    {
     "data": {
      "image/png": "[encoded data removed]",
      "text/plain": [
       "<Figure size 640x480 with 1 Axes>"
      ]
     },
     "metadata": {},
     "output_type": "display_data"
    }
   ],
   "source": [
    "data = np.random.randn(10000)\n",
    "plt.hist(data, bins=10)\n",
    "plt.show()"
   ]
  },
  {
   "cell_type": "markdown",
   "id": "fb04c940",
   "metadata": {},
   "source": [
    "**np.random.randint(low, high, size, dyte ='i)**"
   ]
  },
  {
   "cell_type": "markdown",
   "id": "b7e9bf9a",
   "metadata": {},
   "source": [
    "**np.random.random(size) : 0.0~1.0 균등분포 난수**"
   ]
  },
  {
   "cell_type": "markdown",
   "id": "2c8575b1",
   "metadata": {},
   "source": [
    "**약속된 난수 : seed값**\n",
    "- np."
   ]
  },
  {
   "cell_type": "code",
   "execution_count": 198,
   "id": "eeb23852",
   "metadata": {},
   "outputs": [
    {
     "data": {
      "text/plain": [
       "array([[0.44870021, 0.5316913 , 0.18947697],\n",
       "       [0.53291299, 0.27692269, 0.20827523]])"
      ]
     },
     "execution_count": 198,
     "metadata": {},
     "output_type": "execute_result"
    }
   ],
   "source": [
    "np.random.random((2,3))"
   ]
  },
  {
   "cell_type": "code",
   "execution_count": 200,
   "id": "57fc4fc2",
   "metadata": {},
   "outputs": [
    {
     "data": {
      "text/plain": [
       "array([[1, 0, 9],\n",
       "       [2, 6, 9]])"
      ]
     },
     "execution_count": 200,
     "metadata": {},
     "output_type": "execute_result"
    }
   ],
   "source": [
    "np.random.randint(0, 10, (2,3))"
   ]
  },
  {
   "cell_type": "code",
   "execution_count": 201,
   "id": "1f029064",
   "metadata": {},
   "outputs": [
    {
     "data": {
      "text/plain": [
       "array([[5, 4, 9],\n",
       "       [2, 4, 4]])"
      ]
     },
     "execution_count": 201,
     "metadata": {},
     "output_type": "execute_result"
    }
   ],
   "source": [
    "np.random.randint(0, 10, (2,3))"
   ]
  },
  {
   "cell_type": "markdown",
   "id": "3d2ac0b8",
   "metadata": {},
   "source": [
    "## Numpy 입출력\n",
    "- Numpy는 배열 객체를 바이너리 파일 혹은 텍슽트 파일에 저장하고 로딩하는 기능을 제공한다.\n",
    "- np.save() : Numpy 배열 객체 1개를 파일에 저장, 바이너리 포멧\n",
    "- np.savez() : Numpy 배열 객체 복수 개를 파일에 저장, 바이너리 포멧\n",
    "- np.load() : Numpy 배열 저장 파일로부터 객체 로딩, 바이너리 포멧\n",
    "- np.loadtxt() : 텍스트 파일로부터 배열 로딩, 텍스트 포멧\n",
    "- np.savetxt() : 텍스트 파일에 Numpy 배열 객체 저장, 텍스트 포멧"
   ]
  },
  {
   "cell_type": "code",
   "execution_count": 202,
   "id": "d06cfd4f",
   "metadata": {
    "scrolled": false
   },
   "outputs": [
    {
     "name": "stdout",
     "output_type": "stream",
     "text": [
      "type : <class 'numpy.ndarray'>\n",
      "shape : (2, 3), dimension : 2, dtype:int32\n",
      "Array's Data : \n",
      " [[9 1 5]\n",
      " [5 3 9]]\n",
      "type : <class 'numpy.ndarray'>\n",
      "shape : (2, 3), dimension : 2, dtype:int32\n",
      "Array's Data : \n",
      " [[0 7 4]\n",
      " [5 2 3]]\n"
     ]
    }
   ],
   "source": [
    "a = np.random.randint(0, 10, (2,3))\n",
    "b = np.random.randint(0, 10, (2,3))\n",
    "pprint(a)\n",
    "pprint(b)"
   ]
  },
  {
   "cell_type": "markdown",
   "id": "ea038676",
   "metadata": {},
   "source": [
    "**배열 객체 저장**\n",
    "- np.save()와 np.savez() 함수를 이용\n",
    "- np.save : 1개 배열 저장, 확장자 : npy\n",
    "- np.savez : 복수개의 배열 저장, 확장자 : pnz\n",
    "- 배열에 저장되는 파일의 포멧을 바이너리 형태이다."
   ]
  },
  {
   "cell_type": "code",
   "execution_count": 203,
   "id": "6ea4d5fc",
   "metadata": {},
   "outputs": [],
   "source": [
    "# 1개 배열 파일을 저장\n",
    "np.save('./my_array1', a)"
   ]
  },
  {
   "cell_type": "code",
   "execution_count": 204,
   "id": "9e3b5793",
   "metadata": {},
   "outputs": [],
   "source": [
    "# 복수개의 배열 객체를 파일에 저장\n",
    "np.savez('my_array2', a, b)"
   ]
  },
  {
   "cell_type": "markdown",
   "id": "695b5faf",
   "metadata": {},
   "source": [
    "**파일로부터 배열 객체를 로딩**\n",
    "\n",
    "- npy, npz은 np.load() 함수로 읽어온다."
   ]
  },
  {
   "cell_type": "code",
   "execution_count": 205,
   "id": "e7a260d9",
   "metadata": {},
   "outputs": [
    {
     "data": {
      "text/plain": [
       "array([[9, 1, 5],\n",
       "       [5, 3, 9]])"
      ]
     },
     "execution_count": 205,
     "metadata": {},
     "output_type": "execute_result"
    }
   ],
   "source": [
    "np.load('my_array1.npy')"
   ]
  },
  {
   "cell_type": "code",
   "execution_count": 206,
   "id": "c286f699",
   "metadata": {},
   "outputs": [
    {
     "data": {
      "text/plain": [
       "['arr_0', 'arr_1']"
      ]
     },
     "execution_count": 206,
     "metadata": {},
     "output_type": "execute_result"
    }
   ],
   "source": [
    "file = np.load('my_array2.npz')\n",
    "file.files"
   ]
  },
  {
   "cell_type": "code",
   "execution_count": 207,
   "id": "60c8054f",
   "metadata": {},
   "outputs": [
    {
     "data": {
      "text/plain": [
       "array([[9, 1, 5],\n",
       "       [5, 3, 9]])"
      ]
     },
     "execution_count": 207,
     "metadata": {},
     "output_type": "execute_result"
    }
   ],
   "source": [
    "file['arr_0']"
   ]
  },
  {
   "cell_type": "markdown",
   "id": "b95b0f32",
   "metadata": {},
   "source": [
    "## 배열 변환\n",
    "- 전치(Transpose)\n",
    "- 배열 shape 변환 : reshape\n",
    "- 배열 요소 추가\n",
    "- 배열 결합\n",
    "- 배열 분리"
   ]
  },
  {
   "cell_type": "markdown",
   "id": "21f5a7bb",
   "metadata": {},
   "source": [
    "**np.ndarray 객체.T**"
   ]
  },
  {
   "cell_type": "code",
   "execution_count": 208,
   "id": "4ca079c7",
   "metadata": {},
   "outputs": [
    {
     "name": "stdout",
     "output_type": "stream",
     "text": [
      "type : <class 'numpy.ndarray'>\n",
      "shape : (2, 3), dimension : 2, dtype:int32\n",
      "Array's Data : \n",
      " [[1 3 1]\n",
      " [9 4 2]]\n"
     ]
    }
   ],
   "source": [
    "a = np.random.randint(1, 10, (2,3))\n",
    "pprint(a)"
   ]
  },
  {
   "cell_type": "code",
   "execution_count": 210,
   "id": "353df4eb",
   "metadata": {},
   "outputs": [
    {
     "name": "stdout",
     "output_type": "stream",
     "text": [
      "type : <class 'numpy.ndarray'>\n",
      "shape : (3, 2), dimension : 2, dtype:int32\n",
      "Array's Data : \n",
      " [[1 9]\n",
      " [3 4]\n",
      " [1 2]]\n"
     ]
    }
   ],
   "source": [
    "pprint(a.T)"
   ]
  },
  {
   "cell_type": "markdown",
   "id": "e3a36bc0",
   "metadata": {},
   "source": [
    "**배열 형태 변경**\n",
    "- ravel : shape을 1차원 배열로 만드는 메서드\n",
    "- reshape : 데이터 변경없이 지정된 shpae으로 변환하는 메서드"
   ]
  },
  {
   "cell_type": "code",
   "execution_count": 211,
   "id": "5ef5b38b",
   "metadata": {},
   "outputs": [
    {
     "name": "stdout",
     "output_type": "stream",
     "text": [
      "type : <class 'numpy.ndarray'>\n",
      "shape : (2, 3), dimension : 2, dtype:int32\n",
      "Array's Data : \n",
      " [[1 3 1]\n",
      " [9 4 2]]\n"
     ]
    }
   ],
   "source": [
    "pprint(a)"
   ]
  },
  {
   "cell_type": "code",
   "execution_count": 212,
   "id": "88042cde",
   "metadata": {},
   "outputs": [
    {
     "data": {
      "text/plain": [
       "array([1, 3, 1, 9, 4, 2])"
      ]
     },
     "execution_count": 212,
     "metadata": {},
     "output_type": "execute_result"
    }
   ],
   "source": [
    "a.ravel()"
   ]
  },
  {
   "cell_type": "code",
   "execution_count": 213,
   "id": "c30b69a7",
   "metadata": {},
   "outputs": [
    {
     "name": "stdout",
     "output_type": "stream",
     "text": [
      "type : <class 'numpy.ndarray'>\n",
      "shape : (6,), dimension : 1, dtype:int32\n",
      "Array's Data : \n",
      " [1 3 1 9 4 2]\n"
     ]
    }
   ],
   "source": [
    "b = a.ravel()\n",
    "pprint(b)"
   ]
  },
  {
   "cell_type": "code",
   "execution_count": 214,
   "id": "89f794e6",
   "metadata": {},
   "outputs": [
    {
     "name": "stdout",
     "output_type": "stream",
     "text": [
      "type : <class 'numpy.ndarray'>\n",
      "shape : (6,), dimension : 1, dtype:int32\n",
      "Array's Data : \n",
      " [99  3  1  9  4  2]\n"
     ]
    }
   ],
   "source": [
    "# 반환된 배열의 데이턱가 변경되면 원본도 변경된다.\n",
    "b[0] = 99\n",
    "pprint(b)"
   ]
  },
  {
   "cell_type": "code",
   "execution_count": 215,
   "id": "41239cd5",
   "metadata": {},
   "outputs": [
    {
     "name": "stdout",
     "output_type": "stream",
     "text": [
      "type : <class 'numpy.ndarray'>\n",
      "shape : (2, 3), dimension : 2, dtype:int32\n",
      "Array's Data : \n",
      " [[6 9 7]\n",
      " [1 1 4]]\n"
     ]
    }
   ],
   "source": [
    "a = np.random.randint(1, 10, (2,3))\n",
    "pprint(a)"
   ]
  },
  {
   "cell_type": "code",
   "execution_count": 216,
   "id": "b95e24de",
   "metadata": {},
   "outputs": [
    {
     "name": "stdout",
     "output_type": "stream",
     "text": [
      "type : <class 'numpy.ndarray'>\n",
      "shape : (3, 2, 1), dimension : 3, dtype:int32\n",
      "Array's Data : \n",
      " [[[6]\n",
      "  [9]]\n",
      "\n",
      " [[7]\n",
      "  [1]]\n",
      "\n",
      " [[1]\n",
      "  [4]]]\n"
     ]
    }
   ],
   "source": [
    "result = a.reshape((3,2,1))\n",
    "pprint(result)"
   ]
  },
  {
   "cell_type": "markdown",
   "id": "526a9a8a",
   "metadata": {},
   "source": [
    "**배열 요소 변경, 추가, 삽입 및 삭제는 resize, append, insert, delete 함수를 사용**\n",
    "- np.reshape와 np.resize 함수는 배열의 shape을 변경한다는 부분은 유사하다.\n",
    "- 차이점은 reshape은 배열 요소 수를 변경하지 않는다.\n",
    "- 반면, resize는 배열 오소 수를 줄이거나 늘리는 함수이다."
   ]
  },
  {
   "cell_type": "code",
   "execution_count": 219,
   "id": "70a73613",
   "metadata": {},
   "outputs": [
    {
     "name": "stdout",
     "output_type": "stream",
     "text": [
      "type : <class 'numpy.ndarray'>\n",
      "shape : (2, 6), dimension : 2, dtype:int32\n",
      "Array's Data : \n",
      " [[3 4 1 1 3 5]\n",
      " [1 8 6 7 1 3]]\n",
      "12\n"
     ]
    }
   ],
   "source": [
    "a = np.random.randint(1, 10, (2,6))\n",
    "pprint(a)\n",
    "print(a.size)"
   ]
  },
  {
   "cell_type": "code",
   "execution_count": 220,
   "id": "45bdd763",
   "metadata": {},
   "outputs": [
    {
     "name": "stdout",
     "output_type": "stream",
     "text": [
      "type : <class 'numpy.ndarray'>\n",
      "shape : (6, 2), dimension : 2, dtype:int32\n",
      "Array's Data : \n",
      " [[3 4]\n",
      " [1 1]\n",
      " [3 5]\n",
      " [1 8]\n",
      " [6 7]\n",
      " [1 3]]\n"
     ]
    }
   ],
   "source": [
    "a.resize((6,2))\n",
    "pprint(a)"
   ]
  },
  {
   "cell_type": "code",
   "execution_count": 221,
   "id": "e2a27ba8",
   "metadata": {},
   "outputs": [
    {
     "name": "stdout",
     "output_type": "stream",
     "text": [
      "type : <class 'numpy.ndarray'>\n",
      "shape : (2, 10), dimension : 2, dtype:int32\n",
      "Array's Data : \n",
      " [[3 4 1 1 3 5 1 8 6 7]\n",
      " [1 3 0 0 0 0 0 0 0 0]]\n"
     ]
    }
   ],
   "source": [
    "a.resize((2, 10))\n",
    "pprint(a) # 늘어난 요소는 0으로 채워진다."
   ]
  },
  {
   "cell_type": "code",
   "execution_count": 222,
   "id": "80565119",
   "metadata": {},
   "outputs": [
    {
     "name": "stdout",
     "output_type": "stream",
     "text": [
      "type : <class 'numpy.ndarray'>\n",
      "shape : (3, 3), dimension : 2, dtype:int32\n",
      "Array's Data : \n",
      " [[3 4 1]\n",
      " [1 3 5]\n",
      " [1 8 6]]\n"
     ]
    }
   ],
   "source": [
    "a.resize((3,3))\n",
    "pprint(a)"
   ]
  },
  {
   "cell_type": "markdown",
   "id": "62f047ba",
   "metadata": {},
   "source": [
    "**append(arr, values, axis=None) : 배열의 끝에 값을 추가**"
   ]
  },
  {
   "cell_type": "code",
   "execution_count": 224,
   "id": "4c7037a2",
   "metadata": {},
   "outputs": [
    {
     "name": "stdout",
     "output_type": "stream",
     "text": [
      "type : <class 'numpy.ndarray'>\n",
      "shape : (3, 3), dimension : 2, dtype:int32\n",
      "Array's Data : \n",
      " [[1 2 3]\n",
      " [4 5 6]\n",
      " [7 8 9]]\n",
      "type : <class 'numpy.ndarray'>\n",
      "shape : (3, 3), dimension : 2, dtype:int32\n",
      "Array's Data : \n",
      " [[10 11 12]\n",
      " [13 14 15]\n",
      " [16 17 18]]\n"
     ]
    }
   ],
   "source": [
    "a = np.arange(1,10).reshape(3,3)\n",
    "pprint(a)\n",
    "b = np.arange(10,19).reshape(3,3)\n",
    "pprint(b)"
   ]
  },
  {
   "cell_type": "code",
   "execution_count": 225,
   "id": "15cfd284",
   "metadata": {},
   "outputs": [
    {
     "name": "stdout",
     "output_type": "stream",
     "text": [
      "type : <class 'numpy.ndarray'>\n",
      "shape : (18,), dimension : 1, dtype:int32\n",
      "Array's Data : \n",
      " [ 1  2  3  4  5  6  7  8  9 10 11 12 13 14 15 16 17 18]\n"
     ]
    }
   ],
   "source": [
    "# axis를 지정하지 않으면 배열은 1차원 배열로 변형되어 결합된다.\n",
    "result = np.append(a,b)\n",
    "pprint(result)"
   ]
  },
  {
   "cell_type": "code",
   "execution_count": 226,
   "id": "e954d41c",
   "metadata": {},
   "outputs": [
    {
     "name": "stdout",
     "output_type": "stream",
     "text": [
      "type : <class 'numpy.ndarray'>\n",
      "shape : (3, 3), dimension : 2, dtype:int32\n",
      "Array's Data : \n",
      " [[1 2 3]\n",
      " [4 5 6]\n",
      " [7 8 9]]\n"
     ]
    }
   ],
   "source": [
    "pprint(a)"
   ]
  },
  {
   "cell_type": "code",
   "execution_count": 227,
   "id": "3412386d",
   "metadata": {},
   "outputs": [
    {
     "name": "stdout",
     "output_type": "stream",
     "text": [
      "type : <class 'numpy.ndarray'>\n",
      "shape : (6, 3), dimension : 2, dtype:int32\n",
      "Array's Data : \n",
      " [[ 1  2  3]\n",
      " [ 4  5  6]\n",
      " [ 7  8  9]\n",
      " [10 11 12]\n",
      " [13 14 15]\n",
      " [16 17 18]]\n"
     ]
    }
   ],
   "source": [
    "# axis=0지정\n",
    "result = np.append(a, b, axis=0)\n",
    "pprint(result)"
   ]
  },
  {
   "cell_type": "code",
   "execution_count": 228,
   "id": "5369fa0e",
   "metadata": {},
   "outputs": [
    {
     "name": "stdout",
     "output_type": "stream",
     "text": [
      "type : <class 'numpy.ndarray'>\n",
      "shape : (3, 6), dimension : 2, dtype:int32\n",
      "Array's Data : \n",
      " [[ 1  2  3 10 11 12]\n",
      " [ 4  5  6 13 14 15]\n",
      " [ 7  8  9 16 17 18]]\n"
     ]
    }
   ],
   "source": [
    "# axis=1지정\n",
    "result = np.append(a, b, axis=1)\n",
    "pprint(result)"
   ]
  },
  {
   "cell_type": "markdown",
   "id": "72fea63b",
   "metadata": {},
   "source": [
    "**insert(arr, obj, values, axis=None)**\n",
    "- axis를 지정하지 않으면 1차원 배열로 변환된다.\n",
    "- 추가할 방향을 axis로 지정한다."
   ]
  },
  {
   "cell_type": "code",
   "execution_count": 229,
   "id": "b28662a8",
   "metadata": {},
   "outputs": [
    {
     "name": "stdout",
     "output_type": "stream",
     "text": [
      "type : <class 'numpy.ndarray'>\n",
      "shape : (3, 3), dimension : 2, dtype:int32\n",
      "Array's Data : \n",
      " [[1 2 3]\n",
      " [4 5 6]\n",
      " [7 8 9]]\n"
     ]
    }
   ],
   "source": [
    "a = np.arange(1,10).reshape(3,3)\n",
    "pprint(a)"
   ]
  },
  {
   "cell_type": "code",
   "execution_count": 230,
   "id": "17c2fecc",
   "metadata": {},
   "outputs": [
    {
     "data": {
      "text/plain": [
       "array([  1, 999,   2,   3,   4,   5,   6,   7,   8,   9])"
      ]
     },
     "execution_count": 230,
     "metadata": {},
     "output_type": "execute_result"
    }
   ],
   "source": [
    "np.insert(a,1,999)"
   ]
  },
  {
   "cell_type": "code",
   "execution_count": 231,
   "id": "bc18e7aa",
   "metadata": {},
   "outputs": [
    {
     "data": {
      "text/plain": [
       "array([[  1,   2,   3],\n",
       "       [999, 999, 999],\n",
       "       [  4,   5,   6],\n",
       "       [  7,   8,   9]])"
      ]
     },
     "execution_count": 231,
     "metadata": {},
     "output_type": "execute_result"
    }
   ],
   "source": [
    "# a 배열의 axis는 0 방향으로 1번 인덱스에 추가하는 작업\n",
    "# index가 1인 row에 값을 999가 추가되도록\n",
    "np.insert(a, 1, 999, axis=0)"
   ]
  },
  {
   "cell_type": "markdown",
   "id": "db263795",
   "metadata": {},
   "source": [
    "**delete(arr, obj, axis=None)**\n",
    "- axis를 지정하지 않으면 1차원 배열로 변환\n",
    "- 삭제할 방향을 axis로 지정\n",
    "- delete 함수는 원본 배열을 변경하지 않으며 새로운 배열을 반환"
   ]
  },
  {
   "cell_type": "code",
   "execution_count": 232,
   "id": "dc43a704",
   "metadata": {},
   "outputs": [
    {
     "name": "stdout",
     "output_type": "stream",
     "text": [
      "type : <class 'numpy.ndarray'>\n",
      "shape : (3, 3), dimension : 2, dtype:int32\n",
      "Array's Data : \n",
      " [[1 2 3]\n",
      " [4 5 6]\n",
      " [7 8 9]]\n"
     ]
    }
   ],
   "source": [
    "a = np.arange(1, 10).reshape(3, 3)\n",
    "pprint(a)"
   ]
  },
  {
   "cell_type": "code",
   "execution_count": 233,
   "id": "adddad14",
   "metadata": {},
   "outputs": [
    {
     "data": {
      "text/plain": [
       "array([1, 3, 4, 5, 6, 7, 8, 9])"
      ]
     },
     "execution_count": 233,
     "metadata": {},
     "output_type": "execute_result"
    }
   ],
   "source": [
    "# a배열의 일차원 배열로 변환하고 1번 index 삭제\n",
    "np.delete(a, 1)"
   ]
  },
  {
   "cell_type": "code",
   "execution_count": 234,
   "id": "de5f4163",
   "metadata": {},
   "outputs": [
    {
     "data": {
      "text/plain": [
       "array([[1, 2, 3],\n",
       "       [7, 8, 9]])"
      ]
     },
     "execution_count": 234,
     "metadata": {},
     "output_type": "execute_result"
    }
   ],
   "source": [
    "np.delete(a, 1, axis=0)"
   ]
  },
  {
   "cell_type": "code",
   "execution_count": 235,
   "id": "1b9f8bc4",
   "metadata": {},
   "outputs": [
    {
     "data": {
      "text/plain": [
       "array([[1, 3],\n",
       "       [4, 6],\n",
       "       [7, 9]])"
      ]
     },
     "execution_count": 235,
     "metadata": {},
     "output_type": "execute_result"
    }
   ],
   "source": [
    "np.delete(a, 1, axis=1)"
   ]
  },
  {
   "cell_type": "markdown",
   "id": "a120d03c",
   "metadata": {},
   "source": [
    "**배열의 결합**\n",
    "- np.concatenate((arr1, arr2,...), axis=0)\n",
    "- np.vstack(tuple 형태) : 수직 방향 배열 결합, axis=0과 동일한 의미를 가진다.\n",
    "- np.hstack(tuple 형태) : 수평 방향 배열 결합, axis=1과 동일한 의미를 가진다."
   ]
  },
  {
   "cell_type": "code",
   "execution_count": 248,
   "id": "829add09",
   "metadata": {},
   "outputs": [
    {
     "name": "stdout",
     "output_type": "stream",
     "text": [
      "type : <class 'numpy.ndarray'>\n",
      "shape : (2, 3), dimension : 2, dtype:int32\n",
      "Array's Data : \n",
      " [[1 2 3]\n",
      " [4 5 6]]\n",
      "type : <class 'numpy.ndarray'>\n",
      "shape : (2, 3), dimension : 2, dtype:int32\n",
      "Array's Data : \n",
      " [[ 7  8  9]\n",
      " [10 11 12]]\n"
     ]
    }
   ],
   "source": [
    "a = np.arange(1,7).reshape((2,3))\n",
    "pprint(a)\n",
    "b = np.arange(7,13).reshape((2,3))\n",
    "pprint(b)"
   ]
  },
  {
   "cell_type": "code",
   "execution_count": 237,
   "id": "1d8659f1",
   "metadata": {},
   "outputs": [
    {
     "name": "stdout",
     "output_type": "stream",
     "text": [
      "type : <class 'numpy.ndarray'>\n",
      "shape : (4, 3), dimension : 2, dtype:int32\n",
      "Array's Data : \n",
      " [[ 1  2  3]\n",
      " [ 4  5  6]\n",
      " [ 7  8  9]\n",
      " [10 11 12]]\n"
     ]
    }
   ],
   "source": [
    "result = np.concatenate((a,b), axis=0)\n",
    "pprint(result)"
   ]
  },
  {
   "cell_type": "code",
   "execution_count": 240,
   "id": "293bc92f",
   "metadata": {},
   "outputs": [
    {
     "data": {
      "text/plain": [
       "array([[ 1,  2,  3],\n",
       "       [ 4,  5,  6],\n",
       "       [ 7,  8,  9],\n",
       "       [10, 11, 12]])"
      ]
     },
     "execution_count": 240,
     "metadata": {},
     "output_type": "execute_result"
    }
   ],
   "source": [
    "np.vstack((a,b))"
   ]
  },
  {
   "cell_type": "code",
   "execution_count": 249,
   "id": "1eccc3a9",
   "metadata": {},
   "outputs": [
    {
     "name": "stdout",
     "output_type": "stream",
     "text": [
      "type : <class 'numpy.ndarray'>\n",
      "shape : (4, 6), dimension : 2, dtype:int32\n",
      "Array's Data : \n",
      " [[ 1  2  3  4  5  6]\n",
      " [ 7  8  9 10 11 12]\n",
      " [13 14 15 16 17 18]\n",
      " [19 20 21 22 23 24]]\n"
     ]
    }
   ],
   "source": [
    "a = np.arange(1, 25).reshape((4,6))\n",
    "pprint(a)"
   ]
  },
  {
   "cell_type": "code",
   "execution_count": 242,
   "id": "30152b52",
   "metadata": {},
   "outputs": [
    {
     "data": {
      "text/plain": [
       "[array([[ 1,  2,  3],\n",
       "        [ 7,  8,  9],\n",
       "        [13, 14, 15],\n",
       "        [19, 20, 21]]),\n",
       " array([[ 4,  5,  6],\n",
       "        [10, 11, 12],\n",
       "        [16, 17, 18],\n",
       "        [22, 23, 24]])]"
      ]
     },
     "execution_count": 242,
     "metadata": {},
     "output_type": "execute_result"
    }
   ],
   "source": [
    "np.hsplit(a,2)"
   ]
  },
  {
   "cell_type": "code",
   "execution_count": 245,
   "id": "1bc733f4",
   "metadata": {},
   "outputs": [],
   "source": [
    "a,b = np.vsplit(a,2)"
   ]
  },
  {
   "cell_type": "code",
   "execution_count": 250,
   "id": "b5bff2d4",
   "metadata": {},
   "outputs": [
    {
     "data": {
      "text/plain": [
       "[array([[ 1],\n",
       "        [ 7],\n",
       "        [13],\n",
       "        [19]]),\n",
       " array([[ 2,  3],\n",
       "        [ 8,  9],\n",
       "        [14, 15],\n",
       "        [20, 21]]),\n",
       " array([[ 4,  5],\n",
       "        [10, 11],\n",
       "        [16, 17],\n",
       "        [22, 23]]),\n",
       " array([[ 6],\n",
       "        [12],\n",
       "        [18],\n",
       "        [24]])]"
      ]
     },
     "execution_count": 250,
     "metadata": {},
     "output_type": "execute_result"
    }
   ],
   "source": [
    "# 수평 방향으로 여러 구간(index)으로 분할\n",
    "# np.hsplit(arr, [indexs...])\n",
    "np.hsplit(a, [1,3,5]) # [:,:1], [:, 1:3], [:, 3:5], [:, 5:]"
   ]
  },
  {
   "cell_type": "markdown",
   "id": "d27c4fc9",
   "metadata": {},
   "source": [
    "**배열 수직 분할 : np.vsplit(arr, 분할기준)**"
   ]
  },
  {
   "cell_type": "code",
   "execution_count": 251,
   "id": "e7ef7252",
   "metadata": {},
   "outputs": [
    {
     "data": {
      "text/plain": [
       "[array([[ 1,  2,  3,  4,  5,  6],\n",
       "        [ 7,  8,  9, 10, 11, 12]]),\n",
       " array([[13, 14, 15, 16, 17, 18],\n",
       "        [19, 20, 21, 22, 23, 24]])]"
      ]
     },
     "execution_count": 251,
     "metadata": {},
     "output_type": "execute_result"
    }
   ],
   "source": [
    "# 수직 방향으로 배열을 두 개로 분할\n",
    "np.vsplit(a, 2) "
   ]
  },
  {
   "cell_type": "code",
   "execution_count": 252,
   "id": "a9970983",
   "metadata": {},
   "outputs": [
    {
     "data": {
      "text/plain": [
       "[array([[ 1,  2,  3,  4,  5,  6],\n",
       "        [ 7,  8,  9, 10, 11, 12]]),\n",
       " array([[13, 14, 15, 16, 17, 18],\n",
       "        [19, 20, 21, 22, 23, 24]])]"
      ]
     },
     "execution_count": 252,
     "metadata": {},
     "output_type": "execute_result"
    }
   ],
   "source": [
    "result = np.vsplit(a, 2)\n",
    "result"
   ]
  },
  {
   "cell_type": "code",
   "execution_count": 253,
   "id": "2b1fedbf",
   "metadata": {},
   "outputs": [
    {
     "data": {
      "text/plain": [
       "(2, 2, 6)"
      ]
     },
     "execution_count": 253,
     "metadata": {},
     "output_type": "execute_result"
    }
   ],
   "source": [
    "np.array(result).shape"
   ]
  },
  {
   "cell_type": "code",
   "execution_count": 254,
   "id": "f3b4618d",
   "metadata": {},
   "outputs": [
    {
     "data": {
      "text/plain": [
       "[array([[1, 2, 3, 4, 5, 6]]),\n",
       " array([[ 7,  8,  9, 10, 11, 12],\n",
       "        [13, 14, 15, 16, 17, 18]]),\n",
       " array([[19, 20, 21, 22, 23, 24]])]"
      ]
     },
     "execution_count": 254,
     "metadata": {},
     "output_type": "execute_result"
    }
   ],
   "source": [
    "# row를 1, 2-3, 4분할\n",
    "np.vsplit(a, [1,3])"
   ]
  },
  {
   "cell_type": "code",
   "execution_count": null,
   "id": "bd77dea1",
   "metadata": {},
   "outputs": [],
   "source": []
  }
 ],
 "metadata": {
  "kernelspec": {
   "display_name": "Python 3 (ipykernel)",
   "language": "python",
   "name": "python3"
  },
  "language_info": {
   "codemirror_mode": {
    "name": "ipython",
    "version": 3
   },
   "file_extension": ".py",
   "mimetype": "text/x-python",
   "name": "python",
   "nbconvert_exporter": "python",
   "pygments_lexer": "ipython3",
   "version": "3.9.17"
  }
 },
 "nbformat": 4,
 "nbformat_minor": 5
}
