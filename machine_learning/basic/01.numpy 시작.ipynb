{
 "cells": [
  {
   "cell_type": "markdown",
   "id": "51946245",
   "metadata": {},
   "source": [
    "# numpy\n",
    "- c언어로 구현된 파이썬 라이브러리\n",
    "- 고성능 수치계산을 위해 제작\n",
    "- numerical python\n",
    "- 벡터 및 행렬 연산에 매우 편리한 기능 제공\n",
    "- pandas와 matplotlib과 더불어 데이터 분석에 필수 라이브러리\n",
    "- 기본적으로 array 단위로 데이터 처리\n",
    "- 대표적인 자료형 : ndarray 객체"
   ]
  },
  {
   "cell_type": "markdown",
   "id": "4877bf50",
   "metadata": {},
   "source": [
    "## numpt "
   ]
  },
  {
   "cell_type": "code",
   "execution_count": 1,
   "id": "38dbc33a",
   "metadata": {
    "ExecuteTime": {
     "end_time": "2023-09-22T03:09:34.829492Z",
     "start_time": "2023-09-22T03:09:34.711820Z"
    }
   },
   "outputs": [],
   "source": [
    "import numpy as np"
   ]
  },
  {
   "cell_type": "markdown",
   "id": "beeaa94c",
   "metadata": {},
   "source": [
    "## Array 정의 및 사용"
   ]
  },
  {
   "cell_type": "code",
   "execution_count": 2,
   "id": "b5d9d2e0",
   "metadata": {
    "ExecuteTime": {
     "end_time": "2023-09-22T03:10:56.649304Z",
     "start_time": "2023-09-22T03:10:56.630215Z"
    }
   },
   "outputs": [
    {
     "name": "stdout",
     "output_type": "stream",
     "text": [
      "[1, 2, 3, 4, 5]\n"
     ]
    }
   ],
   "source": [
    "# python의 리스트 이용\n",
    "a = [1,2,3,4,5]\n",
    "print(a)"
   ]
  },
  {
   "cell_type": "code",
   "execution_count": 3,
   "id": "d009143f",
   "metadata": {
    "ExecuteTime": {
     "end_time": "2023-09-22T03:11:10.534548Z",
     "start_time": "2023-09-22T03:11:10.522604Z"
    }
   },
   "outputs": [
    {
     "data": {
      "text/plain": [
       "[1, 2, 3, 4, 5]"
      ]
     },
     "execution_count": 3,
     "metadata": {},
     "output_type": "execute_result"
    }
   ],
   "source": [
    "b = [1,2,3,4,5]\n",
    "b"
   ]
  },
  {
   "cell_type": "code",
   "execution_count": 4,
   "id": "f272510f",
   "metadata": {
    "ExecuteTime": {
     "end_time": "2023-09-22T03:11:34.441267Z",
     "start_time": "2023-09-22T03:11:34.418704Z"
    }
   },
   "outputs": [
    {
     "data": {
      "text/plain": [
       "array([1, 2, 3, 4, 5])"
      ]
     },
     "execution_count": 4,
     "metadata": {},
     "output_type": "execute_result"
    }
   ],
   "source": [
    "arr1 = np.array(a)\n",
    "arr1"
   ]
  },
  {
   "cell_type": "code",
   "execution_count": 5,
   "id": "9dfef194",
   "metadata": {
    "ExecuteTime": {
     "end_time": "2023-09-22T03:12:03.490655Z",
     "start_time": "2023-09-22T03:12:03.475286Z"
    }
   },
   "outputs": [
    {
     "data": {
      "text/plain": [
       "array([1, 2, 3, 4, 5])"
      ]
     },
     "execution_count": 5,
     "metadata": {},
     "output_type": "execute_result"
    }
   ],
   "source": [
    "arr2 = np.array([1,2,3,4,5])\n",
    "arr2"
   ]
  },
  {
   "cell_type": "code",
   "execution_count": 6,
   "id": "65359ea6",
   "metadata": {
    "ExecuteTime": {
     "end_time": "2023-09-22T03:12:41.288225Z",
     "start_time": "2023-09-22T03:12:41.281249Z"
    }
   },
   "outputs": [
    {
     "data": {
      "text/plain": [
       "(5,)"
      ]
     },
     "execution_count": 6,
     "metadata": {},
     "output_type": "execute_result"
    }
   ],
   "source": [
    "# array 형태 확인\n",
    "arr1.shape"
   ]
  },
  {
   "cell_type": "code",
   "execution_count": 7,
   "id": "2b9095a8",
   "metadata": {
    "ExecuteTime": {
     "end_time": "2023-09-22T03:13:08.879027Z",
     "start_time": "2023-09-22T03:13:08.867098Z"
    }
   },
   "outputs": [
    {
     "data": {
      "text/plain": [
       "dtype('int32')"
      ]
     },
     "execution_count": 7,
     "metadata": {},
     "output_type": "execute_result"
    }
   ],
   "source": [
    "# array 자료형 확인\n",
    "arr1.dtype"
   ]
  },
  {
   "cell_type": "markdown",
   "id": "1d109f43",
   "metadata": {},
   "source": [
    "## 배열 생성 : numpy가 제공하는 함수를 이용한 단순배열\n",
    "- zeros, ones\n",
    "- zeros_like , ones_like\n",
    "- empty\n",
    "- arange\n",
    "- linespace, logspace"
   ]
  },
  {
   "cell_type": "code",
   "execution_count": 9,
   "id": "746c437f",
   "metadata": {
    "ExecuteTime": {
     "end_time": "2023-09-22T03:16:45.152464Z",
     "start_time": "2023-09-22T03:16:45.140360Z"
    }
   },
   "outputs": [
    {
     "data": {
      "text/plain": [
       "array([0., 0., 0.])"
      ]
     },
     "execution_count": 9,
     "metadata": {},
     "output_type": "execute_result"
    }
   ],
   "source": [
    "# 0인 배열을 생성 : zeros(배열크기) \n",
    "a = np.zeros(3)\n",
    "a"
   ]
  },
  {
   "cell_type": "code",
   "execution_count": 10,
   "id": "420a5f82",
   "metadata": {
    "ExecuteTime": {
     "end_time": "2023-09-22T03:17:46.038611Z",
     "start_time": "2023-09-22T03:17:46.023658Z"
    }
   },
   "outputs": [
    {
     "data": {
      "text/plain": [
       "array([0, 0, 0, 0, 0], dtype=int32)"
      ]
     },
     "execution_count": 10,
     "metadata": {},
     "output_type": "execute_result"
    }
   ],
   "source": [
    "b = np.zeros(5,dtype=\"i\")\n",
    "b"
   ]
  },
  {
   "cell_type": "markdown",
   "id": "0b44d1af",
   "metadata": {},
   "source": [
    "- numpy 자료형, dtype의 접두사\n",
    "- \"i\" :정수형\n",
    "- \"u\" : uint => 부호가없는 정수\n",
    "- \"f\" : float\n",
    "- \"b\" : 논리형 True/False\n",
    "- \"c\" : complex\n",
    "- \"s\" : 문자열(string)\n"
   ]
  },
  {
   "cell_type": "code",
   "execution_count": 11,
   "id": "5b3c173b",
   "metadata": {
    "ExecuteTime": {
     "end_time": "2023-09-22T03:21:00.556129Z",
     "start_time": "2023-09-22T03:21:00.544176Z"
    }
   },
   "outputs": [
    {
     "data": {
      "text/plain": [
       "dtype('float32')"
      ]
     },
     "execution_count": 11,
     "metadata": {},
     "output_type": "execute_result"
    }
   ],
   "source": [
    "x = np.array([1,2,3],dtype='f')\n",
    "x.dtype"
   ]
  },
  {
   "cell_type": "code",
   "execution_count": 12,
   "id": "66eda7b0",
   "metadata": {
    "ExecuteTime": {
     "end_time": "2023-09-22T03:22:11.679946Z",
     "start_time": "2023-09-22T03:22:11.662489Z"
    }
   },
   "outputs": [
    {
     "data": {
      "text/plain": [
       "array([[0., 0., 0.],\n",
       "       [0., 0., 0.]])"
      ]
     },
     "execution_count": 12,
     "metadata": {},
     "output_type": "execute_result"
    }
   ],
   "source": [
    "b = np.zeros((2,3))\n",
    "b"
   ]
  },
  {
   "cell_type": "code",
   "execution_count": 13,
   "id": "8522dd6b",
   "metadata": {
    "ExecuteTime": {
     "end_time": "2023-09-22T03:22:39.820756Z",
     "start_time": "2023-09-22T03:22:39.812356Z"
    }
   },
   "outputs": [
    {
     "data": {
      "text/plain": [
       "array([[0, 0],\n",
       "       [0, 0],\n",
       "       [0, 0],\n",
       "       [0, 0],\n",
       "       [0, 0]], dtype=int32)"
      ]
     },
     "execution_count": 13,
     "metadata": {},
     "output_type": "execute_result"
    }
   ],
   "source": [
    "c = np.zeros((5,2),dtype='i')\n",
    "c"
   ]
  },
  {
   "cell_type": "code",
   "execution_count": 14,
   "id": "d1d1ae34",
   "metadata": {
    "ExecuteTime": {
     "end_time": "2023-09-22T03:23:31.137093Z",
     "start_time": "2023-09-22T03:23:31.116445Z"
    }
   },
   "outputs": [
    {
     "data": {
      "text/plain": [
       "array([[[1., 1., 1., 1.],\n",
       "        [1., 1., 1., 1.],\n",
       "        [1., 1., 1., 1.]],\n",
       "\n",
       "       [[1., 1., 1., 1.],\n",
       "        [1., 1., 1., 1.],\n",
       "        [1., 1., 1., 1.]]])"
      ]
     },
     "execution_count": 14,
     "metadata": {},
     "output_type": "execute_result"
    }
   ],
   "source": [
    "e = np.ones((2,3,4))\n",
    "e"
   ]
  },
  {
   "cell_type": "code",
   "execution_count": 15,
   "id": "12f0805a",
   "metadata": {
    "ExecuteTime": {
     "end_time": "2023-09-22T03:24:35.771720Z",
     "start_time": "2023-09-22T03:24:35.759597Z"
    }
   },
   "outputs": [],
   "source": [
    "# 기존의 배열의 크기를 그대로 사용하여 배열 생성\n",
    "## zeros_like\n",
    "## ones_like"
   ]
  },
  {
   "cell_type": "code",
   "execution_count": 16,
   "id": "d214ea59",
   "metadata": {
    "ExecuteTime": {
     "end_time": "2023-09-22T03:24:54.476590Z",
     "start_time": "2023-09-22T03:24:54.465894Z"
    }
   },
   "outputs": [
    {
     "data": {
      "text/plain": [
       "array([[1., 1., 1.],\n",
       "       [1., 1., 1.]])"
      ]
     },
     "execution_count": 16,
     "metadata": {},
     "output_type": "execute_result"
    }
   ],
   "source": [
    "f = np.ones_like(b)\n",
    "f"
   ]
  },
  {
   "cell_type": "code",
   "execution_count": 17,
   "id": "4090c414",
   "metadata": {
    "ExecuteTime": {
     "end_time": "2023-09-22T03:25:59.717943Z",
     "start_time": "2023-09-22T03:25:59.703411Z"
    }
   },
   "outputs": [
    {
     "data": {
      "text/plain": [
       "array([[1.03050673e-311, 3.16202013e-322, 0.00000000e+000],\n",
       "       [0.00000000e+000, 3.11523242e-307, 3.11542374e+179],\n",
       "       [1.20134165e-075, 1.32394743e-071, 7.25060504e-042],\n",
       "       [3.26769887e-032, 1.57144822e-076, 1.25877869e-075]])"
      ]
     },
     "execution_count": 17,
     "metadata": {},
     "output_type": "execute_result"
    }
   ],
   "source": [
    "g = np.empty((4,3))\n",
    "g"
   ]
  },
  {
   "cell_type": "code",
   "execution_count": 18,
   "id": "cd6f51a5",
   "metadata": {
    "ExecuteTime": {
     "end_time": "2023-09-22T03:28:11.725415Z",
     "start_time": "2023-09-22T03:28:11.710590Z"
    }
   },
   "outputs": [
    {
     "data": {
      "text/plain": [
       "array([0, 1, 2, 3, 4, 5, 6, 7, 8, 9])"
      ]
     },
     "execution_count": 18,
     "metadata": {},
     "output_type": "execute_result"
    }
   ],
   "source": [
    "# range() : 순차리스트, 수열 생성\n",
    "# range(5) : 0,1,2,3,4\n",
    "# range(1,10) : 1~9\n",
    "# arange() : Numpy 버전의 range\n",
    "np.arange(10) # 0~9"
   ]
  },
  {
   "cell_type": "code",
   "execution_count": 19,
   "id": "79631d82",
   "metadata": {
    "ExecuteTime": {
     "end_time": "2023-09-22T03:28:41.118856Z",
     "start_time": "2023-09-22T03:28:41.108362Z"
    }
   },
   "outputs": [
    {
     "data": {
      "text/plain": [
       "array([ 3,  5,  7,  9, 11, 13, 15, 17, 19])"
      ]
     },
     "execution_count": 19,
     "metadata": {},
     "output_type": "execute_result"
    }
   ],
   "source": [
    "np.arange(3,21,2)"
   ]
  },
  {
   "cell_type": "code",
   "execution_count": 23,
   "id": "91d1823d",
   "metadata": {
    "ExecuteTime": {
     "end_time": "2023-09-22T03:29:56.798892Z",
     "start_time": "2023-09-22T03:29:56.782983Z"
    }
   },
   "outputs": [
    {
     "data": {
      "text/plain": [
       "array([  0.,  25.,  50.,  75., 100.])"
      ]
     },
     "execution_count": 23,
     "metadata": {},
     "output_type": "execute_result"
    }
   ],
   "source": [
    "np.linspace(0,100,5)"
   ]
  },
  {
   "cell_type": "code",
   "execution_count": 24,
   "id": "33180dc3",
   "metadata": {
    "ExecuteTime": {
     "end_time": "2023-09-22T03:30:08.813945Z",
     "start_time": "2023-09-22T03:30:08.796368Z"
    }
   },
   "outputs": [
    {
     "data": {
      "text/plain": [
       "array([ 1.25892541,  1.58489319,  1.99526231,  2.51188643,  3.16227766,\n",
       "        3.98107171,  5.01187234,  6.30957344,  7.94328235, 10.        ])"
      ]
     },
     "execution_count": 24,
     "metadata": {},
     "output_type": "execute_result"
    }
   ],
   "source": [
    "np.logspace(0.1,1,10)"
   ]
  },
  {
   "cell_type": "markdown",
   "id": "c32e149a",
   "metadata": {},
   "source": [
    "## 전치행렬\n",
    "- 행과 열을 바꾸는 기능\n",
    "- T"
   ]
  },
  {
   "cell_type": "code",
   "execution_count": 25,
   "id": "2ab61ed4",
   "metadata": {
    "ExecuteTime": {
     "end_time": "2023-09-22T03:31:42.371405Z",
     "start_time": "2023-09-22T03:31:42.356734Z"
    }
   },
   "outputs": [
    {
     "data": {
      "text/plain": [
       "array([[1, 2, 3],\n",
       "       [4, 5, 6]])"
      ]
     },
     "execution_count": 25,
     "metadata": {},
     "output_type": "execute_result"
    }
   ],
   "source": [
    "A = np.array([[1,2,3],[4,5,6]])\n",
    "A"
   ]
  },
  {
   "cell_type": "code",
   "execution_count": 26,
   "id": "052144b6",
   "metadata": {
    "ExecuteTime": {
     "end_time": "2023-09-22T03:31:52.104041Z",
     "start_time": "2023-09-22T03:31:52.087083Z"
    }
   },
   "outputs": [
    {
     "data": {
      "text/plain": [
       "array([[1, 4],\n",
       "       [2, 5],\n",
       "       [3, 6]])"
      ]
     },
     "execution_count": 26,
     "metadata": {},
     "output_type": "execute_result"
    }
   ],
   "source": [
    "A.T"
   ]
  },
  {
   "cell_type": "markdown",
   "id": "8c7f07ee",
   "metadata": {},
   "source": [
    "## 배열의 크기 변형\n",
    "- 배열의 크기 속성 : shape 배열명.속성\n",
    "- 배열의 크기 변경 : reshape"
   ]
  },
  {
   "cell_type": "code",
   "execution_count": 28,
   "id": "30897e6f",
   "metadata": {
    "ExecuteTime": {
     "end_time": "2023-09-22T03:33:31.431061Z",
     "start_time": "2023-09-22T03:33:31.413100Z"
    }
   },
   "outputs": [
    {
     "data": {
      "text/plain": [
       "array([ 0,  1,  2,  3,  4,  5,  6,  7,  8,  9, 10, 11])"
      ]
     },
     "execution_count": 28,
     "metadata": {},
     "output_type": "execute_result"
    }
   ],
   "source": [
    "a = np.arange(12)\n",
    "a\n"
   ]
  },
  {
   "cell_type": "code",
   "execution_count": 29,
   "id": "ffcb803f",
   "metadata": {
    "ExecuteTime": {
     "end_time": "2023-09-22T03:33:50.826235Z",
     "start_time": "2023-09-22T03:33:50.810299Z"
    }
   },
   "outputs": [
    {
     "data": {
      "text/plain": [
       "(12,)"
      ]
     },
     "execution_count": 29,
     "metadata": {},
     "output_type": "execute_result"
    }
   ],
   "source": [
    "a.shape"
   ]
  },
  {
   "cell_type": "code",
   "execution_count": 31,
   "id": "00539360",
   "metadata": {
    "ExecuteTime": {
     "end_time": "2023-09-22T03:34:14.258882Z",
     "start_time": "2023-09-22T03:34:14.244014Z"
    }
   },
   "outputs": [
    {
     "data": {
      "text/plain": [
       "array([[ 0,  1,  2,  3],\n",
       "       [ 4,  5,  6,  7],\n",
       "       [ 8,  9, 10, 11]])"
      ]
     },
     "execution_count": 31,
     "metadata": {},
     "output_type": "execute_result"
    }
   ],
   "source": [
    "b = a.reshape(3,4)\n",
    "b"
   ]
  },
  {
   "cell_type": "code",
   "execution_count": 32,
   "id": "0446e653",
   "metadata": {
    "ExecuteTime": {
     "end_time": "2023-09-22T03:35:23.284798Z",
     "start_time": "2023-09-22T03:35:23.278785Z"
    }
   },
   "outputs": [
    {
     "data": {
      "text/plain": [
       "array([[ 0,  1,  2,  3],\n",
       "       [ 4,  5,  6,  7],\n",
       "       [ 8,  9, 10, 11]])"
      ]
     },
     "execution_count": 32,
     "metadata": {},
     "output_type": "execute_result"
    }
   ],
   "source": [
    "a.reshape(3,-1)"
   ]
  },
  {
   "cell_type": "code",
   "execution_count": 34,
   "id": "e104228a",
   "metadata": {
    "ExecuteTime": {
     "end_time": "2023-09-22T03:36:15.583624Z",
     "start_time": "2023-09-22T03:36:15.574654Z"
    }
   },
   "outputs": [
    {
     "data": {
      "text/plain": [
       "array([[[ 0,  1,  2],\n",
       "        [ 3,  4,  5]],\n",
       "\n",
       "       [[ 6,  7,  8],\n",
       "        [ 9, 10, 11]]])"
      ]
     },
     "execution_count": 34,
     "metadata": {},
     "output_type": "execute_result"
    }
   ],
   "source": [
    "a.reshape(2,2,-1) #행이나 열값무시 -붙임"
   ]
  },
  {
   "cell_type": "code",
   "execution_count": 35,
   "id": "f91baead",
   "metadata": {
    "ExecuteTime": {
     "end_time": "2023-09-22T03:36:26.956089Z",
     "start_time": "2023-09-22T03:36:26.942141Z"
    }
   },
   "outputs": [
    {
     "data": {
      "text/plain": [
       "array([[[ 0,  1],\n",
       "        [ 2,  3],\n",
       "        [ 4,  5]],\n",
       "\n",
       "       [[ 6,  7],\n",
       "        [ 8,  9],\n",
       "        [10, 11]]])"
      ]
     },
     "execution_count": 35,
     "metadata": {},
     "output_type": "execute_result"
    }
   ],
   "source": [
    "a.reshape(2,-1,2)"
   ]
  },
  {
   "cell_type": "code",
   "execution_count": 37,
   "id": "e4fa5fec",
   "metadata": {
    "ExecuteTime": {
     "end_time": "2023-09-22T03:37:50.822312Z",
     "start_time": "2023-09-22T03:37:50.805963Z"
    }
   },
   "outputs": [
    {
     "data": {
      "text/plain": [
       "array([ 0,  1,  2,  3,  4,  5,  6,  7,  8,  9, 10, 11])"
      ]
     },
     "execution_count": 37,
     "metadata": {},
     "output_type": "execute_result"
    }
   ],
   "source": [
    "# 다차원 배열을 1차원 배열로 생성하는 flatten, ravel 메서드\n",
    "a"
   ]
  },
  {
   "cell_type": "code",
   "execution_count": 38,
   "id": "9286dc0a",
   "metadata": {
    "ExecuteTime": {
     "end_time": "2023-09-22T03:38:01.847477Z",
     "start_time": "2023-09-22T03:38:01.826848Z"
    }
   },
   "outputs": [
    {
     "data": {
      "text/plain": [
       "array([[ 0,  1,  2,  3],\n",
       "       [ 4,  5,  6,  7],\n",
       "       [ 8,  9, 10, 11]])"
      ]
     },
     "execution_count": 38,
     "metadata": {},
     "output_type": "execute_result"
    }
   ],
   "source": [
    "a = a.reshape(3,4)\n",
    "a"
   ]
  },
  {
   "cell_type": "code",
   "execution_count": 39,
   "id": "cc022ac7",
   "metadata": {
    "ExecuteTime": {
     "end_time": "2023-09-22T03:38:16.735642Z",
     "start_time": "2023-09-22T03:38:16.728596Z"
    }
   },
   "outputs": [
    {
     "data": {
      "text/plain": [
       "array([ 0,  1,  2,  3,  4,  5,  6,  7,  8,  9, 10, 11])"
      ]
     },
     "execution_count": 39,
     "metadata": {},
     "output_type": "execute_result"
    }
   ],
   "source": [
    "a.flatten()"
   ]
  },
  {
   "cell_type": "code",
   "execution_count": 40,
   "id": "fdec10a3",
   "metadata": {
    "ExecuteTime": {
     "end_time": "2023-09-22T03:38:42.323379Z",
     "start_time": "2023-09-22T03:38:42.302447Z"
    }
   },
   "outputs": [
    {
     "data": {
      "text/plain": [
       "array([ 0,  1,  2,  3,  4,  5,  6,  7,  8,  9, 10, 11])"
      ]
     },
     "execution_count": 40,
     "metadata": {},
     "output_type": "execute_result"
    }
   ],
   "source": [
    "a.ravel()"
   ]
  },
  {
   "cell_type": "code",
   "execution_count": 41,
   "id": "de816073",
   "metadata": {
    "ExecuteTime": {
     "end_time": "2023-09-22T03:39:50.741412Z",
     "start_time": "2023-09-22T03:39:50.728390Z"
    }
   },
   "outputs": [
    {
     "data": {
      "text/plain": [
       "array([0, 1, 2, 3, 4])"
      ]
     },
     "execution_count": 41,
     "metadata": {},
     "output_type": "execute_result"
    }
   ],
   "source": [
    "x = np.arange(5)\n",
    "x"
   ]
  },
  {
   "cell_type": "code",
   "execution_count": 42,
   "id": "a93dbf06",
   "metadata": {
    "ExecuteTime": {
     "end_time": "2023-09-22T03:39:56.843569Z",
     "start_time": "2023-09-22T03:39:56.828405Z"
    }
   },
   "outputs": [
    {
     "data": {
      "text/plain": [
       "(5,)"
      ]
     },
     "execution_count": 42,
     "metadata": {},
     "output_type": "execute_result"
    }
   ],
   "source": [
    "x.shape"
   ]
  },
  {
   "cell_type": "code",
   "execution_count": 43,
   "id": "0b2425fe",
   "metadata": {
    "ExecuteTime": {
     "end_time": "2023-09-22T03:40:04.175709Z",
     "start_time": "2023-09-22T03:40:04.162173Z"
    }
   },
   "outputs": [
    {
     "data": {
      "text/plain": [
       "array([[0, 1, 2, 3, 4]])"
      ]
     },
     "execution_count": 43,
     "metadata": {},
     "output_type": "execute_result"
    }
   ],
   "source": [
    "x.reshape(1,5)"
   ]
  },
  {
   "cell_type": "code",
   "execution_count": 44,
   "id": "ff96efab",
   "metadata": {
    "ExecuteTime": {
     "end_time": "2023-09-22T03:40:33.406206Z",
     "start_time": "2023-09-22T03:40:33.385511Z"
    }
   },
   "outputs": [
    {
     "data": {
      "text/plain": [
       "array([[0],\n",
       "       [1],\n",
       "       [2],\n",
       "       [3],\n",
       "       [4]])"
      ]
     },
     "execution_count": 44,
     "metadata": {},
     "output_type": "execute_result"
    }
   ],
   "source": [
    "x.reshape(5,1)"
   ]
  },
  {
   "cell_type": "code",
   "execution_count": 45,
   "id": "11830fbf",
   "metadata": {
    "ExecuteTime": {
     "end_time": "2023-09-22T03:41:37.110689Z",
     "start_time": "2023-09-22T03:41:37.096411Z"
    }
   },
   "outputs": [
    {
     "data": {
      "text/plain": [
       "array([0, 1, 2, 3, 4])"
      ]
     },
     "execution_count": 45,
     "metadata": {},
     "output_type": "execute_result"
    }
   ],
   "source": [
    "# 차원만 증가시키는 newaxis \n",
    "x"
   ]
  },
  {
   "cell_type": "code",
   "execution_count": 48,
   "id": "12212517",
   "metadata": {
    "ExecuteTime": {
     "end_time": "2023-09-22T03:42:33.135558Z",
     "start_time": "2023-09-22T03:42:33.126589Z"
    }
   },
   "outputs": [
    {
     "data": {
      "text/plain": [
       "array([[0],\n",
       "       [1],\n",
       "       [2],\n",
       "       [3],\n",
       "       [4]])"
      ]
     },
     "execution_count": 48,
     "metadata": {},
     "output_type": "execute_result"
    }
   ],
   "source": [
    "x[:,np.newaxis]"
   ]
  },
  {
   "cell_type": "markdown",
   "id": "0be652d1",
   "metadata": {},
   "source": [
    "# numpy 배열의 연산"
   ]
  },
  {
   "cell_type": "code",
   "execution_count": 49,
   "id": "61c2c42c",
   "metadata": {
    "ExecuteTime": {
     "end_time": "2023-09-22T05:03:26.545388Z",
     "start_time": "2023-09-22T05:03:26.532918Z"
    }
   },
   "outputs": [],
   "source": [
    "x = np.arange(1,10001)\n",
    "y = np.arange(10001,20001)"
   ]
  },
  {
   "cell_type": "code",
   "execution_count": 51,
   "id": "b79f2dc3",
   "metadata": {
    "ExecuteTime": {
     "end_time": "2023-09-22T05:05:28.755505Z",
     "start_time": "2023-09-22T05:05:28.746602Z"
    }
   },
   "outputs": [
    {
     "name": "stdout",
     "output_type": "stream",
     "text": [
      "CPU times: total: 15.6 ms\n",
      "Wall time: 3.07 ms\n"
     ]
    }
   ],
   "source": [
    "%%time\n",
    "res = np.zeros_like(x)\n",
    "for i in range(10000):\n",
    "    res[i] = x[i] + y[i]"
   ]
  },
  {
   "cell_type": "code",
   "execution_count": 52,
   "id": "878d7e8c",
   "metadata": {
    "ExecuteTime": {
     "end_time": "2023-09-22T05:05:43.257781Z",
     "start_time": "2023-09-22T05:05:43.247308Z"
    }
   },
   "outputs": [
    {
     "data": {
      "text/plain": [
       "array([10002, 10004, 10006, 10008, 10010, 10012, 10014, 10016, 10018,\n",
       "       10020])"
      ]
     },
     "execution_count": 52,
     "metadata": {},
     "output_type": "execute_result"
    }
   ],
   "source": [
    "res[:10]"
   ]
  },
  {
   "cell_type": "code",
   "execution_count": 53,
   "id": "45a1ca99",
   "metadata": {
    "ExecuteTime": {
     "end_time": "2023-09-22T05:06:31.829529Z",
     "start_time": "2023-09-22T05:06:31.804071Z"
    }
   },
   "outputs": [
    {
     "name": "stdout",
     "output_type": "stream",
     "text": [
      "CPU times: total: 0 ns\n",
      "Wall time: 9.51 ms\n"
     ]
    }
   ],
   "source": [
    "%%time\n",
    "z = x + y"
   ]
  },
  {
   "cell_type": "code",
   "execution_count": 54,
   "id": "9ddf4a8e",
   "metadata": {
    "ExecuteTime": {
     "end_time": "2023-09-22T05:07:24.208543Z",
     "start_time": "2023-09-22T05:07:24.189611Z"
    }
   },
   "outputs": [
    {
     "data": {
      "text/plain": [
       "array([10002, 10004, 10006, 10008, 10010, 10012, 10014, 10016, 10018,\n",
       "       10020])"
      ]
     },
     "execution_count": 54,
     "metadata": {},
     "output_type": "execute_result"
    }
   ],
   "source": [
    "z[:10]"
   ]
  },
  {
   "cell_type": "code",
   "execution_count": 55,
   "id": "caa57556",
   "metadata": {
    "ExecuteTime": {
     "end_time": "2023-09-22T05:08:32.596001Z",
     "start_time": "2023-09-22T05:08:32.580310Z"
    }
   },
   "outputs": [],
   "source": [
    "a = np.array([1,2,3,4])\n",
    "b = np.array([4,2,2,3])"
   ]
  },
  {
   "cell_type": "code",
   "execution_count": 57,
   "id": "50913921",
   "metadata": {
    "ExecuteTime": {
     "end_time": "2023-09-22T05:08:49.853417Z",
     "start_time": "2023-09-22T05:08:49.841928Z"
    }
   },
   "outputs": [
    {
     "data": {
      "text/plain": [
       "array([False,  True, False, False])"
      ]
     },
     "execution_count": 57,
     "metadata": {},
     "output_type": "execute_result"
    }
   ],
   "source": [
    "a == b"
   ]
  },
  {
   "cell_type": "code",
   "execution_count": 58,
   "id": "c2ea510c",
   "metadata": {
    "ExecuteTime": {
     "end_time": "2023-09-22T05:09:24.471904Z",
     "start_time": "2023-09-22T05:09:24.464364Z"
    }
   },
   "outputs": [
    {
     "data": {
      "text/plain": [
       "array([False,  True,  True,  True])"
      ]
     },
     "execution_count": 58,
     "metadata": {},
     "output_type": "execute_result"
    }
   ],
   "source": [
    "a >= b"
   ]
  },
  {
   "cell_type": "code",
   "execution_count": 59,
   "id": "b208bb7e",
   "metadata": {
    "ExecuteTime": {
     "end_time": "2023-09-22T05:09:48.305683Z",
     "start_time": "2023-09-22T05:09:48.298660Z"
    }
   },
   "outputs": [
    {
     "data": {
      "text/plain": [
       "False"
      ]
     },
     "execution_count": 59,
     "metadata": {},
     "output_type": "execute_result"
    }
   ],
   "source": [
    "np.all(a == b)"
   ]
  },
  {
   "cell_type": "code",
   "execution_count": 60,
   "id": "739bd186",
   "metadata": {
    "ExecuteTime": {
     "end_time": "2023-09-22T05:10:29.926518Z",
     "start_time": "2023-09-22T05:10:29.912528Z"
    }
   },
   "outputs": [
    {
     "data": {
      "text/plain": [
       "array([0, 1, 2, 3, 4])"
      ]
     },
     "execution_count": 60,
     "metadata": {},
     "output_type": "execute_result"
    }
   ],
   "source": [
    "a = np.arange(5)\n",
    "a"
   ]
  },
  {
   "cell_type": "code",
   "execution_count": 61,
   "id": "a5e6c2e9",
   "metadata": {
    "ExecuteTime": {
     "end_time": "2023-09-22T05:11:00.111611Z",
     "start_time": "2023-09-22T05:11:00.095335Z"
    }
   },
   "outputs": [
    {
     "data": {
      "text/plain": [
       "array([ 1.        ,  2.71828183,  7.3890561 , 20.08553692, 54.59815003])"
      ]
     },
     "execution_count": 61,
     "metadata": {},
     "output_type": "execute_result"
    }
   ],
   "source": [
    "np.exp(a)"
   ]
  },
  {
   "cell_type": "code",
   "execution_count": 62,
   "id": "b1f99306",
   "metadata": {
    "ExecuteTime": {
     "end_time": "2023-09-22T05:11:11.021870Z",
     "start_time": "2023-09-22T05:11:10.999522Z"
    }
   },
   "outputs": [
    {
     "data": {
      "text/plain": [
       "array([    1,    10,   100,  1000, 10000], dtype=int32)"
      ]
     },
     "execution_count": 62,
     "metadata": {},
     "output_type": "execute_result"
    }
   ],
   "source": [
    "10 ** a"
   ]
  },
  {
   "cell_type": "code",
   "execution_count": 63,
   "id": "dffb6a26",
   "metadata": {
    "ExecuteTime": {
     "end_time": "2023-09-22T05:11:35.958200Z",
     "start_time": "2023-09-22T05:11:35.937237Z"
    }
   },
   "outputs": [
    {
     "data": {
      "text/plain": [
       "array([0.        , 0.69314718, 1.09861229, 1.38629436, 1.60943791])"
      ]
     },
     "execution_count": 63,
     "metadata": {},
     "output_type": "execute_result"
    }
   ],
   "source": [
    "np.log(a+1)"
   ]
  },
  {
   "cell_type": "code",
   "execution_count": 64,
   "id": "db03e50e",
   "metadata": {
    "ExecuteTime": {
     "end_time": "2023-09-22T05:11:56.247157Z",
     "start_time": "2023-09-22T05:11:56.235114Z"
    }
   },
   "outputs": [
    {
     "data": {
      "text/plain": [
       "array([0, 1, 2, 3, 4, 5, 6, 7, 8, 9])"
      ]
     },
     "execution_count": 64,
     "metadata": {},
     "output_type": "execute_result"
    }
   ],
   "source": [
    "x = np.arange(10)\n",
    "x"
   ]
  },
  {
   "cell_type": "code",
   "execution_count": 65,
   "id": "bed5b91e",
   "metadata": {
    "ExecuteTime": {
     "end_time": "2023-09-22T05:12:06.097903Z",
     "start_time": "2023-09-22T05:12:06.087924Z"
    }
   },
   "outputs": [
    {
     "data": {
      "text/plain": [
       "array([  0, 100, 200, 300, 400, 500, 600, 700, 800, 900])"
      ]
     },
     "execution_count": 65,
     "metadata": {},
     "output_type": "execute_result"
    }
   ],
   "source": [
    "100 * x"
   ]
  },
  {
   "cell_type": "code",
   "execution_count": 66,
   "id": "6c994e91",
   "metadata": {
    "ExecuteTime": {
     "end_time": "2023-09-22T05:12:53.785015Z",
     "start_time": "2023-09-22T05:12:53.768681Z"
    }
   },
   "outputs": [
    {
     "data": {
      "text/plain": [
       "array([[ 0,  1,  2,  3],\n",
       "       [ 4,  5,  6,  7],\n",
       "       [ 8,  9, 10, 11]])"
      ]
     },
     "execution_count": 66,
     "metadata": {},
     "output_type": "execute_result"
    }
   ],
   "source": [
    "x = np.arange(12).reshape(3,4)\n",
    "x"
   ]
  },
  {
   "cell_type": "markdown",
   "id": "e649c91f",
   "metadata": {},
   "source": [
    "## 브로드캐스팅\n",
    "- 서로 크기가 다른 배열의 사칙연산을 수행하는 기능\n",
    "- 크기가 작은 배열이 자동적으로 크기가 큰 배열의 크기로 맞춰지는 기능"
   ]
  },
  {
   "cell_type": "code",
   "execution_count": 67,
   "id": "93933859",
   "metadata": {
    "ExecuteTime": {
     "end_time": "2023-09-22T05:14:37.465598Z",
     "start_time": "2023-09-22T05:14:37.457542Z"
    }
   },
   "outputs": [
    {
     "data": {
      "text/plain": [
       "array([0, 1, 2, 3, 4])"
      ]
     },
     "execution_count": 67,
     "metadata": {},
     "output_type": "execute_result"
    }
   ],
   "source": [
    "x = np.arange(5)\n",
    "x"
   ]
  },
  {
   "cell_type": "code",
   "execution_count": 68,
   "id": "c28f75df",
   "metadata": {
    "ExecuteTime": {
     "end_time": "2023-09-22T05:15:05.485960Z",
     "start_time": "2023-09-22T05:15:05.480891Z"
    }
   },
   "outputs": [
    {
     "data": {
      "text/plain": [
       "array([1, 1, 1, 1, 1])"
      ]
     },
     "execution_count": 68,
     "metadata": {},
     "output_type": "execute_result"
    }
   ],
   "source": [
    "y = np.ones_like(x)\n",
    "y"
   ]
  },
  {
   "cell_type": "code",
   "execution_count": 69,
   "id": "05de4b1b",
   "metadata": {
    "ExecuteTime": {
     "end_time": "2023-09-22T05:15:16.234113Z",
     "start_time": "2023-09-22T05:15:16.219241Z"
    }
   },
   "outputs": [
    {
     "data": {
      "text/plain": [
       "array([1, 2, 3, 4, 5])"
      ]
     },
     "execution_count": 69,
     "metadata": {},
     "output_type": "execute_result"
    }
   ],
   "source": [
    "x + y"
   ]
  },
  {
   "cell_type": "code",
   "execution_count": 70,
   "id": "4af817b1",
   "metadata": {
    "ExecuteTime": {
     "end_time": "2023-09-22T05:16:17.125485Z",
     "start_time": "2023-09-22T05:16:17.105026Z"
    }
   },
   "outputs": [
    {
     "data": {
      "text/plain": [
       "array([[ 0,  1,  2,  3],\n",
       "       [ 4,  5,  6,  7],\n",
       "       [ 8,  9, 10, 11]])"
      ]
     },
     "execution_count": 70,
     "metadata": {},
     "output_type": "execute_result"
    }
   ],
   "source": [
    "y = np.arange(12).reshape(3,4)\n",
    "y"
   ]
  },
  {
   "cell_type": "code",
   "execution_count": 71,
   "id": "2e91fe4e",
   "metadata": {
    "ExecuteTime": {
     "end_time": "2023-09-22T05:16:26.855571Z",
     "start_time": "2023-09-22T05:16:26.843789Z"
    }
   },
   "outputs": [
    {
     "data": {
      "text/plain": [
       "array([[ 1,  2,  3,  4],\n",
       "       [ 5,  6,  7,  8],\n",
       "       [ 9, 10, 11, 12]])"
      ]
     },
     "execution_count": 71,
     "metadata": {},
     "output_type": "execute_result"
    }
   ],
   "source": [
    "y+1"
   ]
  },
  {
   "cell_type": "code",
   "execution_count": 72,
   "id": "e1b2f244",
   "metadata": {
    "ExecuteTime": {
     "end_time": "2023-09-22T05:17:39.490174Z",
     "start_time": "2023-09-22T05:17:39.482180Z"
    }
   },
   "outputs": [
    {
     "data": {
      "text/plain": [
       "array([[1, 1, 1, 1],\n",
       "       [1, 1, 1, 1],\n",
       "       [1, 1, 1, 1]])"
      ]
     },
     "execution_count": 72,
     "metadata": {},
     "output_type": "execute_result"
    }
   ],
   "source": [
    "z = np.ones_like(y)\n",
    "z"
   ]
  },
  {
   "cell_type": "code",
   "execution_count": 73,
   "id": "1ba35d14",
   "metadata": {
    "ExecuteTime": {
     "end_time": "2023-09-22T05:18:01.168869Z",
     "start_time": "2023-09-22T05:18:01.159812Z"
    }
   },
   "outputs": [
    {
     "data": {
      "text/plain": [
       "array([[ 1,  2,  3,  4],\n",
       "       [ 5,  6,  7,  8],\n",
       "       [ 9, 10, 11, 12]])"
      ]
     },
     "execution_count": 73,
     "metadata": {},
     "output_type": "execute_result"
    }
   ],
   "source": [
    "y + z"
   ]
  },
  {
   "cell_type": "markdown",
   "id": "b226e3e1",
   "metadata": {},
   "source": [
    "## 그룹함수 or 차원축소 연산\n",
    "- 최대/최소 : min ,max ,argmin, argmax\n",
    "- 기초통계 : sum, mean, median, std, var\n",
    "- 논리연산 : all, any"
   ]
  },
  {
   "cell_type": "code",
   "execution_count": 74,
   "id": "250b49f1",
   "metadata": {
    "ExecuteTime": {
     "end_time": "2023-09-22T05:20:58.626236Z",
     "start_time": "2023-09-22T05:20:58.610619Z"
    }
   },
   "outputs": [
    {
     "data": {
      "text/plain": [
       "array([1, 2, 3, 4])"
      ]
     },
     "execution_count": 74,
     "metadata": {},
     "output_type": "execute_result"
    }
   ],
   "source": [
    "x = np.array([1,2,3,4])\n",
    "x"
   ]
  },
  {
   "cell_type": "code",
   "execution_count": 75,
   "id": "ade0ee6f",
   "metadata": {
    "ExecuteTime": {
     "end_time": "2023-09-22T05:21:28.056559Z",
     "start_time": "2023-09-22T05:21:28.048459Z"
    }
   },
   "outputs": [
    {
     "data": {
      "text/plain": [
       "10"
      ]
     },
     "execution_count": 75,
     "metadata": {},
     "output_type": "execute_result"
    }
   ],
   "source": [
    "np.sum(x)"
   ]
  },
  {
   "cell_type": "code",
   "execution_count": 76,
   "id": "f72d0e35",
   "metadata": {
    "ExecuteTime": {
     "end_time": "2023-09-22T05:21:49.265480Z",
     "start_time": "2023-09-22T05:21:49.249183Z"
    }
   },
   "outputs": [
    {
     "data": {
      "text/plain": [
       "10"
      ]
     },
     "execution_count": 76,
     "metadata": {},
     "output_type": "execute_result"
    }
   ],
   "source": [
    "x.sum()"
   ]
  },
  {
   "cell_type": "code",
   "execution_count": 77,
   "id": "693e59f5",
   "metadata": {
    "ExecuteTime": {
     "end_time": "2023-09-22T05:22:11.952906Z",
     "start_time": "2023-09-22T05:22:11.937709Z"
    }
   },
   "outputs": [
    {
     "data": {
      "text/plain": [
       "array([1, 3, 2])"
      ]
     },
     "execution_count": 77,
     "metadata": {},
     "output_type": "execute_result"
    }
   ],
   "source": [
    "x = np.array([1,3,2])\n",
    "x"
   ]
  },
  {
   "cell_type": "code",
   "execution_count": 78,
   "id": "e4fa8daf",
   "metadata": {
    "ExecuteTime": {
     "end_time": "2023-09-22T05:22:25.040314Z",
     "start_time": "2023-09-22T05:22:25.023588Z"
    }
   },
   "outputs": [
    {
     "data": {
      "text/plain": [
       "1"
      ]
     },
     "execution_count": 78,
     "metadata": {},
     "output_type": "execute_result"
    }
   ],
   "source": [
    "np.min(x)"
   ]
  },
  {
   "cell_type": "code",
   "execution_count": 79,
   "id": "f12334e9",
   "metadata": {
    "ExecuteTime": {
     "end_time": "2023-09-22T05:22:32.904203Z",
     "start_time": "2023-09-22T05:22:32.888604Z"
    }
   },
   "outputs": [
    {
     "data": {
      "text/plain": [
       "1"
      ]
     },
     "execution_count": 79,
     "metadata": {},
     "output_type": "execute_result"
    }
   ],
   "source": [
    "x.min()"
   ]
  },
  {
   "cell_type": "code",
   "execution_count": 81,
   "id": "778c1a61",
   "metadata": {
    "ExecuteTime": {
     "end_time": "2023-09-22T05:23:29.438076Z",
     "start_time": "2023-09-22T05:23:29.419797Z"
    }
   },
   "outputs": [
    {
     "data": {
      "text/plain": [
       "0"
      ]
     },
     "execution_count": 81,
     "metadata": {},
     "output_type": "execute_result"
    }
   ],
   "source": [
    "x.argmin()"
   ]
  },
  {
   "cell_type": "code",
   "execution_count": 82,
   "id": "5a06ea6f",
   "metadata": {
    "ExecuteTime": {
     "end_time": "2023-09-22T05:23:36.451721Z",
     "start_time": "2023-09-22T05:23:36.433434Z"
    }
   },
   "outputs": [
    {
     "data": {
      "text/plain": [
       "1"
      ]
     },
     "execution_count": 82,
     "metadata": {},
     "output_type": "execute_result"
    }
   ],
   "source": [
    "x.argmax()"
   ]
  },
  {
   "cell_type": "code",
   "execution_count": 83,
   "id": "93c6e0d8",
   "metadata": {
    "ExecuteTime": {
     "end_time": "2023-09-22T05:23:58.511536Z",
     "start_time": "2023-09-22T05:23:58.501486Z"
    }
   },
   "outputs": [
    {
     "data": {
      "text/plain": [
       "2.0"
      ]
     },
     "execution_count": 83,
     "metadata": {},
     "output_type": "execute_result"
    }
   ],
   "source": [
    "x.mean()"
   ]
  },
  {
   "cell_type": "code",
   "execution_count": 84,
   "id": "7029f463",
   "metadata": {
    "ExecuteTime": {
     "end_time": "2023-09-22T05:24:06.539968Z",
     "start_time": "2023-09-22T05:24:06.530929Z"
    }
   },
   "outputs": [
    {
     "data": {
      "text/plain": [
       "2.0"
      ]
     },
     "execution_count": 84,
     "metadata": {},
     "output_type": "execute_result"
    }
   ],
   "source": [
    "np.mean(x)"
   ]
  },
  {
   "cell_type": "code",
   "execution_count": 85,
   "id": "234edc5f",
   "metadata": {
    "ExecuteTime": {
     "end_time": "2023-09-22T05:24:19.033168Z",
     "start_time": "2023-09-22T05:24:19.004939Z"
    }
   },
   "outputs": [
    {
     "data": {
      "text/plain": [
       "2.0"
      ]
     },
     "execution_count": 85,
     "metadata": {},
     "output_type": "execute_result"
    }
   ],
   "source": [
    "np.median(x)"
   ]
  },
  {
   "cell_type": "code",
   "execution_count": 86,
   "id": "e13bbc07",
   "metadata": {
    "ExecuteTime": {
     "end_time": "2023-09-22T05:24:44.666487Z",
     "start_time": "2023-09-22T05:24:44.646333Z"
    }
   },
   "outputs": [
    {
     "data": {
      "text/plain": [
       "array([1, 2, 3, 1])"
      ]
     },
     "execution_count": 86,
     "metadata": {},
     "output_type": "execute_result"
    }
   ],
   "source": [
    "y = np.array([1,2,3,1])\n",
    "y"
   ]
  },
  {
   "cell_type": "code",
   "execution_count": 88,
   "id": "6c627836",
   "metadata": {
    "ExecuteTime": {
     "end_time": "2023-09-22T05:25:03.622323Z",
     "start_time": "2023-09-22T05:25:03.595212Z"
    }
   },
   "outputs": [
    {
     "data": {
      "text/plain": [
       "1.5"
      ]
     },
     "execution_count": 88,
     "metadata": {},
     "output_type": "execute_result"
    }
   ],
   "source": [
    "np.median(y)"
   ]
  },
  {
   "cell_type": "code",
   "execution_count": 89,
   "id": "1f4eeef9",
   "metadata": {
    "ExecuteTime": {
     "end_time": "2023-09-22T05:27:33.601915Z",
     "start_time": "2023-09-22T05:27:33.591708Z"
    }
   },
   "outputs": [
    {
     "data": {
      "text/plain": [
       "False"
      ]
     },
     "execution_count": 89,
     "metadata": {},
     "output_type": "execute_result"
    }
   ],
   "source": [
    "np.all([True,True,False])"
   ]
  },
  {
   "cell_type": "code",
   "execution_count": 90,
   "id": "f4023951",
   "metadata": {
    "ExecuteTime": {
     "end_time": "2023-09-22T05:27:39.086095Z",
     "start_time": "2023-09-22T05:27:39.076143Z"
    }
   },
   "outputs": [
    {
     "data": {
      "text/plain": [
       "True"
      ]
     },
     "execution_count": 90,
     "metadata": {},
     "output_type": "execute_result"
    }
   ],
   "source": [
    "np.any([True,True,False])"
   ]
  },
  {
   "cell_type": "code",
   "execution_count": 91,
   "id": "5fcf8bab",
   "metadata": {
    "ExecuteTime": {
     "end_time": "2023-09-22T05:29:06.583579Z",
     "start_time": "2023-09-22T05:29:06.572540Z"
    }
   },
   "outputs": [
    {
     "data": {
      "text/plain": [
       "array([[0, 0, 0, ..., 0, 0, 0],\n",
       "       [0, 0, 0, ..., 0, 0, 0],\n",
       "       [0, 0, 0, ..., 0, 0, 0],\n",
       "       ...,\n",
       "       [0, 0, 0, ..., 0, 0, 0],\n",
       "       [0, 0, 0, ..., 0, 0, 0],\n",
       "       [0, 0, 0, ..., 0, 0, 0]], dtype=int32)"
      ]
     },
     "execution_count": 91,
     "metadata": {},
     "output_type": "execute_result"
    }
   ],
   "source": [
    "a = np.zeros((100,100),dtype='i')\n",
    "a"
   ]
  },
  {
   "cell_type": "code",
   "execution_count": 92,
   "id": "7015f195",
   "metadata": {
    "ExecuteTime": {
     "end_time": "2023-09-22T05:29:27.380849Z",
     "start_time": "2023-09-22T05:29:27.350008Z"
    }
   },
   "outputs": [
    {
     "data": {
      "text/plain": [
       "False"
      ]
     },
     "execution_count": 92,
     "metadata": {},
     "output_type": "execute_result"
    }
   ],
   "source": [
    "np.any(a != 0)"
   ]
  },
  {
   "cell_type": "code",
   "execution_count": 93,
   "id": "dfe77997",
   "metadata": {
    "ExecuteTime": {
     "end_time": "2023-09-22T05:29:57.434981Z",
     "start_time": "2023-09-22T05:29:57.421954Z"
    }
   },
   "outputs": [
    {
     "data": {
      "text/plain": [
       "True"
      ]
     },
     "execution_count": 93,
     "metadata": {},
     "output_type": "execute_result"
    }
   ],
   "source": [
    "np.all(a == a)"
   ]
  },
  {
   "cell_type": "code",
   "execution_count": 94,
   "id": "a2fdee1a",
   "metadata": {
    "ExecuteTime": {
     "end_time": "2023-09-22T05:30:46.451997Z",
     "start_time": "2023-09-22T05:30:46.442246Z"
    }
   },
   "outputs": [],
   "source": [
    "a = np.array([1,2,3,2])\n",
    "b = np.array([2,2,3,4])\n",
    "c = np.array([6,4,4,5])"
   ]
  },
  {
   "cell_type": "code",
   "execution_count": 97,
   "id": "deabd6be",
   "metadata": {
    "ExecuteTime": {
     "end_time": "2023-09-22T05:32:04.478211Z",
     "start_time": "2023-09-22T05:32:04.465189Z"
    }
   },
   "outputs": [
    {
     "data": {
      "text/plain": [
       "True"
      ]
     },
     "execution_count": 97,
     "metadata": {},
     "output_type": "execute_result"
    }
   ],
   "source": [
    "((a <= b) & (b <= c)).all()"
   ]
  },
  {
   "cell_type": "markdown",
   "id": "741ae0f7",
   "metadata": {},
   "source": [
    "- 축 : axis=0(열), axis=1(행), default(axis=0)"
   ]
  },
  {
   "cell_type": "code",
   "execution_count": 101,
   "id": "d74cecfa",
   "metadata": {
    "ExecuteTime": {
     "end_time": "2023-09-22T05:34:24.781517Z",
     "start_time": "2023-09-22T05:34:24.763068Z"
    }
   },
   "outputs": [
    {
     "data": {
      "text/plain": [
       "array([[1, 1],\n",
       "       [2, 2]])"
      ]
     },
     "execution_count": 101,
     "metadata": {},
     "output_type": "execute_result"
    }
   ],
   "source": [
    "x = np.array([[1,1],[2,2]])\n",
    "x"
   ]
  },
  {
   "cell_type": "code",
   "execution_count": 102,
   "id": "9a90ff3d",
   "metadata": {
    "ExecuteTime": {
     "end_time": "2023-09-22T05:34:44.231751Z",
     "start_time": "2023-09-22T05:34:44.212721Z"
    }
   },
   "outputs": [
    {
     "data": {
      "text/plain": [
       "6"
      ]
     },
     "execution_count": 102,
     "metadata": {},
     "output_type": "execute_result"
    }
   ],
   "source": [
    "x.sum()"
   ]
  },
  {
   "cell_type": "code",
   "execution_count": 103,
   "id": "cf8aa90b",
   "metadata": {
    "ExecuteTime": {
     "end_time": "2023-09-22T05:34:58.525691Z",
     "start_time": "2023-09-22T05:34:58.506139Z"
    }
   },
   "outputs": [
    {
     "data": {
      "text/plain": [
       "array([3, 3])"
      ]
     },
     "execution_count": 103,
     "metadata": {},
     "output_type": "execute_result"
    }
   ],
   "source": [
    "x.sum(axis=0)"
   ]
  },
  {
   "cell_type": "code",
   "execution_count": 104,
   "id": "18e7da28",
   "metadata": {
    "ExecuteTime": {
     "end_time": "2023-09-22T05:35:33.503050Z",
     "start_time": "2023-09-22T05:35:33.484871Z"
    }
   },
   "outputs": [
    {
     "data": {
      "text/plain": [
       "array([2, 4])"
      ]
     },
     "execution_count": 104,
     "metadata": {},
     "output_type": "execute_result"
    }
   ],
   "source": [
    "x.sum(axis=1)"
   ]
  },
  {
   "cell_type": "markdown",
   "id": "da93b317",
   "metadata": {},
   "source": [
    "## 정렬(sort)\n",
    "- 2차원 이상일 경우에는 행이나 열을 각각 따로 정렬\n",
    "- axis = 0 각 열을 기준으로 정렬, 1이면 행을 기준으로 정렬\n",
    "- 생략하면 axis = 0\n",
    "- axis = -1가 주어지면 안쪽차원이 기준"
   ]
  },
  {
   "cell_type": "code",
   "execution_count": 112,
   "id": "e7433e64",
   "metadata": {
    "ExecuteTime": {
     "end_time": "2023-09-22T05:44:42.127991Z",
     "start_time": "2023-09-22T05:44:42.111308Z"
    }
   },
   "outputs": [
    {
     "data": {
      "text/plain": [
       "array([[ 4,  3,  5,  7],\n",
       "       [ 1, 12, 11,  9],\n",
       "       [ 2, 15,  1, 14]])"
      ]
     },
     "execution_count": 112,
     "metadata": {},
     "output_type": "execute_result"
    }
   ],
   "source": [
    "a = np.array([[4,3,5,7],\n",
    "              [1,12,11,9],\n",
    "              [2,15,1,14]])\n",
    "a"
   ]
  },
  {
   "cell_type": "code",
   "execution_count": 107,
   "id": "1c368098",
   "metadata": {
    "ExecuteTime": {
     "end_time": "2023-09-22T05:41:54.619210Z",
     "start_time": "2023-09-22T05:41:54.608145Z"
    }
   },
   "outputs": [
    {
     "data": {
      "text/plain": [
       "array([[ 3,  4,  5,  7],\n",
       "       [ 1,  9, 11, 12],\n",
       "       [ 1,  2, 14, 15]])"
      ]
     },
     "execution_count": 107,
     "metadata": {},
     "output_type": "execute_result"
    }
   ],
   "source": [
    "np.sort(a) # axis=1은 axis=-1 과 동일"
   ]
  },
  {
   "cell_type": "code",
   "execution_count": 108,
   "id": "07c89c65",
   "metadata": {
    "ExecuteTime": {
     "end_time": "2023-09-22T05:42:07.307048Z",
     "start_time": "2023-09-22T05:42:07.299025Z"
    }
   },
   "outputs": [
    {
     "data": {
      "text/plain": [
       "array([[ 1,  3,  1,  7],\n",
       "       [ 2, 12,  5,  9],\n",
       "       [ 4, 15, 11, 14]])"
      ]
     },
     "execution_count": 108,
     "metadata": {},
     "output_type": "execute_result"
    }
   ],
   "source": [
    "np.sort(a,axis=0)"
   ]
  },
  {
   "cell_type": "code",
   "execution_count": 109,
   "id": "1045b6d7",
   "metadata": {
    "ExecuteTime": {
     "end_time": "2023-09-22T05:42:48.555725Z",
     "start_time": "2023-09-22T05:42:48.540514Z"
    }
   },
   "outputs": [
    {
     "data": {
      "text/plain": [
       "array([[ 3,  4,  5,  7],\n",
       "       [ 1,  9, 11, 12],\n",
       "       [ 1,  2, 14, 15]])"
      ]
     },
     "execution_count": 109,
     "metadata": {},
     "output_type": "execute_result"
    }
   ],
   "source": [
    "np.sort(a,axis=-1)"
   ]
  },
  {
   "cell_type": "code",
   "execution_count": 111,
   "id": "975042c7",
   "metadata": {
    "ExecuteTime": {
     "end_time": "2023-09-22T05:44:12.558065Z",
     "start_time": "2023-09-22T05:44:12.544285Z"
    }
   },
   "outputs": [
    {
     "data": {
      "text/plain": [
       "array([[ 3,  4,  5,  7],\n",
       "       [ 1,  9, 11, 12],\n",
       "       [ 1,  2, 14, 15]])"
      ]
     },
     "execution_count": 111,
     "metadata": {},
     "output_type": "execute_result"
    }
   ],
   "source": [
    "a.sort()\n",
    "a"
   ]
  },
  {
   "cell_type": "code",
   "execution_count": 113,
   "id": "1fa09000",
   "metadata": {
    "ExecuteTime": {
     "end_time": "2023-09-22T05:44:50.733398Z",
     "start_time": "2023-09-22T05:44:50.720442Z"
    }
   },
   "outputs": [
    {
     "data": {
      "text/plain": [
       "array([[ 3,  4,  5,  7],\n",
       "       [ 1,  9, 11, 12],\n",
       "       [ 1,  2, 14, 15]])"
      ]
     },
     "execution_count": 113,
     "metadata": {},
     "output_type": "execute_result"
    }
   ],
   "source": [
    "a.sort(axis=1)\n",
    "a"
   ]
  },
  {
   "cell_type": "code",
   "execution_count": 115,
   "id": "e05b8c94",
   "metadata": {
    "ExecuteTime": {
     "end_time": "2023-09-22T05:46:28.650291Z",
     "start_time": "2023-09-22T05:46:28.641170Z"
    }
   },
   "outputs": [
    {
     "data": {
      "text/plain": [
       "array([1, 2, 0, 3], dtype=int64)"
      ]
     },
     "execution_count": 115,
     "metadata": {},
     "output_type": "execute_result"
    }
   ],
   "source": [
    "# 정렬을 하지않고 순서만 알고 싶다면 argsort 명령어 사용\n",
    "a = np.array([4,2,3,8])\n",
    "b = np.argsort(a)\n",
    "b"
   ]
  },
  {
   "cell_type": "code",
   "execution_count": 117,
   "id": "7e20e30d",
   "metadata": {
    "ExecuteTime": {
     "end_time": "2023-09-22T05:47:29.413651Z",
     "start_time": "2023-09-22T05:47:29.406044Z"
    }
   },
   "outputs": [
    {
     "data": {
      "text/plain": [
       "array([2, 3, 4, 8])"
      ]
     },
     "execution_count": 117,
     "metadata": {},
     "output_type": "execute_result"
    }
   ],
   "source": [
    "a[b]"
   ]
  },
  {
   "cell_type": "code",
   "execution_count": 118,
   "id": "af116d0b",
   "metadata": {
    "ExecuteTime": {
     "end_time": "2023-09-22T05:47:39.204722Z",
     "start_time": "2023-09-22T05:47:39.186270Z"
    }
   },
   "outputs": [
    {
     "data": {
      "text/plain": [
       "array([2, 3, 4, 8])"
      ]
     },
     "execution_count": 118,
     "metadata": {},
     "output_type": "execute_result"
    }
   ],
   "source": [
    "np.sort(a)"
   ]
  },
  {
   "cell_type": "markdown",
   "id": "2a9f8fd3",
   "metadata": {},
   "source": [
    "## Fancy Indexing : 펜시 인덱싱\n",
    "- boolean 인덱싱을 이용하는 것\n",
    "- 마스크 인덱싱\n",
    "- 규칙이 일정하지 않지만 원하는 데이터를 추출하고자 할 때 사용한다"
   ]
  },
  {
   "cell_type": "code",
   "execution_count": 119,
   "id": "0e329083",
   "metadata": {
    "ExecuteTime": {
     "end_time": "2023-09-22T05:51:24.002148Z",
     "start_time": "2023-09-22T05:51:23.988799Z"
    }
   },
   "outputs": [
    {
     "data": {
      "text/plain": [
       "array(['park', 'park', 'kim', 'joan', 'lee', 'park', 'hong', 'park'],\n",
       "      dtype='<U4')"
      ]
     },
     "execution_count": 119,
     "metadata": {},
     "output_type": "execute_result"
    }
   ],
   "source": [
    "names = np.array(['park','park','kim','joan','lee','park','hong','park'])\n",
    "names"
   ]
  },
  {
   "cell_type": "code",
   "execution_count": 120,
   "id": "fd6c4368",
   "metadata": {
    "ExecuteTime": {
     "end_time": "2023-09-22T05:51:47.017028Z",
     "start_time": "2023-09-22T05:51:47.002719Z"
    }
   },
   "outputs": [
    {
     "data": {
      "text/plain": [
       "(8,)"
      ]
     },
     "execution_count": 120,
     "metadata": {},
     "output_type": "execute_result"
    }
   ],
   "source": [
    "names.shape"
   ]
  },
  {
   "cell_type": "code",
   "execution_count": 121,
   "id": "814a2db8",
   "metadata": {
    "ExecuteTime": {
     "end_time": "2023-09-22T05:54:23.075646Z",
     "start_time": "2023-09-22T05:54:23.063551Z"
    }
   },
   "outputs": [
    {
     "data": {
      "text/plain": [
       "array([[-0.49029003, -0.87045076, -0.8830325 , -0.65618555],\n",
       "       [-0.70107794, -0.96066885, -0.86599088,  0.4428292 ],\n",
       "       [ 1.06418335,  1.93743427, -1.87643794, -1.43245718],\n",
       "       [ 0.71418077, -0.25033832, -0.83504411,  0.18922716],\n",
       "       [ 1.32018859, -2.05789728,  1.19232722,  2.67485656],\n",
       "       [-0.72854976, -1.02737062,  0.09479944,  2.46565138],\n",
       "       [ 0.31036344, -2.54099334, -0.82656604,  0.22577559],\n",
       "       [-0.76070107, -0.88270826, -0.58545037, -0.30198519]])"
      ]
     },
     "execution_count": 121,
     "metadata": {},
     "output_type": "execute_result"
    }
   ],
   "source": [
    "# 정규분포 : np.random.randn(), 평균은 0이고 표준편차는 1인 \n",
    "# np.random.rand() : 0~1 사이의 난수 발생\n",
    "data = np.random.randn(8,4)\n",
    "data"
   ]
  },
  {
   "cell_type": "code",
   "execution_count": 122,
   "id": "6ef97f39",
   "metadata": {
    "ExecuteTime": {
     "end_time": "2023-09-22T05:56:19.319544Z",
     "start_time": "2023-09-22T05:56:19.302601Z"
    }
   },
   "outputs": [
    {
     "data": {
      "text/plain": [
       "(8, 4)"
      ]
     },
     "execution_count": 122,
     "metadata": {},
     "output_type": "execute_result"
    }
   ],
   "source": [
    "data.shape"
   ]
  },
  {
   "cell_type": "code",
   "execution_count": 125,
   "id": "9dda3c77",
   "metadata": {
    "ExecuteTime": {
     "end_time": "2023-09-22T05:57:59.061229Z",
     "start_time": "2023-09-22T05:57:59.039902Z"
    }
   },
   "outputs": [
    {
     "data": {
      "text/plain": [
       "array([[-0.49029003, -0.87045076, -0.8830325 , -0.65618555],\n",
       "       [-0.70107794, -0.96066885, -0.86599088,  0.4428292 ],\n",
       "       [-0.72854976, -1.02737062,  0.09479944,  2.46565138],\n",
       "       [-0.76070107, -0.88270826, -0.58545037, -0.30198519]])"
      ]
     },
     "execution_count": 125,
     "metadata": {},
     "output_type": "execute_result"
    }
   ],
   "source": [
    "index = (names == 'park')\n",
    "data[index,:]"
   ]
  },
  {
   "cell_type": "code",
   "execution_count": 126,
   "id": "090e1103",
   "metadata": {
    "ExecuteTime": {
     "end_time": "2023-09-22T05:59:11.029801Z",
     "start_time": "2023-09-22T05:59:11.010979Z"
    }
   },
   "outputs": [
    {
     "data": {
      "text/plain": [
       "array([[ 1.06418335,  1.93743427, -1.87643794, -1.43245718]])"
      ]
     },
     "execution_count": 126,
     "metadata": {},
     "output_type": "execute_result"
    }
   ],
   "source": [
    "# 요소가 kim인 행의 데이터만 추출\n",
    "data[names=='kim',:]"
   ]
  },
  {
   "cell_type": "code",
   "execution_count": 128,
   "id": "7edac50c",
   "metadata": {
    "ExecuteTime": {
     "end_time": "2023-09-22T06:01:21.347548Z",
     "start_time": "2023-09-22T06:01:21.340867Z"
    }
   },
   "outputs": [
    {
     "data": {
      "text/plain": [
       "array([[ 1.06418335,  1.93743427, -1.87643794, -1.43245718],\n",
       "       [ 0.31036344, -2.54099334, -0.82656604,  0.22577559]])"
      ]
     },
     "execution_count": 128,
     "metadata": {},
     "output_type": "execute_result"
    }
   ],
   "source": [
    "# kim과 hong\n",
    "data[(names == 'kim') | (names =='hong'),:]"
   ]
  },
  {
   "cell_type": "code",
   "execution_count": 129,
   "id": "80391a34",
   "metadata": {
    "ExecuteTime": {
     "end_time": "2023-09-22T06:02:06.838967Z",
     "start_time": "2023-09-22T06:02:06.830827Z"
    }
   },
   "outputs": [
    {
     "data": {
      "text/plain": [
       "array([[-0.49029003, -0.87045076, -0.8830325 , -0.65618555],\n",
       "       [-0.70107794, -0.96066885, -0.86599088,  0.4428292 ],\n",
       "       [ 1.06418335,  1.93743427, -1.87643794, -1.43245718],\n",
       "       [ 0.71418077, -0.25033832, -0.83504411,  0.18922716],\n",
       "       [ 1.32018859, -2.05789728,  1.19232722,  2.67485656],\n",
       "       [-0.72854976, -1.02737062,  0.09479944,  2.46565138],\n",
       "       [ 0.31036344, -2.54099334, -0.82656604,  0.22577559],\n",
       "       [-0.76070107, -0.88270826, -0.58545037, -0.30198519]])"
      ]
     },
     "execution_count": 129,
     "metadata": {},
     "output_type": "execute_result"
    }
   ],
   "source": [
    "data"
   ]
  },
  {
   "cell_type": "code",
   "execution_count": 131,
   "id": "c1a53a1b",
   "metadata": {
    "ExecuteTime": {
     "end_time": "2023-09-22T06:04:54.036107Z",
     "start_time": "2023-09-22T06:04:54.024916Z"
    }
   },
   "outputs": [
    {
     "data": {
      "text/plain": [
       "array([ True,  True, False, False, False,  True, False,  True])"
      ]
     },
     "execution_count": 131,
     "metadata": {},
     "output_type": "execute_result"
    }
   ],
   "source": [
    "# 0번째 열의 값이 0보다 작은 행을 추출\n",
    "data[:,0]<0"
   ]
  },
  {
   "cell_type": "code",
   "execution_count": 132,
   "id": "f1aaa96b",
   "metadata": {
    "ExecuteTime": {
     "end_time": "2023-09-22T06:05:05.118969Z",
     "start_time": "2023-09-22T06:05:05.103159Z"
    }
   },
   "outputs": [
    {
     "data": {
      "text/plain": [
       "array([[-0.49029003, -0.87045076, -0.8830325 , -0.65618555],\n",
       "       [-0.70107794, -0.96066885, -0.86599088,  0.4428292 ],\n",
       "       [-0.72854976, -1.02737062,  0.09479944,  2.46565138],\n",
       "       [-0.76070107, -0.88270826, -0.58545037, -0.30198519]])"
      ]
     },
     "execution_count": 132,
     "metadata": {},
     "output_type": "execute_result"
    }
   ],
   "source": [
    "data[data[:,0]<0,:]"
   ]
  },
  {
   "cell_type": "code",
   "execution_count": 136,
   "id": "1a090d10",
   "metadata": {
    "ExecuteTime": {
     "end_time": "2023-09-22T06:07:12.480571Z",
     "start_time": "2023-09-22T06:07:12.463340Z"
    }
   },
   "outputs": [
    {
     "data": {
      "text/plain": [
       "array([[-0.8830325 , -0.65618555],\n",
       "       [-0.86599088,  0.4428292 ],\n",
       "       [ 0.09479944,  2.46565138],\n",
       "       [-0.58545037, -0.30198519]])"
      ]
     },
     "execution_count": 136,
     "metadata": {},
     "output_type": "execute_result"
    }
   ],
   "source": [
    "# 0번째 열의 값이 0보다 작은 행의 2,3번째 열의 값\n",
    "data[data[:,0]<0,2:4]"
   ]
  },
  {
   "cell_type": "code",
   "execution_count": 137,
   "id": "0e0638c8",
   "metadata": {
    "ExecuteTime": {
     "end_time": "2023-09-22T06:07:36.504002Z",
     "start_time": "2023-09-22T06:07:36.489527Z"
    }
   },
   "outputs": [
    {
     "data": {
      "text/plain": [
       "array([[-0.49029003, -0.87045076,  0.        ,  0.        ],\n",
       "       [-0.70107794, -0.96066885,  0.        ,  0.        ],\n",
       "       [ 1.06418335,  1.93743427, -1.87643794, -1.43245718],\n",
       "       [ 0.71418077, -0.25033832, -0.83504411,  0.18922716],\n",
       "       [ 1.32018859, -2.05789728,  1.19232722,  2.67485656],\n",
       "       [-0.72854976, -1.02737062,  0.        ,  0.        ],\n",
       "       [ 0.31036344, -2.54099334, -0.82656604,  0.22577559],\n",
       "       [-0.76070107, -0.88270826,  0.        ,  0.        ]])"
      ]
     },
     "execution_count": 137,
     "metadata": {},
     "output_type": "execute_result"
    }
   ],
   "source": [
    "# 0번째 열의 값이 0보다 작은 행의 2,3번째 열의값을 0으로 치환\n",
    "data[data[:,0]<0,2:4] =0 \n",
    "data"
   ]
  },
  {
   "cell_type": "markdown",
   "id": "7cdaecb0",
   "metadata": {},
   "source": [
    "# 기술통계분석"
   ]
  },
  {
   "cell_type": "code",
   "execution_count": 138,
   "id": "e071e0b9",
   "metadata": {
    "ExecuteTime": {
     "end_time": "2023-09-22T06:19:25.309787Z",
     "start_time": "2023-09-22T06:19:25.286864Z"
    }
   },
   "outputs": [
    {
     "data": {
      "text/plain": [
       "array([ 18,   5,  10,  23,  19,  -8,  10,   0,   0,   5,   2,  15,   8,\n",
       "         2,   5,   4,  15,  -1,   4,  -7, -24,   7,   9,  -6,  23, -13])"
      ]
     },
     "execution_count": 138,
     "metadata": {},
     "output_type": "execute_result"
    }
   ],
   "source": [
    "x = np.array([18,5,10,23,19,-8,10,0,0,5,2,15,8,2,5,4,15,-1,4,-7,-24,7,9,-6,23,-13])\n",
    "x"
   ]
  },
  {
   "cell_type": "markdown",
   "id": "849a64b6",
   "metadata": {},
   "source": [
    "## 데이터의 개수 : len"
   ]
  },
  {
   "cell_type": "code",
   "execution_count": 139,
   "id": "74365089",
   "metadata": {
    "ExecuteTime": {
     "end_time": "2023-09-22T06:20:15.204426Z",
     "start_time": "2023-09-22T06:20:15.182772Z"
    }
   },
   "outputs": [
    {
     "data": {
      "text/plain": [
       "26"
      ]
     },
     "execution_count": 139,
     "metadata": {},
     "output_type": "execute_result"
    }
   ],
   "source": [
    "len(x)"
   ]
  },
  {
   "cell_type": "markdown",
   "id": "4a826dbf",
   "metadata": {},
   "source": [
    "## 평균 : mean"
   ]
  },
  {
   "cell_type": "code",
   "execution_count": 140,
   "id": "6d0500c1",
   "metadata": {
    "ExecuteTime": {
     "end_time": "2023-09-22T06:21:12.687725Z",
     "start_time": "2023-09-22T06:21:12.669275Z"
    }
   },
   "outputs": [
    {
     "data": {
      "text/plain": [
       "4.8076923076923075"
      ]
     },
     "execution_count": 140,
     "metadata": {},
     "output_type": "execute_result"
    }
   ],
   "source": [
    "np.mean(x)"
   ]
  },
  {
   "cell_type": "markdown",
   "id": "b10946d5",
   "metadata": {
    "ExecuteTime": {
     "end_time": "2023-09-22T06:21:28.541919Z",
     "start_time": "2023-09-22T06:21:28.513981Z"
    }
   },
   "source": [
    "## 분산 :var"
   ]
  },
  {
   "cell_type": "code",
   "execution_count": 142,
   "id": "ab8e48d8",
   "metadata": {
    "ExecuteTime": {
     "end_time": "2023-09-22T06:21:45.491014Z",
     "start_time": "2023-09-22T06:21:45.475067Z"
    }
   },
   "outputs": [
    {
     "data": {
      "text/plain": [
       "115.23224852071006"
      ]
     },
     "execution_count": 142,
     "metadata": {},
     "output_type": "execute_result"
    }
   ],
   "source": [
    "np.var(x)"
   ]
  },
  {
   "cell_type": "code",
   "execution_count": 145,
   "id": "1ed253dc",
   "metadata": {
    "ExecuteTime": {
     "end_time": "2023-09-22T06:23:08.926945Z",
     "start_time": "2023-09-22T06:23:08.920919Z"
    }
   },
   "outputs": [
    {
     "data": {
      "text/plain": [
       "119.84153846153846"
      ]
     },
     "execution_count": 145,
     "metadata": {},
     "output_type": "execute_result"
    }
   ],
   "source": [
    "# 비편향 분석\n",
    "np.var(x,ddof=1)"
   ]
  },
  {
   "cell_type": "markdown",
   "id": "98084c2a",
   "metadata": {},
   "source": [
    "## 표준편차 : std"
   ]
  },
  {
   "cell_type": "code",
   "execution_count": 146,
   "id": "b6b3ec67",
   "metadata": {
    "ExecuteTime": {
     "end_time": "2023-09-22T06:23:33.424533Z",
     "start_time": "2023-09-22T06:23:33.412518Z"
    }
   },
   "outputs": [
    {
     "data": {
      "text/plain": [
       "10.734628476137871"
      ]
     },
     "execution_count": 146,
     "metadata": {},
     "output_type": "execute_result"
    }
   ],
   "source": [
    "np.std(x)"
   ]
  },
  {
   "cell_type": "markdown",
   "id": "3a940b65",
   "metadata": {},
   "source": [
    "## 최대값과 최소값 : max, min"
   ]
  },
  {
   "cell_type": "code",
   "execution_count": 147,
   "id": "3c1664c7",
   "metadata": {
    "ExecuteTime": {
     "end_time": "2023-09-22T06:24:05.342339Z",
     "start_time": "2023-09-22T06:24:05.324670Z"
    }
   },
   "outputs": [
    {
     "data": {
      "text/plain": [
       "23"
      ]
     },
     "execution_count": 147,
     "metadata": {},
     "output_type": "execute_result"
    }
   ],
   "source": [
    "np.max(x)"
   ]
  },
  {
   "cell_type": "code",
   "execution_count": 148,
   "id": "be0239a8",
   "metadata": {
    "ExecuteTime": {
     "end_time": "2023-09-22T06:24:09.282205Z",
     "start_time": "2023-09-22T06:24:09.273161Z"
    }
   },
   "outputs": [
    {
     "data": {
      "text/plain": [
       "-24"
      ]
     },
     "execution_count": 148,
     "metadata": {},
     "output_type": "execute_result"
    }
   ],
   "source": [
    "np.min(x)"
   ]
  },
  {
   "cell_type": "markdown",
   "id": "bc7e4911",
   "metadata": {},
   "source": [
    "## 중앙값 : median"
   ]
  },
  {
   "cell_type": "code",
   "execution_count": 150,
   "id": "bd2649c0",
   "metadata": {
    "ExecuteTime": {
     "end_time": "2023-09-22T06:24:38.820524Z",
     "start_time": "2023-09-22T06:24:38.813190Z"
    }
   },
   "outputs": [
    {
     "data": {
      "text/plain": [
       "5.0"
      ]
     },
     "execution_count": 150,
     "metadata": {},
     "output_type": "execute_result"
    }
   ],
   "source": [
    "np.median(x)"
   ]
  },
  {
   "cell_type": "markdown",
   "id": "84d363d7",
   "metadata": {
    "ExecuteTime": {
     "end_time": "2023-09-22T06:24:42.939988Z",
     "start_time": "2023-09-22T06:24:42.911092Z"
    }
   },
   "source": [
    "## 4분위수:quantile, percentile"
   ]
  },
  {
   "cell_type": "code",
   "execution_count": 155,
   "id": "6b1b70ba",
   "metadata": {
    "ExecuteTime": {
     "end_time": "2023-09-22T06:25:52.760424Z",
     "start_time": "2023-09-22T06:25:52.747207Z"
    }
   },
   "outputs": [
    {
     "data": {
      "text/plain": [
       "-24.0"
      ]
     },
     "execution_count": 155,
     "metadata": {},
     "output_type": "execute_result"
    }
   ],
   "source": [
    "np.percentile(x,0) # 최소값"
   ]
  },
  {
   "cell_type": "code",
   "execution_count": 156,
   "id": "0e51aa31",
   "metadata": {
    "ExecuteTime": {
     "end_time": "2023-09-22T06:26:08.513062Z",
     "start_time": "2023-09-22T06:26:08.491416Z"
    }
   },
   "outputs": [
    {
     "data": {
      "text/plain": [
       "0.0"
      ]
     },
     "execution_count": 156,
     "metadata": {},
     "output_type": "execute_result"
    }
   ],
   "source": [
    "np.percentile(x,25) # 1사분위수"
   ]
  },
  {
   "cell_type": "markdown",
   "id": "e9d708ae",
   "metadata": {},
   "source": [
    "# 난수"
   ]
  },
  {
   "cell_type": "markdown",
   "id": "b93629a8",
   "metadata": {},
   "source": [
    "## 시드설정 : 0과 같거나 큰 정수"
   ]
  },
  {
   "cell_type": "code",
   "execution_count": 157,
   "id": "12c1b0fd",
   "metadata": {
    "ExecuteTime": {
     "end_time": "2023-09-22T06:30:22.195944Z",
     "start_time": "2023-09-22T06:30:22.179555Z"
    }
   },
   "outputs": [],
   "source": [
    "np.random.seed(0)"
   ]
  },
  {
   "cell_type": "code",
   "execution_count": 158,
   "id": "e2de5bd0",
   "metadata": {
    "ExecuteTime": {
     "end_time": "2023-09-22T06:30:42.603701Z",
     "start_time": "2023-09-22T06:30:42.587649Z"
    }
   },
   "outputs": [
    {
     "data": {
      "text/plain": [
       "array([0.5488135 , 0.71518937, 0.60276338, 0.54488318, 0.4236548 ])"
      ]
     },
     "execution_count": 158,
     "metadata": {},
     "output_type": "execute_result"
    }
   ],
   "source": [
    "np.random.rand(5)"
   ]
  },
  {
   "cell_type": "code",
   "execution_count": 159,
   "id": "7b2280e4",
   "metadata": {
    "ExecuteTime": {
     "end_time": "2023-09-22T06:31:08.697128Z",
     "start_time": "2023-09-22T06:31:08.682107Z"
    }
   },
   "outputs": [
    {
     "data": {
      "text/plain": [
       "array([0.64589411, 0.43758721, 0.891773  , 0.96366276, 0.38344152,\n",
       "       0.79172504, 0.52889492, 0.56804456, 0.92559664, 0.07103606])"
      ]
     },
     "execution_count": 159,
     "metadata": {},
     "output_type": "execute_result"
    }
   ],
   "source": [
    "np.random.rand(10)"
   ]
  },
  {
   "cell_type": "code",
   "execution_count": 160,
   "id": "2c8033f0",
   "metadata": {
    "ExecuteTime": {
     "end_time": "2023-09-22T06:31:29.643080Z",
     "start_time": "2023-09-22T06:31:29.629609Z"
    }
   },
   "outputs": [
    {
     "data": {
      "text/plain": [
       "array([0.0871293 , 0.0202184 , 0.83261985, 0.77815675, 0.87001215,\n",
       "       0.97861834, 0.79915856, 0.46147936, 0.78052918, 0.11827443])"
      ]
     },
     "execution_count": 160,
     "metadata": {},
     "output_type": "execute_result"
    }
   ],
   "source": [
    "np.random.rand(10)"
   ]
  },
  {
   "cell_type": "code",
   "execution_count": 161,
   "id": "f3804987",
   "metadata": {
    "ExecuteTime": {
     "end_time": "2023-09-22T06:32:12.068730Z",
     "start_time": "2023-09-22T06:32:12.049722Z"
    }
   },
   "outputs": [],
   "source": [
    "np.random.seed(0)"
   ]
  },
  {
   "cell_type": "code",
   "execution_count": 162,
   "id": "54d361cf",
   "metadata": {
    "ExecuteTime": {
     "end_time": "2023-09-22T06:32:20.572736Z",
     "start_time": "2023-09-22T06:32:20.558840Z"
    }
   },
   "outputs": [
    {
     "data": {
      "text/plain": [
       "array([0.5488135 , 0.71518937, 0.60276338, 0.54488318, 0.4236548 ])"
      ]
     },
     "execution_count": 162,
     "metadata": {},
     "output_type": "execute_result"
    }
   ],
   "source": [
    "np.random.rand(5)"
   ]
  },
  {
   "cell_type": "code",
   "execution_count": 163,
   "id": "38a68e7d",
   "metadata": {
    "ExecuteTime": {
     "end_time": "2023-09-22T06:32:40.824044Z",
     "start_time": "2023-09-22T06:32:40.802659Z"
    }
   },
   "outputs": [
    {
     "data": {
      "text/plain": [
       "array([0.64589411, 0.43758721, 0.891773  , 0.96366276, 0.38344152,\n",
       "       0.79172504, 0.52889492, 0.56804456, 0.92559664, 0.07103606])"
      ]
     },
     "execution_count": 163,
     "metadata": {},
     "output_type": "execute_result"
    }
   ],
   "source": [
    "np.random.rand(10)"
   ]
  },
  {
   "cell_type": "code",
   "execution_count": 166,
   "id": "e82de75f",
   "metadata": {
    "ExecuteTime": {
     "end_time": "2023-09-22T06:38:09.106182Z",
     "start_time": "2023-09-22T06:38:09.100002Z"
    }
   },
   "outputs": [],
   "source": [
    "arr1 = np.random.random((3,3)) # 0~1사이의 실수 균등분포\n",
    "arr2 = np.random.normal(2,1,(3,2)) # 평균2, 편차1이 되는 정규분포 \n",
    "arr3 = np.random.randn(2,3) # 표준 정규분포, 평균은 0이고 편차는 1\n",
    "arr4 = np.random.randint(0,10,(2,2)) # 정수 \n"
   ]
  },
  {
   "cell_type": "code",
   "execution_count": 168,
   "id": "83b586e0",
   "metadata": {
    "ExecuteTime": {
     "end_time": "2023-09-22T06:38:23.634014Z",
     "start_time": "2023-09-22T06:38:23.622898Z"
    }
   },
   "outputs": [
    {
     "name": "stdout",
     "output_type": "stream",
     "text": [
      "[[0.36371077 0.57019677 0.43860151]\n",
      " [0.98837384 0.10204481 0.20887676]\n",
      " [0.16130952 0.65310833 0.2532916 ]]\n",
      "[[0.38610215 1.78725972]\n",
      " [1.10453344 2.3869025 ]\n",
      " [1.48919486 0.81936782]]\n",
      "[[-0.02818223  0.42833187  0.06651722]\n",
      " [ 0.3024719  -0.63432209 -0.36274117]]\n",
      "[[7 2]\n",
      " [9 2]]\n"
     ]
    }
   ],
   "source": [
    "print(arr1)\n",
    "print(arr2)\n",
    "print(arr3)\n",
    "print(arr4)"
   ]
  },
  {
   "cell_type": "markdown",
   "id": "2c376204",
   "metadata": {},
   "source": [
    "## 데이터 샘플링 , shuffle 명령과 같다\n",
    "- np.choice(배열,size,replace,p)\n",
    "- 배열 : arange(n)"
   ]
  },
  {
   "cell_type": "code",
   "execution_count": 171,
   "id": "90dadb5e",
   "metadata": {
    "ExecuteTime": {
     "end_time": "2023-09-22T06:41:33.513517Z",
     "start_time": "2023-09-22T06:41:33.503454Z"
    }
   },
   "outputs": [
    {
     "data": {
      "text/plain": [
       "array([0, 4, 3, 2, 1])"
      ]
     },
     "execution_count": 171,
     "metadata": {},
     "output_type": "execute_result"
    }
   ],
   "source": [
    "np.random.choice(5,5,replace=False)"
   ]
  },
  {
   "cell_type": "code",
   "execution_count": 172,
   "id": "0c0b56bd",
   "metadata": {
    "ExecuteTime": {
     "end_time": "2023-09-22T06:42:07.969837Z",
     "start_time": "2023-09-22T06:42:07.956892Z"
    }
   },
   "outputs": [
    {
     "data": {
      "text/plain": [
       "array([3, 4, 0])"
      ]
     },
     "execution_count": 172,
     "metadata": {},
     "output_type": "execute_result"
    }
   ],
   "source": [
    "np.random.choice(5,3,replace=False)"
   ]
  },
  {
   "cell_type": "code",
   "execution_count": 173,
   "id": "a5605504",
   "metadata": {
    "ExecuteTime": {
     "end_time": "2023-09-22T06:42:35.640102Z",
     "start_time": "2023-09-22T06:42:35.621164Z"
    }
   },
   "outputs": [
    {
     "data": {
      "text/plain": [
       "array([3, 0, 3, 2, 3, 0, 0, 0, 3, 2])"
      ]
     },
     "execution_count": 173,
     "metadata": {},
     "output_type": "execute_result"
    }
   ],
   "source": [
    "np.random.choice(5,10)"
   ]
  },
  {
   "cell_type": "code",
   "execution_count": 180,
   "id": "0478d620",
   "metadata": {
    "ExecuteTime": {
     "end_time": "2023-09-22T06:44:08.756252Z",
     "start_time": "2023-09-22T06:44:08.736794Z"
    }
   },
   "outputs": [
    {
     "data": {
      "text/plain": [
       "array([2, 2, 2, 2, 1, 4, 1, 2, 1, 2])"
      ]
     },
     "execution_count": 180,
     "metadata": {},
     "output_type": "execute_result"
    }
   ],
   "source": [
    "np.random.choice(5,10,p=[0.1,0.5,0.3,0,0.1])"
   ]
  },
  {
   "cell_type": "code",
   "execution_count": 181,
   "id": "57119355",
   "metadata": {
    "ExecuteTime": {
     "end_time": "2023-09-22T06:45:14.209628Z",
     "start_time": "2023-09-22T06:45:14.188504Z"
    }
   },
   "outputs": [
    {
     "data": {
      "text/plain": [
       "array([0.24979628, 0.31321833, 0.96541622, 0.58846509, 0.65966841,\n",
       "       0.53320625, 0.23053302, 0.39486929, 0.61880856, 0.47486752])"
      ]
     },
     "execution_count": 181,
     "metadata": {},
     "output_type": "execute_result"
    }
   ],
   "source": [
    "# 0에서 1사이의 균일분포\n",
    "np.random.rand(10)"
   ]
  },
  {
   "cell_type": "code",
   "execution_count": 182,
   "id": "ec33b720",
   "metadata": {
    "ExecuteTime": {
     "end_time": "2023-09-22T06:45:30.871421Z",
     "start_time": "2023-09-22T06:45:30.859475Z"
    }
   },
   "outputs": [
    {
     "data": {
      "text/plain": [
       "array([[0.47013219, 0.71607453, 0.287991  , 0.38346223, 0.74916984],\n",
       "       [0.87845219, 0.10286336, 0.09237389, 0.35404666, 0.55181626],\n",
       "       [0.03362509, 0.96896177, 0.32099724, 0.22126269, 0.1412639 ]])"
      ]
     },
     "execution_count": 182,
     "metadata": {},
     "output_type": "execute_result"
    }
   ],
   "source": [
    "np.random.rand(3,5)"
   ]
  },
  {
   "cell_type": "code",
   "execution_count": 183,
   "id": "4d9e8e2a",
   "metadata": {
    "ExecuteTime": {
     "end_time": "2023-09-22T06:47:10.675605Z",
     "start_time": "2023-09-22T06:47:10.668081Z"
    }
   },
   "outputs": [
    {
     "data": {
      "text/plain": [
       "array([6, 3, 6, 5, 7, 0, 8, 4, 6, 5])"
      ]
     },
     "execution_count": 183,
     "metadata": {},
     "output_type": "execute_result"
    }
   ],
   "source": [
    "# np.random.randint(low,high=None,size)\n",
    "np.random.randint(10,size=10)"
   ]
  },
  {
   "cell_type": "code",
   "execution_count": 184,
   "id": "97524291",
   "metadata": {
    "ExecuteTime": {
     "end_time": "2023-09-22T06:47:36.924814Z",
     "start_time": "2023-09-22T06:47:36.909840Z"
    }
   },
   "outputs": [
    {
     "data": {
      "text/plain": [
       "array([18, 12, 13, 19, 17, 15, 13, 14, 15, 13])"
      ]
     },
     "execution_count": 184,
     "metadata": {},
     "output_type": "execute_result"
    }
   ],
   "source": [
    "np.random.randint(10,20,size=10)"
   ]
  },
  {
   "cell_type": "code",
   "execution_count": 185,
   "id": "3be6e988",
   "metadata": {
    "ExecuteTime": {
     "end_time": "2023-09-22T06:47:48.384794Z",
     "start_time": "2023-09-22T06:47:48.367029Z"
    }
   },
   "outputs": [
    {
     "data": {
      "text/plain": [
       "array([[13, 17, 19, 19, 19],\n",
       "       [17, 13, 12, 13, 19],\n",
       "       [17, 17, 15, 11, 12]])"
      ]
     },
     "execution_count": 185,
     "metadata": {},
     "output_type": "execute_result"
    }
   ],
   "source": [
    "np.random.randint(10,20,size=(3,5))"
   ]
  },
  {
   "cell_type": "markdown",
   "id": "d0f9e1dc",
   "metadata": {},
   "source": [
    "## 정수 데이터 카운팅\n",
    "- unique : 중복제거\n",
    "- return_counts = True => 각 값의 개수"
   ]
  },
  {
   "cell_type": "code",
   "execution_count": 186,
   "id": "836aed31",
   "metadata": {
    "ExecuteTime": {
     "end_time": "2023-09-22T06:49:36.210494Z",
     "start_time": "2023-09-22T06:49:36.202520Z"
    }
   },
   "outputs": [
    {
     "data": {
      "text/plain": [
       "array([11, 23, 43])"
      ]
     },
     "execution_count": 186,
     "metadata": {},
     "output_type": "execute_result"
    }
   ],
   "source": [
    "np.unique([11,11,11,23,43,23,43])"
   ]
  },
  {
   "cell_type": "code",
   "execution_count": 188,
   "id": "d445f27d",
   "metadata": {
    "ExecuteTime": {
     "end_time": "2023-09-22T06:51:17.853235Z",
     "start_time": "2023-09-22T06:51:17.842262Z"
    }
   },
   "outputs": [
    {
     "data": {
      "text/plain": [
       "array(['a', 'b', 'b', 'b', 'c', 'a'], dtype='<U1')"
      ]
     },
     "execution_count": 188,
     "metadata": {},
     "output_type": "execute_result"
    }
   ],
   "source": [
    "a = np.array(['a','b','b','b','c','a'])\n",
    "a"
   ]
  },
  {
   "cell_type": "code",
   "execution_count": 189,
   "id": "8798fc36",
   "metadata": {
    "ExecuteTime": {
     "end_time": "2023-09-22T06:51:31.501853Z",
     "start_time": "2023-09-22T06:51:31.494909Z"
    }
   },
   "outputs": [
    {
     "data": {
      "text/plain": [
       "array(['a', 'b', 'c'], dtype='<U1')"
      ]
     },
     "execution_count": 189,
     "metadata": {},
     "output_type": "execute_result"
    }
   ],
   "source": [
    "np.unique(a)"
   ]
  },
  {
   "cell_type": "code",
   "execution_count": 190,
   "id": "f000d1a1",
   "metadata": {
    "ExecuteTime": {
     "end_time": "2023-09-22T06:52:10.358337Z",
     "start_time": "2023-09-22T06:52:10.352408Z"
    }
   },
   "outputs": [
    {
     "name": "stdout",
     "output_type": "stream",
     "text": [
      "['a' 'b' 'c']\n",
      "[2 3 1]\n"
     ]
    }
   ],
   "source": [
    "index,count = np.unique(a,return_counts=True)\n",
    "print(index)\n",
    "print(count)"
   ]
  },
  {
   "cell_type": "markdown",
   "id": "9344cd19",
   "metadata": {},
   "source": [
    "# Data Analysis - 2nd"
   ]
  },
  {
   "cell_type": "code",
   "execution_count": 194,
   "id": "48916dc3",
   "metadata": {
    "ExecuteTime": {
     "end_time": "2023-09-22T07:06:14.592146Z",
     "start_time": "2023-09-22T07:06:14.579575Z"
    }
   },
   "outputs": [
    {
     "name": "stdout",
     "output_type": "stream",
     "text": [
      "[[5 5 5]\n",
      " [5 5 5]]\n",
      "[[1. 0. 0.]\n",
      " [0. 1. 0.]\n",
      " [0. 0. 1.]]\n"
     ]
    }
   ],
   "source": [
    "# zeros, ones, full(size,k), eye\n",
    "a = np.full((2,3),5)\n",
    "print(a)\n",
    "# eye : 정방 행렬(행과 열의 개수가 같음)\n",
    "b= np.eye(3)\n",
    "print(b)"
   ]
  },
  {
   "cell_type": "code",
   "execution_count": 195,
   "id": "092897cb",
   "metadata": {
    "ExecuteTime": {
     "end_time": "2023-09-22T07:10:53.753414Z",
     "start_time": "2023-09-22T07:10:53.738110Z"
    }
   },
   "outputs": [
    {
     "data": {
      "text/plain": [
       "array([[1, 2, 3],\n",
       "       [4, 5, 6],\n",
       "       [7, 8, 9]])"
      ]
     },
     "execution_count": 195,
     "metadata": {},
     "output_type": "execute_result"
    }
   ],
   "source": [
    "arr2d = np.array([[1,2,3],[4,5,6],[7,8,9]])\n",
    "arr2d"
   ]
  },
  {
   "cell_type": "code",
   "execution_count": 196,
   "id": "2c8e46ea",
   "metadata": {
    "ExecuteTime": {
     "end_time": "2023-09-22T07:11:15.046622Z",
     "start_time": "2023-09-22T07:11:15.039625Z"
    }
   },
   "outputs": [
    {
     "data": {
      "text/plain": [
       "array([[1, 2, 3],\n",
       "       [4, 5, 6],\n",
       "       [7, 8, 9]])"
      ]
     },
     "execution_count": 196,
     "metadata": {},
     "output_type": "execute_result"
    }
   ],
   "source": [
    "arr2d[:,:]"
   ]
  },
  {
   "cell_type": "code",
   "execution_count": 198,
   "id": "8b298c9b",
   "metadata": {
    "ExecuteTime": {
     "end_time": "2023-09-22T07:11:46.480604Z",
     "start_time": "2023-09-22T07:11:46.461667Z"
    }
   },
   "outputs": [
    {
     "data": {
      "text/plain": [
       "7"
      ]
     },
     "execution_count": 198,
     "metadata": {},
     "output_type": "execute_result"
    }
   ],
   "source": [
    "arr2d[2][0]"
   ]
  },
  {
   "cell_type": "code",
   "execution_count": 199,
   "id": "5192b140",
   "metadata": {
    "ExecuteTime": {
     "end_time": "2023-09-22T07:12:09.089995Z",
     "start_time": "2023-09-22T07:12:09.076947Z"
    }
   },
   "outputs": [
    {
     "data": {
      "text/plain": [
       "7"
      ]
     },
     "execution_count": 199,
     "metadata": {},
     "output_type": "execute_result"
    }
   ],
   "source": [
    "arr2d[2,0]"
   ]
  },
  {
   "cell_type": "code",
   "execution_count": 200,
   "id": "e7bfa2bd",
   "metadata": {
    "ExecuteTime": {
     "end_time": "2023-09-22T07:26:10.210380Z",
     "start_time": "2023-09-22T07:26:10.188653Z"
    }
   },
   "outputs": [
    {
     "data": {
      "text/plain": [
       "array([[[ 1,  2,  3],\n",
       "        [ 4,  5,  6]],\n",
       "\n",
       "       [[ 7,  8,  9],\n",
       "        [10, 11, 12]]])"
      ]
     },
     "execution_count": 200,
     "metadata": {},
     "output_type": "execute_result"
    }
   ],
   "source": [
    "arr = np.array([[[1, 2, 3], [4, 5, 6]], [[7, 8, 9], [10, 11, 12]]])\n",
    "arr"
   ]
  },
  {
   "cell_type": "code",
   "execution_count": 201,
   "id": "e0b9d3ef",
   "metadata": {
    "ExecuteTime": {
     "end_time": "2023-09-22T07:26:18.477750Z",
     "start_time": "2023-09-22T07:26:18.462524Z"
    }
   },
   "outputs": [
    {
     "data": {
      "text/plain": [
       "array([[1, 2, 3],\n",
       "       [4, 5, 6]])"
      ]
     },
     "execution_count": 201,
     "metadata": {},
     "output_type": "execute_result"
    }
   ],
   "source": [
    "arr[0]"
   ]
  },
  {
   "cell_type": "code",
   "execution_count": 202,
   "id": "1303854d",
   "metadata": {
    "ExecuteTime": {
     "end_time": "2023-09-22T07:27:29.439253Z",
     "start_time": "2023-09-22T07:27:29.418419Z"
    }
   },
   "outputs": [
    {
     "data": {
      "text/plain": [
       "array([[ 1,  2,  3,  4],\n",
       "       [ 5,  6,  7,  8],\n",
       "       [ 9, 10, 11, 12]])"
      ]
     },
     "execution_count": 202,
     "metadata": {},
     "output_type": "execute_result"
    }
   ],
   "source": [
    "a = np.array([[1,2,3,4],[5,6,7,8,],[9,10,11,12]])\n",
    "a"
   ]
  },
  {
   "cell_type": "code",
   "execution_count": 203,
   "id": "0bbc1ad8",
   "metadata": {
    "ExecuteTime": {
     "end_time": "2023-09-22T07:28:18.277029Z",
     "start_time": "2023-09-22T07:28:18.256752Z"
    }
   },
   "outputs": [
    {
     "data": {
      "text/plain": [
       "array([[ 1,  2,  3,  4],\n",
       "       [ 5,  6,  7,  8],\n",
       "       [ 9, 10, 11, 12]])"
      ]
     },
     "execution_count": 203,
     "metadata": {},
     "output_type": "execute_result"
    }
   ],
   "source": [
    "b =a # b = a[:]\n",
    "b"
   ]
  },
  {
   "cell_type": "code",
   "execution_count": 205,
   "id": "a080ce77",
   "metadata": {
    "ExecuteTime": {
     "end_time": "2023-09-22T07:28:53.461753Z",
     "start_time": "2023-09-22T07:28:53.452093Z"
    }
   },
   "outputs": [
    {
     "name": "stdout",
     "output_type": "stream",
     "text": [
      "[[100   2   3   4]\n",
      " [  5   6   7   8]\n",
      " [  9  10  11  12]]\n",
      "[[100   2   3   4]\n",
      " [  5   6   7   8]\n",
      " [  9  10  11  12]]\n"
     ]
    }
   ],
   "source": [
    "a[0,0] = 100\n",
    "print(a)\n",
    "print(b)"
   ]
  },
  {
   "cell_type": "code",
   "execution_count": 206,
   "id": "91256bc4",
   "metadata": {
    "ExecuteTime": {
     "end_time": "2023-09-22T07:29:42.411735Z",
     "start_time": "2023-09-22T07:29:42.405754Z"
    }
   },
   "outputs": [
    {
     "name": "stdout",
     "output_type": "stream",
     "text": [
      "[[100   2   3   4]\n",
      " [  5   6   7   8]\n",
      " [  9  10  11  12]]\n"
     ]
    }
   ],
   "source": [
    "# copy()\n",
    "c = a.copy()\n",
    "print(c)"
   ]
  },
  {
   "cell_type": "code",
   "execution_count": 207,
   "id": "5d9f589a",
   "metadata": {
    "ExecuteTime": {
     "end_time": "2023-09-22T07:30:02.833932Z",
     "start_time": "2023-09-22T07:30:02.814773Z"
    }
   },
   "outputs": [
    {
     "name": "stdout",
     "output_type": "stream",
     "text": [
      "[[ 1  2  3  4]\n",
      " [ 5  6  7  8]\n",
      " [ 9 10 11 12]]\n",
      "[[100   2   3   4]\n",
      " [  5   6   7   8]\n",
      " [  9  10  11  12]]\n"
     ]
    }
   ],
   "source": [
    "c[0,0]=1\n",
    "print(c)\n",
    "print(a)"
   ]
  },
  {
   "cell_type": "code",
   "execution_count": 208,
   "id": "2827b857",
   "metadata": {
    "ExecuteTime": {
     "end_time": "2023-09-22T07:30:35.341349Z",
     "start_time": "2023-09-22T07:30:35.320398Z"
    }
   },
   "outputs": [
    {
     "data": {
      "text/plain": [
       "array([[[ 1,  2,  3],\n",
       "        [ 4,  5,  6]],\n",
       "\n",
       "       [[ 7,  8,  9],\n",
       "        [10, 11, 12]]])"
      ]
     },
     "execution_count": 208,
     "metadata": {},
     "output_type": "execute_result"
    }
   ],
   "source": [
    "arr # 2 x 3 x 3"
   ]
  },
  {
   "cell_type": "code",
   "execution_count": 209,
   "id": "2260d74f",
   "metadata": {
    "ExecuteTime": {
     "end_time": "2023-09-22T07:31:05.586823Z",
     "start_time": "2023-09-22T07:31:05.576828Z"
    }
   },
   "outputs": [
    {
     "data": {
      "text/plain": [
       "array([[1, 2, 3],\n",
       "       [4, 5, 6]])"
      ]
     },
     "execution_count": 209,
     "metadata": {},
     "output_type": "execute_result"
    }
   ],
   "source": [
    "arr[0] "
   ]
  },
  {
   "cell_type": "code",
   "execution_count": 210,
   "id": "46dc2b05",
   "metadata": {
    "ExecuteTime": {
     "end_time": "2023-09-22T07:31:37.569100Z",
     "start_time": "2023-09-22T07:31:37.563692Z"
    }
   },
   "outputs": [],
   "source": [
    "arr1 = arr[0].copy()"
   ]
  },
  {
   "cell_type": "code",
   "execution_count": 215,
   "id": "3856fe91",
   "metadata": {
    "ExecuteTime": {
     "end_time": "2023-09-22T07:33:21.645467Z",
     "start_time": "2023-09-22T07:33:21.637920Z"
    }
   },
   "outputs": [
    {
     "data": {
      "text/plain": [
       "array([4, 5, 6])"
      ]
     },
     "execution_count": 215,
     "metadata": {},
     "output_type": "execute_result"
    }
   ],
   "source": [
    "arr[0][1]"
   ]
  },
  {
   "cell_type": "code",
   "execution_count": 214,
   "id": "3a136c1b",
   "metadata": {
    "ExecuteTime": {
     "end_time": "2023-09-22T07:33:18.309312Z",
     "start_time": "2023-09-22T07:33:18.299818Z"
    }
   },
   "outputs": [
    {
     "data": {
      "text/plain": [
       "array([4, 5, 6])"
      ]
     },
     "execution_count": 214,
     "metadata": {},
     "output_type": "execute_result"
    }
   ],
   "source": [
    "arr[0,1,:]"
   ]
  },
  {
   "cell_type": "code",
   "execution_count": 216,
   "id": "32b67e81",
   "metadata": {
    "ExecuteTime": {
     "end_time": "2023-09-22T07:36:32.437913Z",
     "start_time": "2023-09-22T07:36:32.430453Z"
    }
   },
   "outputs": [
    {
     "data": {
      "text/plain": [
       "array([[ 0,  1,  2,  3,  4],\n",
       "       [ 5,  6,  7,  8,  9],\n",
       "       [10, 11, 12, 13, 14]])"
      ]
     },
     "execution_count": 216,
     "metadata": {},
     "output_type": "execute_result"
    }
   ],
   "source": [
    "arr = np.arange(15).reshape((3, -1))\n",
    "arr"
   ]
  },
  {
   "cell_type": "code",
   "execution_count": 217,
   "id": "d89cc853",
   "metadata": {
    "ExecuteTime": {
     "end_time": "2023-09-22T07:36:40.446012Z",
     "start_time": "2023-09-22T07:36:40.439087Z"
    }
   },
   "outputs": [
    {
     "data": {
      "text/plain": [
       "array([[ 0,  5, 10],\n",
       "       [ 1,  6, 11],\n",
       "       [ 2,  7, 12],\n",
       "       [ 3,  8, 13],\n",
       "       [ 4,  9, 14]])"
      ]
     },
     "execution_count": 217,
     "metadata": {},
     "output_type": "execute_result"
    }
   ],
   "source": [
    "arr.T"
   ]
  },
  {
   "cell_type": "code",
   "execution_count": null,
   "id": "e563fe65",
   "metadata": {},
   "outputs": [],
   "source": []
  }
 ],
 "metadata": {
  "kernelspec": {
   "display_name": "Python 3 (ipykernel)",
   "language": "python",
   "name": "python3"
  },
  "language_info": {
   "codemirror_mode": {
    "name": "ipython",
    "version": 3
   },
   "file_extension": ".py",
   "mimetype": "text/x-python",
   "name": "python",
   "nbconvert_exporter": "python",
   "pygments_lexer": "ipython3",
   "version": "3.9.17"
  },
  "toc": {
   "base_numbering": 1,
   "nav_menu": {},
   "number_sections": true,
   "sideBar": true,
   "skip_h1_title": false,
   "title_cell": "Table of Contents",
   "title_sidebar": "Contents",
   "toc_cell": false,
   "toc_position": {
    "height": "417.76px",
    "left": "120px",
    "top": "110.21px",
    "width": "245.75px"
   },
   "toc_section_display": true,
   "toc_window_display": true
  }
 },
 "nbformat": 4,
 "nbformat_minor": 5
}
